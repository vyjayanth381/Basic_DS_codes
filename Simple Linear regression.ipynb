{
 "cells": [
  {
   "cell_type": "code",
   "execution_count": 1,
   "metadata": {},
   "outputs": [],
   "source": [
    "import pandas as pd\n",
    "import numpy as np\n",
    "import seaborn as sns\n",
    "import matplotlib.pyplot as plt\n",
    "%matplotlib inline\n",
    "sns.set(style='darkgrid')\n",
    "from math import sqrt"
   ]
  },
  {
   "cell_type": "code",
   "execution_count": 2,
   "metadata": {},
   "outputs": [],
   "source": [
    "sns.set(color_codes=True)"
   ]
  },
  {
   "cell_type": "code",
   "execution_count": 3,
   "metadata": {},
   "outputs": [],
   "source": [
    "cars= pd.read_csv('F://cars.csv')"
   ]
  },
  {
   "cell_type": "code",
   "execution_count": 4,
   "metadata": {},
   "outputs": [
    {
     "data": {
      "text/html": [
       "<div>\n",
       "<style scoped>\n",
       "    .dataframe tbody tr th:only-of-type {\n",
       "        vertical-align: middle;\n",
       "    }\n",
       "\n",
       "    .dataframe tbody tr th {\n",
       "        vertical-align: top;\n",
       "    }\n",
       "\n",
       "    .dataframe thead th {\n",
       "        text-align: right;\n",
       "    }\n",
       "</style>\n",
       "<table border=\"1\" class=\"dataframe\">\n",
       "  <thead>\n",
       "    <tr style=\"text-align: right;\">\n",
       "      <th></th>\n",
       "      <th>speed</th>\n",
       "      <th>dist</th>\n",
       "    </tr>\n",
       "  </thead>\n",
       "  <tbody>\n",
       "    <tr>\n",
       "      <th>0</th>\n",
       "      <td>4</td>\n",
       "      <td>2</td>\n",
       "    </tr>\n",
       "    <tr>\n",
       "      <th>1</th>\n",
       "      <td>4</td>\n",
       "      <td>10</td>\n",
       "    </tr>\n",
       "    <tr>\n",
       "      <th>2</th>\n",
       "      <td>7</td>\n",
       "      <td>4</td>\n",
       "    </tr>\n",
       "    <tr>\n",
       "      <th>3</th>\n",
       "      <td>7</td>\n",
       "      <td>22</td>\n",
       "    </tr>\n",
       "    <tr>\n",
       "      <th>4</th>\n",
       "      <td>8</td>\n",
       "      <td>16</td>\n",
       "    </tr>\n",
       "  </tbody>\n",
       "</table>\n",
       "</div>"
      ],
      "text/plain": [
       "   speed  dist\n",
       "0      4     2\n",
       "1      4    10\n",
       "2      7     4\n",
       "3      7    22\n",
       "4      8    16"
      ]
     },
     "execution_count": 4,
     "metadata": {},
     "output_type": "execute_result"
    }
   ],
   "source": [
    "cars.head()"
   ]
  },
  {
   "cell_type": "code",
   "execution_count": 5,
   "metadata": {},
   "outputs": [
    {
     "data": {
      "text/plain": [
       "speed     27.959184\n",
       "dist     664.060816\n",
       "dtype: float64"
      ]
     },
     "execution_count": 5,
     "metadata": {},
     "output_type": "execute_result"
    }
   ],
   "source": [
    "cars.var()"
   ]
  },
  {
   "cell_type": "code",
   "execution_count": 6,
   "metadata": {},
   "outputs": [
    {
     "data": {
      "text/plain": [
       "15.4"
      ]
     },
     "execution_count": 6,
     "metadata": {},
     "output_type": "execute_result"
    }
   ],
   "source": [
    "x_bar=cars.speed.mean()\n",
    "x_bar"
   ]
  },
  {
   "cell_type": "code",
   "execution_count": 7,
   "metadata": {},
   "outputs": [
    {
     "data": {
      "text/plain": [
       "42.98"
      ]
     },
     "execution_count": 7,
     "metadata": {},
     "output_type": "execute_result"
    }
   ],
   "source": [
    "y_bar=cars.dist.mean()\n",
    "y_bar"
   ]
  },
  {
   "cell_type": "code",
   "execution_count": 8,
   "metadata": {},
   "outputs": [],
   "source": [
    "cars['X-X_bar']=cars.speed-x_bar"
   ]
  },
  {
   "cell_type": "code",
   "execution_count": 9,
   "metadata": {},
   "outputs": [],
   "source": [
    "cars['Y-Y_bar']=cars.dist-y_bar"
   ]
  },
  {
   "cell_type": "code",
   "execution_count": 10,
   "metadata": {},
   "outputs": [],
   "source": [
    "#cars.head(3)"
   ]
  },
  {
   "cell_type": "code",
   "execution_count": 11,
   "metadata": {},
   "outputs": [],
   "source": [
    "cars['(X-X_bar)(Y-Y_bar)']= cars['X-X_bar']*cars['Y-Y_bar']"
   ]
  },
  {
   "cell_type": "code",
   "execution_count": 12,
   "metadata": {},
   "outputs": [],
   "source": [
    "#cars.head()"
   ]
  },
  {
   "cell_type": "code",
   "execution_count": 13,
   "metadata": {},
   "outputs": [],
   "source": [
    "cars['(Y-Y_bar)^2']= cars['Y-Y_bar']**2"
   ]
  },
  {
   "cell_type": "code",
   "execution_count": 14,
   "metadata": {},
   "outputs": [],
   "source": [
    "#cars.head()"
   ]
  },
  {
   "cell_type": "code",
   "execution_count": 15,
   "metadata": {},
   "outputs": [],
   "source": [
    "cars['Slope Numerator']= cars['(X-X_bar)(Y-Y_bar)'].sum()"
   ]
  },
  {
   "cell_type": "code",
   "execution_count": 16,
   "metadata": {},
   "outputs": [],
   "source": [
    "#cars.head()"
   ]
  },
  {
   "cell_type": "code",
   "execution_count": 17,
   "metadata": {},
   "outputs": [],
   "source": [
    "cars['(X-X_bar)^2']= cars['X-X_bar']**2"
   ]
  },
  {
   "cell_type": "code",
   "execution_count": 18,
   "metadata": {},
   "outputs": [],
   "source": [
    "#cars.head()"
   ]
  },
  {
   "cell_type": "code",
   "execution_count": 19,
   "metadata": {},
   "outputs": [],
   "source": [
    "cars['Slope Denominator']= cars['(X-X_bar)^2'].sum()"
   ]
  },
  {
   "cell_type": "code",
   "execution_count": 20,
   "metadata": {},
   "outputs": [],
   "source": [
    "#cars.head()"
   ]
  },
  {
   "cell_type": "code",
   "execution_count": 21,
   "metadata": {},
   "outputs": [],
   "source": [
    "cars['Slope']= cars['(X-X_bar)(Y-Y_bar)'].sum()/cars['(X-X_bar)^2'].sum()"
   ]
  },
  {
   "cell_type": "code",
   "execution_count": 22,
   "metadata": {},
   "outputs": [],
   "source": [
    "#cars.head()"
   ]
  },
  {
   "cell_type": "code",
   "execution_count": 23,
   "metadata": {},
   "outputs": [],
   "source": [
    "cars['Intercept']= y_bar-cars['Slope']*x_bar"
   ]
  },
  {
   "cell_type": "code",
   "execution_count": 24,
   "metadata": {},
   "outputs": [],
   "source": [
    "#cars.head()"
   ]
  },
  {
   "cell_type": "code",
   "execution_count": 25,
   "metadata": {},
   "outputs": [],
   "source": [
    "cars['Y-Predict']= cars['Slope']*cars['speed']+cars['Intercept']"
   ]
  },
  {
   "cell_type": "code",
   "execution_count": 26,
   "metadata": {},
   "outputs": [],
   "source": [
    "#cars.head()"
   ]
  },
  {
   "cell_type": "code",
   "execution_count": 27,
   "metadata": {},
   "outputs": [
    {
     "data": {
      "text/html": [
       "<div>\n",
       "<style scoped>\n",
       "    .dataframe tbody tr th:only-of-type {\n",
       "        vertical-align: middle;\n",
       "    }\n",
       "\n",
       "    .dataframe tbody tr th {\n",
       "        vertical-align: top;\n",
       "    }\n",
       "\n",
       "    .dataframe thead th {\n",
       "        text-align: right;\n",
       "    }\n",
       "</style>\n",
       "<table border=\"1\" class=\"dataframe\">\n",
       "  <thead>\n",
       "    <tr style=\"text-align: right;\">\n",
       "      <th></th>\n",
       "      <th>speed</th>\n",
       "      <th>dist</th>\n",
       "      <th>X-X_bar</th>\n",
       "      <th>Y-Y_bar</th>\n",
       "      <th>(X-X_bar)(Y-Y_bar)</th>\n",
       "      <th>(Y-Y_bar)^2</th>\n",
       "      <th>Slope Numerator</th>\n",
       "      <th>(X-X_bar)^2</th>\n",
       "      <th>Slope Denominator</th>\n",
       "      <th>Slope</th>\n",
       "      <th>Intercept</th>\n",
       "      <th>Y-Predict</th>\n",
       "    </tr>\n",
       "  </thead>\n",
       "  <tbody>\n",
       "    <tr>\n",
       "      <th>0</th>\n",
       "      <td>4</td>\n",
       "      <td>2</td>\n",
       "      <td>-11.4</td>\n",
       "      <td>-40.98</td>\n",
       "      <td>467.172</td>\n",
       "      <td>1679.3604</td>\n",
       "      <td>5387.4</td>\n",
       "      <td>129.96</td>\n",
       "      <td>1370.0</td>\n",
       "      <td>3.932409</td>\n",
       "      <td>-17.579095</td>\n",
       "      <td>-1.849460</td>\n",
       "    </tr>\n",
       "    <tr>\n",
       "      <th>1</th>\n",
       "      <td>4</td>\n",
       "      <td>10</td>\n",
       "      <td>-11.4</td>\n",
       "      <td>-32.98</td>\n",
       "      <td>375.972</td>\n",
       "      <td>1087.6804</td>\n",
       "      <td>5387.4</td>\n",
       "      <td>129.96</td>\n",
       "      <td>1370.0</td>\n",
       "      <td>3.932409</td>\n",
       "      <td>-17.579095</td>\n",
       "      <td>-1.849460</td>\n",
       "    </tr>\n",
       "    <tr>\n",
       "      <th>2</th>\n",
       "      <td>7</td>\n",
       "      <td>4</td>\n",
       "      <td>-8.4</td>\n",
       "      <td>-38.98</td>\n",
       "      <td>327.432</td>\n",
       "      <td>1519.4404</td>\n",
       "      <td>5387.4</td>\n",
       "      <td>70.56</td>\n",
       "      <td>1370.0</td>\n",
       "      <td>3.932409</td>\n",
       "      <td>-17.579095</td>\n",
       "      <td>9.947766</td>\n",
       "    </tr>\n",
       "    <tr>\n",
       "      <th>3</th>\n",
       "      <td>7</td>\n",
       "      <td>22</td>\n",
       "      <td>-8.4</td>\n",
       "      <td>-20.98</td>\n",
       "      <td>176.232</td>\n",
       "      <td>440.1604</td>\n",
       "      <td>5387.4</td>\n",
       "      <td>70.56</td>\n",
       "      <td>1370.0</td>\n",
       "      <td>3.932409</td>\n",
       "      <td>-17.579095</td>\n",
       "      <td>9.947766</td>\n",
       "    </tr>\n",
       "    <tr>\n",
       "      <th>4</th>\n",
       "      <td>8</td>\n",
       "      <td>16</td>\n",
       "      <td>-7.4</td>\n",
       "      <td>-26.98</td>\n",
       "      <td>199.652</td>\n",
       "      <td>727.9204</td>\n",
       "      <td>5387.4</td>\n",
       "      <td>54.76</td>\n",
       "      <td>1370.0</td>\n",
       "      <td>3.932409</td>\n",
       "      <td>-17.579095</td>\n",
       "      <td>13.880175</td>\n",
       "    </tr>\n",
       "    <tr>\n",
       "      <th>5</th>\n",
       "      <td>9</td>\n",
       "      <td>10</td>\n",
       "      <td>-6.4</td>\n",
       "      <td>-32.98</td>\n",
       "      <td>211.072</td>\n",
       "      <td>1087.6804</td>\n",
       "      <td>5387.4</td>\n",
       "      <td>40.96</td>\n",
       "      <td>1370.0</td>\n",
       "      <td>3.932409</td>\n",
       "      <td>-17.579095</td>\n",
       "      <td>17.812584</td>\n",
       "    </tr>\n",
       "    <tr>\n",
       "      <th>6</th>\n",
       "      <td>10</td>\n",
       "      <td>18</td>\n",
       "      <td>-5.4</td>\n",
       "      <td>-24.98</td>\n",
       "      <td>134.892</td>\n",
       "      <td>624.0004</td>\n",
       "      <td>5387.4</td>\n",
       "      <td>29.16</td>\n",
       "      <td>1370.0</td>\n",
       "      <td>3.932409</td>\n",
       "      <td>-17.579095</td>\n",
       "      <td>21.744993</td>\n",
       "    </tr>\n",
       "    <tr>\n",
       "      <th>7</th>\n",
       "      <td>10</td>\n",
       "      <td>26</td>\n",
       "      <td>-5.4</td>\n",
       "      <td>-16.98</td>\n",
       "      <td>91.692</td>\n",
       "      <td>288.3204</td>\n",
       "      <td>5387.4</td>\n",
       "      <td>29.16</td>\n",
       "      <td>1370.0</td>\n",
       "      <td>3.932409</td>\n",
       "      <td>-17.579095</td>\n",
       "      <td>21.744993</td>\n",
       "    </tr>\n",
       "    <tr>\n",
       "      <th>8</th>\n",
       "      <td>10</td>\n",
       "      <td>34</td>\n",
       "      <td>-5.4</td>\n",
       "      <td>-8.98</td>\n",
       "      <td>48.492</td>\n",
       "      <td>80.6404</td>\n",
       "      <td>5387.4</td>\n",
       "      <td>29.16</td>\n",
       "      <td>1370.0</td>\n",
       "      <td>3.932409</td>\n",
       "      <td>-17.579095</td>\n",
       "      <td>21.744993</td>\n",
       "    </tr>\n",
       "    <tr>\n",
       "      <th>9</th>\n",
       "      <td>11</td>\n",
       "      <td>17</td>\n",
       "      <td>-4.4</td>\n",
       "      <td>-25.98</td>\n",
       "      <td>114.312</td>\n",
       "      <td>674.9604</td>\n",
       "      <td>5387.4</td>\n",
       "      <td>19.36</td>\n",
       "      <td>1370.0</td>\n",
       "      <td>3.932409</td>\n",
       "      <td>-17.579095</td>\n",
       "      <td>25.677401</td>\n",
       "    </tr>\n",
       "  </tbody>\n",
       "</table>\n",
       "</div>"
      ],
      "text/plain": [
       "   speed  dist  X-X_bar  Y-Y_bar  (X-X_bar)(Y-Y_bar)  (Y-Y_bar)^2  \\\n",
       "0      4     2    -11.4   -40.98             467.172    1679.3604   \n",
       "1      4    10    -11.4   -32.98             375.972    1087.6804   \n",
       "2      7     4     -8.4   -38.98             327.432    1519.4404   \n",
       "3      7    22     -8.4   -20.98             176.232     440.1604   \n",
       "4      8    16     -7.4   -26.98             199.652     727.9204   \n",
       "5      9    10     -6.4   -32.98             211.072    1087.6804   \n",
       "6     10    18     -5.4   -24.98             134.892     624.0004   \n",
       "7     10    26     -5.4   -16.98              91.692     288.3204   \n",
       "8     10    34     -5.4    -8.98              48.492      80.6404   \n",
       "9     11    17     -4.4   -25.98             114.312     674.9604   \n",
       "\n",
       "   Slope Numerator  (X-X_bar)^2  Slope Denominator     Slope  Intercept  \\\n",
       "0           5387.4       129.96             1370.0  3.932409 -17.579095   \n",
       "1           5387.4       129.96             1370.0  3.932409 -17.579095   \n",
       "2           5387.4        70.56             1370.0  3.932409 -17.579095   \n",
       "3           5387.4        70.56             1370.0  3.932409 -17.579095   \n",
       "4           5387.4        54.76             1370.0  3.932409 -17.579095   \n",
       "5           5387.4        40.96             1370.0  3.932409 -17.579095   \n",
       "6           5387.4        29.16             1370.0  3.932409 -17.579095   \n",
       "7           5387.4        29.16             1370.0  3.932409 -17.579095   \n",
       "8           5387.4        29.16             1370.0  3.932409 -17.579095   \n",
       "9           5387.4        19.36             1370.0  3.932409 -17.579095   \n",
       "\n",
       "   Y-Predict  \n",
       "0  -1.849460  \n",
       "1  -1.849460  \n",
       "2   9.947766  \n",
       "3   9.947766  \n",
       "4  13.880175  \n",
       "5  17.812584  \n",
       "6  21.744993  \n",
       "7  21.744993  \n",
       "8  21.744993  \n",
       "9  25.677401  "
      ]
     },
     "execution_count": 27,
     "metadata": {},
     "output_type": "execute_result"
    }
   ],
   "source": [
    "cars.head(10)"
   ]
  },
  {
   "cell_type": "code",
   "execution_count": 28,
   "metadata": {},
   "outputs": [
    {
     "data": {
      "text/plain": [
       "<matplotlib.axes._subplots.AxesSubplot at 0xa385a1e358>"
      ]
     },
     "execution_count": 28,
     "metadata": {},
     "output_type": "execute_result"
    },
    {
     "data": {
      "image/png": "[encoded data removed]",
      "text/plain": [
       "<Figure size 432x288 with 1 Axes>"
      ]
     },
     "metadata": {},
     "output_type": "display_data"
    }
   ],
   "source": [
    "plt.plot(cars['speed'],cars['Y-Predict'])\n",
    "sns.scatterplot(cars['speed'],cars['dist'])"
   ]
  },
  {
   "cell_type": "code",
   "execution_count": 29,
   "metadata": {},
   "outputs": [],
   "source": [
    "cars.to_excel('cars1.xlsx',index=False)"
   ]
  },
  {
   "cell_type": "code",
   "execution_count": null,
   "metadata": {},
   "outputs": [],
   "source": []
  },
  {
   "cell_type": "code",
   "execution_count": null,
   "metadata": {},
   "outputs": [],
   "source": []
  },
  {
   "cell_type": "markdown",
   "metadata": {},
   "source": [
    "## Simple Linear Regression:"
   ]
  },
  {
   "cell_type": "code",
   "execution_count": 30,
   "metadata": {},
   "outputs": [
    {
     "name": "stdout",
     "output_type": "stream",
     "text": [
      "0.651079380758251\n"
     ]
    }
   ],
   "source": [
    "pred= cars['Y-Predict'].values\n",
    "#R- Squared\n",
    "# R- squared (R2) is a statistical that represents the proportion of the variance for a dependent variable thats explained by an depedndent variable\n",
    "Y= cars['dist'].values\n",
    "m= len(cars)\n",
    "sst=0\n",
    "ssr=0\n",
    "for i in range(m):\n",
    "    sst += (Y[i]-y_bar)**2\n",
    "    ssr += (pred[i]-y_bar)**2\n",
    "r2= (ssr/sst)\n",
    "print(r2)\n",
    "# we need to plot for errors also\n",
    "# we will import some models"
   ]
  },
  {
   "cell_type": "markdown",
   "metadata": {},
   "source": [
    "## Model- 1"
   ]
  },
  {
   "cell_type": "code",
   "execution_count": 40,
   "metadata": {},
   "outputs": [],
   "source": [
    "X= cars['speed'].values\n",
    "from sklearn.linear_model import LinearRegression   #sklearn is for machine learning\n",
    "from sklearn.metrics import mean_squared_error\n",
    "\n",
    "X= X.reshape((m,1))\n",
    "\n",
    "reg= LinearRegression()\n",
    "model= reg.fit(X,Y)"
   ]
  },
  {
   "cell_type": "code",
   "execution_count": 41,
   "metadata": {},
   "outputs": [],
   "source": [
    "Y_pred= model.predict(X)"
   ]
  },
  {
   "cell_type": "code",
   "execution_count": 42,
   "metadata": {},
   "outputs": [
    {
     "name": "stdout",
     "output_type": "stream",
     "text": [
      "Mean Squared Error= 227.07042102189777, Root Mean Squared error =15.068855995791377, R-Squared=0.6510793807582509\n"
     ]
    }
   ],
   "source": [
    "mse= mean_squared_error(Y,Y_pred)\n",
    "rmse= np.sqrt(mse)\n",
    "r_squared =  model.score(X,Y)\n",
    "print(\"Mean Squared Error= {}, Root Mean Squared error ={}, R-Squared={}\".format(mse,rmse,r_squared))"
   ]
  },
  {
   "cell_type": "markdown",
   "metadata": {},
   "source": [
    "## Model-2"
   ]
  },
  {
   "cell_type": "code",
   "execution_count": 43,
   "metadata": {},
   "outputs": [],
   "source": [
    "import statsmodels.api as sm"
   ]
  },
  {
   "cell_type": "code",
   "execution_count": 44,
   "metadata": {},
   "outputs": [],
   "source": [
    "X=sm.add_constant(X)   # to reduce biased "
   ]
  },
  {
   "cell_type": "code",
   "execution_count": 45,
   "metadata": {},
   "outputs": [],
   "source": [
    "model2= sm.OLS(Y,X).fit()     #ordinary least squared errors(OLS)---> "
   ]
  },
  {
   "cell_type": "code",
   "execution_count": 46,
   "metadata": {},
   "outputs": [],
   "source": [
    "Y_pred2 = model2.predict(X)"
   ]
  },
  {
   "cell_type": "code",
   "execution_count": 47,
   "metadata": {},
   "outputs": [
    {
     "data": {
      "text/plain": [
       "array([-1.84945985, -1.84945985,  9.94776642,  9.94776642, 13.88017518,\n",
       "       17.81258394, 21.7449927 , 21.7449927 , 21.7449927 , 25.67740146,\n",
       "       25.67740146, 29.60981022, 29.60981022, 29.60981022, 29.60981022,\n",
       "       33.54221898, 33.54221898, 33.54221898, 33.54221898, 37.47462774,\n",
       "       37.47462774, 37.47462774, 37.47462774, 41.4070365 , 41.4070365 ,\n",
       "       41.4070365 , 45.33944526, 45.33944526, 49.27185401, 49.27185401,\n",
       "       49.27185401, 53.20426277, 53.20426277, 53.20426277, 53.20426277,\n",
       "       57.13667153, 57.13667153, 57.13667153, 61.06908029, 61.06908029,\n",
       "       61.06908029, 61.06908029, 61.06908029, 68.93389781, 72.86630657,\n",
       "       76.79871533, 76.79871533, 76.79871533, 76.79871533, 80.73112409])"
      ]
     },
     "execution_count": 47,
     "metadata": {},
     "output_type": "execute_result"
    }
   ],
   "source": [
    "Y_pred2"
   ]
  },
  {
   "cell_type": "code",
   "execution_count": 48,
   "metadata": {},
   "outputs": [
    {
     "data": {
      "text/html": [
       "<table class=\"simpletable\">\n",
       "<caption>OLS Regression Results</caption>\n",
       "<tr>\n",
       "  <th>Dep. Variable:</th>            <td>y</td>        <th>  R-squared:         </th> <td>   0.651</td>\n",
       "</tr>\n",
       "<tr>\n",
       "  <th>Model:</th>                   <td>OLS</td>       <th>  Adj. R-squared:    </th> <td>   0.644</td>\n",
       "</tr>\n",
       "<tr>\n",
       "  <th>Method:</th>             <td>Least Squares</td>  <th>  F-statistic:       </th> <td>   89.57</td>\n",
       "</tr>\n",
       "<tr>\n",
       "  <th>Date:</th>             <td>Wed, 18 Sep 2019</td> <th>  Prob (F-statistic):</th> <td>1.49e-12</td>\n",
       "</tr>\n",
       "<tr>\n",
       "  <th>Time:</th>                 <td>11:18:44</td>     <th>  Log-Likelihood:    </th> <td> -206.58</td>\n",
       "</tr>\n",
       "<tr>\n",
       "  <th>No. Observations:</th>      <td>    50</td>      <th>  AIC:               </th> <td>   417.2</td>\n",
       "</tr>\n",
       "<tr>\n",
       "  <th>Df Residuals:</th>          <td>    48</td>      <th>  BIC:               </th> <td>   421.0</td>\n",
       "</tr>\n",
       "<tr>\n",
       "  <th>Df Model:</th>              <td>     1</td>      <th>                     </th>     <td> </td>   \n",
       "</tr>\n",
       "<tr>\n",
       "  <th>Covariance Type:</th>      <td>nonrobust</td>    <th>                     </th>     <td> </td>   \n",
       "</tr>\n",
       "</table>\n",
       "<table class=\"simpletable\">\n",
       "<tr>\n",
       "    <td></td>       <th>coef</th>     <th>std err</th>      <th>t</th>      <th>P>|t|</th>  <th>[0.025</th>    <th>0.975]</th>  \n",
       "</tr>\n",
       "<tr>\n",
       "  <th>const</th> <td>  -17.5791</td> <td>    6.758</td> <td>   -2.601</td> <td> 0.012</td> <td>  -31.168</td> <td>   -3.990</td>\n",
       "</tr>\n",
       "<tr>\n",
       "  <th>x1</th>    <td>    3.9324</td> <td>    0.416</td> <td>    9.464</td> <td> 0.000</td> <td>    3.097</td> <td>    4.768</td>\n",
       "</tr>\n",
       "</table>\n",
       "<table class=\"simpletable\">\n",
       "<tr>\n",
       "  <th>Omnibus:</th>       <td> 8.975</td> <th>  Durbin-Watson:     </th> <td>   1.676</td>\n",
       "</tr>\n",
       "<tr>\n",
       "  <th>Prob(Omnibus):</th> <td> 0.011</td> <th>  Jarque-Bera (JB):  </th> <td>   8.189</td>\n",
       "</tr>\n",
       "<tr>\n",
       "  <th>Skew:</th>          <td> 0.885</td> <th>  Prob(JB):          </th> <td>  0.0167</td>\n",
       "</tr>\n",
       "<tr>\n",
       "  <th>Kurtosis:</th>      <td> 3.893</td> <th>  Cond. No.          </th> <td>    50.7</td>\n",
       "</tr>\n",
       "</table><br/><br/>Warnings:<br/>[1] Standard Errors assume that the covariance matrix of the errors is correctly specified."
      ],
      "text/plain": [
       "<class 'statsmodels.iolib.summary.Summary'>\n",
       "\"\"\"\n",
       "                            OLS Regression Results                            \n",
       "==============================================================================\n",
       "Dep. Variable:                      y   R-squared:                       0.651\n",
       "Model:                            OLS   Adj. R-squared:                  0.644\n",
       "Method:                 Least Squares   F-statistic:                     89.57\n",
       "Date:                Wed, 18 Sep 2019   Prob (F-statistic):           1.49e-12\n",
       "Time:                        11:18:44   Log-Likelihood:                -206.58\n",
       "No. Observations:                  50   AIC:                             417.2\n",
       "Df Residuals:                      48   BIC:                             421.0\n",
       "Df Model:                           1                                         \n",
       "Covariance Type:            nonrobust                                         \n",
       "==============================================================================\n",
       "                 coef    std err          t      P>|t|      [0.025      0.975]\n",
       "------------------------------------------------------------------------------\n",
       "const        -17.5791      6.758     -2.601      0.012     -31.168      -3.990\n",
       "x1             3.9324      0.416      9.464      0.000       3.097       4.768\n",
       "==============================================================================\n",
       "Omnibus:                        8.975   Durbin-Watson:                   1.676\n",
       "Prob(Omnibus):                  0.011   Jarque-Bera (JB):                8.189\n",
       "Skew:                           0.885   Prob(JB):                       0.0167\n",
       "Kurtosis:                       3.893   Cond. No.                         50.7\n",
       "==============================================================================\n",
       "\n",
       "Warnings:\n",
       "[1] Standard Errors assume that the covariance matrix of the errors is correctly specified.\n",
       "\"\"\""
      ]
     },
     "execution_count": 48,
     "metadata": {},
     "output_type": "execute_result"
    }
   ],
   "source": [
    "model2.summary()"
   ]
  },
  {
   "cell_type": "code",
   "execution_count": null,
   "metadata": {},
   "outputs": [],
   "source": []
  },
  {
   "cell_type": "code",
   "execution_count": null,
   "metadata": {},
   "outputs": [],
   "source": []
  },
  {
   "cell_type": "code",
   "execution_count": null,
   "metadata": {},
   "outputs": [],
   "source": []
  },
  {
   "cell_type": "code",
   "execution_count": null,
   "metadata": {},
   "outputs": [],
   "source": []
  },
  {
   "cell_type": "code",
   "execution_count": 37,
   "metadata": {},
   "outputs": [
    {
     "name": "stdout",
     "output_type": "stream",
     "text": [
      "Requirement already satisfied: lmdiag in c:\\programdata\\anaconda3\\lib\\site-packages (0.3.0)\n",
      "Requirement already satisfied: numpy in c:\\programdata\\anaconda3\\lib\\site-packages (from lmdiag) (1.16.4)\n",
      "Requirement already satisfied: scipy in c:\\programdata\\anaconda3\\lib\\site-packages (from lmdiag) (1.2.1)\n",
      "Requirement already satisfied: matplotlib in c:\\programdata\\anaconda3\\lib\\site-packages (from lmdiag) (3.1.0)\n",
      "Requirement already satisfied: statsmodels in c:\\programdata\\anaconda3\\lib\\site-packages (from lmdiag) (0.10.0)\n",
      "Requirement already satisfied: pandas in c:\\programdata\\anaconda3\\lib\\site-packages (from lmdiag) (0.24.2)\n",
      "Requirement already satisfied: cycler>=0.10 in c:\\programdata\\anaconda3\\lib\\site-packages (from matplotlib->lmdiag) (0.10.0)\n",
      "Requirement already satisfied: kiwisolver>=1.0.1 in c:\\programdata\\anaconda3\\lib\\site-packages (from matplotlib->lmdiag) (1.1.0)\n",
      "Requirement already satisfied: pyparsing!=2.0.4,!=2.1.2,!=2.1.6,>=2.0.1 in c:\\programdata\\anaconda3\\lib\\site-packages (from matplotlib->lmdiag) (2.4.0)\n",
      "Requirement already satisfied: python-dateutil>=2.1 in c:\\programdata\\anaconda3\\lib\\site-packages (from matplotlib->lmdiag) (2.8.0)\n",
      "Requirement already satisfied: patsy>=0.4.0 in c:\\programdata\\anaconda3\\lib\\site-packages (from statsmodels->lmdiag) (0.5.1)\n",
      "Requirement already satisfied: pytz>=2011k in c:\\programdata\\anaconda3\\lib\\site-packages (from pandas->lmdiag) (2019.1)\n",
      "Requirement already satisfied: six in c:\\programdata\\anaconda3\\lib\\site-packages (from cycler>=0.10->matplotlib->lmdiag) (1.12.0)\n",
      "Requirement already satisfied: setuptools in c:\\programdata\\anaconda3\\lib\\site-packages (from kiwisolver>=1.0.1->matplotlib->lmdiag) (41.0.1)\n"
     ]
    }
   ],
   "source": [
    "!pip install lmdiag"
   ]
  },
  {
   "cell_type": "code",
   "execution_count": 38,
   "metadata": {},
   "outputs": [
    {
     "ename": "NameError",
     "evalue": "name 'model2' is not defined",
     "output_type": "error",
     "traceback": [
      "\u001b[1;31m---------------------------------------------------------------------------\u001b[0m",
      "\u001b[1;31mNameError\u001b[0m                                 Traceback (most recent call last)",
      "\u001b[1;32m<ipython-input-38-cd2cf651f787>\u001b[0m in \u001b[0;36m<module>\u001b[1;34m\u001b[0m\n\u001b[0;32m      1\u001b[0m \u001b[1;32mimport\u001b[0m \u001b[0mlmdiag\u001b[0m\u001b[1;33m\u001b[0m\u001b[1;33m\u001b[0m\u001b[0m\n\u001b[0;32m      2\u001b[0m \u001b[0mplt\u001b[0m\u001b[1;33m.\u001b[0m\u001b[0mfigure\u001b[0m\u001b[1;33m(\u001b[0m\u001b[0mfigsize\u001b[0m\u001b[1;33m=\u001b[0m\u001b[1;33m(\u001b[0m\u001b[1;36m12\u001b[0m\u001b[1;33m,\u001b[0m\u001b[1;36m8\u001b[0m\u001b[1;33m)\u001b[0m\u001b[1;33m)\u001b[0m\u001b[1;33m\u001b[0m\u001b[1;33m\u001b[0m\u001b[0m\n\u001b[1;32m----> 3\u001b[1;33m \u001b[0mlmdiag\u001b[0m\u001b[1;33m.\u001b[0m\u001b[0mplot\u001b[0m\u001b[1;33m(\u001b[0m\u001b[0mmodel2\u001b[0m\u001b[1;33m)\u001b[0m\u001b[1;33m\u001b[0m\u001b[1;33m\u001b[0m\u001b[0m\n\u001b[0m",
      "\u001b[1;31mNameError\u001b[0m: name 'model2' is not defined"
     ]
    },
    {
     "data": {
      "text/plain": [
       "<Figure size 864x576 with 0 Axes>"
      ]
     },
     "metadata": {},
     "output_type": "display_data"
    }
   ],
   "source": [
    "import lmdiag\n",
    "plt.figure(figsize=(12,8))\n",
    "lmdiag.plot(model2)"
   ]
  },
  {
   "cell_type": "code",
   "execution_count": null,
   "metadata": {},
   "outputs": [],
   "source": []
  },
  {
   "cell_type": "markdown",
   "metadata": {},
   "source": [
    "## Model-3"
   ]
  },
  {
   "cell_type": "code",
   "execution_count": 33,
   "metadata": {},
   "outputs": [],
   "source": [
    "import statsmodels.formula.api as smf"
   ]
  },
  {
   "cell_type": "code",
   "execution_count": 34,
   "metadata": {},
   "outputs": [],
   "source": [
    "model3 = smf.ols(formula='dist~speed',data=cars).fit()"
   ]
  },
  {
   "cell_type": "code",
   "execution_count": 35,
   "metadata": {},
   "outputs": [],
   "source": [
    "Y_pred3 = model3.predict(cars[['speed']])"
   ]
  },
  {
   "cell_type": "code",
   "execution_count": 36,
   "metadata": {},
   "outputs": [
    {
     "data": {
      "text/html": [
       "<table class=\"simpletable\">\n",
       "<caption>OLS Regression Results</caption>\n",
       "<tr>\n",
       "  <th>Dep. Variable:</th>          <td>dist</td>       <th>  R-squared:         </th> <td>   0.651</td>\n",
       "</tr>\n",
       "<tr>\n",
       "  <th>Model:</th>                   <td>OLS</td>       <th>  Adj. R-squared:    </th> <td>   0.644</td>\n",
       "</tr>\n",
       "<tr>\n",
       "  <th>Method:</th>             <td>Least Squares</td>  <th>  F-statistic:       </th> <td>   89.57</td>\n",
       "</tr>\n",
       "<tr>\n",
       "  <th>Date:</th>             <td>Wed, 18 Sep 2019</td> <th>  Prob (F-statistic):</th> <td>1.49e-12</td>\n",
       "</tr>\n",
       "<tr>\n",
       "  <th>Time:</th>                 <td>11:17:17</td>     <th>  Log-Likelihood:    </th> <td> -206.58</td>\n",
       "</tr>\n",
       "<tr>\n",
       "  <th>No. Observations:</th>      <td>    50</td>      <th>  AIC:               </th> <td>   417.2</td>\n",
       "</tr>\n",
       "<tr>\n",
       "  <th>Df Residuals:</th>          <td>    48</td>      <th>  BIC:               </th> <td>   421.0</td>\n",
       "</tr>\n",
       "<tr>\n",
       "  <th>Df Model:</th>              <td>     1</td>      <th>                     </th>     <td> </td>   \n",
       "</tr>\n",
       "<tr>\n",
       "  <th>Covariance Type:</th>      <td>nonrobust</td>    <th>                     </th>     <td> </td>   \n",
       "</tr>\n",
       "</table>\n",
       "<table class=\"simpletable\">\n",
       "<tr>\n",
       "      <td></td>         <th>coef</th>     <th>std err</th>      <th>t</th>      <th>P>|t|</th>  <th>[0.025</th>    <th>0.975]</th>  \n",
       "</tr>\n",
       "<tr>\n",
       "  <th>Intercept</th> <td>  -17.5791</td> <td>    6.758</td> <td>   -2.601</td> <td> 0.012</td> <td>  -31.168</td> <td>   -3.990</td>\n",
       "</tr>\n",
       "<tr>\n",
       "  <th>speed</th>     <td>    3.9324</td> <td>    0.416</td> <td>    9.464</td> <td> 0.000</td> <td>    3.097</td> <td>    4.768</td>\n",
       "</tr>\n",
       "</table>\n",
       "<table class=\"simpletable\">\n",
       "<tr>\n",
       "  <th>Omnibus:</th>       <td> 8.975</td> <th>  Durbin-Watson:     </th> <td>   1.676</td>\n",
       "</tr>\n",
       "<tr>\n",
       "  <th>Prob(Omnibus):</th> <td> 0.011</td> <th>  Jarque-Bera (JB):  </th> <td>   8.189</td>\n",
       "</tr>\n",
       "<tr>\n",
       "  <th>Skew:</th>          <td> 0.885</td> <th>  Prob(JB):          </th> <td>  0.0167</td>\n",
       "</tr>\n",
       "<tr>\n",
       "  <th>Kurtosis:</th>      <td> 3.893</td> <th>  Cond. No.          </th> <td>    50.7</td>\n",
       "</tr>\n",
       "</table><br/><br/>Warnings:<br/>[1] Standard Errors assume that the covariance matrix of the errors is correctly specified."
      ],
      "text/plain": [
       "<class 'statsmodels.iolib.summary.Summary'>\n",
       "\"\"\"\n",
       "                            OLS Regression Results                            \n",
       "==============================================================================\n",
       "Dep. Variable:                   dist   R-squared:                       0.651\n",
       "Model:                            OLS   Adj. R-squared:                  0.644\n",
       "Method:                 Least Squares   F-statistic:                     89.57\n",
       "Date:                Wed, 18 Sep 2019   Prob (F-statistic):           1.49e-12\n",
       "Time:                        11:17:17   Log-Likelihood:                -206.58\n",
       "No. Observations:                  50   AIC:                             417.2\n",
       "Df Residuals:                      48   BIC:                             421.0\n",
       "Df Model:                           1                                         \n",
       "Covariance Type:            nonrobust                                         \n",
       "==============================================================================\n",
       "                 coef    std err          t      P>|t|      [0.025      0.975]\n",
       "------------------------------------------------------------------------------\n",
       "Intercept    -17.5791      6.758     -2.601      0.012     -31.168      -3.990\n",
       "speed          3.9324      0.416      9.464      0.000       3.097       4.768\n",
       "==============================================================================\n",
       "Omnibus:                        8.975   Durbin-Watson:                   1.676\n",
       "Prob(Omnibus):                  0.011   Jarque-Bera (JB):                8.189\n",
       "Skew:                           0.885   Prob(JB):                       0.0167\n",
       "Kurtosis:                       3.893   Cond. No.                         50.7\n",
       "==============================================================================\n",
       "\n",
       "Warnings:\n",
       "[1] Standard Errors assume that the covariance matrix of the errors is correctly specified.\n",
       "\"\"\""
      ]
     },
     "execution_count": 36,
     "metadata": {},
     "output_type": "execute_result"
    }
   ],
   "source": [
    "model3.summary()"
   ]
  },
  {
   "cell_type": "code",
   "execution_count": null,
   "metadata": {},
   "outputs": [],
   "source": []
  },
  {
   "cell_type": "code",
   "execution_count": 49,
   "metadata": {},
   "outputs": [
    {
     "data": {
      "text/plain": [
       "<matplotlib.axes._subplots.AxesSubplot at 0xa388298748>"
      ]
     },
     "execution_count": 49,
     "metadata": {},
     "output_type": "execute_result"
    },
    {
     "data": {
      "image/png": "[encoded data removed]",
      "text/plain": [
       "<Figure size 432x288 with 1 Axes>"
      ]
     },
     "metadata": {},
     "output_type": "display_data"
    }
   ],
   "source": [
    "sns.distplot(model3.resid)"
   ]
  },
  {
   "cell_type": "code",
   "execution_count": 50,
   "metadata": {},
   "outputs": [],
   "source": [
    "from scipy.stats import shapiro"
   ]
  },
  {
   "cell_type": "code",
   "execution_count": 51,
   "metadata": {},
   "outputs": [
    {
     "data": {
      "text/plain": [
       "(0.9450905919075012, 0.02152460627257824)"
      ]
     },
     "execution_count": 51,
     "metadata": {},
     "output_type": "execute_result"
    }
   ],
   "source": [
    "#null--> normal Dist.\n",
    "# alternate--> not normal dist\n",
    "shapiro(model3.resid)\n",
    "#0.9--> test statistical value, 0.02 is probability value"
   ]
  },
  {
   "cell_type": "markdown",
   "metadata": {},
   "source": [
    "- p<5%- Reject Null--> not normal dist\n",
    "- p>5%- accept null:--> normal dist."
   ]
  },
  {
   "cell_type": "markdown",
   "metadata": {},
   "source": [
    "## Normality Test using Kolmogorov Smirnov Test"
   ]
  },
  {
   "cell_type": "code",
   "execution_count": 53,
   "metadata": {},
   "outputs": [
    {
     "data": {
      "text/plain": [
       "(0.12956840882658283, 0.03528591285877599)"
      ]
     },
     "execution_count": 53,
     "metadata": {},
     "output_type": "execute_result"
    }
   ],
   "source": [
    "sm.stats.diagnostic.kstest_normal(model3.resid)"
   ]
  },
  {
   "cell_type": "code",
   "execution_count": 55,
   "metadata": {},
   "outputs": [
    {
     "data": {
      "image/png": "[encoded data removed]",
      "text/plain": [
       "<Figure size 864x576 with 1 Axes>"
      ]
     },
     "metadata": {},
     "output_type": "display_data"
    }
   ],
   "source": [
    "fig,ax=plt.subplots(figsize=(12,8))\n",
    "fig=sm.graphics.influence_plot(model3,ax=ax)"
   ]
  },
  {
   "cell_type": "code",
   "execution_count": 56,
   "metadata": {},
   "outputs": [],
   "source": [
    "# the best and accurate way to remove outliers is cook distance. It is better than Z-test."
   ]
  },
  {
   "cell_type": "code",
   "execution_count": 57,
   "metadata": {},
   "outputs": [],
   "source": [
    "#cook Dist.\n",
    "\n",
    "influ = model3.get_influence()"
   ]
  },
  {
   "cell_type": "code",
   "execution_count": 59,
   "metadata": {},
   "outputs": [],
   "source": [
    "cook=influ.summary_frame()"
   ]
  },
  {
   "cell_type": "code",
   "execution_count": 60,
   "metadata": {},
   "outputs": [
    {
     "data": {
      "text/html": [
       "<div>\n",
       "<style scoped>\n",
       "    .dataframe tbody tr th:only-of-type {\n",
       "        vertical-align: middle;\n",
       "    }\n",
       "\n",
       "    .dataframe tbody tr th {\n",
       "        vertical-align: top;\n",
       "    }\n",
       "\n",
       "    .dataframe thead th {\n",
       "        text-align: right;\n",
       "    }\n",
       "</style>\n",
       "<table border=\"1\" class=\"dataframe\">\n",
       "  <thead>\n",
       "    <tr style=\"text-align: right;\">\n",
       "      <th></th>\n",
       "      <th>dfb_Intercept</th>\n",
       "      <th>dfb_speed</th>\n",
       "      <th>cooks_d</th>\n",
       "      <th>standard_resid</th>\n",
       "      <th>hat_diag</th>\n",
       "      <th>dffits_internal</th>\n",
       "      <th>student_resid</th>\n",
       "      <th>dffits</th>\n",
       "    </tr>\n",
       "  </thead>\n",
       "  <tbody>\n",
       "    <tr>\n",
       "      <th>0</th>\n",
       "      <td>0.094402</td>\n",
       "      <td>-0.086246</td>\n",
       "      <td>0.004592</td>\n",
       "      <td>0.266042</td>\n",
       "      <td>0.114861</td>\n",
       "      <td>0.095836</td>\n",
       "      <td>0.263450</td>\n",
       "      <td>0.094903</td>\n",
       "    </tr>\n",
       "    <tr>\n",
       "      <th>1</th>\n",
       "      <td>0.292425</td>\n",
       "      <td>-0.267160</td>\n",
       "      <td>0.043514</td>\n",
       "      <td>0.818933</td>\n",
       "      <td>0.114861</td>\n",
       "      <td>0.295005</td>\n",
       "      <td>0.816078</td>\n",
       "      <td>0.293977</td>\n",
       "    </tr>\n",
       "    <tr>\n",
       "      <th>2</th>\n",
       "      <td>-0.107498</td>\n",
       "      <td>0.093693</td>\n",
       "      <td>0.006202</td>\n",
       "      <td>-0.401346</td>\n",
       "      <td>0.071504</td>\n",
       "      <td>-0.111376</td>\n",
       "      <td>-0.397812</td>\n",
       "      <td>-0.110396</td>\n",
       "    </tr>\n",
       "    <tr>\n",
       "      <th>3</th>\n",
       "      <td>0.218976</td>\n",
       "      <td>-0.190855</td>\n",
       "      <td>0.025467</td>\n",
       "      <td>0.813266</td>\n",
       "      <td>0.071504</td>\n",
       "      <td>0.225687</td>\n",
       "      <td>0.810353</td>\n",
       "      <td>0.224879</td>\n",
       "    </tr>\n",
       "    <tr>\n",
       "      <th>4</th>\n",
       "      <td>0.034075</td>\n",
       "      <td>-0.029014</td>\n",
       "      <td>0.000645</td>\n",
       "      <td>0.142162</td>\n",
       "      <td>0.059971</td>\n",
       "      <td>0.035907</td>\n",
       "      <td>0.140703</td>\n",
       "      <td>0.035539</td>\n",
       "    </tr>\n",
       "  </tbody>\n",
       "</table>\n",
       "</div>"
      ],
      "text/plain": [
       "   dfb_Intercept  dfb_speed   cooks_d  standard_resid  hat_diag  \\\n",
       "0       0.094402  -0.086246  0.004592        0.266042  0.114861   \n",
       "1       0.292425  -0.267160  0.043514        0.818933  0.114861   \n",
       "2      -0.107498   0.093693  0.006202       -0.401346  0.071504   \n",
       "3       0.218976  -0.190855  0.025467        0.813266  0.071504   \n",
       "4       0.034075  -0.029014  0.000645        0.142162  0.059971   \n",
       "\n",
       "   dffits_internal  student_resid    dffits  \n",
       "0         0.095836       0.263450  0.094903  \n",
       "1         0.295005       0.816078  0.293977  \n",
       "2        -0.111376      -0.397812 -0.110396  \n",
       "3         0.225687       0.810353  0.224879  \n",
       "4         0.035907       0.140703  0.035539  "
      ]
     },
     "execution_count": 60,
     "metadata": {},
     "output_type": "execute_result"
    }
   ],
   "source": [
    "cook.head()"
   ]
  },
  {
   "cell_type": "code",
   "execution_count": 61,
   "metadata": {},
   "outputs": [],
   "source": [
    "# Here we have to observe cooks_d----> Usually general standard threshold ranges in 0.1---> if it is more than 0.1 then it is outlier"
   ]
  },
  {
   "cell_type": "code",
   "execution_count": 62,
   "metadata": {},
   "outputs": [
    {
     "data": {
      "text/html": [
       "<div>\n",
       "<style scoped>\n",
       "    .dataframe tbody tr th:only-of-type {\n",
       "        vertical-align: middle;\n",
       "    }\n",
       "\n",
       "    .dataframe tbody tr th {\n",
       "        vertical-align: top;\n",
       "    }\n",
       "\n",
       "    .dataframe thead th {\n",
       "        text-align: right;\n",
       "    }\n",
       "</style>\n",
       "<table border=\"1\" class=\"dataframe\">\n",
       "  <thead>\n",
       "    <tr style=\"text-align: right;\">\n",
       "      <th></th>\n",
       "      <th>dfb_Intercept</th>\n",
       "      <th>dfb_speed</th>\n",
       "      <th>cooks_d</th>\n",
       "      <th>standard_resid</th>\n",
       "      <th>hat_diag</th>\n",
       "      <th>dffits_internal</th>\n",
       "      <th>student_resid</th>\n",
       "      <th>dffits</th>\n",
       "    </tr>\n",
       "  </thead>\n",
       "  <tbody>\n",
       "    <tr>\n",
       "      <th>22</th>\n",
       "      <td>0.248506</td>\n",
       "      <td>-0.115581</td>\n",
       "      <td>0.085552</td>\n",
       "      <td>2.795166</td>\n",
       "      <td>0.021431</td>\n",
       "      <td>0.413647</td>\n",
       "      <td>3.022829</td>\n",
       "      <td>0.447338</td>\n",
       "    </tr>\n",
       "    <tr>\n",
       "      <th>48</th>\n",
       "      <td>-0.577473</td>\n",
       "      <td>0.769020</td>\n",
       "      <td>0.340396</td>\n",
       "      <td>2.919060</td>\n",
       "      <td>0.073985</td>\n",
       "      <td>0.825101</td>\n",
       "      <td>3.184993</td>\n",
       "      <td>0.900270</td>\n",
       "    </tr>\n",
       "  </tbody>\n",
       "</table>\n",
       "</div>"
      ],
      "text/plain": [
       "    dfb_Intercept  dfb_speed   cooks_d  standard_resid  hat_diag  \\\n",
       "22       0.248506  -0.115581  0.085552        2.795166  0.021431   \n",
       "48      -0.577473   0.769020  0.340396        2.919060  0.073985   \n",
       "\n",
       "    dffits_internal  student_resid    dffits  \n",
       "22         0.413647       3.022829  0.447338  \n",
       "48         0.825101       3.184993  0.900270  "
      ]
     },
     "execution_count": 62,
     "metadata": {},
     "output_type": "execute_result"
    }
   ],
   "source": [
    "cook[cook['cooks_d']>0.07]"
   ]
  },
  {
   "cell_type": "code",
   "execution_count": 63,
   "metadata": {},
   "outputs": [],
   "source": [
    "cars_new= cars.drop(labels=[22,48])"
   ]
  },
  {
   "cell_type": "code",
   "execution_count": 64,
   "metadata": {},
   "outputs": [
    {
     "data": {
      "text/html": [
       "<div>\n",
       "<style scoped>\n",
       "    .dataframe tbody tr th:only-of-type {\n",
       "        vertical-align: middle;\n",
       "    }\n",
       "\n",
       "    .dataframe tbody tr th {\n",
       "        vertical-align: top;\n",
       "    }\n",
       "\n",
       "    .dataframe thead th {\n",
       "        text-align: right;\n",
       "    }\n",
       "</style>\n",
       "<table border=\"1\" class=\"dataframe\">\n",
       "  <thead>\n",
       "    <tr style=\"text-align: right;\">\n",
       "      <th></th>\n",
       "      <th>speed</th>\n",
       "      <th>dist</th>\n",
       "      <th>X-X_bar</th>\n",
       "      <th>Y-Y_bar</th>\n",
       "      <th>(X-X_bar)(Y-Y_bar)</th>\n",
       "      <th>(Y-Y_bar)^2</th>\n",
       "      <th>Slope Numerator</th>\n",
       "      <th>(X-X_bar)^2</th>\n",
       "      <th>Slope Denominator</th>\n",
       "      <th>Slope</th>\n",
       "      <th>Intercept</th>\n",
       "      <th>Y-Predict</th>\n",
       "    </tr>\n",
       "  </thead>\n",
       "  <tbody>\n",
       "    <tr>\n",
       "      <th>0</th>\n",
       "      <td>4</td>\n",
       "      <td>2</td>\n",
       "      <td>-11.4</td>\n",
       "      <td>-40.98</td>\n",
       "      <td>467.172</td>\n",
       "      <td>1679.3604</td>\n",
       "      <td>5387.4</td>\n",
       "      <td>129.96</td>\n",
       "      <td>1370.0</td>\n",
       "      <td>3.932409</td>\n",
       "      <td>-17.579095</td>\n",
       "      <td>-1.849460</td>\n",
       "    </tr>\n",
       "    <tr>\n",
       "      <th>1</th>\n",
       "      <td>4</td>\n",
       "      <td>10</td>\n",
       "      <td>-11.4</td>\n",
       "      <td>-32.98</td>\n",
       "      <td>375.972</td>\n",
       "      <td>1087.6804</td>\n",
       "      <td>5387.4</td>\n",
       "      <td>129.96</td>\n",
       "      <td>1370.0</td>\n",
       "      <td>3.932409</td>\n",
       "      <td>-17.579095</td>\n",
       "      <td>-1.849460</td>\n",
       "    </tr>\n",
       "    <tr>\n",
       "      <th>2</th>\n",
       "      <td>7</td>\n",
       "      <td>4</td>\n",
       "      <td>-8.4</td>\n",
       "      <td>-38.98</td>\n",
       "      <td>327.432</td>\n",
       "      <td>1519.4404</td>\n",
       "      <td>5387.4</td>\n",
       "      <td>70.56</td>\n",
       "      <td>1370.0</td>\n",
       "      <td>3.932409</td>\n",
       "      <td>-17.579095</td>\n",
       "      <td>9.947766</td>\n",
       "    </tr>\n",
       "    <tr>\n",
       "      <th>3</th>\n",
       "      <td>7</td>\n",
       "      <td>22</td>\n",
       "      <td>-8.4</td>\n",
       "      <td>-20.98</td>\n",
       "      <td>176.232</td>\n",
       "      <td>440.1604</td>\n",
       "      <td>5387.4</td>\n",
       "      <td>70.56</td>\n",
       "      <td>1370.0</td>\n",
       "      <td>3.932409</td>\n",
       "      <td>-17.579095</td>\n",
       "      <td>9.947766</td>\n",
       "    </tr>\n",
       "    <tr>\n",
       "      <th>4</th>\n",
       "      <td>8</td>\n",
       "      <td>16</td>\n",
       "      <td>-7.4</td>\n",
       "      <td>-26.98</td>\n",
       "      <td>199.652</td>\n",
       "      <td>727.9204</td>\n",
       "      <td>5387.4</td>\n",
       "      <td>54.76</td>\n",
       "      <td>1370.0</td>\n",
       "      <td>3.932409</td>\n",
       "      <td>-17.579095</td>\n",
       "      <td>13.880175</td>\n",
       "    </tr>\n",
       "  </tbody>\n",
       "</table>\n",
       "</div>"
      ],
      "text/plain": [
       "   speed  dist  X-X_bar  Y-Y_bar  (X-X_bar)(Y-Y_bar)  (Y-Y_bar)^2  \\\n",
       "0      4     2    -11.4   -40.98             467.172    1679.3604   \n",
       "1      4    10    -11.4   -32.98             375.972    1087.6804   \n",
       "2      7     4     -8.4   -38.98             327.432    1519.4404   \n",
       "3      7    22     -8.4   -20.98             176.232     440.1604   \n",
       "4      8    16     -7.4   -26.98             199.652     727.9204   \n",
       "\n",
       "   Slope Numerator  (X-X_bar)^2  Slope Denominator     Slope  Intercept  \\\n",
       "0           5387.4       129.96             1370.0  3.932409 -17.579095   \n",
       "1           5387.4       129.96             1370.0  3.932409 -17.579095   \n",
       "2           5387.4        70.56             1370.0  3.932409 -17.579095   \n",
       "3           5387.4        70.56             1370.0  3.932409 -17.579095   \n",
       "4           5387.4        54.76             1370.0  3.932409 -17.579095   \n",
       "\n",
       "   Y-Predict  \n",
       "0  -1.849460  \n",
       "1  -1.849460  \n",
       "2   9.947766  \n",
       "3   9.947766  \n",
       "4  13.880175  "
      ]
     },
     "execution_count": 64,
     "metadata": {},
     "output_type": "execute_result"
    }
   ],
   "source": [
    "cars_new.head()"
   ]
  },
  {
   "cell_type": "code",
   "execution_count": 65,
   "metadata": {},
   "outputs": [],
   "source": [
    "model4= sm.OLS.from_formula(formula='dist~speed',data=cars_new).fit()"
   ]
  },
  {
   "cell_type": "code",
   "execution_count": 67,
   "metadata": {},
   "outputs": [
    {
     "data": {
      "text/html": [
       "<table class=\"simpletable\">\n",
       "<caption>OLS Regression Results</caption>\n",
       "<tr>\n",
       "  <th>Dep. Variable:</th>          <td>dist</td>       <th>  R-squared:         </th> <td>   0.702</td>\n",
       "</tr>\n",
       "<tr>\n",
       "  <th>Model:</th>                   <td>OLS</td>       <th>  Adj. R-squared:    </th> <td>   0.695</td>\n",
       "</tr>\n",
       "<tr>\n",
       "  <th>Method:</th>             <td>Least Squares</td>  <th>  F-statistic:       </th> <td>   108.3</td>\n",
       "</tr>\n",
       "<tr>\n",
       "  <th>Date:</th>             <td>Wed, 18 Sep 2019</td> <th>  Prob (F-statistic):</th> <td>1.13e-13</td>\n",
       "</tr>\n",
       "<tr>\n",
       "  <th>Time:</th>                 <td>11:44:41</td>     <th>  Log-Likelihood:    </th> <td> -189.16</td>\n",
       "</tr>\n",
       "<tr>\n",
       "  <th>No. Observations:</th>      <td>    48</td>      <th>  AIC:               </th> <td>   382.3</td>\n",
       "</tr>\n",
       "<tr>\n",
       "  <th>Df Residuals:</th>          <td>    46</td>      <th>  BIC:               </th> <td>   386.1</td>\n",
       "</tr>\n",
       "<tr>\n",
       "  <th>Df Model:</th>              <td>     1</td>      <th>                     </th>     <td> </td>   \n",
       "</tr>\n",
       "<tr>\n",
       "  <th>Covariance Type:</th>      <td>nonrobust</td>    <th>                     </th>     <td> </td>   \n",
       "</tr>\n",
       "</table>\n",
       "<table class=\"simpletable\">\n",
       "<tr>\n",
       "      <td></td>         <th>coef</th>     <th>std err</th>      <th>t</th>      <th>P>|t|</th>  <th>[0.025</th>    <th>0.975]</th>  \n",
       "</tr>\n",
       "<tr>\n",
       "  <th>Intercept</th> <td>  -15.5336</td> <td>    5.699</td> <td>   -2.726</td> <td> 0.009</td> <td>  -27.005</td> <td>   -4.062</td>\n",
       "</tr>\n",
       "<tr>\n",
       "  <th>speed</th>     <td>    3.6812</td> <td>    0.354</td> <td>   10.405</td> <td> 0.000</td> <td>    2.969</td> <td>    4.393</td>\n",
       "</tr>\n",
       "</table>\n",
       "<table class=\"simpletable\">\n",
       "<tr>\n",
       "  <th>Omnibus:</th>       <td> 2.282</td> <th>  Durbin-Watson:     </th> <td>   1.907</td>\n",
       "</tr>\n",
       "<tr>\n",
       "  <th>Prob(Omnibus):</th> <td> 0.320</td> <th>  Jarque-Bera (JB):  </th> <td>   1.837</td>\n",
       "</tr>\n",
       "<tr>\n",
       "  <th>Skew:</th>          <td> 0.479</td> <th>  Prob(JB):          </th> <td>   0.399</td>\n",
       "</tr>\n",
       "<tr>\n",
       "  <th>Kurtosis:</th>      <td> 2.968</td> <th>  Cond. No.          </th> <td>    50.2</td>\n",
       "</tr>\n",
       "</table><br/><br/>Warnings:<br/>[1] Standard Errors assume that the covariance matrix of the errors is correctly specified."
      ],
      "text/plain": [
       "<class 'statsmodels.iolib.summary.Summary'>\n",
       "\"\"\"\n",
       "                            OLS Regression Results                            \n",
       "==============================================================================\n",
       "Dep. Variable:                   dist   R-squared:                       0.702\n",
       "Model:                            OLS   Adj. R-squared:                  0.695\n",
       "Method:                 Least Squares   F-statistic:                     108.3\n",
       "Date:                Wed, 18 Sep 2019   Prob (F-statistic):           1.13e-13\n",
       "Time:                        11:44:41   Log-Likelihood:                -189.16\n",
       "No. Observations:                  48   AIC:                             382.3\n",
       "Df Residuals:                      46   BIC:                             386.1\n",
       "Df Model:                           1                                         \n",
       "Covariance Type:            nonrobust                                         \n",
       "==============================================================================\n",
       "                 coef    std err          t      P>|t|      [0.025      0.975]\n",
       "------------------------------------------------------------------------------\n",
       "Intercept    -15.5336      5.699     -2.726      0.009     -27.005      -4.062\n",
       "speed          3.6812      0.354     10.405      0.000       2.969       4.393\n",
       "==============================================================================\n",
       "Omnibus:                        2.282   Durbin-Watson:                   1.907\n",
       "Prob(Omnibus):                  0.320   Jarque-Bera (JB):                1.837\n",
       "Skew:                           0.479   Prob(JB):                        0.399\n",
       "Kurtosis:                       2.968   Cond. No.                         50.2\n",
       "==============================================================================\n",
       "\n",
       "Warnings:\n",
       "[1] Standard Errors assume that the covariance matrix of the errors is correctly specified.\n",
       "\"\"\""
      ]
     },
     "execution_count": 67,
     "metadata": {},
     "output_type": "execute_result"
    }
   ],
   "source": [
    "model4.summary()\n",
    "\n",
    "#we have to observe AIC(AIC--> area, how much data has been lost), compared to model3 summary AIC has been reduced"
   ]
  },
  {
   "cell_type": "code",
   "execution_count": null,
   "metadata": {},
   "outputs": [],
   "source": []
  }
 ],
 "metadata": {
  "kernelspec": {
   "display_name": "Python 3",
   "language": "python",
   "name": "python3"
  },
  "language_info": {
   "codemirror_mode": {
    "name": "ipython",
    "version": 3
   },
   "file_extension": ".py",
   "mimetype": "text/x-python",
   "name": "python",
   "nbconvert_exporter": "python",
   "pygments_lexer": "ipython3",
   "version": "3.7.3"
  }
 },
 "nbformat": 4,
 "nbformat_minor": 2
}
