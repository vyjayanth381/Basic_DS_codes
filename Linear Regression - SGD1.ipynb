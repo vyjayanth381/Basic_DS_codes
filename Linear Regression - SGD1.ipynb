{
 "cells": [
  {
   "cell_type": "code",
   "execution_count": 0,
   "metadata": {
    "colab": {},
    "colab_type": "code",
    "id": "PmALc4TEcCtu"
   },
   "outputs": [],
   "source": [
    "from google.colab import drive"
   ]
  },
  {
   "cell_type": "code",
   "execution_count": 2,
   "metadata": {
    "colab": {
     "base_uri": "https://localhost:8080/",
     "height": 121
    },
    "colab_type": "code",
    "executionInfo": {
     "elapsed": 27243,
     "status": "ok",
     "timestamp": 1575269355939,
     "user": {
      "displayName": "Avinash Gunda",
      "photoUrl": "https://lh3.googleusercontent.com/a-/AAuE7mA3X9S3AQl2rrdxPu8glulqhaBFm97KNJHWG5WAl9TljTN6HEyu5fCmL9yhrF-nJ81EY-7LBb45m-5xZMj2Ch8f17Xz8g0PA90nmHQziaDY1lCKnFfo2KoIoSnYzsV95qkKx_CbkCV7-XzuG2OgXziiHAQwnR0L7JHlOvvNbxiPNEEgEP3HlQUbMkmMzvS-2U89YnZTMu_MTOl6c1RN_5HmcrM4gMx3J4l-Fp0puTg5lrZSz1Yooj_sX2aI2SJ9RN_Z5NSKfqcsNvR21d0WIHAVjdzZm4kDNVTy63VYntcvGxR5hw7GI8F2vS7lo9tBYthVCk6-1NUNFr9PT8uRMVfFOafXnDYSp0oFhpBgy5Z89SGr1kIUXbkB_Cd1lcu2pmw5JrGpsx8otPf4Fj6iONGGqEo2m_V7WvkZI9HGfbFslzVCkZxdyN0zMER76lac5ym85pmDWTEFtZuqBOqumCiIZGfwXb95HeL8-Vv6j0T3gLViE7oXghoFATf17oea8wb_GnhJRiTsrVPzjcn0NzEpQBqKJhWwn8ex_RcG5xgGCj-3LnTc-rzq40zPp0kp0KNqd7eMgbelU7x4qxYJiyQXyx0WL_lEZ2KN4w2k0gaib6Lr4xf6arMXq16u0IDTZpjTA5Ovjx0fVTVX3Q6vyLNCk7TZ__4SCy5UypQUKrdJFfyBchYrdtWXByUpLeqQwXemvJRuEe4ZOzL3B5EVC-W_9ZUJ9e-veZiFDzyh3wCRlVpXXL_wRG7GqlRiF90=s64",
      "userId": "07701713045507434863"
     },
     "user_tz": -330
    },
    "id": "T5nq9-76cecO",
    "outputId": "79abb7f1-0b53-4da9-c582-a7676026abc8"
   },
   "outputs": [
    {
     "name": "stdout",
     "output_type": "stream",
     "text": [
      "Go to this URL in a browser: https://accounts.google.com/o/oauth2/auth?client_id=947318989803-6bn6qk8qdgf4n4g3pfee6491hc0brc4i.apps.googleusercontent.com&redirect_uri=urn%3aietf%3awg%3aoauth%3a2.0%3aoob&response_type=code&scope=email%20https%3a%2f%2fwww.googleapis.com%2fauth%2fdocs.test%20https%3a%2f%2fwww.googleapis.com%2fauth%2fdrive%20https%3a%2f%2fwww.googleapis.com%2fauth%2fdrive.photos.readonly%20https%3a%2f%2fwww.googleapis.com%2fauth%2fpeopleapi.readonly\n",
      "\n",
      "Enter your authorization code:\n",
      "··········\n",
      "Mounted at /drive\n"
     ]
    }
   ],
   "source": [
    "drive.mount('/drive')"
   ]
  },
  {
   "cell_type": "code",
   "execution_count": 0,
   "metadata": {
    "colab": {},
    "colab_type": "code",
    "id": "zSC0dKtvceT7"
   },
   "outputs": [],
   "source": [
    "import os"
   ]
  },
  {
   "cell_type": "code",
   "execution_count": 0,
   "metadata": {
    "colab": {},
    "colab_type": "code",
    "id": "v4RcKMhqceOV"
   },
   "outputs": [],
   "source": [
    "os.chdir('/drive/My Drive/Deep Learning')"
   ]
  },
  {
   "cell_type": "code",
   "execution_count": 0,
   "metadata": {
    "colab": {},
    "colab_type": "code",
    "id": "7PXLaxj7cAZi"
   },
   "outputs": [],
   "source": [
    "import pandas as pd\n",
    "import numpy as np\n",
    "import matplotlib.pyplot as plt\n",
    "import seaborn as sns\n",
    "%matplotlib inline\n",
    "sns.set(style=\"darkgrid\")\n",
    "sns.set(color_codes=True)\n",
    "import tensorflow as tf\n",
    "tf.__version__\n",
    "import warnings\n",
    "warnings.filterwarnings('ignore')"
   ]
  },
  {
   "cell_type": "code",
   "execution_count": 8,
   "metadata": {
    "colab": {
     "base_uri": "https://localhost:8080/",
     "height": 195
    },
    "colab_type": "code",
    "executionInfo": {
     "elapsed": 1168,
     "status": "ok",
     "timestamp": 1575270585804,
     "user": {
      "displayName": "Avinash Gunda",
      "photoUrl": "https://lh3.googleusercontent.com/a-/AAuE7mA3X9S3AQl2rrdxPu8glulqhaBFm97KNJHWG5WAl9TljTN6HEyu5fCmL9yhrF-nJ81EY-7LBb45m-5xZMj2Ch8f17Xz8g0PA90nmHQziaDY1lCKnFfo2KoIoSnYzsV95qkKx_CbkCV7-XzuG2OgXziiHAQwnR0L7JHlOvvNbxiPNEEgEP3HlQUbMkmMzvS-2U89YnZTMu_MTOl6c1RN_5HmcrM4gMx3J4l-Fp0puTg5lrZSz1Yooj_sX2aI2SJ9RN_Z5NSKfqcsNvR21d0WIHAVjdzZm4kDNVTy63VYntcvGxR5hw7GI8F2vS7lo9tBYthVCk6-1NUNFr9PT8uRMVfFOafXnDYSp0oFhpBgy5Z89SGr1kIUXbkB_Cd1lcu2pmw5JrGpsx8otPf4Fj6iONGGqEo2m_V7WvkZI9HGfbFslzVCkZxdyN0zMER76lac5ym85pmDWTEFtZuqBOqumCiIZGfwXb95HeL8-Vv6j0T3gLViE7oXghoFATf17oea8wb_GnhJRiTsrVPzjcn0NzEpQBqKJhWwn8ex_RcG5xgGCj-3LnTc-rzq40zPp0kp0KNqd7eMgbelU7x4qxYJiyQXyx0WL_lEZ2KN4w2k0gaib6Lr4xf6arMXq16u0IDTZpjTA5Ovjx0fVTVX3Q6vyLNCk7TZ__4SCy5UypQUKrdJFfyBchYrdtWXByUpLeqQwXemvJRuEe4ZOzL3B5EVC-W_9ZUJ9e-veZiFDzyh3wCRlVpXXL_wRG7GqlRiF90=s64",
      "userId": "07701713045507434863"
     },
     "user_tz": -330
    },
    "id": "-3eS0Q1CcAZq",
    "outputId": "e9fd11cb-b2c3-4ef6-e2b5-227f83ce2914"
   },
   "outputs": [
    {
     "data": {
      "text/html": [
       "<div>\n",
       "<style scoped>\n",
       "    .dataframe tbody tr th:only-of-type {\n",
       "        vertical-align: middle;\n",
       "    }\n",
       "\n",
       "    .dataframe tbody tr th {\n",
       "        vertical-align: top;\n",
       "    }\n",
       "\n",
       "    .dataframe thead th {\n",
       "        text-align: right;\n",
       "    }\n",
       "</style>\n",
       "<table border=\"1\" class=\"dataframe\">\n",
       "  <thead>\n",
       "    <tr style=\"text-align: right;\">\n",
       "      <th></th>\n",
       "      <th>Country</th>\n",
       "      <th>Big Mac Price in USD</th>\n",
       "      <th>Hourly Wages in USD</th>\n",
       "    </tr>\n",
       "  </thead>\n",
       "  <tbody>\n",
       "    <tr>\n",
       "      <th>0</th>\n",
       "      <td>Argentina</td>\n",
       "      <td>1.42</td>\n",
       "      <td>1.70</td>\n",
       "    </tr>\n",
       "    <tr>\n",
       "      <th>1</th>\n",
       "      <td>Australia</td>\n",
       "      <td>1.86</td>\n",
       "      <td>7.80</td>\n",
       "    </tr>\n",
       "    <tr>\n",
       "      <th>2</th>\n",
       "      <td>Brazil</td>\n",
       "      <td>1.48</td>\n",
       "      <td>2.05</td>\n",
       "    </tr>\n",
       "    <tr>\n",
       "      <th>3</th>\n",
       "      <td>Britain</td>\n",
       "      <td>3.14</td>\n",
       "      <td>12.30</td>\n",
       "    </tr>\n",
       "    <tr>\n",
       "      <th>4</th>\n",
       "      <td>Canada</td>\n",
       "      <td>2.21</td>\n",
       "      <td>9.35</td>\n",
       "    </tr>\n",
       "  </tbody>\n",
       "</table>\n",
       "</div>"
      ],
      "text/plain": [
       "     Country  Big Mac Price in USD  Hourly Wages in USD\n",
       "0  Argentina                  1.42                 1.70\n",
       "1  Australia                  1.86                 7.80\n",
       "2     Brazil                  1.48                 2.05\n",
       "3    Britain                  3.14                12.30\n",
       "4     Canada                  2.21                 9.35"
      ]
     },
     "execution_count": 8,
     "metadata": {
      "tags": []
     },
     "output_type": "execute_result"
    }
   ],
   "source": [
    "big = pd.read_excel('BigMaxIndex.xlsx')\n",
    "big.head()"
   ]
  },
  {
   "cell_type": "code",
   "execution_count": 9,
   "metadata": {
    "colab": {
     "base_uri": "https://localhost:8080/",
     "height": 106
    },
    "colab_type": "code",
    "executionInfo": {
     "elapsed": 1284,
     "status": "ok",
     "timestamp": 1575270594505,
     "user": {
      "displayName": "Avinash Gunda",
      "photoUrl": "https://lh3.googleusercontent.com/a-/AAuE7mA3X9S3AQl2rrdxPu8glulqhaBFm97KNJHWG5WAl9TljTN6HEyu5fCmL9yhrF-nJ81EY-7LBb45m-5xZMj2Ch8f17Xz8g0PA90nmHQziaDY1lCKnFfo2KoIoSnYzsV95qkKx_CbkCV7-XzuG2OgXziiHAQwnR0L7JHlOvvNbxiPNEEgEP3HlQUbMkmMzvS-2U89YnZTMu_MTOl6c1RN_5HmcrM4gMx3J4l-Fp0puTg5lrZSz1Yooj_sX2aI2SJ9RN_Z5NSKfqcsNvR21d0WIHAVjdzZm4kDNVTy63VYntcvGxR5hw7GI8F2vS7lo9tBYthVCk6-1NUNFr9PT8uRMVfFOafXnDYSp0oFhpBgy5Z89SGr1kIUXbkB_Cd1lcu2pmw5JrGpsx8otPf4Fj6iONGGqEo2m_V7WvkZI9HGfbFslzVCkZxdyN0zMER76lac5ym85pmDWTEFtZuqBOqumCiIZGfwXb95HeL8-Vv6j0T3gLViE7oXghoFATf17oea8wb_GnhJRiTsrVPzjcn0NzEpQBqKJhWwn8ex_RcG5xgGCj-3LnTc-rzq40zPp0kp0KNqd7eMgbelU7x4qxYJiyQXyx0WL_lEZ2KN4w2k0gaib6Lr4xf6arMXq16u0IDTZpjTA5Ovjx0fVTVX3Q6vyLNCk7TZ__4SCy5UypQUKrdJFfyBchYrdtWXByUpLeqQwXemvJRuEe4ZOzL3B5EVC-W_9ZUJ9e-veZiFDzyh3wCRlVpXXL_wRG7GqlRiF90=s64",
      "userId": "07701713045507434863"
     },
     "user_tz": -330
    },
    "id": "To36vKNpzfoh",
    "outputId": "bfb1a0d3-a092-4c1b-a182-f65254a33552"
   },
   "outputs": [
    {
     "data": {
      "text/html": [
       "<div>\n",
       "<style scoped>\n",
       "    .dataframe tbody tr th:only-of-type {\n",
       "        vertical-align: middle;\n",
       "    }\n",
       "\n",
       "    .dataframe tbody tr th {\n",
       "        vertical-align: top;\n",
       "    }\n",
       "\n",
       "    .dataframe thead th {\n",
       "        text-align: right;\n",
       "    }\n",
       "</style>\n",
       "<table border=\"1\" class=\"dataframe\">\n",
       "  <thead>\n",
       "    <tr style=\"text-align: right;\">\n",
       "      <th></th>\n",
       "      <th>Big Mac Price in USD</th>\n",
       "      <th>Hourly Wages in USD</th>\n",
       "    </tr>\n",
       "  </thead>\n",
       "  <tbody>\n",
       "    <tr>\n",
       "      <th>Big Mac Price in USD</th>\n",
       "      <td>1.000000</td>\n",
       "      <td>0.813396</td>\n",
       "    </tr>\n",
       "    <tr>\n",
       "      <th>Hourly Wages in USD</th>\n",
       "      <td>0.813396</td>\n",
       "      <td>1.000000</td>\n",
       "    </tr>\n",
       "  </tbody>\n",
       "</table>\n",
       "</div>"
      ],
      "text/plain": [
       "                      Big Mac Price in USD  Hourly Wages in USD\n",
       "Big Mac Price in USD              1.000000             0.813396\n",
       "Hourly Wages in USD               0.813396             1.000000"
      ]
     },
     "execution_count": 9,
     "metadata": {
      "tags": []
     },
     "output_type": "execute_result"
    }
   ],
   "source": [
    "big.corr()"
   ]
  },
  {
   "cell_type": "code",
   "execution_count": 0,
   "metadata": {
    "colab": {},
    "colab_type": "code",
    "id": "7-lsWvQ2cAZt"
   },
   "outputs": [],
   "source": [
    "#join plot\n",
    "#sns.relplot('Big Mac Price in USD','Hourly Wages in USD',data=big,kind='scatter')\n",
    "\n",
    "sns.jointplot('Big Mac Price in USD','Hourly Wages in USD',data=big,kind='scatter')\n",
    "plt.show()"
   ]
  },
  {
   "cell_type": "code",
   "execution_count": 0,
   "metadata": {
    "colab": {},
    "colab_type": "code",
    "id": "Uli1ofvoc8yv"
   },
   "outputs": [],
   "source": [
    "big.info()"
   ]
  },
  {
   "cell_type": "markdown",
   "metadata": {
    "colab_type": "text",
    "id": "IW_x-lkVcAZx"
   },
   "source": [
    "# Stochastic Gradient Descent\n",
    " y = m * X  + c\n",
    " \n",
    " > #### output = variable1 * Placeholder + variable2"
   ]
  },
  {
   "cell_type": "code",
   "execution_count": 0,
   "metadata": {
    "colab": {},
    "colab_type": "code",
    "id": "zQ_ckgTLcAZx"
   },
   "outputs": [],
   "source": [
    "X = tf.placeholder(dtype=tf.float32,shape=None,name='Input')"
   ]
  },
  {
   "cell_type": "code",
   "execution_count": 0,
   "metadata": {
    "colab": {},
    "colab_type": "code",
    "id": "BNo-HoTkcAZz"
   },
   "outputs": [],
   "source": [
    "m = tf.Variable(initial_value=0,dtype=tf.float32)\n",
    "c = tf.Variable(initial_value=0,dtype=tf.float32)"
   ]
  },
  {
   "cell_type": "code",
   "execution_count": 0,
   "metadata": {
    "colab": {},
    "colab_type": "code",
    "id": "TBQA03m_cAZ1"
   },
   "outputs": [],
   "source": [
    "layer1 = tf.multiply(X,m,name='Layer1')\n",
    "output = tf.add(layer1,c,name='ouput')"
   ]
  },
  {
   "cell_type": "markdown",
   "metadata": {
    "colab_type": "text",
    "id": "W7DWLYDfcAZ6"
   },
   "source": [
    "### Calculating SSE and Back Propagation\n",
    "sum of squared errors"
   ]
  },
  {
   "cell_type": "code",
   "execution_count": 0,
   "metadata": {
    "colab": {},
    "colab_type": "code",
    "id": "JHFOnMaicAZ7"
   },
   "outputs": [],
   "source": [
    "y_actual = tf.placeholder(dtype=tf.float32,shape=None,name='actual')"
   ]
  },
  {
   "cell_type": "code",
   "execution_count": 0,
   "metadata": {
    "colab": {},
    "colab_type": "code",
    "id": "C7Qtce8IcAZ9"
   },
   "outputs": [],
   "source": [
    "sse = tf.reduce_sum(tf.square(tf.subtract(output,y_actual)))"
   ]
  },
  {
   "cell_type": "code",
   "execution_count": 0,
   "metadata": {
    "colab": {},
    "colab_type": "code",
    "id": "14cJQAJMcAZ-"
   },
   "outputs": [],
   "source": [
    "optimizer = tf.train.GradientDescentOptimizer(learning_rate=0.01)"
   ]
  },
  {
   "cell_type": "code",
   "execution_count": 0,
   "metadata": {
    "colab": {},
    "colab_type": "code",
    "id": "7xwt7UtPcAaA"
   },
   "outputs": [],
   "source": [
    "train = optimizer.minimize(sse)"
   ]
  },
  {
   "cell_type": "markdown",
   "metadata": {
    "colab_type": "text",
    "id": "g9zZvwrYcAaE"
   },
   "source": [
    "# Data Preprocessing"
   ]
  },
  {
   "cell_type": "code",
   "execution_count": 0,
   "metadata": {
    "colab": {},
    "colab_type": "code",
    "id": "WsZYr3wxcAaF"
   },
   "outputs": [],
   "source": [
    "x_input = big.iloc[:,1:2].values\n",
    "y_input = big.iloc[:,2:3].values"
   ]
  },
  {
   "cell_type": "markdown",
   "metadata": {
    "colab_type": "text",
    "id": "4B3NGoRCcAaH"
   },
   "source": [
    "# Normalization"
   ]
  },
  {
   "cell_type": "code",
   "execution_count": 0,
   "metadata": {
    "colab": {},
    "colab_type": "code",
    "id": "FESd1282cAaH"
   },
   "outputs": [],
   "source": [
    "from sklearn.preprocessing import MinMaxScaler, StandardScaler"
   ]
  },
  {
   "cell_type": "code",
   "execution_count": 0,
   "metadata": {
    "colab": {},
    "colab_type": "code",
    "id": "_Urm9uDlcAaJ"
   },
   "outputs": [],
   "source": [
    "mmx = MinMaxScaler()\n",
    "mmy = MinMaxScaler()"
   ]
  },
  {
   "cell_type": "code",
   "execution_count": 0,
   "metadata": {
    "colab": {},
    "colab_type": "code",
    "id": "sU1Du7iJcAaL"
   },
   "outputs": [],
   "source": [
    "x_norm = mmx.fit_transform(x_input)\n",
    "y_norm = mmy.fit_transform(y_input)"
   ]
  },
  {
   "cell_type": "code",
   "execution_count": 0,
   "metadata": {
    "colab": {},
    "colab_type": "code",
    "id": "r8QCTYG3cAaN"
   },
   "outputs": [],
   "source": [
    "x_norm,y_norm"
   ]
  },
  {
   "cell_type": "code",
   "execution_count": 0,
   "metadata": {
    "colab": {},
    "colab_type": "code",
    "id": "xCeuNWthcAaQ"
   },
   "outputs": [],
   "source": [
    "def batching(high, batchsize):\n",
    "    return np.random.randint(0,high, batchsize)"
   ]
  },
  {
   "cell_type": "code",
   "execution_count": 0,
   "metadata": {
    "colab": {},
    "colab_type": "code",
    "id": "KMkL0aE8hkeD"
   },
   "outputs": [],
   "source": [
    "np.random.randint(0,27, 5)"
   ]
  },
  {
   "cell_type": "code",
   "execution_count": 0,
   "metadata": {
    "colab": {},
    "colab_type": "code",
    "id": "1Ks39qVgcAaT"
   },
   "outputs": [],
   "source": [
    "print(x_norm[batching(27,5)])"
   ]
  },
  {
   "cell_type": "markdown",
   "metadata": {
    "colab_type": "text",
    "id": "rY4jFp3PcAaW"
   },
   "source": [
    "# Training Model"
   ]
  },
  {
   "cell_type": "code",
   "execution_count": 28,
   "metadata": {
    "colab": {
     "base_uri": "https://localhost:8080/",
     "height": 1000
    },
    "colab_type": "code",
    "executionInfo": {
     "elapsed": 8450,
     "status": "ok",
     "timestamp": 1575271532344,
     "user": {
      "displayName": "Avinash Gunda",
      "photoUrl": "https://lh3.googleusercontent.com/a-/AAuE7mA3X9S3AQl2rrdxPu8glulqhaBFm97KNJHWG5WAl9TljTN6HEyu5fCmL9yhrF-nJ81EY-7LBb45m-5xZMj2Ch8f17Xz8g0PA90nmHQziaDY1lCKnFfo2KoIoSnYzsV95qkKx_CbkCV7-XzuG2OgXziiHAQwnR0L7JHlOvvNbxiPNEEgEP3HlQUbMkmMzvS-2U89YnZTMu_MTOl6c1RN_5HmcrM4gMx3J4l-Fp0puTg5lrZSz1Yooj_sX2aI2SJ9RN_Z5NSKfqcsNvR21d0WIHAVjdzZm4kDNVTy63VYntcvGxR5hw7GI8F2vS7lo9tBYthVCk6-1NUNFr9PT8uRMVfFOafXnDYSp0oFhpBgy5Z89SGr1kIUXbkB_Cd1lcu2pmw5JrGpsx8otPf4Fj6iONGGqEo2m_V7WvkZI9HGfbFslzVCkZxdyN0zMER76lac5ym85pmDWTEFtZuqBOqumCiIZGfwXb95HeL8-Vv6j0T3gLViE7oXghoFATf17oea8wb_GnhJRiTsrVPzjcn0NzEpQBqKJhWwn8ex_RcG5xgGCj-3LnTc-rzq40zPp0kp0KNqd7eMgbelU7x4qxYJiyQXyx0WL_lEZ2KN4w2k0gaib6Lr4xf6arMXq16u0IDTZpjTA5Ovjx0fVTVX3Q6vyLNCk7TZ__4SCy5UypQUKrdJFfyBchYrdtWXByUpLeqQwXemvJRuEe4ZOzL3B5EVC-W_9ZUJ9e-veZiFDzyh3wCRlVpXXL_wRG7GqlRiF90=s64",
      "userId": "07701713045507434863"
     },
     "user_tz": -330
    },
    "id": "JXwg7OTucAaX",
    "outputId": "310fd8f1-2781-4232-89a1-3acc4bc02914"
   },
   "outputs": [
    {
     "name": "stdout",
     "output_type": "stream",
     "text": [
      "Epoch: 0,Loss:4.04, Intercept: 0.03 , Slope: 0.02 \n"
     ]
    },
    {
     "data": {
      "image/png": "[encoded data removed]",
      "text/plain": [
       "<Figure size 432x288 with 1 Axes>"
      ]
     },
     "metadata": {
      "tags": []
     },
     "output_type": "display_data"
    },
    {
     "name": "stdout",
     "output_type": "stream",
     "text": [
      "Epoch: 100,Loss:0.98, Intercept: 0.11 , Slope: 0.61 \n"
     ]
    },
    {
     "data": {
      "image/png": "[encoded data removed]",
      "text/plain": [
       "<Figure size 432x288 with 1 Axes>"
      ]
     },
     "metadata": {
      "tags": []
     },
     "output_type": "display_data"
    },
    {
     "name": "stdout",
     "output_type": "stream",
     "text": [
      "Epoch: 200,Loss:0.82, Intercept: 0.03 , Slope: 0.82 \n"
     ]
    },
    {
     "data": {
      "image/png": "[encoded data removed]",
      "text/plain": [
       "<Figure size 432x288 with 1 Axes>"
      ]
     },
     "metadata": {
      "tags": []
     },
     "output_type": "display_data"
    },
    {
     "name": "stdout",
     "output_type": "stream",
     "text": [
      "Epoch: 300,Loss:0.79, Intercept: 0.01 , Slope: 0.91 \n"
     ]
    },
    {
     "data": {
      "image/png": "[encoded data removed]",
      "text/plain": [
       "<Figure size 432x288 with 1 Axes>"
      ]
     },
     "metadata": {
      "tags": []
     },
     "output_type": "display_data"
    },
    {
     "name": "stdout",
     "output_type": "stream",
     "text": [
      "Epoch: 400,Loss:0.79, Intercept: -0.01 , Slope: 0.94 \n"
     ]
    },
    {
     "data": {
      "image/png": "[encoded data removed]",
      "text/plain": [
       "<Figure size 432x288 with 1 Axes>"
      ]
     },
     "metadata": {
      "tags": []
     },
     "output_type": "display_data"
    },
    {
     "name": "stdout",
     "output_type": "stream",
     "text": [
      "Epoch: 500,Loss:0.79, Intercept: -0.02 , Slope: 0.95 \n"
     ]
    },
    {
     "data": {
      "image/png": "[encoded data removed]",
      "text/plain": [
       "<Figure size 432x288 with 1 Axes>"
      ]
     },
     "metadata": {
      "tags": []
     },
     "output_type": "display_data"
    },
    {
     "name": "stdout",
     "output_type": "stream",
     "text": [
      "Epoch: 600,Loss:0.79, Intercept: -0.02 , Slope: 0.96 \n"
     ]
    },
    {
     "data": {
      "image/png": "[encoded data removed]",
      "text/plain": [
       "<Figure size 432x288 with 1 Axes>"
      ]
     },
     "metadata": {
      "tags": []
     },
     "output_type": "display_data"
    },
    {
     "name": "stdout",
     "output_type": "stream",
     "text": [
      "Epoch: 700,Loss:0.78, Intercept: -0.02 , Slope: 0.96 \n"
     ]
    },
    {
     "data": {
      "image/png": "[encoded data removed]",
      "text/plain": [
       "<Figure size 432x288 with 1 Axes>"
      ]
     },
     "metadata": {
      "tags": []
     },
     "output_type": "display_data"
    },
    {
     "name": "stdout",
     "output_type": "stream",
     "text": [
      "Epoch: 800,Loss:0.78, Intercept: -0.00 , Slope: 0.98 \n"
     ]
    },
    {
     "data": {
      "image/png": "[encoded data removed]",
      "text/plain": [
       "<Figure size 432x288 with 1 Axes>"
      ]
     },
     "metadata": {
      "tags": []
     },
     "output_type": "display_data"
    },
    {
     "name": "stdout",
     "output_type": "stream",
     "text": [
      "Epoch: 900,Loss:0.79, Intercept: -0.02 , Slope: 0.97 \n"
     ]
    },
    {
     "data": {
      "image/png": "[encoded data removed]",
      "text/plain": [
       "<Figure size 432x288 with 1 Axes>"
      ]
     },
     "metadata": {
      "tags": []
     },
     "output_type": "display_data"
    },
    {
     "name": "stdout",
     "output_type": "stream",
     "text": [
      "Epoch: 1000,Loss:0.78, Intercept: 0.00 , Slope: 0.99 \n"
     ]
    },
    {
     "data": {
      "image/png": "[encoded data removed]",
      "text/plain": [
       "<Figure size 432x288 with 1 Axes>"
      ]
     },
     "metadata": {
      "tags": []
     },
     "output_type": "display_data"
    }
   ],
   "source": [
    "init = tf.global_variables_initializer()\n",
    "with tf.Session() as sess:\n",
    "    sess.run(init)\n",
    "    writer = tf.summary.FileWriter('./linearsgd', graph=sess.graph)\n",
    "    epochs = 1001\n",
    "    for i in range(epochs):\n",
    "        ind = batching(27,8)\n",
    "        sess.run(train,feed_dict={X:x_norm[ind],y_actual:y_norm[ind]})\n",
    "        if i % 100 == 0:\n",
    "            \n",
    "            intercept = sess.run(c,feed_dict={X:x_norm,y_actual:y_norm})\n",
    "            slope = sess.run(m,feed_dict={X:x_norm,y_actual:y_norm})\n",
    "            loss = sess.run(sse,feed_dict={X:x_norm,y_actual:y_norm})\n",
    "            print('Epoch: %s,Loss:%0.2f, Intercept: %0.2f , Slope: %0.2f '%(i,loss,\n",
    "                                                                            intercept,\n",
    "                                                                            slope))\n",
    "            y_hat = intercept + slope * x_norm\n",
    "            plt.scatter(x_norm,y_norm)\n",
    "            plt.plot(x_norm,y_hat,'r')\n",
    "            plt.show()\n",
    "    writer.close()"
   ]
  },
  {
   "cell_type": "code",
   "execution_count": 0,
   "metadata": {
    "colab": {},
    "colab_type": "code",
    "id": "o70uIsig27-W"
   },
   "outputs": [],
   "source": []
  }
 ],
 "metadata": {
  "accelerator": "GPU",
  "colab": {
   "collapsed_sections": [],
   "name": "Linear Regression - SGD1.ipynb",
   "provenance": []
  },
  "kernelspec": {
   "display_name": "Python 3",
   "language": "python",
   "name": "python3"
  },
  "language_info": {
   "codemirror_mode": {
    "name": "ipython",
    "version": 3
   },
   "file_extension": ".py",
   "mimetype": "text/x-python",
   "name": "python",
   "nbconvert_exporter": "python",
   "pygments_lexer": "ipython3",
   "version": "3.7.3"
  }
 },
 "nbformat": 4,
 "nbformat_minor": 1
}
