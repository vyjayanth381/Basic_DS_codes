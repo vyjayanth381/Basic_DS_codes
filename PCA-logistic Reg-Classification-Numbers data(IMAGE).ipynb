{
 "cells": [
  {
   "cell_type": "code",
   "execution_count": 1,
   "metadata": {},
   "outputs": [],
   "source": [
    "import pandas as pd\n",
    "import numpy as np\n",
    "import seaborn as sns\n",
    "import matplotlib.pyplot as plt\n",
    "%matplotlib inline\n",
    "import math\n",
    "from sklearn.preprocessing import MinMaxScaler, StandardScaler\n",
    "import pickle\n",
    "import warnings\n",
    "warnings.filterwarnings('ignore')\n",
    "import cv2\n"
   ]
  },
  {
   "cell_type": "code",
   "execution_count": 2,
   "metadata": {},
   "outputs": [],
   "source": [
    "df= pd.read_csv('F://numbers.csv')"
   ]
  },
  {
   "cell_type": "code",
   "execution_count": 3,
   "metadata": {},
   "outputs": [
    {
     "data": {
      "text/html": [
       "<div>\n",
       "<style scoped>\n",
       "    .dataframe tbody tr th:only-of-type {\n",
       "        vertical-align: middle;\n",
       "    }\n",
       "\n",
       "    .dataframe tbody tr th {\n",
       "        vertical-align: top;\n",
       "    }\n",
       "\n",
       "    .dataframe thead th {\n",
       "        text-align: right;\n",
       "    }\n",
       "</style>\n",
       "<table border=\"1\" class=\"dataframe\">\n",
       "  <thead>\n",
       "    <tr style=\"text-align: right;\">\n",
       "      <th></th>\n",
       "      <th>label</th>\n",
       "      <th>pixel0</th>\n",
       "      <th>pixel1</th>\n",
       "      <th>pixel2</th>\n",
       "      <th>pixel3</th>\n",
       "      <th>pixel4</th>\n",
       "      <th>pixel5</th>\n",
       "      <th>pixel6</th>\n",
       "      <th>pixel7</th>\n",
       "      <th>pixel8</th>\n",
       "      <th>...</th>\n",
       "      <th>pixel774</th>\n",
       "      <th>pixel775</th>\n",
       "      <th>pixel776</th>\n",
       "      <th>pixel777</th>\n",
       "      <th>pixel778</th>\n",
       "      <th>pixel779</th>\n",
       "      <th>pixel780</th>\n",
       "      <th>pixel781</th>\n",
       "      <th>pixel782</th>\n",
       "      <th>pixel783</th>\n",
       "    </tr>\n",
       "  </thead>\n",
       "  <tbody>\n",
       "    <tr>\n",
       "      <th>0</th>\n",
       "      <td>1</td>\n",
       "      <td>0</td>\n",
       "      <td>0</td>\n",
       "      <td>0</td>\n",
       "      <td>0</td>\n",
       "      <td>0</td>\n",
       "      <td>0</td>\n",
       "      <td>0</td>\n",
       "      <td>0</td>\n",
       "      <td>0</td>\n",
       "      <td>...</td>\n",
       "      <td>0</td>\n",
       "      <td>0</td>\n",
       "      <td>0</td>\n",
       "      <td>0</td>\n",
       "      <td>0</td>\n",
       "      <td>0</td>\n",
       "      <td>0</td>\n",
       "      <td>0</td>\n",
       "      <td>0</td>\n",
       "      <td>0</td>\n",
       "    </tr>\n",
       "    <tr>\n",
       "      <th>1</th>\n",
       "      <td>0</td>\n",
       "      <td>0</td>\n",
       "      <td>0</td>\n",
       "      <td>0</td>\n",
       "      <td>0</td>\n",
       "      <td>0</td>\n",
       "      <td>0</td>\n",
       "      <td>0</td>\n",
       "      <td>0</td>\n",
       "      <td>0</td>\n",
       "      <td>...</td>\n",
       "      <td>0</td>\n",
       "      <td>0</td>\n",
       "      <td>0</td>\n",
       "      <td>0</td>\n",
       "      <td>0</td>\n",
       "      <td>0</td>\n",
       "      <td>0</td>\n",
       "      <td>0</td>\n",
       "      <td>0</td>\n",
       "      <td>0</td>\n",
       "    </tr>\n",
       "    <tr>\n",
       "      <th>2</th>\n",
       "      <td>1</td>\n",
       "      <td>0</td>\n",
       "      <td>0</td>\n",
       "      <td>0</td>\n",
       "      <td>0</td>\n",
       "      <td>0</td>\n",
       "      <td>0</td>\n",
       "      <td>0</td>\n",
       "      <td>0</td>\n",
       "      <td>0</td>\n",
       "      <td>...</td>\n",
       "      <td>0</td>\n",
       "      <td>0</td>\n",
       "      <td>0</td>\n",
       "      <td>0</td>\n",
       "      <td>0</td>\n",
       "      <td>0</td>\n",
       "      <td>0</td>\n",
       "      <td>0</td>\n",
       "      <td>0</td>\n",
       "      <td>0</td>\n",
       "    </tr>\n",
       "    <tr>\n",
       "      <th>3</th>\n",
       "      <td>4</td>\n",
       "      <td>0</td>\n",
       "      <td>0</td>\n",
       "      <td>0</td>\n",
       "      <td>0</td>\n",
       "      <td>0</td>\n",
       "      <td>0</td>\n",
       "      <td>0</td>\n",
       "      <td>0</td>\n",
       "      <td>0</td>\n",
       "      <td>...</td>\n",
       "      <td>0</td>\n",
       "      <td>0</td>\n",
       "      <td>0</td>\n",
       "      <td>0</td>\n",
       "      <td>0</td>\n",
       "      <td>0</td>\n",
       "      <td>0</td>\n",
       "      <td>0</td>\n",
       "      <td>0</td>\n",
       "      <td>0</td>\n",
       "    </tr>\n",
       "    <tr>\n",
       "      <th>4</th>\n",
       "      <td>0</td>\n",
       "      <td>0</td>\n",
       "      <td>0</td>\n",
       "      <td>0</td>\n",
       "      <td>0</td>\n",
       "      <td>0</td>\n",
       "      <td>0</td>\n",
       "      <td>0</td>\n",
       "      <td>0</td>\n",
       "      <td>0</td>\n",
       "      <td>...</td>\n",
       "      <td>0</td>\n",
       "      <td>0</td>\n",
       "      <td>0</td>\n",
       "      <td>0</td>\n",
       "      <td>0</td>\n",
       "      <td>0</td>\n",
       "      <td>0</td>\n",
       "      <td>0</td>\n",
       "      <td>0</td>\n",
       "      <td>0</td>\n",
       "    </tr>\n",
       "  </tbody>\n",
       "</table>\n",
       "<p>5 rows × 785 columns</p>\n",
       "</div>"
      ],
      "text/plain": [
       "   label  pixel0  pixel1  pixel2  pixel3  pixel4  pixel5  pixel6  pixel7  \\\n",
       "0      1       0       0       0       0       0       0       0       0   \n",
       "1      0       0       0       0       0       0       0       0       0   \n",
       "2      1       0       0       0       0       0       0       0       0   \n",
       "3      4       0       0       0       0       0       0       0       0   \n",
       "4      0       0       0       0       0       0       0       0       0   \n",
       "\n",
       "   pixel8  ...  pixel774  pixel775  pixel776  pixel777  pixel778  pixel779  \\\n",
       "0       0  ...         0         0         0         0         0         0   \n",
       "1       0  ...         0         0         0         0         0         0   \n",
       "2       0  ...         0         0         0         0         0         0   \n",
       "3       0  ...         0         0         0         0         0         0   \n",
       "4       0  ...         0         0         0         0         0         0   \n",
       "\n",
       "   pixel780  pixel781  pixel782  pixel783  \n",
       "0         0         0         0         0  \n",
       "1         0         0         0         0  \n",
       "2         0         0         0         0  \n",
       "3         0         0         0         0  \n",
       "4         0         0         0         0  \n",
       "\n",
       "[5 rows x 785 columns]"
      ]
     },
     "execution_count": 3,
     "metadata": {},
     "output_type": "execute_result"
    }
   ],
   "source": [
    "df.head()"
   ]
  },
  {
   "cell_type": "code",
   "execution_count": 4,
   "metadata": {},
   "outputs": [
    {
     "data": {
      "text/plain": [
       "(42000, 785)"
      ]
     },
     "execution_count": 4,
     "metadata": {},
     "output_type": "execute_result"
    }
   ],
   "source": [
    "df.shape"
   ]
  },
  {
   "cell_type": "code",
   "execution_count": 5,
   "metadata": {},
   "outputs": [],
   "source": [
    "X= df.iloc[:,1:].values   # convert into arrays(values)................ all rows \n",
    "Y= df.iloc[:,0].values ##......................................0th col"
   ]
  },
  {
   "cell_type": "code",
   "execution_count": 6,
   "metadata": {},
   "outputs": [
    {
     "data": {
      "text/plain": [
       "(42000, 784)"
      ]
     },
     "execution_count": 6,
     "metadata": {},
     "output_type": "execute_result"
    }
   ],
   "source": [
    "X.shape"
   ]
  },
  {
   "cell_type": "code",
   "execution_count": 7,
   "metadata": {},
   "outputs": [
    {
     "data": {
      "text/plain": [
       "(42000,)"
      ]
     },
     "execution_count": 7,
     "metadata": {},
     "output_type": "execute_result"
    }
   ],
   "source": [
    "Y.shape"
   ]
  },
  {
   "cell_type": "markdown",
   "metadata": {},
   "source": [
    "**APPLY TO ALL 784 COLUMNS**"
   ]
  },
  {
   "cell_type": "code",
   "execution_count": 8,
   "metadata": {},
   "outputs": [],
   "source": [
    "#xnorma = X/255.0   ------------> this is ti transform the data"
   ]
  },
  {
   "cell_type": "code",
   "execution_count": 9,
   "metadata": {},
   "outputs": [],
   "source": [
    "mmx= MinMaxScaler()\n",
    "sc= StandardScaler()"
   ]
  },
  {
   "cell_type": "code",
   "execution_count": 10,
   "metadata": {},
   "outputs": [],
   "source": [
    "x_mmx=mmx.fit_transform(X)  # this is part of pre processing and it is normalisation,,,,,,,, # 0-1 range\n",
    "x_sc=sc.fit_transform(X)# z-score"
   ]
  },
  {
   "cell_type": "code",
   "execution_count": 11,
   "metadata": {},
   "outputs": [
    {
     "data": {
      "image/png": "[encoded data removed]",
      "text/plain": [
       "<Figure size 1080x360 with 2 Axes>"
      ]
     },
     "metadata": {
      "needs_background": "light"
     },
     "output_type": "display_data"
    }
   ],
   "source": [
    "#visulaising the data:\n",
    "plt.figure(figsize=(15,5))\n",
    "\n",
    "plt.subplot(1,2,1)\n",
    "plt.boxplot(x_mmx, vert=False)\n",
    "plt.title('MinMaxScaler')\n",
    "\n",
    "plt.subplot(1,2,2)\n",
    "plt.boxplot(x_sc,vert=False)\n",
    "plt.title('StandardScaler')\n",
    "\n",
    "plt.show()"
   ]
  },
  {
   "cell_type": "code",
   "execution_count": 12,
   "metadata": {},
   "outputs": [],
   "source": [
    "from sklearn.decomposition import PCA"
   ]
  },
  {
   "cell_type": "code",
   "execution_count": 13,
   "metadata": {},
   "outputs": [],
   "source": [
    "pca=PCA()"
   ]
  },
  {
   "cell_type": "code",
   "execution_count": 14,
   "metadata": {},
   "outputs": [],
   "source": [
    "xpca= pca.fit_transform(x_mmx)   # applying to standard Scaler array"
   ]
  },
  {
   "cell_type": "code",
   "execution_count": 15,
   "metadata": {},
   "outputs": [
    {
     "data": {
      "text/plain": [
       "((42000, 784), (42000, 784))"
      ]
     },
     "execution_count": 15,
     "metadata": {},
     "output_type": "execute_result"
    }
   ],
   "source": [
    "xpca.shape, x_mmx.shape\n",
    "#xpca---> consists of X1,X2,...,X13(eigen vector) Each components as diff var(we have to understand that var)"
   ]
  },
  {
   "cell_type": "code",
   "execution_count": 16,
   "metadata": {},
   "outputs": [
    {
     "data": {
      "text/plain": [
       "array([5.14849052e+00, 3.78139291e+00, 3.24569996e+00, 2.84085203e+00,\n",
       "       2.58469834e+00, 2.27256118e+00, 1.73063630e+00, 1.52734267e+00,\n",
       "       1.46122297e+00, 1.24045731e+00, 1.10867030e+00, 1.08737480e+00,\n",
       "       8.99132001e-01, 8.93974270e-01, 8.35005359e-01, 7.83310780e-01,\n",
       "       6.96937612e-01, 6.77418708e-01, 6.27379617e-01, 6.08778993e-01,\n",
       "       5.66232725e-01, 5.36134972e-01, 5.09572663e-01, 4.82081310e-01,\n",
       "       4.68770225e-01, 4.42959183e-01, 4.28747593e-01, 4.10554180e-01,\n",
       "       3.91135379e-01, 3.62631526e-01, 3.47485752e-01, 3.37354747e-01,\n",
       "       3.16530597e-01, 3.11009968e-01, 2.98029951e-01, 2.85689139e-01,\n",
       "       2.68924179e-01, 2.57455301e-01, 2.51152168e-01, 2.46386036e-01,\n",
       "       2.39207919e-01, 2.35002431e-01, 2.20884037e-01, 2.09926040e-01,\n",
       "       2.03079777e-01, 1.97998003e-01, 1.90654018e-01, 1.84057400e-01,\n",
       "       1.77702050e-01, 1.69384523e-01, 1.66600806e-01, 1.63262333e-01,\n",
       "       1.55110230e-01, 1.51324924e-01, 1.48271487e-01, 1.42387712e-01,\n",
       "       1.40387748e-01, 1.35353447e-01, 1.34045069e-01, 1.30008788e-01,\n",
       "       1.26596093e-01, 1.26080366e-01, 1.20192962e-01, 1.16985756e-01,\n",
       "       1.12980185e-01, 1.08860779e-01, 1.07127378e-01, 1.03496978e-01,\n",
       "       1.02262197e-01, 9.95406485e-02, 9.86248613e-02, 9.59415447e-02,\n",
       "       9.34178772e-02, 9.11475506e-02, 8.77298965e-02, 8.62452056e-02,\n",
       "       8.48150039e-02, 8.15781955e-02, 7.75525926e-02, 7.51899727e-02,\n",
       "       7.45153893e-02, 7.40559094e-02, 7.33199484e-02, 7.15150520e-02,\n",
       "       6.98725670e-02, 6.90660441e-02, 6.84818830e-02, 6.56125019e-02,\n",
       "       6.45608189e-02, 6.31747353e-02, 6.11762456e-02, 6.01299677e-02,\n",
       "       5.92873369e-02, 5.83429210e-02, 5.71060709e-02, 5.67255902e-02,\n",
       "       5.48524456e-02, 5.45652531e-02, 5.36003500e-02, 5.28090292e-02,\n",
       "       5.14811100e-02, 4.99093913e-02, 4.95705324e-02, 4.81752606e-02,\n",
       "       4.79160651e-02, 4.69422335e-02, 4.56127194e-02, 4.45848903e-02,\n",
       "       4.41257296e-02, 4.31281997e-02, 4.15982294e-02, 4.12749694e-02,\n",
       "       4.10586378e-02, 4.07665730e-02, 4.00224314e-02, 3.96196399e-02,\n",
       "       3.87883998e-02, 3.83287383e-02, 3.77768527e-02, 3.69848369e-02,\n",
       "       3.66006555e-02, 3.62146118e-02, 3.59079228e-02, 3.51572974e-02,\n",
       "       3.46513451e-02, 3.40526209e-02, 3.35556579e-02, 3.30664016e-02,\n",
       "       3.26643684e-02, 3.19898605e-02, 3.18901751e-02, 3.12351988e-02,\n",
       "       3.09419032e-02, 3.08751464e-02, 3.03917619e-02, 3.00873094e-02,\n",
       "       2.98116868e-02, 2.92137146e-02, 2.82192635e-02, 2.77668544e-02,\n",
       "       2.75655583e-02, 2.69967022e-02, 2.66772065e-02, 2.64015727e-02,\n",
       "       2.61586067e-02, 2.60015569e-02, 2.55814626e-02, 2.51743626e-02,\n",
       "       2.50676814e-02, 2.47098779e-02, 2.45728655e-02, 2.43650283e-02,\n",
       "       2.40995980e-02, 2.38576884e-02, 2.37379429e-02, 2.33085386e-02,\n",
       "       2.31730444e-02, 2.24125262e-02, 2.21972966e-02, 2.19882799e-02,\n",
       "       2.18548184e-02, 2.14993276e-02, 2.10478861e-02, 2.08265880e-02,\n",
       "       2.08111111e-02, 2.06703853e-02, 2.01561679e-02, 2.00276630e-02,\n",
       "       1.98325540e-02, 1.97425698e-02, 1.93467264e-02, 1.91743595e-02,\n",
       "       1.89753925e-02, 1.88552862e-02, 1.86438834e-02, 1.86294047e-02,\n",
       "       1.82358794e-02, 1.81290098e-02, 1.80556734e-02, 1.79118019e-02,\n",
       "       1.76844124e-02, 1.74194268e-02, 1.71903685e-02, 1.71480236e-02,\n",
       "       1.69531350e-02, 1.69225976e-02, 1.67514643e-02, 1.67316708e-02,\n",
       "       1.64199664e-02, 1.63806678e-02, 1.62043127e-02, 1.60452771e-02,\n",
       "       1.58279743e-02, 1.57550669e-02, 1.55314475e-02, 1.54944505e-02,\n",
       "       1.54724844e-02, 1.52770513e-02, 1.50506006e-02, 1.49824650e-02,\n",
       "       1.48443413e-02, 1.45895868e-02, 1.44757919e-02, 1.43436760e-02,\n",
       "       1.41281566e-02, 1.40897698e-02, 1.38836753e-02, 1.38390050e-02,\n",
       "       1.38095459e-02, 1.36387499e-02, 1.35516585e-02, 1.34873423e-02,\n",
       "       1.34199697e-02, 1.33514550e-02, 1.32509939e-02, 1.31123735e-02,\n",
       "       1.30770381e-02, 1.29104028e-02, 1.28483061e-02, 1.27271836e-02,\n",
       "       1.26892643e-02, 1.26412011e-02, 1.26005358e-02, 1.24881109e-02,\n",
       "       1.22552658e-02, 1.21987633e-02, 1.20928835e-02, 1.20033371e-02,\n",
       "       1.19336772e-02, 1.18710956e-02, 1.16702215e-02, 1.15896699e-02,\n",
       "       1.14804124e-02, 1.14034896e-02, 1.13519235e-02, 1.12813674e-02,\n",
       "       1.11690673e-02, 1.11360447e-02, 1.09908046e-02, 1.08353932e-02,\n",
       "       1.07600967e-02, 1.07351031e-02, 1.06565543e-02, 1.05446595e-02,\n",
       "       1.04558732e-02, 1.03937994e-02, 1.02885627e-02, 1.02305798e-02,\n",
       "       1.01750345e-02, 1.01463588e-02, 1.00474585e-02, 9.94924145e-03,\n",
       "       9.86685909e-03, 9.76969410e-03, 9.75429029e-03, 9.72271769e-03,\n",
       "       9.65336731e-03, 9.62882776e-03, 9.57968503e-03, 9.48567831e-03,\n",
       "       9.33242808e-03, 9.27466401e-03, 9.23444596e-03, 9.16200072e-03,\n",
       "       9.11140172e-03, 9.05595682e-03, 9.03783629e-03, 8.91336244e-03,\n",
       "       8.87938034e-03, 8.85621230e-03, 8.78101910e-03, 8.67676971e-03,\n",
       "       8.65600407e-03, 8.60989307e-03, 8.56858457e-03, 8.47284385e-03,\n",
       "       8.46450176e-03, 8.38905227e-03, 8.36507168e-03, 8.30471449e-03,\n",
       "       8.20810535e-03, 8.15685564e-03, 8.11328570e-03, 8.01858509e-03,\n",
       "       7.96841678e-03, 7.94309072e-03, 7.87103112e-03, 7.83149167e-03,\n",
       "       7.74746257e-03, 7.70631902e-03, 7.57701184e-03, 7.57396483e-03,\n",
       "       7.54935181e-03, 7.49216278e-03, 7.46948053e-03, 7.41072410e-03,\n",
       "       7.30608893e-03, 7.25884106e-03, 7.20249393e-03, 7.15352395e-03,\n",
       "       7.13808292e-03, 7.09815525e-03, 7.04516279e-03, 6.98640150e-03,\n",
       "       6.90534142e-03, 6.85989869e-03, 6.78819832e-03, 6.75216282e-03,\n",
       "       6.70574752e-03, 6.68647454e-03, 6.64826893e-03, 6.60958957e-03,\n",
       "       6.55019655e-03, 6.47163266e-03, 6.46039363e-03, 6.40006682e-03,\n",
       "       6.38319951e-03, 6.34186758e-03, 6.28559738e-03, 6.24452752e-03,\n",
       "       6.19151551e-03, 6.11263733e-03, 6.09250531e-03, 6.05028551e-03,\n",
       "       6.00090968e-03, 5.97782020e-03, 5.90210587e-03, 5.82510513e-03,\n",
       "       5.80731881e-03, 5.77501520e-03, 5.76595177e-03, 5.72894470e-03,\n",
       "       5.69308193e-03, 5.64655707e-03, 5.63633080e-03, 5.60233289e-03,\n",
       "       5.51714053e-03, 5.51340561e-03, 5.44336190e-03, 5.39816819e-03,\n",
       "       5.35371113e-03, 5.31272829e-03, 5.26897694e-03, 5.25187263e-03,\n",
       "       5.20641357e-03, 5.12361977e-03, 5.12189499e-03, 5.08560809e-03,\n",
       "       4.99668754e-03, 4.97120563e-03, 4.91397561e-03, 4.88910476e-03,\n",
       "       4.83682377e-03, 4.81019815e-03, 4.77968017e-03, 4.75488308e-03,\n",
       "       4.73296305e-03, 4.69940682e-03, 4.66440733e-03, 4.62269708e-03,\n",
       "       4.60138854e-03, 4.53659308e-03, 4.49168623e-03, 4.49137535e-03,\n",
       "       4.46992757e-03, 4.42753022e-03, 4.36960964e-03, 4.35744459e-03,\n",
       "       4.33927175e-03, 4.27055195e-03, 4.20984457e-03, 4.17246841e-03,\n",
       "       4.13986898e-03, 4.12177842e-03, 4.09102611e-03, 4.04574823e-03,\n",
       "       4.00081781e-03, 3.95759189e-03, 3.92090818e-03, 3.86470317e-03,\n",
       "       3.85639460e-03, 3.83206152e-03, 3.81564071e-03, 3.78990559e-03,\n",
       "       3.76474628e-03, 3.67344167e-03, 3.65493598e-03, 3.62084627e-03,\n",
       "       3.58460199e-03, 3.54005649e-03, 3.51268715e-03, 3.47800091e-03,\n",
       "       3.43346195e-03, 3.37424364e-03, 3.32303173e-03, 3.30984659e-03,\n",
       "       3.23900695e-03, 3.20953556e-03, 3.18402404e-03, 3.14193139e-03,\n",
       "       3.10599729e-03, 3.07754157e-03, 3.05028483e-03, 3.03755676e-03,\n",
       "       2.97255436e-03, 2.96280025e-03, 2.90592012e-03, 2.87686278e-03,\n",
       "       2.85011036e-03, 2.84303569e-03, 2.80639372e-03, 2.78667266e-03,\n",
       "       2.75689369e-03, 2.71344328e-03, 2.70751520e-03, 2.67516394e-03,\n",
       "       2.64543638e-03, 2.60673137e-03, 2.60199927e-03, 2.54917959e-03,\n",
       "       2.49406621e-03, 2.47480038e-03, 2.43653279e-03, 2.42683838e-03,\n",
       "       2.40761053e-03, 2.34363203e-03, 2.30383913e-03, 2.26660237e-03,\n",
       "       2.25034246e-03, 2.24144327e-03, 2.20906937e-03, 2.17189229e-03,\n",
       "       2.13926381e-03, 2.13420644e-03, 2.11805711e-03, 2.02752885e-03,\n",
       "       2.00305337e-03, 1.99053560e-03, 1.98077896e-03, 1.96685818e-03,\n",
       "       1.92795369e-03, 1.90625456e-03, 1.86674364e-03, 1.85619505e-03,\n",
       "       1.83647760e-03, 1.81905040e-03, 1.79776792e-03, 1.78132715e-03,\n",
       "       1.75445867e-03, 1.75013967e-03, 1.69788673e-03, 1.66691560e-03,\n",
       "       1.65397247e-03, 1.62851499e-03, 1.59412178e-03, 1.57545493e-03,\n",
       "       1.55604303e-03, 1.53769774e-03, 1.52603758e-03, 1.50302107e-03,\n",
       "       1.49343461e-03, 1.47374583e-03, 1.42155048e-03, 1.41099918e-03,\n",
       "       1.35532187e-03, 1.35105732e-03, 1.34268771e-03, 1.31296833e-03,\n",
       "       1.30713874e-03, 1.28845648e-03, 1.28083617e-03, 1.27019552e-03,\n",
       "       1.24819293e-03, 1.21947326e-03, 1.20038714e-03, 1.18225674e-03,\n",
       "       1.15164431e-03, 1.13041601e-03, 1.12082358e-03, 1.11666427e-03,\n",
       "       1.09812001e-03, 1.09172841e-03, 1.07324519e-03, 1.05531183e-03,\n",
       "       1.04531791e-03, 1.02931158e-03, 1.00014341e-03, 9.95544478e-04,\n",
       "       9.80879963e-04, 9.61591987e-04, 9.45675242e-04, 9.36572813e-04,\n",
       "       9.21354097e-04, 9.12850353e-04, 8.54820009e-04, 8.39564599e-04,\n",
       "       8.31254530e-04, 8.28246262e-04, 8.08785340e-04, 8.03019479e-04,\n",
       "       7.95105289e-04, 7.79964059e-04, 7.70738247e-04, 7.56866048e-04,\n",
       "       7.51416848e-04, 7.38060091e-04, 7.33334404e-04, 7.25465983e-04,\n",
       "       7.12267667e-04, 7.07452895e-04, 6.95991780e-04, 6.62665853e-04,\n",
       "       6.56492736e-04, 6.53900465e-04, 6.48051073e-04, 6.28201005e-04,\n",
       "       6.19978687e-04, 6.15948216e-04, 6.15498472e-04, 6.07528014e-04,\n",
       "       5.85401815e-04, 5.79775293e-04, 5.63901114e-04, 5.55443217e-04,\n",
       "       5.52453652e-04, 5.46195650e-04, 5.27292400e-04, 5.03802090e-04,\n",
       "       4.98741153e-04, 4.90409654e-04, 4.81585986e-04, 4.75385734e-04,\n",
       "       4.72930995e-04, 4.55285653e-04, 4.52808711e-04, 4.32942956e-04,\n",
       "       4.23849564e-04, 4.21034020e-04, 4.11048500e-04, 4.06895793e-04,\n",
       "       3.99732220e-04, 3.93310162e-04, 3.87297609e-04, 3.76944591e-04,\n",
       "       3.68210888e-04, 3.57714177e-04, 3.53958324e-04, 3.44474516e-04,\n",
       "       3.42811241e-04, 3.39852304e-04, 3.34514994e-04, 3.11738058e-04,\n",
       "       3.02981287e-04, 2.96655579e-04, 2.92832080e-04, 2.86032004e-04,\n",
       "       2.79816108e-04, 2.76839569e-04, 2.71630019e-04, 2.69109968e-04,\n",
       "       2.64068288e-04, 2.61487520e-04, 2.53138507e-04, 2.41068016e-04,\n",
       "       2.34823782e-04, 2.31449687e-04, 2.30991386e-04, 2.27861824e-04,\n",
       "       2.16513883e-04, 2.13793562e-04, 2.08367384e-04, 2.05684167e-04,\n",
       "       2.05143686e-04, 1.90447632e-04, 1.86935309e-04, 1.80936512e-04,\n",
       "       1.78140155e-04, 1.70707588e-04, 1.68545222e-04, 1.66806622e-04,\n",
       "       1.62597132e-04, 1.60973147e-04, 1.49833436e-04, 1.45745425e-04,\n",
       "       1.45412655e-04, 1.41163382e-04, 1.40094912e-04, 1.38275665e-04,\n",
       "       1.36440918e-04, 1.35252096e-04, 1.30917643e-04, 1.27810570e-04,\n",
       "       1.24262340e-04, 1.24029342e-04, 1.22346117e-04, 1.19528329e-04,\n",
       "       1.17735062e-04, 1.17283410e-04, 1.14887026e-04, 1.14439248e-04,\n",
       "       1.06969746e-04, 1.03132621e-04, 9.84604503e-05, 9.78881252e-05,\n",
       "       9.70603492e-05, 9.10207654e-05, 9.03271880e-05, 8.99789555e-05,\n",
       "       8.85497287e-05, 8.64651395e-05, 8.44355270e-05, 8.39840457e-05,\n",
       "       8.35903989e-05, 8.08468991e-05, 7.81443429e-05, 7.68100378e-05,\n",
       "       7.62175733e-05, 7.43892463e-05, 7.24851214e-05, 7.10798459e-05,\n",
       "       6.97913724e-05, 6.73850885e-05, 6.67417749e-05, 6.64061821e-05,\n",
       "       6.32064849e-05, 6.02528607e-05, 5.98225657e-05, 5.97227984e-05,\n",
       "       5.87420072e-05, 5.85012406e-05, 5.70146816e-05, 5.66485723e-05,\n",
       "       5.45020007e-05, 5.29258807e-05, 5.22574189e-05, 5.07383760e-05,\n",
       "       5.03438422e-05, 4.97241793e-05, 4.73703869e-05, 4.72199920e-05,\n",
       "       4.68646424e-05, 4.38991231e-05, 4.35538714e-05, 4.31619735e-05,\n",
       "       4.22827705e-05, 4.09356796e-05, 4.07397010e-05, 3.96738419e-05,\n",
       "       3.91234127e-05, 3.79311243e-05, 3.74910818e-05, 3.72889372e-05,\n",
       "       3.63568030e-05, 3.61171367e-05, 3.40412517e-05, 3.24475847e-05,\n",
       "       3.23348964e-05, 3.10861457e-05, 3.00029544e-05, 2.99161276e-05,\n",
       "       2.98105893e-05, 2.75504864e-05, 2.74917916e-05, 2.49988771e-05,\n",
       "       2.40673850e-05, 2.37291692e-05, 2.36435891e-05, 2.35957123e-05,\n",
       "       2.35717167e-05, 2.32833745e-05, 2.31697939e-05, 2.29078532e-05,\n",
       "       2.28105515e-05, 2.27617107e-05, 2.24697679e-05, 1.95769024e-05,\n",
       "       1.95188978e-05, 1.89406829e-05, 1.79435842e-05, 1.61460538e-05,\n",
       "       1.27265493e-05, 1.15969567e-05, 1.12549277e-05, 1.08104617e-05,\n",
       "       1.08039555e-05, 1.07654784e-05, 1.03606749e-05, 9.09085466e-06,\n",
       "       7.12266504e-06, 6.97472713e-06, 5.49005941e-06, 5.02806995e-06,\n",
       "       3.86674782e-06, 3.73836641e-06, 3.11834030e-06, 2.38848682e-06,\n",
       "       2.01542245e-06, 1.42583927e-06, 1.30012926e-06, 2.90366417e-07,\n",
       "       2.33359911e-07, 1.18265369e-07, 4.49548545e-08, 2.02302954e-08,\n",
       "       1.01891864e-30, 6.69070471e-31, 3.87424418e-31, 2.48298929e-31,\n",
       "       2.33325878e-31, 1.90058559e-31, 1.86500487e-31, 1.61010422e-31,\n",
       "       1.42227963e-31, 9.87503037e-32, 9.12539045e-32, 7.24023813e-32,\n",
       "       6.04503917e-32, 5.93587461e-32, 5.74184734e-32, 4.78964894e-32,\n",
       "       3.62573918e-32, 2.52837167e-32, 2.11934514e-32, 2.11934514e-32,\n",
       "       2.11934514e-32, 2.11934514e-32, 2.11934514e-32, 2.11934514e-32,\n",
       "       2.11934514e-32, 2.11934514e-32, 2.11934514e-32, 2.11934514e-32,\n",
       "       2.11934514e-32, 2.11934514e-32, 2.11934514e-32, 2.11934514e-32,\n",
       "       2.11934514e-32, 2.11934514e-32, 2.11934514e-32, 2.11934514e-32,\n",
       "       2.11934514e-32, 2.11934514e-32, 2.11934514e-32, 2.11934514e-32,\n",
       "       2.11934514e-32, 2.11934514e-32, 2.11934514e-32, 2.11934514e-32,\n",
       "       2.11934514e-32, 2.11934514e-32, 2.11934514e-32, 2.11934514e-32,\n",
       "       2.11934514e-32, 2.11934514e-32, 2.11934514e-32, 2.11934514e-32,\n",
       "       2.11934514e-32, 2.11934514e-32, 2.11934514e-32, 2.11934514e-32,\n",
       "       2.11934514e-32, 2.11934514e-32, 2.11934514e-32, 2.11934514e-32,\n",
       "       2.11934514e-32, 2.11934514e-32, 2.11934514e-32, 2.11934514e-32,\n",
       "       2.11934514e-32, 2.11934514e-32, 2.11934514e-32, 2.11934514e-32,\n",
       "       2.11934514e-32, 2.11934514e-32, 2.11934514e-32, 2.11934514e-32,\n",
       "       2.11934514e-32, 2.09841297e-32, 1.57246500e-32, 8.25579830e-33,\n",
       "       7.82261101e-33, 7.22440907e-33, 2.77710424e-33, 4.79244553e-34])"
      ]
     },
     "execution_count": 16,
     "metadata": {},
     "output_type": "execute_result"
    }
   ],
   "source": [
    "pca.explained_variance_  # this our eigen values of pca"
   ]
  },
  {
   "cell_type": "code",
   "execution_count": 17,
   "metadata": {},
   "outputs": [
    {
     "data": {
      "text/plain": [
       "array([9.74849587e-02, 7.15994194e-02, 6.14562512e-02, 5.37905900e-02,\n",
       "       4.89404049e-02, 4.30301914e-02, 3.27690238e-02, 2.89197264e-02,\n",
       "       2.76677718e-02, 2.34876474e-02, 2.09923040e-02, 2.05890808e-02,\n",
       "       1.70247659e-02, 1.69271060e-02, 1.58105493e-02, 1.48317296e-02,\n",
       "       1.31962823e-02, 1.28266983e-02, 1.18792248e-02, 1.15270281e-02,\n",
       "       1.07214287e-02, 1.01515377e-02, 9.64858920e-03, 9.12804956e-03,\n",
       "       8.87600858e-03, 8.38728506e-03, 8.11819333e-03, 7.77370709e-03,\n",
       "       7.40601855e-03, 6.86630755e-03, 6.57952735e-03, 6.38770013e-03,\n",
       "       5.99340176e-03, 5.88887049e-03, 5.64309817e-03, 5.40942900e-03,\n",
       "       5.09199005e-03, 4.87483066e-03, 4.75548291e-03, 4.66523779e-03,\n",
       "       4.52932253e-03, 4.44969301e-03, 4.18236591e-03, 3.97487987e-03,\n",
       "       3.84524817e-03, 3.74902645e-03, 3.60997053e-03, 3.48506575e-03,\n",
       "       3.36472931e-03, 3.20723970e-03, 3.15453096e-03, 3.09131806e-03,\n",
       "       2.93696071e-03, 2.86528720e-03, 2.80747137e-03, 2.69606405e-03,\n",
       "       2.65819541e-03, 2.56287258e-03, 2.53809889e-03, 2.46167323e-03,\n",
       "       2.39705499e-03, 2.38728988e-03, 2.27581383e-03, 2.21508645e-03,\n",
       "       2.13924228e-03, 2.06124270e-03, 2.02842134e-03, 1.95968091e-03,\n",
       "       1.93630075e-03, 1.88476913e-03, 1.86742901e-03, 1.81662130e-03,\n",
       "       1.76883649e-03, 1.72584861e-03, 1.66113646e-03, 1.63302434e-03,\n",
       "       1.60594394e-03, 1.54465605e-03, 1.46843259e-03, 1.42369717e-03,\n",
       "       1.41092416e-03, 1.40222406e-03, 1.38828888e-03, 1.35411377e-03,\n",
       "       1.32301386e-03, 1.30774262e-03, 1.29668172e-03, 1.24235094e-03,\n",
       "       1.22243767e-03, 1.19619264e-03, 1.15835190e-03, 1.13854098e-03,\n",
       "       1.12258604e-03, 1.10470384e-03, 1.08128449e-03, 1.07408022e-03,\n",
       "       1.03861285e-03, 1.03317495e-03, 1.01490483e-03, 9.99921435e-04,\n",
       "       9.74777727e-04, 9.45017754e-04, 9.38601574e-04, 9.12182566e-04,\n",
       "       9.07274785e-04, 8.88835607e-04, 8.63661699e-04, 8.44200096e-04,\n",
       "       8.35506040e-04, 8.16618142e-04, 7.87648663e-04, 7.81527842e-04,\n",
       "       7.77431675e-04, 7.71901525e-04, 7.57811451e-04, 7.50184728e-04,\n",
       "       7.34445472e-04, 7.25741935e-04, 7.15292165e-04, 7.00295608e-04,\n",
       "       6.93021262e-04, 6.85711651e-04, 6.79904596e-04, 6.65691754e-04,\n",
       "       6.56111716e-04, 6.44775072e-04, 6.35365242e-04, 6.26101336e-04,\n",
       "       6.18488971e-04, 6.05717388e-04, 6.03829878e-04, 5.91428120e-04,\n",
       "       5.85874664e-04, 5.84610647e-04, 5.75457922e-04, 5.69693214e-04,\n",
       "       5.64474393e-04, 5.53151987e-04, 5.34322386e-04, 5.25756169e-04,\n",
       "       5.21944694e-04, 5.11173593e-04, 5.05124048e-04, 4.99905015e-04,\n",
       "       4.95304533e-04, 4.92330847e-04, 4.84376501e-04, 4.76668199e-04,\n",
       "       4.74648225e-04, 4.67873334e-04, 4.65279051e-04, 4.61343721e-04,\n",
       "       4.56317888e-04, 4.51737409e-04, 4.49470068e-04, 4.41339440e-04,\n",
       "       4.38773903e-04, 4.24373742e-04, 4.20298441e-04, 4.16340781e-04,\n",
       "       4.13813731e-04, 4.07082631e-04, 3.98534735e-04, 3.94344530e-04,\n",
       "       3.94051480e-04, 3.91386883e-04, 3.81650348e-04, 3.79217149e-04,\n",
       "       3.75522826e-04, 3.73819004e-04, 3.66323841e-04, 3.63060132e-04,\n",
       "       3.59292757e-04, 3.57018584e-04, 3.53015742e-04, 3.52741594e-04,\n",
       "       3.45290322e-04, 3.43266782e-04, 3.41878181e-04, 3.39154021e-04,\n",
       "       3.34848477e-04, 3.29831063e-04, 3.25493920e-04, 3.24692133e-04,\n",
       "       3.21001983e-04, 3.20423767e-04, 3.17183415e-04, 3.16808631e-04,\n",
       "       3.10906613e-04, 3.10162507e-04, 3.06823281e-04, 3.03811995e-04,\n",
       "       2.99697438e-04, 2.98316961e-04, 2.94082802e-04, 2.93382277e-04,\n",
       "       2.92966356e-04, 2.89265895e-04, 2.84978125e-04, 2.83688000e-04,\n",
       "       2.81072674e-04, 2.76248982e-04, 2.74094314e-04, 2.71592743e-04,\n",
       "       2.67511955e-04, 2.66785114e-04, 2.62882783e-04, 2.62036966e-04,\n",
       "       2.61479168e-04, 2.58245200e-04, 2.56596154e-04, 2.55378349e-04,\n",
       "       2.54102671e-04, 2.52805368e-04, 2.50903170e-04, 2.48278439e-04,\n",
       "       2.47609375e-04, 2.44454191e-04, 2.43278410e-04, 2.40984996e-04,\n",
       "       2.40267007e-04, 2.39356946e-04, 2.38586962e-04, 2.36458234e-04,\n",
       "       2.32049389e-04, 2.30979533e-04, 2.28974734e-04, 2.27279204e-04,\n",
       "       2.25960216e-04, 2.24775254e-04, 2.20971770e-04, 2.19446553e-04,\n",
       "       2.17377797e-04, 2.15921290e-04, 2.14944903e-04, 2.13608947e-04,\n",
       "       2.11482581e-04, 2.10857309e-04, 2.08107237e-04, 2.05164572e-04,\n",
       "       2.03738858e-04, 2.03265612e-04, 2.01778318e-04, 1.99659627e-04,\n",
       "       1.97978487e-04, 1.96803140e-04, 1.94810520e-04, 1.93712632e-04,\n",
       "       1.92660901e-04, 1.92117936e-04, 1.90245290e-04, 1.88385584e-04,\n",
       "       1.86825701e-04, 1.84985914e-04, 1.84694248e-04, 1.84096432e-04,\n",
       "       1.82783305e-04, 1.82318657e-04, 1.81388156e-04, 1.79608170e-04,\n",
       "       1.76706427e-04, 1.75612684e-04, 1.74851168e-04, 1.73479442e-04,\n",
       "       1.72521367e-04, 1.71471536e-04, 1.71128430e-04, 1.68771559e-04,\n",
       "       1.68128119e-04, 1.67689440e-04, 1.66265681e-04, 1.64291754e-04,\n",
       "       1.63898563e-04, 1.63025467e-04, 1.62243304e-04, 1.60430485e-04,\n",
       "       1.60272531e-04, 1.58843920e-04, 1.58389855e-04, 1.57247012e-04,\n",
       "       1.55417750e-04, 1.54447354e-04, 1.53622371e-04, 1.51829247e-04,\n",
       "       1.50879326e-04, 1.50399786e-04, 1.49035361e-04, 1.48286695e-04,\n",
       "       1.46695632e-04, 1.45916592e-04, 1.43468204e-04, 1.43410510e-04,\n",
       "       1.42944470e-04, 1.41861615e-04, 1.41432134e-04, 1.40319601e-04,\n",
       "       1.38338368e-04, 1.37443746e-04, 1.36376831e-04, 1.35449601e-04,\n",
       "       1.35157230e-04, 1.34401213e-04, 1.33397819e-04, 1.32285193e-04,\n",
       "       1.30750347e-04, 1.29889904e-04, 1.28532282e-04, 1.27849961e-04,\n",
       "       1.26971103e-04, 1.26606176e-04, 1.25882765e-04, 1.25150384e-04,\n",
       "       1.24025797e-04, 1.22538216e-04, 1.22325409e-04, 1.21183140e-04,\n",
       "       1.20863764e-04, 1.20081157e-04, 1.19015700e-04, 1.18238055e-04,\n",
       "       1.17234291e-04, 1.15740758e-04, 1.15359565e-04, 1.14560147e-04,\n",
       "       1.13625232e-04, 1.13188041e-04, 1.11754415e-04, 1.10296432e-04,\n",
       "       1.09959654e-04, 1.09347996e-04, 1.09176382e-04, 1.08475666e-04,\n",
       "       1.07796616e-04, 1.06915684e-04, 1.06722052e-04, 1.06078313e-04,\n",
       "       1.04465224e-04, 1.04394505e-04, 1.03068250e-04, 1.02212522e-04,\n",
       "       1.01370743e-04, 1.00594746e-04, 9.97663291e-05, 9.94424647e-05,\n",
       "       9.85817125e-05, 9.70140393e-05, 9.69813812e-05, 9.62943007e-05,\n",
       "       9.46106197e-05, 9.41281283e-05, 9.30444968e-05, 9.25735755e-05,\n",
       "       9.15836523e-05, 9.10795051e-05, 9.05016572e-05, 9.00321325e-05,\n",
       "       8.96170841e-05, 8.89817079e-05, 8.83190042e-05, 8.75292345e-05,\n",
       "       8.71257645e-05, 8.58988838e-05, 8.50485875e-05, 8.50427011e-05,\n",
       "       8.46365945e-05, 8.38338149e-05, 8.27371079e-05, 8.25067666e-05,\n",
       "       8.21626700e-05, 8.08614834e-05, 7.97120093e-05, 7.90043041e-05,\n",
       "       7.83870448e-05, 7.80445060e-05, 7.74622212e-05, 7.66048995e-05,\n",
       "       7.57541569e-05, 7.49356885e-05, 7.42410946e-05, 7.31768714e-05,\n",
       "       7.30195515e-05, 7.25588127e-05, 7.22478902e-05, 7.17606040e-05,\n",
       "       7.12842210e-05, 6.95553985e-05, 6.92049994e-05, 6.85595220e-05,\n",
       "       6.78732486e-05, 6.70297943e-05, 6.65115651e-05, 6.58547925e-05,\n",
       "       6.50114621e-05, 6.38901832e-05, 6.29205026e-05, 6.26708462e-05,\n",
       "       6.13295213e-05, 6.07714902e-05, 6.02884382e-05, 5.94914278e-05,\n",
       "       5.88110275e-05, 5.82722279e-05, 5.77561305e-05, 5.75151289e-05,\n",
       "       5.62843299e-05, 5.60996390e-05, 5.50226327e-05, 5.44724417e-05,\n",
       "       5.39658934e-05, 5.38319370e-05, 5.31381333e-05, 5.27647217e-05,\n",
       "       5.22008668e-05, 5.13781476e-05, 5.12659014e-05, 5.06533411e-05,\n",
       "       5.00904596e-05, 4.93575931e-05, 4.92679923e-05, 4.82678693e-05,\n",
       "       4.72243157e-05, 4.68595235e-05, 4.61349395e-05, 4.59513791e-05,\n",
       "       4.55873060e-05, 4.43758944e-05, 4.36224291e-05, 4.29173633e-05,\n",
       "       4.26094873e-05, 4.24409842e-05, 4.18279951e-05, 4.11240595e-05,\n",
       "       4.05062500e-05, 4.04104903e-05, 4.01047082e-05, 3.83905856e-05,\n",
       "       3.79271505e-05, 3.76901308e-05, 3.75053921e-05, 3.72418067e-05,\n",
       "       3.65051630e-05, 3.60942972e-05, 3.53461711e-05, 3.51464370e-05,\n",
       "       3.47730937e-05, 3.44431154e-05, 3.40401388e-05, 3.37288382e-05,\n",
       "       3.32200924e-05, 3.31383135e-05, 3.21489216e-05, 3.15624936e-05,\n",
       "       3.13174195e-05, 3.08353906e-05, 3.01841666e-05, 2.98307160e-05,\n",
       "       2.94631582e-05, 2.91157962e-05, 2.88950149e-05, 2.84592050e-05,\n",
       "       2.82776885e-05, 2.79048880e-05, 2.69165865e-05, 2.67168010e-05,\n",
       "       2.56625697e-05, 2.55818217e-05, 2.54233459e-05, 2.48606193e-05,\n",
       "       2.47502381e-05, 2.43964956e-05, 2.42522076e-05, 2.40507305e-05,\n",
       "       2.36341187e-05, 2.30903214e-05, 2.27289319e-05, 2.23856388e-05,\n",
       "       2.18060027e-05, 2.14040519e-05, 2.12224223e-05, 2.11436672e-05,\n",
       "       2.07925379e-05, 2.06715151e-05, 2.03215414e-05, 1.99819792e-05,\n",
       "       1.97927476e-05, 1.94896731e-05, 1.89373834e-05, 1.88503042e-05,\n",
       "       1.85726365e-05, 1.82074250e-05, 1.79060467e-05, 1.77336953e-05,\n",
       "       1.74455340e-05, 1.72845184e-05, 1.61857331e-05, 1.58968769e-05,\n",
       "       1.57395285e-05, 1.56825680e-05, 1.53140819e-05, 1.52049072e-05,\n",
       "       1.50550547e-05, 1.47683605e-05, 1.45936728e-05, 1.43310073e-05,\n",
       "       1.42278286e-05, 1.39749228e-05, 1.38854435e-05, 1.37364575e-05,\n",
       "       1.34865518e-05, 1.33953857e-05, 1.31783733e-05, 1.25473579e-05,\n",
       "       1.24304720e-05, 1.23813882e-05, 1.22706319e-05, 1.18947775e-05,\n",
       "       1.17390906e-05, 1.16627750e-05, 1.16542592e-05, 1.15033412e-05,\n",
       "       1.10843890e-05, 1.09778527e-05, 1.06772804e-05, 1.05171329e-05,\n",
       "       1.04605265e-05, 1.03420333e-05, 9.98410654e-06, 9.53932531e-06,\n",
       "       9.44349815e-06, 9.28574398e-06, 9.11867077e-06, 9.00127105e-06,\n",
       "       8.95479139e-06, 8.62068268e-06, 8.57378261e-06, 8.19763114e-06,\n",
       "       8.02545077e-06, 7.97213938e-06, 7.78306689e-06, 7.70443676e-06,\n",
       "       7.56879688e-06, 7.44719733e-06, 7.33335165e-06, 7.13732070e-06,\n",
       "       6.97195093e-06, 6.77319918e-06, 6.70208335e-06, 6.52251060e-06,\n",
       "       6.49101704e-06, 6.43499055e-06, 6.33393035e-06, 5.90265663e-06,\n",
       "       5.73685009e-06, 5.61707490e-06, 5.54467821e-06, 5.41592103e-06,\n",
       "       5.29822510e-06, 5.24186532e-06, 5.14322422e-06, 5.09550790e-06,\n",
       "       5.00004537e-06, 4.95117938e-06, 4.79309359e-06, 4.56454285e-06,\n",
       "       4.44631036e-06, 4.38242298e-06, 4.37374521e-06, 4.31448799e-06,\n",
       "       4.09961850e-06, 4.04811012e-06, 3.94536723e-06, 3.89456142e-06,\n",
       "       3.88432759e-06, 3.60606268e-06, 3.53955801e-06, 3.42597278e-06,\n",
       "       3.37302469e-06, 3.23229151e-06, 3.19134782e-06, 3.15842800e-06,\n",
       "       3.07872271e-06, 3.04797309e-06, 2.83704636e-06, 2.75964124e-06,\n",
       "       2.75334034e-06, 2.67288177e-06, 2.65265065e-06, 2.61820382e-06,\n",
       "       2.58346348e-06, 2.56095354e-06, 2.47888210e-06, 2.42005071e-06,\n",
       "       2.35286616e-06, 2.34845440e-06, 2.31658310e-06, 2.26322923e-06,\n",
       "       2.22927432e-06, 2.22072242e-06, 2.17534770e-06, 2.16686917e-06,\n",
       "       2.02543663e-06, 1.95278194e-06, 1.86431594e-06, 1.85347915e-06,\n",
       "       1.83780549e-06, 1.72344797e-06, 1.71031532e-06, 1.70372165e-06,\n",
       "       1.67665971e-06, 1.63718871e-06, 1.59875867e-06, 1.59021002e-06,\n",
       "       1.58275645e-06, 1.53080919e-06, 1.47963719e-06, 1.45437257e-06,\n",
       "       1.44315445e-06, 1.40853568e-06, 1.37248171e-06, 1.34587328e-06,\n",
       "       1.32147647e-06, 1.27591428e-06, 1.26373335e-06, 1.25737901e-06,\n",
       "       1.19679381e-06, 1.14086791e-06, 1.13272042e-06, 1.13083136e-06,\n",
       "       1.11226040e-06, 1.10770157e-06, 1.07955407e-06, 1.07262191e-06,\n",
       "       1.03197729e-06, 1.00213398e-06, 9.89476877e-07, 9.60714304e-07,\n",
       "       9.53243938e-07, 9.41510827e-07, 8.96942550e-07, 8.94094871e-07,\n",
       "       8.87366446e-07, 8.31215322e-07, 8.24678096e-07, 8.17257638e-07,\n",
       "       8.00610221e-07, 7.75103503e-07, 7.71392714e-07, 7.51211025e-07,\n",
       "       7.40788831e-07, 7.18213246e-07, 7.09881187e-07, 7.06053646e-07,\n",
       "       6.88403995e-07, 6.83865992e-07, 6.44559800e-07, 6.14384243e-07,\n",
       "       6.12250527e-07, 5.88605847e-07, 5.68095981e-07, 5.66451945e-07,\n",
       "       5.64453611e-07, 5.21659313e-07, 5.20547947e-07, 4.73345438e-07,\n",
       "       4.55707944e-07, 4.49303942e-07, 4.47683511e-07, 4.46776979e-07,\n",
       "       4.46322630e-07, 4.40862966e-07, 4.38712356e-07, 4.33752596e-07,\n",
       "       4.31910219e-07, 4.30985435e-07, 4.25457594e-07, 3.70682148e-07,\n",
       "       3.69583850e-07, 3.58635542e-07, 3.39755810e-07, 3.05720169e-07,\n",
       "       2.40972985e-07, 2.19584526e-07, 2.13108319e-07, 2.04692502e-07,\n",
       "       2.04569310e-07, 2.03840760e-07, 1.96175940e-07, 1.72132315e-07,\n",
       "       1.34865298e-07, 1.32064143e-07, 1.03952452e-07, 9.52048352e-08,\n",
       "       7.32155863e-08, 7.07847268e-08, 5.90447384e-08, 4.52252051e-08,\n",
       "       3.81613550e-08, 2.69977932e-08, 2.46175160e-08, 5.49799170e-09,\n",
       "       4.41859245e-09, 2.23931549e-09, 8.51205244e-10, 3.83053927e-10,\n",
       "       1.92928862e-32, 1.26686272e-32, 7.33575273e-33, 4.70145779e-33,\n",
       "       4.41794803e-33, 3.59869571e-33, 3.53132481e-33, 3.04867888e-33,\n",
       "       2.69303926e-33, 1.86980422e-33, 1.72786239e-33, 1.37091505e-33,\n",
       "       1.14460810e-33, 1.12393815e-33, 1.08719973e-33, 9.06904126e-34,\n",
       "       6.86521676e-34, 4.78738782e-34, 4.01290966e-34, 4.01290966e-34,\n",
       "       4.01290966e-34, 4.01290966e-34, 4.01290966e-34, 4.01290966e-34,\n",
       "       4.01290966e-34, 4.01290966e-34, 4.01290966e-34, 4.01290966e-34,\n",
       "       4.01290966e-34, 4.01290966e-34, 4.01290966e-34, 4.01290966e-34,\n",
       "       4.01290966e-34, 4.01290966e-34, 4.01290966e-34, 4.01290966e-34,\n",
       "       4.01290966e-34, 4.01290966e-34, 4.01290966e-34, 4.01290966e-34,\n",
       "       4.01290966e-34, 4.01290966e-34, 4.01290966e-34, 4.01290966e-34,\n",
       "       4.01290966e-34, 4.01290966e-34, 4.01290966e-34, 4.01290966e-34,\n",
       "       4.01290966e-34, 4.01290966e-34, 4.01290966e-34, 4.01290966e-34,\n",
       "       4.01290966e-34, 4.01290966e-34, 4.01290966e-34, 4.01290966e-34,\n",
       "       4.01290966e-34, 4.01290966e-34, 4.01290966e-34, 4.01290966e-34,\n",
       "       4.01290966e-34, 4.01290966e-34, 4.01290966e-34, 4.01290966e-34,\n",
       "       4.01290966e-34, 4.01290966e-34, 4.01290966e-34, 4.01290966e-34,\n",
       "       4.01290966e-34, 4.01290966e-34, 4.01290966e-34, 4.01290966e-34,\n",
       "       4.01290966e-34, 3.97327529e-34, 2.97741027e-34, 1.56320800e-34,\n",
       "       1.48118542e-34, 1.36791787e-34, 5.25835468e-35, 9.07433651e-36])"
      ]
     },
     "execution_count": 17,
     "metadata": {},
     "output_type": "execute_result"
    }
   ],
   "source": [
    "evr=pca.explained_variance_ratio_  # this represents the % of var.\n",
    "evr"
   ]
  },
  {
   "cell_type": "code",
   "execution_count": 18,
   "metadata": {},
   "outputs": [
    {
     "data": {
      "image/png": "[encoded data removed]",
      "text/plain": [
       "<Figure size 432x288 with 1 Axes>"
      ]
     },
     "metadata": {
      "needs_background": "light"
     },
     "output_type": "display_data"
    }
   ],
   "source": [
    "plt.plot(evr,'s-')\n",
    "plt.xlabel('component number')\n",
    "plt.ylabel('Expalined var ratio')\n",
    "plt.title('Elbow method for identify no.of dominant components')\n",
    "plt.show()"
   ]
  },
  {
   "cell_type": "code",
   "execution_count": 19,
   "metadata": {},
   "outputs": [
    {
     "data": {
      "image/png": "[encoded data removed]",
      "text/plain": [
       "<Figure size 432x288 with 1 Axes>"
      ]
     },
     "metadata": {
      "needs_background": "light"
     },
     "output_type": "display_data"
    }
   ],
   "source": [
    "# applying Cummilative variance or sum:\n",
    "\n",
    "cuv= np.cumsum(evr)\n",
    "plt.plot(cuv,'s-')\n",
    "plt.xlabel('Component Number')\n",
    "plt.ylabel('Cummulative Explained variance ratio')\n",
    "plt.show()"
   ]
  },
  {
   "cell_type": "code",
   "execution_count": 20,
   "metadata": {},
   "outputs": [
    {
     "data": {
      "text/plain": [
       "(42000, 4)"
      ]
     },
     "execution_count": 20,
     "metadata": {},
     "output_type": "execute_result"
    }
   ],
   "source": [
    "#by components\n",
    "pca1= PCA(n_components=4)\n",
    "xpca1= pca1.fit_transform(x_mmx)\n",
    "xpca1.shape"
   ]
  },
  {
   "cell_type": "code",
   "execution_count": null,
   "metadata": {},
   "outputs": [],
   "source": []
  },
  {
   "cell_type": "code",
   "execution_count": 21,
   "metadata": {},
   "outputs": [
    {
     "data": {
      "text/plain": [
       "(42000, 59)"
      ]
     },
     "execution_count": 21,
     "metadata": {},
     "output_type": "execute_result"
    }
   ],
   "source": [
    "# by EVR:\n",
    "pca2=PCA(0.85)  #---> this is %, depends on how much we need.\n",
    "xpca2= pca2.fit_transform(x_mmx)\n",
    "xpca2.shape"
   ]
  },
  {
   "cell_type": "code",
   "execution_count": 22,
   "metadata": {},
   "outputs": [
    {
     "data": {
      "text/plain": [
       "59"
      ]
     },
     "execution_count": 22,
     "metadata": {},
     "output_type": "execute_result"
    }
   ],
   "source": [
    "pca2.n_components_"
   ]
  },
  {
   "cell_type": "markdown",
   "metadata": {},
   "source": [
    "## Understanding the PCA for Images:"
   ]
  },
  {
   "cell_type": "code",
   "execution_count": 23,
   "metadata": {},
   "outputs": [
    {
     "name": "stdout",
     "output_type": "stream",
     "text": [
      "Lenght of array 784\n"
     ]
    },
    {
     "data": {
      "image/png": "[encoded data removed]",
      "text/plain": [
       "<Figure size 432x288 with 1 Axes>"
      ]
     },
     "metadata": {
      "needs_background": "light"
     },
     "output_type": "display_data"
    }
   ],
   "source": [
    "# lets consider one image or one row:\n",
    "\n",
    "row= X[0]    #----> this is row image\n",
    "len(row)\n",
    "print('Lenght of array', len(row))\n",
    "# step-1 : reshape into 28 X 28 array\n",
    "img= row.reshape((28,28))\n",
    "# step-2: Visualise it\n",
    "plt.imshow(img,cmap='gray')\n",
    "plt.show()\n",
    "##---------------> black-> 0 white--> 255  grey---> [0-255]\n",
    "\n"
   ]
  },
  {
   "cell_type": "code",
   "execution_count": 24,
   "metadata": {},
   "outputs": [
    {
     "data": {
      "image/png": "[encoded data removed]",
      "text/plain": [
       "<Figure size 432x288 with 1 Axes>"
      ]
     },
     "metadata": {
      "needs_background": "light"
     },
     "output_type": "display_data"
    }
   ],
   "source": [
    "# Normalization\n",
    "\n",
    "img_norm = img/255.0   #255 is max vaue for 8 bit image\n",
    "plt.imshow(img_norm,cmap='gray')\n",
    "plt.show()"
   ]
  },
  {
   "cell_type": "markdown",
   "metadata": {},
   "source": [
    "***Generate 784 random numbers in range of [0-1] and add to img_norm and visualize your data***"
   ]
  },
  {
   "cell_type": "code",
   "execution_count": 25,
   "metadata": {},
   "outputs": [],
   "source": [
    "rand= np.random.random((28,28))\n",
    "len(rand)\n",
    "rand\n",
    "\n",
    "img_noise= img_norm + rand*0.2   #20% noise"
   ]
  },
  {
   "cell_type": "code",
   "execution_count": 26,
   "metadata": {},
   "outputs": [
    {
     "data": {
      "image/png": "[encoded data removed]",
      "text/plain": [
       "<Figure size 432x288 with 1 Axes>"
      ]
     },
     "metadata": {
      "needs_background": "light"
     },
     "output_type": "display_data"
    }
   ],
   "source": [
    "plt.imshow(img_noise,cmap='gray')\n",
    "plt.show()"
   ]
  },
  {
   "cell_type": "code",
   "execution_count": 27,
   "metadata": {},
   "outputs": [],
   "source": [
    "img_pca= pca.fit_transform(img_noise)"
   ]
  },
  {
   "cell_type": "code",
   "execution_count": 28,
   "metadata": {},
   "outputs": [
    {
     "data": {
      "image/png": "[encoded data removed]",
      "text/plain": [
       "<Figure size 720x432 with 2 Axes>"
      ]
     },
     "metadata": {
      "needs_background": "light"
     },
     "output_type": "display_data"
    }
   ],
   "source": [
    "evr1= pca.explained_variance_ratio_\n",
    "plt.figure(figsize=(10,6))\n",
    "plt.subplot(1,2,1)\n",
    "plt.plot(evr1,'s-')\n",
    "plt.xlabel('component number')\n",
    "plt.ylabel('Expalined var ratio')\n",
    "plt.title('Elbow method for identify no.of dominant components')\n",
    "#plt.show()\n",
    "# applying Cummilative variance or sum:\n",
    "plt.subplot(1,2,2)\n",
    "cuv= np.cumsum(evr1)\n",
    "plt.plot(cuv,'s-')\n",
    "plt.xlabel('Component Number')\n",
    "plt.ylabel('Cummulative Explained variance ratio')\n",
    "plt.show()"
   ]
  },
  {
   "cell_type": "markdown",
   "metadata": {},
   "source": [
    "**From above visualization, considering 7 components**"
   ]
  },
  {
   "cell_type": "code",
   "execution_count": 29,
   "metadata": {},
   "outputs": [],
   "source": [
    "pca2= PCA(0.92)   #or we can write n_components=(elbow method)\n",
    "img_pca1 = pca2.fit_transform(img_noise)"
   ]
  },
  {
   "cell_type": "code",
   "execution_count": 30,
   "metadata": {},
   "outputs": [],
   "source": [
    "img_filter= pca2.inverse_transform(img_pca1)"
   ]
  },
  {
   "cell_type": "code",
   "execution_count": 31,
   "metadata": {},
   "outputs": [],
   "source": [
    "img_0= np.maximum(img_filter,0)"
   ]
  },
  {
   "cell_type": "code",
   "execution_count": 32,
   "metadata": {},
   "outputs": [
    {
     "data": {
      "text/plain": [
       "<matplotlib.image.AxesImage at 0x115eacac8>"
      ]
     },
     "execution_count": 32,
     "metadata": {},
     "output_type": "execute_result"
    },
    {
     "data": {
      "image/png": "[encoded data removed]",
      "text/plain": [
       "<Figure size 432x288 with 1 Axes>"
      ]
     },
     "metadata": {
      "needs_background": "light"
     },
     "output_type": "display_data"
    }
   ],
   "source": [
    "plt.imshow(img_0,cmap='gray')"
   ]
  },
  {
   "cell_type": "code",
   "execution_count": 33,
   "metadata": {},
   "outputs": [],
   "source": [
    "#from above fig the noise has been reduced."
   ]
  },
  {
   "cell_type": "markdown",
   "metadata": {},
   "source": [
    "**APPLY TO ALL 784 COLUMNS**    - following code is above"
   ]
  },
  {
   "cell_type": "code",
   "execution_count": 34,
   "metadata": {},
   "outputs": [
    {
     "data": {
      "text/plain": [
       "(42000, 784)"
      ]
     },
     "execution_count": 34,
     "metadata": {},
     "output_type": "execute_result"
    }
   ],
   "source": [
    "X.shape"
   ]
  },
  {
   "cell_type": "code",
   "execution_count": 35,
   "metadata": {},
   "outputs": [],
   "source": [
    "# now save pca2 in pickle"
   ]
  },
  {
   "cell_type": "code",
   "execution_count": 36,
   "metadata": {},
   "outputs": [],
   "source": [
    "from sklearn.externals import joblib\n",
    "\n",
    "#or\n",
    "\n",
    "#pickle.dumb(pca2,open('./pca_number.pickle','wb'))"
   ]
  },
  {
   "cell_type": "code",
   "execution_count": 37,
   "metadata": {},
   "outputs": [
    {
     "data": {
      "text/plain": [
       "['pca2 image.pickle']"
      ]
     },
     "execution_count": 37,
     "metadata": {},
     "output_type": "execute_result"
    }
   ],
   "source": [
    "joblib.dump(pca2,'pca2 image.pickle')"
   ]
  },
  {
   "cell_type": "code",
   "execution_count": 38,
   "metadata": {},
   "outputs": [],
   "source": [
    "#loading the pickle file\n",
    "img = joblib.load('pca2 image.pickle')"
   ]
  },
  {
   "cell_type": "code",
   "execution_count": 39,
   "metadata": {},
   "outputs": [
    {
     "data": {
      "text/plain": [
       "PCA(copy=True, iterated_power='auto', n_components=0.92, random_state=None,\n",
       "    svd_solver='auto', tol=0.0, whiten=False)"
      ]
     },
     "execution_count": 39,
     "metadata": {},
     "output_type": "execute_result"
    }
   ],
   "source": [
    "img"
   ]
  },
  {
   "cell_type": "code",
   "execution_count": 40,
   "metadata": {},
   "outputs": [],
   "source": [
    "# now split the X into training and testing"
   ]
  },
  {
   "cell_type": "code",
   "execution_count": 41,
   "metadata": {},
   "outputs": [],
   "source": [
    "from sklearn.model_selection import train_test_split"
   ]
  },
  {
   "cell_type": "code",
   "execution_count": 42,
   "metadata": {},
   "outputs": [],
   "source": [
    "x_train,x_test,y_train,y_test= train_test_split(xpca2,Y,test_size=0.2)"
   ]
  },
  {
   "cell_type": "code",
   "execution_count": 43,
   "metadata": {},
   "outputs": [
    {
     "data": {
      "text/plain": [
       "((33600, 59), (8400, 59), (33600,), (8400,))"
      ]
     },
     "execution_count": 43,
     "metadata": {},
     "output_type": "execute_result"
    }
   ],
   "source": [
    "x_train.shape,x_test.shape,y_train.shape,y_test.shape"
   ]
  },
  {
   "cell_type": "code",
   "execution_count": 44,
   "metadata": {},
   "outputs": [],
   "source": [
    "from sklearn.linear_model import LogisticRegression"
   ]
  },
  {
   "cell_type": "code",
   "execution_count": 45,
   "metadata": {},
   "outputs": [],
   "source": [
    "model= LogisticRegression()"
   ]
  },
  {
   "cell_type": "code",
   "execution_count": 46,
   "metadata": {},
   "outputs": [
    {
     "name": "stdout",
     "output_type": "stream",
     "text": [
      "Model Trained Successfully\n"
     ]
    }
   ],
   "source": [
    "model.fit(x_train,y_train)\n",
    "print('Model Trained Successfully')"
   ]
  },
  {
   "cell_type": "markdown",
   "metadata": {},
   "source": [
    "# check statistical evaluation:\n",
    "# do confusion matrix\n",
    "# kappa score should be more than 60% we have to consider our model, if not search for another model\n",
    "# roc\n",
    "# AOC"
   ]
  },
  {
   "cell_type": "code",
   "execution_count": 47,
   "metadata": {},
   "outputs": [],
   "source": [
    "#we have to take mle------->\n",
    "# this is default ---> but dont consider this\n",
    "y_pred = model.predict(x_test)  #threshold=0.5-----> coz the data is balanced data"
   ]
  },
  {
   "cell_type": "code",
   "execution_count": null,
   "metadata": {},
   "outputs": [],
   "source": []
  },
  {
   "cell_type": "code",
   "execution_count": 48,
   "metadata": {},
   "outputs": [],
   "source": [
    "from sklearn.metrics import classification_report, confusion_matrix"
   ]
  },
  {
   "cell_type": "code",
   "execution_count": 51,
   "metadata": {},
   "outputs": [],
   "source": [
    "cm= confusion_matrix(y_test,y_pred)\n",
    "#plt.figure(figsize=(10,5))\n",
    "\n",
    "#sns.heatmap(cm,annot=True,fmt='0.2f',xticklabels=['class-0','class-1'],yticklabels=['class-0','class-1'], cbar=False)\n",
    "#plt.xlabel('Predicted Values')\n",
    "#plt.ylabel('True Values')\n",
    "#plt.show()"
   ]
  },
  {
   "cell_type": "code",
   "execution_count": 52,
   "metadata": {},
   "outputs": [
    {
     "name": "stdout",
     "output_type": "stream",
     "text": [
      "[[874   0   2   4   1   2   9   1   5   1]\n",
      " [  0 869   3   2   0   6   0   2  10   0]\n",
      " [  5  12 755  15  19   6  12  17  24   5]\n",
      " [  2  10  18 752   2  30   3  12  16  13]\n",
      " [  1   4   8   1 728   5   5   3   6  36]\n",
      " [ 12   7   4  33  13 655  21   4  26  11]\n",
      " [  3   2   5   0   7  11 756   1   4   0]\n",
      " [  1  14  10   2  11   1   3 794   1  29]\n",
      " [  9  12   7  19   5  38   4   5 718  15]\n",
      " [ 11   4   2  17  34  10   0  30  10 693]]\n"
     ]
    }
   ],
   "source": [
    "print(cm)"
   ]
  },
  {
   "cell_type": "code",
   "execution_count": 53,
   "metadata": {},
   "outputs": [
    {
     "name": "stdout",
     "output_type": "stream",
     "text": [
      "              precision    recall  f1-score   support\n",
      "\n",
      "           0       0.95      0.97      0.96       899\n",
      "           1       0.93      0.97      0.95       892\n",
      "           2       0.93      0.87      0.90       870\n",
      "           3       0.89      0.88      0.88       858\n",
      "           4       0.89      0.91      0.90       797\n",
      "           5       0.86      0.83      0.85       786\n",
      "           6       0.93      0.96      0.94       789\n",
      "           7       0.91      0.92      0.92       866\n",
      "           8       0.88      0.86      0.87       832\n",
      "           9       0.86      0.85      0.86       811\n",
      "\n",
      "    accuracy                           0.90      8400\n",
      "   macro avg       0.90      0.90      0.90      8400\n",
      "weighted avg       0.90      0.90      0.90      8400\n",
      "\n"
     ]
    }
   ],
   "source": [
    "cr= classification_report(y_test,y_pred)\n",
    "print(cr)"
   ]
  },
  {
   "cell_type": "code",
   "execution_count": 54,
   "metadata": {},
   "outputs": [],
   "source": [
    "from sklearn import metrics"
   ]
  },
  {
   "cell_type": "code",
   "execution_count": 55,
   "metadata": {},
   "outputs": [
    {
     "data": {
      "text/plain": [
       "0.8933574802677315"
      ]
     },
     "execution_count": 55,
     "metadata": {},
     "output_type": "execute_result"
    }
   ],
   "source": [
    "#kappa\n",
    "metrics.cohen_kappa_score(y_test,y_pred)"
   ]
  },
  {
   "cell_type": "code",
   "execution_count": 56,
   "metadata": {},
   "outputs": [
    {
     "data": {
      "text/plain": [
       "array([[1.58301184e-03, 8.08698764e-10, 7.51562063e-02, ...,\n",
       "        7.04749628e-03, 2.83758669e-03, 7.84090030e-07],\n",
       "       [2.00752619e-04, 1.75793600e-04, 2.30646427e-02, ...,\n",
       "        1.23081107e-06, 6.33326334e-01, 9.77181710e-03],\n",
       "       [1.66692104e-04, 6.93035509e-06, 3.64012380e-02, ...,\n",
       "        9.48551923e-02, 7.73112544e-04, 1.65058111e-02],\n",
       "       ...,\n",
       "       [7.24621696e-07, 8.16385484e-05, 5.36235582e-04, ...,\n",
       "        9.33511507e-01, 2.05323250e-02, 4.35476196e-02],\n",
       "       [1.17927709e-05, 2.96753677e-06, 2.43835667e-03, ...,\n",
       "        2.58047855e-02, 2.14933559e-02, 7.32357414e-01],\n",
       "       [7.19780012e-01, 2.73118673e-06, 5.02948324e-03, ...,\n",
       "        5.63181911e-03, 9.07622545e-02, 5.17887164e-04]])"
      ]
     },
     "execution_count": 56,
     "metadata": {},
     "output_type": "execute_result"
    }
   ],
   "source": [
    "#ROC: AOC\n",
    "#probabilities\n",
    "\n",
    "y_pred_prob= model.predict_proba(x_test)\n",
    "y_pred_prob\n"
   ]
  },
  {
   "cell_type": "code",
   "execution_count": 57,
   "metadata": {},
   "outputs": [
    {
     "data": {
      "text/plain": [
       "array([1.58301184e-03, 8.08698764e-10, 7.51562063e-02, 4.97901741e-05,\n",
       "       1.17505984e-01, 2.30427233e-07, 7.95818909e-01, 7.04749628e-03,\n",
       "       2.83758669e-03, 7.84090030e-07])"
      ]
     },
     "execution_count": 57,
     "metadata": {},
     "output_type": "execute_result"
    }
   ],
   "source": [
    "y_pred_prob[0]"
   ]
  },
  {
   "cell_type": "code",
   "execution_count": 58,
   "metadata": {},
   "outputs": [
    {
     "data": {
      "text/plain": [
       "<BarContainer object of 10 artists>"
      ]
     },
     "execution_count": 58,
     "metadata": {},
     "output_type": "execute_result"
    },
    {
     "data": {
      "image/png": "[encoded data removed]",
      "text/plain": [
       "<Figure size 432x288 with 1 Axes>"
      ]
     },
     "metadata": {
      "needs_background": "light"
     },
     "output_type": "display_data"
    }
   ],
   "source": [
    "plt.bar(np.arange(0,10),y_pred_prob[0])"
   ]
  },
  {
   "cell_type": "code",
   "execution_count": 59,
   "metadata": {},
   "outputs": [],
   "source": [
    "#ROC: true +ve rate AOC"
   ]
  },
  {
   "cell_type": "code",
   "execution_count": 60,
   "metadata": {},
   "outputs": [],
   "source": [
    "from pandas_ml import ConfusionMatrix"
   ]
  },
  {
   "cell_type": "code",
   "execution_count": 61,
   "metadata": {},
   "outputs": [
    {
     "data": {
      "text/plain": [
       "Predicted    0    1    2    3    4    5    6    7    8    9  __all__\n",
       "Actual                                                              \n",
       "0          874    0    2    4    1    2    9    1    5    1      899\n",
       "1            0  869    3    2    0    6    0    2   10    0      892\n",
       "2            5   12  755   15   19    6   12   17   24    5      870\n",
       "3            2   10   18  752    2   30    3   12   16   13      858\n",
       "4            1    4    8    1  728    5    5    3    6   36      797\n",
       "5           12    7    4   33   13  655   21    4   26   11      786\n",
       "6            3    2    5    0    7   11  756    1    4    0      789\n",
       "7            1   14   10    2   11    1    3  794    1   29      866\n",
       "8            9   12    7   19    5   38    4    5  718   15      832\n",
       "9           11    4    2   17   34   10    0   30   10  693      811\n",
       "__all__    918  934  814  845  820  764  813  869  820  803     8400"
      ]
     },
     "execution_count": 61,
     "metadata": {},
     "output_type": "execute_result"
    }
   ],
   "source": [
    "cm_p= ConfusionMatrix(y_test,y_pred)\n",
    "cm_p"
   ]
  },
  {
   "cell_type": "code",
   "execution_count": 62,
   "metadata": {},
   "outputs": [
    {
     "data": {
      "text/html": [
       "<div>\n",
       "<style scoped>\n",
       "    .dataframe tbody tr th:only-of-type {\n",
       "        vertical-align: middle;\n",
       "    }\n",
       "\n",
       "    .dataframe tbody tr th {\n",
       "        vertical-align: top;\n",
       "    }\n",
       "\n",
       "    .dataframe thead th {\n",
       "        text-align: right;\n",
       "    }\n",
       "</style>\n",
       "<table border=\"1\" class=\"dataframe\">\n",
       "  <thead>\n",
       "    <tr style=\"text-align: right;\">\n",
       "      <th></th>\n",
       "      <th>precision</th>\n",
       "      <th>recall</th>\n",
       "      <th>F1_score</th>\n",
       "      <th>support</th>\n",
       "    </tr>\n",
       "    <tr>\n",
       "      <th>Classes</th>\n",
       "      <th></th>\n",
       "      <th></th>\n",
       "      <th></th>\n",
       "      <th></th>\n",
       "    </tr>\n",
       "  </thead>\n",
       "  <tbody>\n",
       "    <tr>\n",
       "      <th>0</th>\n",
       "      <td>0.95207</td>\n",
       "      <td>0.972191</td>\n",
       "      <td>0.962025</td>\n",
       "      <td>899</td>\n",
       "    </tr>\n",
       "    <tr>\n",
       "      <th>1</th>\n",
       "      <td>0.930407</td>\n",
       "      <td>0.974215</td>\n",
       "      <td>0.951807</td>\n",
       "      <td>892</td>\n",
       "    </tr>\n",
       "    <tr>\n",
       "      <th>2</th>\n",
       "      <td>0.927518</td>\n",
       "      <td>0.867816</td>\n",
       "      <td>0.896675</td>\n",
       "      <td>870</td>\n",
       "    </tr>\n",
       "    <tr>\n",
       "      <th>3</th>\n",
       "      <td>0.889941</td>\n",
       "      <td>0.876457</td>\n",
       "      <td>0.883147</td>\n",
       "      <td>858</td>\n",
       "    </tr>\n",
       "    <tr>\n",
       "      <th>4</th>\n",
       "      <td>0.887805</td>\n",
       "      <td>0.913425</td>\n",
       "      <td>0.900433</td>\n",
       "      <td>797</td>\n",
       "    </tr>\n",
       "    <tr>\n",
       "      <th>5</th>\n",
       "      <td>0.85733</td>\n",
       "      <td>0.833333</td>\n",
       "      <td>0.845161</td>\n",
       "      <td>786</td>\n",
       "    </tr>\n",
       "    <tr>\n",
       "      <th>6</th>\n",
       "      <td>0.929889</td>\n",
       "      <td>0.958175</td>\n",
       "      <td>0.94382</td>\n",
       "      <td>789</td>\n",
       "    </tr>\n",
       "    <tr>\n",
       "      <th>7</th>\n",
       "      <td>0.913694</td>\n",
       "      <td>0.916859</td>\n",
       "      <td>0.915274</td>\n",
       "      <td>866</td>\n",
       "    </tr>\n",
       "    <tr>\n",
       "      <th>8</th>\n",
       "      <td>0.87561</td>\n",
       "      <td>0.862981</td>\n",
       "      <td>0.869249</td>\n",
       "      <td>832</td>\n",
       "    </tr>\n",
       "    <tr>\n",
       "      <th>9</th>\n",
       "      <td>0.863014</td>\n",
       "      <td>0.854501</td>\n",
       "      <td>0.858736</td>\n",
       "      <td>811</td>\n",
       "    </tr>\n",
       "    <tr>\n",
       "      <th>__avg / total__</th>\n",
       "      <td>0.903707</td>\n",
       "      <td>0.904048</td>\n",
       "      <td>0.903644</td>\n",
       "      <td>8400</td>\n",
       "    </tr>\n",
       "  </tbody>\n",
       "</table>\n",
       "</div>"
      ],
      "text/plain": [
       "                precision    recall  F1_score support\n",
       "Classes                                              \n",
       "0                 0.95207  0.972191  0.962025     899\n",
       "1                0.930407  0.974215  0.951807     892\n",
       "2                0.927518  0.867816  0.896675     870\n",
       "3                0.889941  0.876457  0.883147     858\n",
       "4                0.887805  0.913425  0.900433     797\n",
       "5                 0.85733  0.833333  0.845161     786\n",
       "6                0.929889  0.958175   0.94382     789\n",
       "7                0.913694  0.916859  0.915274     866\n",
       "8                 0.87561  0.862981  0.869249     832\n",
       "9                0.863014  0.854501  0.858736     811\n",
       "__avg / total__  0.903707  0.904048  0.903644    8400"
      ]
     },
     "execution_count": 62,
     "metadata": {},
     "output_type": "execute_result"
    }
   ],
   "source": [
    "cm_p.classification_report"
   ]
  },
  {
   "cell_type": "code",
   "execution_count": 63,
   "metadata": {},
   "outputs": [
    {
     "data": {
      "text/plain": [
       "OrderedDict([('Accuracy', 0.9040476190476191),\n",
       "             ('95% CI', (0.8975487508716464, 0.9102646240841196)),\n",
       "             ('No Information Rate', 'ToDo'),\n",
       "             ('P-Value [Acc > NIR]', 0.0),\n",
       "             ('Kappa', 0.8933574802677317),\n",
       "             (\"Mcnemar's Test P-Value\", 'ToDo')])"
      ]
     },
     "execution_count": 63,
     "metadata": {},
     "output_type": "execute_result"
    }
   ],
   "source": [
    "cm_p.stats_overall"
   ]
  },
  {
   "cell_type": "code",
   "execution_count": 64,
   "metadata": {
    "scrolled": true
   },
   "outputs": [],
   "source": [
    "#ROC: true +ve rate AOC"
   ]
  },
  {
   "cell_type": "code",
   "execution_count": 65,
   "metadata": {},
   "outputs": [],
   "source": [
    "from sklearn.preprocessing import OneHotEncoder\n",
    "ohe= OneHotEncoder()"
   ]
  },
  {
   "cell_type": "code",
   "execution_count": 66,
   "metadata": {},
   "outputs": [
    {
     "data": {
      "text/plain": [
       "array([[0., 0., 0., ..., 0., 0., 0.],\n",
       "       [0., 0., 0., ..., 0., 1., 0.],\n",
       "       [0., 0., 0., ..., 0., 0., 0.],\n",
       "       ...,\n",
       "       [0., 0., 0., ..., 1., 0., 0.],\n",
       "       [0., 0., 0., ..., 0., 0., 1.],\n",
       "       [0., 0., 0., ..., 0., 0., 0.]])"
      ]
     },
     "execution_count": 66,
     "metadata": {},
     "output_type": "execute_result"
    }
   ],
   "source": [
    "y_test_ohe= ohe.fit_transform(y_test.reshape(-1,1)).toarray()\n",
    "y_test_ohe"
   ]
  },
  {
   "cell_type": "code",
   "execution_count": 67,
   "metadata": {},
   "outputs": [],
   "source": [
    "#roc for 0:\n",
    "fpr,tpr,proba=  metrics.roc_curve(y_test_ohe[:,0],y_pred_prob[:,0])"
   ]
  },
  {
   "cell_type": "code",
   "execution_count": 74,
   "metadata": {},
   "outputs": [
    {
     "ename": "SyntaxError",
     "evalue": "invalid syntax (<ipython-input-74-55542b164e34>, line 3)",
     "output_type": "error",
     "traceback": [
      "\u001b[1;36m  File \u001b[1;32m\"<ipython-input-74-55542b164e34>\"\u001b[1;36m, line \u001b[1;32m3\u001b[0m\n\u001b[1;33m    fpr,tpr,proba = metrics.roc_curve(y_test_ohe[:,i],y_pred_prob[:,i])\u001b[0m\n\u001b[1;37m      ^\u001b[0m\n\u001b[1;31mSyntaxError\u001b[0m\u001b[1;31m:\u001b[0m invalid syntax\n"
     ]
    }
   ],
   "source": [
    "for i in range(10):\n",
    "    plt.figure(figsize=(10,5)\n",
    "    fpr,tpr,proba = metrics.roc_curve(y_test_ohe[:,i],y_pred_prob[:,i])\n",
    "    area= metrics.auc(fpr,tpr)\n",
    "    plt.legend([\"AUC =%0.4f\"%area])\n",
    "    plt.plot(fpr,tpr)\n",
    "    plt.title('ROC FOR CLASS {}'.format(i))\n",
    "    for i in range(len(fpr)):\n",
    "        if i %20==1:\n",
    "            plt.text(fpr[i],tpr[i],'%0.2f'%proba[i])\n",
    "    plt.plot([0,1],[0,1],'b-')\n",
    "    plt.show()"
   ]
  },
  {
   "cell_type": "code",
   "execution_count": 71,
   "metadata": {},
   "outputs": [
    {
     "ename": "SyntaxError",
     "evalue": "invalid syntax (<ipython-input-71-ae02203dcc7e>, line 3)",
     "output_type": "error",
     "traceback": [
      "\u001b[1;36m  File \u001b[1;32m\"<ipython-input-71-ae02203dcc7e>\"\u001b[1;36m, line \u001b[1;32m3\u001b[0m\n\u001b[1;33m    fpr,tpr, proba = metrics.roc_curve(y_test_ohe[:,i],y_pred_prob[:,i])\u001b[0m\n\u001b[1;37m      ^\u001b[0m\n\u001b[1;31mSyntaxError\u001b[0m\u001b[1;31m:\u001b[0m invalid syntax\n"
     ]
    }
   ],
   "source": [
    "for i in range(10):\n",
    "    plt.figure(figsize=(10,5)\n",
    "    fpr,tpr, proba = metrics.roc_curve(y_test_ohe[:,i],y_pred_prob[:,i])\n",
    "    area= metrics.auc(fpr,tpr)\n",
    "    plt.legend([\"AUC =%0.4f\"%area])\n",
    "    plt.plot(fpr,tpr)\n",
    "    plt.title('ROC FOR CLASS {}'.format(i))\n",
    "    for i in range(len(fpr)):\n",
    "        if i %20==1:\n",
    "            plt.text(fpr[i],tpr[i],'%0.2f'%proba[i])\n",
    "    plt.plot([0,1],[0,1],'b-')\n",
    "    plt.show()"
   ]
  },
  {
   "cell_type": "code",
   "execution_count": null,
   "metadata": {},
   "outputs": [],
   "source": []
  },
  {
   "cell_type": "code",
   "execution_count": null,
   "metadata": {},
   "outputs": [],
   "source": []
  },
  {
   "cell_type": "code",
   "execution_count": null,
   "metadata": {},
   "outputs": [],
   "source": [
    "#save model"
   ]
  },
  {
   "cell_type": "code",
   "execution_count": 72,
   "metadata": {},
   "outputs": [],
   "source": [
    "#pickle.dump(model,open('model_number_class.pickle','wb'))"
   ]
  },
  {
   "cell_type": "code",
   "execution_count": null,
   "metadata": {},
   "outputs": [],
   "source": []
  },
  {
   "cell_type": "code",
   "execution_count": 73,
   "metadata": {},
   "outputs": [],
   "source": [
    "#real time testing:"
   ]
  },
  {
   "cell_type": "markdown",
   "metadata": {},
   "source": [
    "## how to pass the google imge or taken image:   and only with saved pca and model\n",
    "- Convert to gray scale\n",
    "- Not operation(binary image)\n",
    "- Resize\n",
    "- Flattening\n",
    "- Normalise"
   ]
  },
  {
   "cell_type": "markdown",
   "metadata": {},
   "source": [
    "# take a new file and write the code as below:\n",
    "\n",
    "\n",
    "import numpy as np\n",
    "import cv2\n",
    "import pickle\n",
    "import matplotlib.pyplot as plt\n",
    "% matplotlib inline\n",
    "\n",
    "\n",
    "\n",
    "\n",
    "model= pickle.load(open('model_number_class.pickle','rb')\n",
    "\n",
    "\n",
    "\n",
    "pca= pickle.load(open(pca2_num......','rb')\n",
    "\n",
    "\n",
    "\n",
    "\n",
    "\n",
    "-------------------------------------------------------------\n",
    "load data\n",
    "---------------------------------------------------------------\n",
    "img= cv2.imread('file path.jpg')\n",
    "plt.imshow(img)\n",
    "plt.show()\n",
    "\n",
    "------------------------------\n",
    "\n",
    "step 1----> convert into gray scale\n",
    "\n",
    "-------------------------------------------------------\n",
    "\n",
    "gray= cv2.cvtcolor(img,cv2.COLOR_BGR2GRAY)\n",
    "plt.imshow(gray,cmap='gray')\n",
    "plt.show()\n",
    "\n",
    "--------------------------------------------------\n",
    "\n",
    "step 2------------> bitwise not:\n",
    "\n",
    "----------------------------------------------------\n",
    "inverse= cv2.bitwise_not(gray)   ------->\n",
    "(the img should be more dark so we will take threshold)\n",
    "plt.imshow(inverse,cmap='gray')\n",
    "plt.show()\n",
    "\n",
    "---------------------------------------------------------------------------\n",
    "\n",
    "step 3---> threshold\n",
    "\n",
    "--------------------------------------------------------------------------\n",
    "\n",
    "ret,binary = cv2.threshold(inverse,152,255,cv2.THRESH_BINARY)\n",
    "plt.imshow(binary,cmap='gray')\n",
    "plt.show()\n",
    "\n"
   ]
  },
  {
   "cell_type": "markdown",
   "metadata": {},
   "source": [
    "### resize image(20X20) array:\n",
    "\n",
    "binary_re= cv2.resize(binary,(28,28))   # default technique is ----> interArea\n",
    "\n",
    "\n",
    "\n",
    "###### Flattening:\n",
    "\n",
    "flat= binary_re.flatten()\n",
    "plt.imshow(binary_re,cmap='gray')\n",
    "\n",
    "\n",
    "\n",
    "\n",
    "\n",
    "test=  flat/255.0\n",
    "\n",
    "\n",
    "\n",
    "test_pca= pca.transform(test.reshape(1,-1))  ---------------> apply to pca\n",
    "test_pca.shape\n",
    "\n",
    "\n",
    "\n",
    "\n",
    "\n",
    "##### pass to model\n",
    "\n",
    "\n",
    "model.predict(test_pca)\n",
    "\n",
    "\n",
    "\n",
    "model.predict_proba(test_pca)\n"
   ]
  },
  {
   "cell_type": "code",
   "execution_count": null,
   "metadata": {},
   "outputs": [],
   "source": []
  },
  {
   "cell_type": "code",
   "execution_count": null,
   "metadata": {},
   "outputs": [],
   "source": []
  },
  {
   "cell_type": "code",
   "execution_count": null,
   "metadata": {},
   "outputs": [],
   "source": []
  }
 ],
 "metadata": {
  "kernelspec": {
   "display_name": "Python 3",
   "language": "python",
   "name": "python3"
  },
  "language_info": {
   "codemirror_mode": {
    "name": "ipython",
    "version": 3
   },
   "file_extension": ".py",
   "mimetype": "text/x-python",
   "name": "python",
   "nbconvert_exporter": "python",
   "pygments_lexer": "ipython3",
   "version": "3.7.3"
  }
 },
 "nbformat": 4,
 "nbformat_minor": 2
}
