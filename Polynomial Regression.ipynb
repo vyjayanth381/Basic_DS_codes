{
 "cells": [
  {
   "cell_type": "code",
   "execution_count": 1,
   "metadata": {},
   "outputs": [],
   "source": [
    "import numpy as np\n",
    "import pandas as pd\n",
    "import seaborn as sns\n",
    "import matplotlib.pyplot as plt"
   ]
  },
  {
   "cell_type": "code",
   "execution_count": 3,
   "metadata": {},
   "outputs": [],
   "source": [
    "df= pd.read_csv('F:\\\\position_salaries.csv')"
   ]
  },
  {
   "cell_type": "code",
   "execution_count": 4,
   "metadata": {},
   "outputs": [
    {
     "data": {
      "text/html": [
       "<div>\n",
       "<style scoped>\n",
       "    .dataframe tbody tr th:only-of-type {\n",
       "        vertical-align: middle;\n",
       "    }\n",
       "\n",
       "    .dataframe tbody tr th {\n",
       "        vertical-align: top;\n",
       "    }\n",
       "\n",
       "    .dataframe thead th {\n",
       "        text-align: right;\n",
       "    }\n",
       "</style>\n",
       "<table border=\"1\" class=\"dataframe\">\n",
       "  <thead>\n",
       "    <tr style=\"text-align: right;\">\n",
       "      <th></th>\n",
       "      <th>Position</th>\n",
       "      <th>Level</th>\n",
       "      <th>Salary</th>\n",
       "    </tr>\n",
       "  </thead>\n",
       "  <tbody>\n",
       "    <tr>\n",
       "      <th>0</th>\n",
       "      <td>Business Analyst</td>\n",
       "      <td>1</td>\n",
       "      <td>45000</td>\n",
       "    </tr>\n",
       "    <tr>\n",
       "      <th>1</th>\n",
       "      <td>Junior Consultant</td>\n",
       "      <td>2</td>\n",
       "      <td>50000</td>\n",
       "    </tr>\n",
       "    <tr>\n",
       "      <th>2</th>\n",
       "      <td>Senior Consultant</td>\n",
       "      <td>3</td>\n",
       "      <td>60000</td>\n",
       "    </tr>\n",
       "    <tr>\n",
       "      <th>3</th>\n",
       "      <td>Manager</td>\n",
       "      <td>4</td>\n",
       "      <td>80000</td>\n",
       "    </tr>\n",
       "    <tr>\n",
       "      <th>4</th>\n",
       "      <td>Country Manager</td>\n",
       "      <td>5</td>\n",
       "      <td>110000</td>\n",
       "    </tr>\n",
       "    <tr>\n",
       "      <th>5</th>\n",
       "      <td>Region Manager</td>\n",
       "      <td>6</td>\n",
       "      <td>150000</td>\n",
       "    </tr>\n",
       "    <tr>\n",
       "      <th>6</th>\n",
       "      <td>Partner</td>\n",
       "      <td>7</td>\n",
       "      <td>200000</td>\n",
       "    </tr>\n",
       "    <tr>\n",
       "      <th>7</th>\n",
       "      <td>Senior Partner</td>\n",
       "      <td>8</td>\n",
       "      <td>300000</td>\n",
       "    </tr>\n",
       "    <tr>\n",
       "      <th>8</th>\n",
       "      <td>C-level</td>\n",
       "      <td>9</td>\n",
       "      <td>500000</td>\n",
       "    </tr>\n",
       "    <tr>\n",
       "      <th>9</th>\n",
       "      <td>CEO</td>\n",
       "      <td>10</td>\n",
       "      <td>1000000</td>\n",
       "    </tr>\n",
       "  </tbody>\n",
       "</table>\n",
       "</div>"
      ],
      "text/plain": [
       "            Position  Level   Salary\n",
       "0   Business Analyst      1    45000\n",
       "1  Junior Consultant      2    50000\n",
       "2  Senior Consultant      3    60000\n",
       "3            Manager      4    80000\n",
       "4    Country Manager      5   110000\n",
       "5     Region Manager      6   150000\n",
       "6            Partner      7   200000\n",
       "7     Senior Partner      8   300000\n",
       "8            C-level      9   500000\n",
       "9                CEO     10  1000000"
      ]
     },
     "execution_count": 4,
     "metadata": {},
     "output_type": "execute_result"
    }
   ],
   "source": [
    "df"
   ]
  },
  {
   "cell_type": "code",
   "execution_count": 5,
   "metadata": {},
   "outputs": [
    {
     "data": {
      "text/plain": [
       "[<matplotlib.lines.Line2D at 0x64ab8a2550>]"
      ]
     },
     "execution_count": 5,
     "metadata": {},
     "output_type": "execute_result"
    },
    {
     "data": {
      "image/png": "[encoded data removed]",
      "text/plain": [
       "<Figure size 432x288 with 1 Axes>"
      ]
     },
     "metadata": {
      "needs_background": "light"
     },
     "output_type": "display_data"
    }
   ],
   "source": [
    "plt.scatter(df['Level'],df['Salary'])\n",
    "plt.plot(df['Level'],df['Salary'])"
   ]
  },
  {
   "cell_type": "code",
   "execution_count": 6,
   "metadata": {},
   "outputs": [],
   "source": [
    "from sklearn.linear_model import LinearRegression"
   ]
  },
  {
   "cell_type": "code",
   "execution_count": 7,
   "metadata": {},
   "outputs": [],
   "source": [
    "X=df['Level'].values.reshape(-1,1)\n",
    "Y= df['Salary'].values.reshape(-1,1)\n",
    "reg=LinearRegression()\n",
    "model=reg.fit(X,Y)"
   ]
  },
  {
   "cell_type": "code",
   "execution_count": 9,
   "metadata": {},
   "outputs": [],
   "source": [
    "Y_pre= model.predict(X)"
   ]
  },
  {
   "cell_type": "code",
   "execution_count": 10,
   "metadata": {},
   "outputs": [
    {
     "data": {
      "text/plain": [
       "[<matplotlib.lines.Line2D at 0x64ada812e8>]"
      ]
     },
     "execution_count": 10,
     "metadata": {},
     "output_type": "execute_result"
    },
    {
     "data": {
      "image/png": "[encoded data removed]",
      "text/plain": [
       "<Figure size 432x288 with 1 Axes>"
      ]
     },
     "metadata": {
      "needs_background": "light"
     },
     "output_type": "display_data"
    }
   ],
   "source": [
    "plt.scatter(df['Level'],df['Salary'])\n",
    "plt.plot(df['Level'],Y_pre,color='red')"
   ]
  },
  {
   "cell_type": "code",
   "execution_count": 12,
   "metadata": {},
   "outputs": [],
   "source": [
    "from sklearn.preprocessing import PolynomialFeatures"
   ]
  },
  {
   "cell_type": "code",
   "execution_count": 39,
   "metadata": {},
   "outputs": [
    {
     "data": {
      "text/plain": [
       "LinearRegression(copy_X=True, fit_intercept=True, n_jobs=None, normalize=False)"
      ]
     },
     "execution_count": 39,
     "metadata": {},
     "output_type": "execute_result"
    }
   ],
   "source": [
    "#Fitting PR to the data set:\n",
    "poly_reg= PolynomialFeatures(degree=4)\n",
    "X_poly= poly_reg.fit_transform(X)\n",
    "pol_reg=LinearRegression()\n",
    "pol_reg.fit(X_poly,Y)"
   ]
  },
  {
   "cell_type": "code",
   "execution_count": 40,
   "metadata": {},
   "outputs": [
    {
     "data": {
      "image/png": "[encoded data removed]",
      "text/plain": [
       "<Figure size 432x288 with 1 Axes>"
      ]
     },
     "metadata": {
      "needs_background": "light"
     },
     "output_type": "display_data"
    }
   ],
   "source": [
    "#Visualizing the PR results:\n",
    "plt.scatter(X,Y,color='red')\n",
    "plt.plot(X,pol_reg.predict(X_poly),color='blue')\n",
    "plt.title('Poly Reg')\n",
    "plt.xlabel('Position Level')\n",
    "plt.ylabel('Salary')\n",
    "plt.show()"
   ]
  },
  {
   "cell_type": "code",
   "execution_count": 41,
   "metadata": {},
   "outputs": [
    {
     "data": {
      "text/plain": [
       "array([[132148.43750007]])"
      ]
     },
     "execution_count": 41,
     "metadata": {},
     "output_type": "execute_result"
    }
   ],
   "source": [
    "#predicting a new result with PR\n",
    "pol_reg.predict(poly_reg.fit_transform([[5.5]]))"
   ]
  },
  {
   "cell_type": "code",
   "execution_count": 42,
   "metadata": {},
   "outputs": [
    {
     "data": {
      "image/png": "[encoded data removed]",
      "text/plain": [
       "<Figure size 432x288 with 1 Axes>"
      ]
     },
     "metadata": {
      "needs_background": "light"
     },
     "output_type": "display_data"
    }
   ],
   "source": [
    "#additional feature\n",
    "#making the plot line in (Blue one) more smooth\n",
    "X_grid=np.arange(min(X),max(X),0.1)\n",
    "X_grid=X_grid.reshape(len(X_grid),1)\n",
    "plt.scatter(X,Y,color='red')\n",
    "plt.plot(X_grid,pol_reg.predict(poly_reg.fit_transform(X_grid)),'*')\n",
    "plt.title('Poly Reg')\n",
    "plt.xlabel('Position Level')\n",
    "plt.ylabel('Salary')\n",
    "plt.show()"
   ]
  },
  {
   "cell_type": "code",
   "execution_count": 43,
   "metadata": {},
   "outputs": [
    {
     "data": {
      "text/plain": [
       "array([[ 53356.64335683],\n",
       "       [ 47451.92467964],\n",
       "       [ 42551.3659675 ],\n",
       "       [ 38586.75568193],\n",
       "       [ 35492.01864811],\n",
       "       [ 33203.21605485],\n",
       "       [ 31658.5454546 ],\n",
       "       [ 30798.34076345],\n",
       "       [ 30565.0722611 ],\n",
       "       [ 30903.34659093],\n",
       "       [ 31759.90675992],\n",
       "       [ 33083.6321387 ],\n",
       "       [ 34825.53846154],\n",
       "       [ 36938.77782633],\n",
       "       [ 39378.63869463],\n",
       "       [ 42102.54589159],\n",
       "       [ 45070.06060604],\n",
       "       [ 48242.88039043],\n",
       "       [ 51584.83916082],\n",
       "       [ 55061.90719695],\n",
       "       [ 58642.19114218],\n",
       "       [ 62295.93400348],\n",
       "       [ 65995.5151515 ],\n",
       "       [ 69715.45032051],\n",
       "       [ 73432.39160839],\n",
       "       [ 77125.12747669],\n",
       "       [ 80774.58275059],\n",
       "       [ 84363.81861889],\n",
       "       [ 87878.03263405],\n",
       "       [ 91304.55871214],\n",
       "       [ 94632.86713289],\n",
       "       [ 97854.56453965],\n",
       "       [100963.39393943],\n",
       "       [103955.23470283],\n",
       "       [106828.10256414],\n",
       "       [109582.14962126],\n",
       "       [112219.66433571],\n",
       "       [114745.07153269],\n",
       "       [117164.93240099],\n",
       "       [119487.94449307],\n",
       "       [121724.94172501],\n",
       "       [123888.89437652],\n",
       "       [125994.90909098],\n",
       "       [128060.22887536],\n",
       "       [130104.23310031],\n",
       "       [132148.43750007],\n",
       "       [134216.49417257],\n",
       "       [136334.19157933],\n",
       "       [138529.45454553],\n",
       "       [140832.34425998],\n",
       "       [143275.05827513],\n",
       "       [145891.93050706],\n",
       "       [148719.4312355 ],\n",
       "       [151796.1671038 ],\n",
       "       [155162.88111894],\n",
       "       [158862.45265157],\n",
       "       [162939.89743595],\n",
       "       [167442.36756998],\n",
       "       [172419.15151519],\n",
       "       [177921.67409678],\n",
       "       [184003.49650353],\n",
       "       [190720.3162879 ],\n",
       "       [198129.96736599],\n",
       "       [206292.42001749],\n",
       "       [215269.78088578],\n",
       "       [225126.29297785],\n",
       "       [235928.33566432],\n",
       "       [247744.42467947],\n",
       "       [260645.21212118],\n",
       "       [274703.48645101],\n",
       "       [289994.17249412],\n",
       "       [306594.33143934],\n",
       "       [324583.1608391 ],\n",
       "       [344041.99460948],\n",
       "       [365054.30303022],\n",
       "       [387705.69274466],\n",
       "       [412083.90675981],\n",
       "       [438278.82444627],\n",
       "       [466382.46153834],\n",
       "       [496488.97013391],\n",
       "       [528694.6386945 ],\n",
       "       [563097.89204531],\n",
       "       [599799.29137514],\n",
       "       [638901.53423644],\n",
       "       [680509.45454529],\n",
       "       [724730.02258142],\n",
       "       [771672.34498817],\n",
       "       [821447.66477255],\n",
       "       [874169.36130518],\n",
       "       [929952.95032033]])"
      ]
     },
     "execution_count": 43,
     "metadata": {},
     "output_type": "execute_result"
    }
   ],
   "source": [
    "pol_reg.predict(poly_reg.fit_transform(X_grid))"
   ]
  },
  {
   "cell_type": "code",
   "execution_count": 44,
   "metadata": {},
   "outputs": [],
   "source": [
    "#predicting a new result with PR:\n",
    "pred= pol_reg.predict(poly_reg.fit_transform(X))"
   ]
  },
  {
   "cell_type": "code",
   "execution_count": 45,
   "metadata": {},
   "outputs": [],
   "source": [
    "from sklearn.metrics import mean_squared_error"
   ]
  },
  {
   "cell_type": "code",
   "execution_count": 46,
   "metadata": {},
   "outputs": [],
   "source": [
    "import math"
   ]
  },
  {
   "cell_type": "code",
   "execution_count": 47,
   "metadata": {},
   "outputs": [
    {
     "data": {
      "text/plain": [
       "14503.234909626897"
      ]
     },
     "execution_count": 47,
     "metadata": {},
     "output_type": "execute_result"
    }
   ],
   "source": [
    "math.sqrt(mean_squared_error(Y,pred))"
   ]
  },
  {
   "cell_type": "code",
   "execution_count": 38,
   "metadata": {
    "collapsed": true
   },
   "outputs": [
    {
     "data": {
      "text/plain": [
       "array([[118727.27272727],\n",
       "       [ 44151.51515152],\n",
       "       [  8439.39393939],\n",
       "       [ 11590.90909091],\n",
       "       [ 53606.06060606],\n",
       "       [134484.84848485],\n",
       "       [254227.27272727],\n",
       "       [412833.33333333],\n",
       "       [610303.03030303],\n",
       "       [846636.36363636]])"
      ]
     },
     "execution_count": 38,
     "metadata": {},
     "output_type": "execute_result"
    }
   ],
   "source": [
    "pred"
   ]
  },
  {
   "cell_type": "code",
   "execution_count": null,
   "metadata": {},
   "outputs": [],
   "source": []
  }
 ],
 "metadata": {
  "kernelspec": {
   "display_name": "Python 3",
   "language": "python",
   "name": "python3"
  },
  "language_info": {
   "codemirror_mode": {
    "name": "ipython",
    "version": 3
   },
   "file_extension": ".py",
   "mimetype": "text/x-python",
   "name": "python",
   "nbconvert_exporter": "python",
   "pygments_lexer": "ipython3",
   "version": "3.7.3"
  }
 },
 "nbformat": 4,
 "nbformat_minor": 2
}
