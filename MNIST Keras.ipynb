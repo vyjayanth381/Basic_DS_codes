{
 "cells": [
  {
   "cell_type": "code",
   "execution_count": 1,
   "metadata": {
    "colab": {
     "base_uri": "https://localhost:8080/",
     "height": 121
    },
    "colab_type": "code",
    "executionInfo": {
     "elapsed": 23646,
     "status": "ok",
     "timestamp": 1575700947610,
     "user": {
      "displayName": "Avinash Gunda",
      "photoUrl": "https://lh3.googleusercontent.com/a-/AAuE7mBY9e7hhYkqwoEpUT3AH_666l6dID-RzjZg06DtnL1il8c2-xfwZ9V9lfFZcvSI_UTSO2jJAS52s9OPdYsu9lj5d2xj06D4X6pRP2N3mNYz_0vdXS9fRw0ALG-dsheAJncXy3FbUeDy33T_12R0wefbFqVc2zrWsLKb_R7JpjnHWF8f0HaV7621UHuvIN_2ty1pdt6v-ZOmwHIG15srl0DNgs50_SKlgyDTftIeL8vhmM1HB229IurxQ3XCNbEc6BKdD-DncMEi5-j2ZpQr1zlo6zRB2Ln6c7C7zHKQLEzDbUkjv3cIRN2VRHPR6uVyW1B5V3PMX3X_iAIcppMOXFSXykhU5sXvfH48vEyXTTWdWqmUvtqDTx5Z9lHMEhynM7lfKAFY4sI18uG5YDycquqcyr3BA5VoD9TGSzbe92GKFyJBm57JmVez28x62PTd7LVwXH9hZXeXNLrbbwyevEoxNufZ27rt4wOz08XfethUIUB2gF5f8Gn6xxP-v_rIGbkerF5s8mCJQ5TPXm_Q9L23ost7Ya3O5Lw8Eao4OYD6Skqcz4qrNajhYFkXX8WRcLxwLQCb4yDEDCyz-e2iyAYgZzTRgYrfA4H7yx4jWYhlMjFMJYUsgB3AfE0NGNFmHL8FIKI1PUByghJwnWCVAUfYIQmVCi6ZBArSpIEuF8bwLdcH6hi6HFEp--qquz_RkfJpTJlpYUk8Z6d5kAM5Pkwv1FRSlEqY92wq4mGcrHHDVNcMlX9E5kg7-iW9tEM=s64",
      "userId": "07701713045507434863"
     },
     "user_tz": -330
    },
    "id": "pXM-ckE0uhHT",
    "outputId": "93b84d72-5766-4ae2-82d5-efc5ce2708a0"
   },
   "outputs": [
    {
     "name": "stdout",
     "output_type": "stream",
     "text": [
      "Go to this URL in a browser: https://accounts.google.com/o/oauth2/auth?client_id=947318989803-6bn6qk8qdgf4n4g3pfee6491hc0brc4i.apps.googleusercontent.com&redirect_uri=urn%3aietf%3awg%3aoauth%3a2.0%3aoob&response_type=code&scope=email%20https%3a%2f%2fwww.googleapis.com%2fauth%2fdocs.test%20https%3a%2f%2fwww.googleapis.com%2fauth%2fdrive%20https%3a%2f%2fwww.googleapis.com%2fauth%2fdrive.photos.readonly%20https%3a%2f%2fwww.googleapis.com%2fauth%2fpeopleapi.readonly\n",
      "\n",
      "Enter your authorization code:\n",
      "··········\n",
      "Mounted at /drive\n"
     ]
    }
   ],
   "source": [
    "from google.colab import drive\n",
    "drive.mount('/drive')\n",
    "import os\n",
    "os.chdir('/drive/My Drive/Deep Learning/CNN/')"
   ]
  },
  {
   "cell_type": "markdown",
   "metadata": {
    "colab_type": "text",
    "id": "ITe_SppoMN5I"
   },
   "source": [
    "#Defining a Convolutional Neural Network\n",
    "\n",
    "- The convolutional layer\n",
    "- The Pooling layer\n",
    "- The output layer\n",
    "\n",
    "In this layer, Suppose we have an image of size 6*6. We define a weight matrix which extracts certain features from the images\n",
    "\n",
    "<img src='https://s3-ap-south-1.amazonaws.com/av-blog-media/wp-content/uploads/2017/06/28010254/conv1.png'>\n",
    "\n",
    "\n",
    "<img src=\"https://s3-ap-south-1.amazonaws.com/av-blog-media/wp-content/uploads/2017/06/28011851/conv.gif\">\n",
    "\n",
    "We have initialized the weight as a 3 * 3 matrix. This weight shall now run across the image such that all the pixels are covered at least once, to give a convolved output. The value 429 above, is obtained by the adding the values obtained by element wise multiplication of the weight matrix and the highlighted 3*3 part of the input image.\n",
    "\n",
    "The 6 * 6 image is now converted into a 4 * 4 image. \n",
    "\n",
    "Let’s see how this looks like in a real image.\n",
    "\n",
    "<img src=\"https://s3-ap-south-1.amazonaws.com/av-blog-media/wp-content/uploads/2017/06/28132834/convimages.png\">\n",
    "\n",
    "The weight matrix behaves like a filter in an image extracting particular information from the original image matrix. A weight combination might be extracting edges, while another one might a particular color, while another one might just blur the unwanted noise.\n",
    "\n",
    "# The concept of stride and padding\n",
    "\n",
    "The filter or the weight matrix, was moving across the entire image moving one pixel at a time. \n",
    "\n",
    "If the weight matrix moves 1 pixel at a time, we call it as a stride of 1. Let’s see how a stride of 2 would look like.\n",
    "\n",
    "<img src=\"https://s3-ap-south-1.amazonaws.com/av-blog-media/wp-content/uploads/2017/06/28090227/stride1.gif\">\n",
    "\n",
    "As you can see the size of image keeps on reducing as we increase the stride value. Padding the input image with zeros across it solves this problem for us. We can also add more than one layer of zeros around the image in case of higher stride values.\n",
    "\n",
    "<img src=\"https://s3-ap-south-1.amazonaws.com/av-blog-media/wp-content/uploads/2017/06/28093553/zero-padding.png\">\n",
    "\n",
    "We can see how the initial shape of the image is retained after we padded the image with a zero. This is known as ***same padding*** since the output image has the same size as the input. \n",
    "\n",
    "<img src=\"https://s3-ap-south-1.amazonaws.com/av-blog-media/wp-content/uploads/2017/06/28094927/padding.gif\">\n",
    "\n",
    "### Multiple filters and the activation map\n",
    "\n",
    "The output from the each filter is stacked together forming the depth dimension of the convolved image. Suppose we have an input image of size 32 * 32 * 3. And we apply 10 filters of size 5 * 5 * 3 with valid padding. The output would have the dimensions as 28 * 28 * 10.\n",
    "\n",
    "<img src=\"https://s3-ap-south-1.amazonaws.com/av-blog-media/wp-content/uploads/2017/06/28113904/activation-map.png\">\n",
    "\n",
    "This activation map is the output of the convolution layer.\n",
    "\n",
    "# The Pooling Layer\n",
    "\n",
    "It is then desired to periodically introduce pooling layers between subsequent convolution layers. Pooling is done for the sole purpose of reducing the spatial size of the image. Pooling is done independently on each depth dimension, therefore the depth of the image remains unchanged. The most common form of pooling layer generally applied is the ***max pooling.***\n",
    "\n",
    "<img src=\"https://s3-ap-south-1.amazonaws.com/av-blog-media/wp-content/uploads/2017/06/28022816/maxpool.png\">\n",
    "\n",
    "Here we have taken stride as 2, while pooling size also as 2. The max operation is applied to each depth dimension of the convolved output. As you can see, the $4*4$ convolved output has become $2*2$ after the max pooling operation.\n",
    "\n",
    "<img src=\"https://s3-ap-south-1.amazonaws.com/av-blog-media/wp-content/uploads/2017/06/28133544/pooling.png\">\n",
    "\n",
    "As you can see I have taken convoluted image and have applied max pooling on it. The max pooled image still retains the information that it’s a car on a street. If you look carefully, the dimensions if the image have been ***halved***. This helps to reduce the parameters to a great extent.\n",
    "\n",
    "***The number of filters*** – the depth of the output volume will be equal to the number of filter applied. \n",
    "\n",
    "***Stride*** – When we have a stride of one we move across and down a single pixel. With higher stride values, we move large number of pixels at a time and hence produce smaller output volumes.\n",
    "\n",
    "***Zero padding*** – This helps us to preserve the size of the input image.\n",
    "\n",
    "We can apply a simple formula to calculate the output dimensions. The spatial size of the output image can be calculated as\n",
    "\n",
    "## ${\\frac{W-F+2P}{S}} + 1$\n",
    "\n",
    "Here, W is the input volume size, F is the size of the filter, P is the number of padding applied and S is the number of strides\n",
    "\n",
    "# The Output layer\n",
    "\n",
    "After multiple layers of convolution and padding, we would need the output in the form of a class. The convolution and pooling layers would only be able to extract features and reduce the number of parameters from the  original images. However, to generate the final output we need to apply a fully connected layer to generate an output equal to the number of classes we need.\n",
    "\n",
    "\n",
    "# Finally\n",
    "\n",
    "CNN as you can now see is composed of various convolutional and pooling layers.\n",
    "\n",
    "<img src=\"https://s3-ap-south-1.amazonaws.com/av-blog-media/wp-content/uploads/2017/06/28132045/cnnimage.png\">"
   ]
  },
  {
   "cell_type": "markdown",
   "metadata": {
    "colab_type": "text",
    "id": "k7irPbd3hfhz"
   },
   "source": [
    "# Step 1: Import libraries and modules."
   ]
  },
  {
   "cell_type": "code",
   "execution_count": 0,
   "metadata": {
    "colab": {},
    "colab_type": "code",
    "id": "Uh2ME5MyhUQE"
   },
   "outputs": [],
   "source": [
    "import numpy as np\n",
    "np.random.seed(123)  # for reproducibility\n",
    " \n",
    "from keras.models import Sequential\n",
    "from keras.layers import Dense, Dropout, Activation, Flatten\n",
    "from keras.layers import Convolution2D, MaxPooling2D\n",
    "from keras.utils import np_utils\n",
    "from keras.datasets import mnist"
   ]
  },
  {
   "cell_type": "markdown",
   "metadata": {
    "colab_type": "text",
    "id": "zBl4dyvzhweB"
   },
   "source": [
    "\n",
    "# Step 2: Load pre-shuffled MNIST data into train and test sets"
   ]
  },
  {
   "cell_type": "code",
   "execution_count": 3,
   "metadata": {
    "colab": {
     "base_uri": "https://localhost:8080/",
     "height": 50
    },
    "colab_type": "code",
    "executionInfo": {
     "elapsed": 2667,
     "status": "ok",
     "timestamp": 1575702286147,
     "user": {
      "displayName": "Avinash Gunda",
      "photoUrl": "https://lh3.googleusercontent.com/a-/AAuE7mBY9e7hhYkqwoEpUT3AH_666l6dID-RzjZg06DtnL1il8c2-xfwZ9V9lfFZcvSI_UTSO2jJAS52s9OPdYsu9lj5d2xj06D4X6pRP2N3mNYz_0vdXS9fRw0ALG-dsheAJncXy3FbUeDy33T_12R0wefbFqVc2zrWsLKb_R7JpjnHWF8f0HaV7621UHuvIN_2ty1pdt6v-ZOmwHIG15srl0DNgs50_SKlgyDTftIeL8vhmM1HB229IurxQ3XCNbEc6BKdD-DncMEi5-j2ZpQr1zlo6zRB2Ln6c7C7zHKQLEzDbUkjv3cIRN2VRHPR6uVyW1B5V3PMX3X_iAIcppMOXFSXykhU5sXvfH48vEyXTTWdWqmUvtqDTx5Z9lHMEhynM7lfKAFY4sI18uG5YDycquqcyr3BA5VoD9TGSzbe92GKFyJBm57JmVez28x62PTd7LVwXH9hZXeXNLrbbwyevEoxNufZ27rt4wOz08XfethUIUB2gF5f8Gn6xxP-v_rIGbkerF5s8mCJQ5TPXm_Q9L23ost7Ya3O5Lw8Eao4OYD6Skqcz4qrNajhYFkXX8WRcLxwLQCb4yDEDCyz-e2iyAYgZzTRgYrfA4H7yx4jWYhlMjFMJYUsgB3AfE0NGNFmHL8FIKI1PUByghJwnWCVAUfYIQmVCi6ZBArSpIEuF8bwLdcH6hi6HFEp--qquz_RkfJpTJlpYUk8Z6d5kAM5Pkwv1FRSlEqY92wq4mGcrHHDVNcMlX9E5kg7-iW9tEM=s64",
      "userId": "07701713045507434863"
     },
     "user_tz": -330
    },
    "id": "PG6bKVbkhtbB",
    "outputId": "f99fff87-62a9-4a85-a482-7833be1052c0"
   },
   "outputs": [
    {
     "name": "stdout",
     "output_type": "stream",
     "text": [
      "Downloading data from https://s3.amazonaws.com/img-datasets/mnist.npz\n",
      "11493376/11490434 [==============================] - 1s 0us/step\n"
     ]
    }
   ],
   "source": [
    "(X_train, y_train), (X_test, y_test) = mnist.load_data()"
   ]
  },
  {
   "cell_type": "markdown",
   "metadata": {
    "colab_type": "text",
    "id": "MylKfopliJbh"
   },
   "source": [
    "# Step 3: Preprocess input data"
   ]
  },
  {
   "cell_type": "code",
   "execution_count": 0,
   "metadata": {
    "colab": {},
    "colab_type": "code",
    "id": "GaDsSQiIiGYh"
   },
   "outputs": [],
   "source": [
    "X_train = X_train.reshape(X_train.shape[0], 1, 28, 28) # Including the depth 1\n",
    "X_test = X_test.reshape(X_test.shape[0], 1, 28, 28) # Including the depth 1\n",
    "X_train = X_train.astype('float32') # Changing dtype to float\n",
    "X_test = X_test.astype('float32') # Changing the dtype to float\n",
    "X_train /= 255 # Normalizing the values \n",
    "X_test /= 255 # Normalizing the values"
   ]
  },
  {
   "cell_type": "code",
   "execution_count": 5,
   "metadata": {
    "colab": {
     "base_uri": "https://localhost:8080/",
     "height": 34
    },
    "colab_type": "code",
    "executionInfo": {
     "elapsed": 1571,
     "status": "ok",
     "timestamp": 1575702736854,
     "user": {
      "displayName": "Avinash Gunda",
      "photoUrl": "https://lh3.googleusercontent.com/a-/AAuE7mBY9e7hhYkqwoEpUT3AH_666l6dID-RzjZg06DtnL1il8c2-xfwZ9V9lfFZcvSI_UTSO2jJAS52s9OPdYsu9lj5d2xj06D4X6pRP2N3mNYz_0vdXS9fRw0ALG-dsheAJncXy3FbUeDy33T_12R0wefbFqVc2zrWsLKb_R7JpjnHWF8f0HaV7621UHuvIN_2ty1pdt6v-ZOmwHIG15srl0DNgs50_SKlgyDTftIeL8vhmM1HB229IurxQ3XCNbEc6BKdD-DncMEi5-j2ZpQr1zlo6zRB2Ln6c7C7zHKQLEzDbUkjv3cIRN2VRHPR6uVyW1B5V3PMX3X_iAIcppMOXFSXykhU5sXvfH48vEyXTTWdWqmUvtqDTx5Z9lHMEhynM7lfKAFY4sI18uG5YDycquqcyr3BA5VoD9TGSzbe92GKFyJBm57JmVez28x62PTd7LVwXH9hZXeXNLrbbwyevEoxNufZ27rt4wOz08XfethUIUB2gF5f8Gn6xxP-v_rIGbkerF5s8mCJQ5TPXm_Q9L23ost7Ya3O5Lw8Eao4OYD6Skqcz4qrNajhYFkXX8WRcLxwLQCb4yDEDCyz-e2iyAYgZzTRgYrfA4H7yx4jWYhlMjFMJYUsgB3AfE0NGNFmHL8FIKI1PUByghJwnWCVAUfYIQmVCi6ZBArSpIEuF8bwLdcH6hi6HFEp--qquz_RkfJpTJlpYUk8Z6d5kAM5Pkwv1FRSlEqY92wq4mGcrHHDVNcMlX9E5kg7-iW9tEM=s64",
      "userId": "07701713045507434863"
     },
     "user_tz": -330
    },
    "id": "NBD_qZ_YiWaB",
    "outputId": "846ba029-e24d-46e4-b4b3-097fd7407646"
   },
   "outputs": [
    {
     "data": {
      "text/plain": [
       "(60000, 1, 28, 28)"
      ]
     },
     "execution_count": 5,
     "metadata": {
      "tags": []
     },
     "output_type": "execute_result"
    }
   ],
   "source": [
    "X_train.shape"
   ]
  },
  {
   "cell_type": "code",
   "execution_count": 6,
   "metadata": {
    "colab": {
     "base_uri": "https://localhost:8080/",
     "height": 34
    },
    "colab_type": "code",
    "executionInfo": {
     "elapsed": 1796,
     "status": "ok",
     "timestamp": 1575702737839,
     "user": {
      "displayName": "Avinash Gunda",
      "photoUrl": "https://lh3.googleusercontent.com/a-/AAuE7mBY9e7hhYkqwoEpUT3AH_666l6dID-RzjZg06DtnL1il8c2-xfwZ9V9lfFZcvSI_UTSO2jJAS52s9OPdYsu9lj5d2xj06D4X6pRP2N3mNYz_0vdXS9fRw0ALG-dsheAJncXy3FbUeDy33T_12R0wefbFqVc2zrWsLKb_R7JpjnHWF8f0HaV7621UHuvIN_2ty1pdt6v-ZOmwHIG15srl0DNgs50_SKlgyDTftIeL8vhmM1HB229IurxQ3XCNbEc6BKdD-DncMEi5-j2ZpQr1zlo6zRB2Ln6c7C7zHKQLEzDbUkjv3cIRN2VRHPR6uVyW1B5V3PMX3X_iAIcppMOXFSXykhU5sXvfH48vEyXTTWdWqmUvtqDTx5Z9lHMEhynM7lfKAFY4sI18uG5YDycquqcyr3BA5VoD9TGSzbe92GKFyJBm57JmVez28x62PTd7LVwXH9hZXeXNLrbbwyevEoxNufZ27rt4wOz08XfethUIUB2gF5f8Gn6xxP-v_rIGbkerF5s8mCJQ5TPXm_Q9L23ost7Ya3O5Lw8Eao4OYD6Skqcz4qrNajhYFkXX8WRcLxwLQCb4yDEDCyz-e2iyAYgZzTRgYrfA4H7yx4jWYhlMjFMJYUsgB3AfE0NGNFmHL8FIKI1PUByghJwnWCVAUfYIQmVCi6ZBArSpIEuF8bwLdcH6hi6HFEp--qquz_RkfJpTJlpYUk8Z6d5kAM5Pkwv1FRSlEqY92wq4mGcrHHDVNcMlX9E5kg7-iW9tEM=s64",
      "userId": "07701713045507434863"
     },
     "user_tz": -330
    },
    "id": "MIkT3Y6Ji_PY",
    "outputId": "f4728c26-8786-46d0-84ce-258181ca00b3"
   },
   "outputs": [
    {
     "data": {
      "text/plain": [
       "(60000,)"
      ]
     },
     "execution_count": 6,
     "metadata": {
      "tags": []
     },
     "output_type": "execute_result"
    }
   ],
   "source": [
    "y_train.shape"
   ]
  },
  {
   "cell_type": "markdown",
   "metadata": {
    "colab_type": "text",
    "id": "MSiWxyrzi2J5"
   },
   "source": [
    "# Step 4: Preprocess class labels for Keras."
   ]
  },
  {
   "cell_type": "code",
   "execution_count": 0,
   "metadata": {
    "colab": {
     "base_uri": "https://localhost:8080/",
     "height": 34
    },
    "colab_type": "code",
    "executionInfo": {
     "elapsed": 861,
     "status": "ok",
     "timestamp": 1575551374455,
     "user": {
      "displayName": "Avinash Gunda",
      "photoUrl": "https://lh3.googleusercontent.com/a-/AAuE7mAN-dW5XWBslFsjEexzwgBQEc7fXGHhtAQATDC9LzpzfqLGUTGaje9cBHUPOuSE6cU42xa9iz_BOQeOCAMyUwlQwldhD1fOILorXIiq6fmz-ZUgArVtf3N2RttYuD0dUK7b1aZOfMLM_XexCIq-6vj0Zrk_L2nqwsyAjzPRH93WvH6uIlkRVcp1359wEGv01IVzqYUXGm8Shb298HpPdtN8SnwHXHl81YPHEvSs48Lw02REmkaI2AvVp4VB-tmohshsKFFclw3_91itk4ZFqkLU4S3zbqmd5AqZ4fW1O693KTbkFBWy5e8L2ZzwAU51bXXtusfB5VFq-soCeQyORwqzzDVJwM5UWsY9bg4whU3bgcDm3Ibjf5ZmOY2HM07T-YBdXdlMVIDLt4kODTXpwkmZmDuz3m8svTQNewvbxDiMf6AY_8I2-59a9UZrWGplpafuWlG09tfnUMrR6LlvoHbCatgULrhvzNbCSv0srtA9lhFmJSak3orQ-WWkTM28CuJW_CxgkBZwyNZQC7Gohc1oLML450D8DMbUzfaDPj4HSHJt_oKzCoRd-7jCjAu6YcIrSP3d_MnigPK79bRl5lUtUJWtyrqfRLy7-CiA8MXvErm4_K_Q_bmccxP-ZIw-DfWS8CN2FnCPea_m0eHvE61Mv1UuCR-QHww6AYiMx7g99p4-SmwqpwdtJAjkKnmtiMketRfJUjXTuhIdDcRQWZigkpUrZx-zMNWCu183j_162McUPk7milt9q3mck0U=s64",
      "userId": "07701713045507434863"
     },
     "user_tz": -330
    },
    "id": "d3qh5ucIiX_S",
    "outputId": "0f875c51-8a9c-464b-a717-0196f4dbd445"
   },
   "outputs": [
    {
     "data": {
      "text/plain": [
       "array([5, 0, 4, 1, 9, 2, 1, 3, 1, 4], dtype=uint8)"
      ]
     },
     "execution_count": 8,
     "metadata": {
      "tags": []
     },
     "output_type": "execute_result"
    }
   ],
   "source": [
    "y_train[:10] # Understanding the target labels"
   ]
  },
  {
   "cell_type": "code",
   "execution_count": 0,
   "metadata": {
    "colab": {},
    "colab_type": "code",
    "id": "3bAi0BxmjPVI"
   },
   "outputs": [],
   "source": [
    "# Convert 1-dimensional class arrays to 10-dimensional class matrices\n",
    "Y_train = np_utils.to_categorical(y_train, 10) # Converting the data into 0 and 1\n",
    "Y_test = np_utils.to_categorical(y_test, 10) # Converting the data into 0 and 1"
   ]
  },
  {
   "cell_type": "code",
   "execution_count": 0,
   "metadata": {
    "colab": {
     "base_uri": "https://localhost:8080/",
     "height": 187
    },
    "colab_type": "code",
    "executionInfo": {
     "elapsed": 1229,
     "status": "ok",
     "timestamp": 1575551379064,
     "user": {
      "displayName": "Avinash Gunda",
      "photoUrl": "https://lh3.googleusercontent.com/a-/AAuE7mAN-dW5XWBslFsjEexzwgBQEc7fXGHhtAQATDC9LzpzfqLGUTGaje9cBHUPOuSE6cU42xa9iz_BOQeOCAMyUwlQwldhD1fOILorXIiq6fmz-ZUgArVtf3N2RttYuD0dUK7b1aZOfMLM_XexCIq-6vj0Zrk_L2nqwsyAjzPRH93WvH6uIlkRVcp1359wEGv01IVzqYUXGm8Shb298HpPdtN8SnwHXHl81YPHEvSs48Lw02REmkaI2AvVp4VB-tmohshsKFFclw3_91itk4ZFqkLU4S3zbqmd5AqZ4fW1O693KTbkFBWy5e8L2ZzwAU51bXXtusfB5VFq-soCeQyORwqzzDVJwM5UWsY9bg4whU3bgcDm3Ibjf5ZmOY2HM07T-YBdXdlMVIDLt4kODTXpwkmZmDuz3m8svTQNewvbxDiMf6AY_8I2-59a9UZrWGplpafuWlG09tfnUMrR6LlvoHbCatgULrhvzNbCSv0srtA9lhFmJSak3orQ-WWkTM28CuJW_CxgkBZwyNZQC7Gohc1oLML450D8DMbUzfaDPj4HSHJt_oKzCoRd-7jCjAu6YcIrSP3d_MnigPK79bRl5lUtUJWtyrqfRLy7-CiA8MXvErm4_K_Q_bmccxP-ZIw-DfWS8CN2FnCPea_m0eHvE61Mv1UuCR-QHww6AYiMx7g99p4-SmwqpwdtJAjkKnmtiMketRfJUjXTuhIdDcRQWZigkpUrZx-zMNWCu183j_162McUPk7milt9q3mck0U=s64",
      "userId": "07701713045507434863"
     },
     "user_tz": -330
    },
    "id": "MHOguWbAjUmA",
    "outputId": "fef3642c-1fd1-46e8-f917-59cabb7a1533"
   },
   "outputs": [
    {
     "data": {
      "text/plain": [
       "array([[0., 0., 0., 0., 0., 1., 0., 0., 0., 0.],\n",
       "       [1., 0., 0., 0., 0., 0., 0., 0., 0., 0.],\n",
       "       [0., 0., 0., 0., 1., 0., 0., 0., 0., 0.],\n",
       "       [0., 1., 0., 0., 0., 0., 0., 0., 0., 0.],\n",
       "       [0., 0., 0., 0., 0., 0., 0., 0., 0., 1.],\n",
       "       [0., 0., 1., 0., 0., 0., 0., 0., 0., 0.],\n",
       "       [0., 1., 0., 0., 0., 0., 0., 0., 0., 0.],\n",
       "       [0., 0., 0., 1., 0., 0., 0., 0., 0., 0.],\n",
       "       [0., 1., 0., 0., 0., 0., 0., 0., 0., 0.],\n",
       "       [0., 0., 0., 0., 1., 0., 0., 0., 0., 0.]], dtype=float32)"
      ]
     },
     "execution_count": 10,
     "metadata": {
      "tags": []
     },
     "output_type": "execute_result"
    }
   ],
   "source": [
    "Y_train[:10]"
   ]
  },
  {
   "cell_type": "code",
   "execution_count": 0,
   "metadata": {
    "colab": {
     "base_uri": "https://localhost:8080/",
     "height": 34
    },
    "colab_type": "code",
    "executionInfo": {
     "elapsed": 961,
     "status": "ok",
     "timestamp": 1575551379065,
     "user": {
      "displayName": "Avinash Gunda",
      "photoUrl": "https://lh3.googleusercontent.com/a-/AAuE7mAN-dW5XWBslFsjEexzwgBQEc7fXGHhtAQATDC9LzpzfqLGUTGaje9cBHUPOuSE6cU42xa9iz_BOQeOCAMyUwlQwldhD1fOILorXIiq6fmz-ZUgArVtf3N2RttYuD0dUK7b1aZOfMLM_XexCIq-6vj0Zrk_L2nqwsyAjzPRH93WvH6uIlkRVcp1359wEGv01IVzqYUXGm8Shb298HpPdtN8SnwHXHl81YPHEvSs48Lw02REmkaI2AvVp4VB-tmohshsKFFclw3_91itk4ZFqkLU4S3zbqmd5AqZ4fW1O693KTbkFBWy5e8L2ZzwAU51bXXtusfB5VFq-soCeQyORwqzzDVJwM5UWsY9bg4whU3bgcDm3Ibjf5ZmOY2HM07T-YBdXdlMVIDLt4kODTXpwkmZmDuz3m8svTQNewvbxDiMf6AY_8I2-59a9UZrWGplpafuWlG09tfnUMrR6LlvoHbCatgULrhvzNbCSv0srtA9lhFmJSak3orQ-WWkTM28CuJW_CxgkBZwyNZQC7Gohc1oLML450D8DMbUzfaDPj4HSHJt_oKzCoRd-7jCjAu6YcIrSP3d_MnigPK79bRl5lUtUJWtyrqfRLy7-CiA8MXvErm4_K_Q_bmccxP-ZIw-DfWS8CN2FnCPea_m0eHvE61Mv1UuCR-QHww6AYiMx7g99p4-SmwqpwdtJAjkKnmtiMketRfJUjXTuhIdDcRQWZigkpUrZx-zMNWCu183j_162McUPk7milt9q3mck0U=s64",
      "userId": "07701713045507434863"
     },
     "user_tz": -330
    },
    "id": "H4IAV5NAjXnh",
    "outputId": "2d040e2d-6f4f-477e-a2dc-284a49673d84"
   },
   "outputs": [
    {
     "data": {
      "text/plain": [
       "(60000, 10)"
      ]
     },
     "execution_count": 11,
     "metadata": {
      "tags": []
     },
     "output_type": "execute_result"
    }
   ],
   "source": [
    "Y_train.shape"
   ]
  },
  {
   "cell_type": "markdown",
   "metadata": {
    "colab_type": "text",
    "id": "5dh6YoSYF7y4"
   },
   "source": [
    "# Points to be noted before building the architecture of Convolution Neural Network\n",
    "\n",
    "- The fundamental difference between a densely connected layers and a convolution layers is that **Dense Layers** learn global patterns in their input feature space (for example a digit pattern involving all pixels), whereas convolution layers learn local patterns (for example patterns found in small 2D windows of the inputs.\n",
    "\n",
    "**This has two added advantages**\n",
    "- **The patterns they learn are translation invariant** i.e after learning a certain pattern in the lower right corner of a picture, a convnet can recognize it anywhere.\n",
    "\n",
    "- **They can learn spatial hierarchies of patterns** - For Example, A first convolution layer will learn small local patterns such as edges, a second comvolution layer will learn larger patterns made of features of the first layers and so on. \n",
    "\n",
    "**RELU** - ReLU stands for rectified linear unit, and is a type of activation function. Mathematically, it is defined as y = max(0, x) Visually, it looks like the following:\n",
    "\n",
    "<img src='https://miro.medium.com/max/1026/1*DfMRHwxY1gyyDmrIAd-gjQ.png' height=\"180\" width=\"320\">\n",
    "\n",
    "- (1,28,28) \n",
    "  - 1 represents depth as the image is in grayscale (3 for RGB)\n",
    "  - 28 represents height\n",
    "  - 28 represents width of the image\n",
    "- 32 - represents number of convnets in convolution layer\n",
    "- (3,3) - represents Kernel Size\n",
    "\n",
    "**MaxPooling** - Maximum value over the data to be selected.\n",
    "\n",
    "**Dropout** - Dropping the neurons or ignoring the neurons. By “ignoring”, I mean these units are not considered during a particular forward or backward pass.\n",
    "\n",
    "More technically, At each training stage, individual nodes are either dropped out of the net with probability 1-p or kept with probability p, so that a reduced network is left\n",
    "\n",
    "To prevent overfitting we need dropout.\n",
    "\n",
    "**Softmax** - Softmax assigns decimal probabilities to each class in a multi-class problem. Those decimal probabilities must add up to 1.0. This additional constraint helps training converge more quickly than it otherwise would.\n",
    "\n",
    "**Flatten** - Flatten converts the data into a row matrix\n",
    "\n",
    "**Adam Optimizer**\n",
    "\n",
    "**Cross Entropy** - $-\\sum ylog(p_i)$\n",
    "\n",
    "\n",
    "\n"
   ]
  },
  {
   "cell_type": "markdown",
   "metadata": {
    "colab_type": "text",
    "id": "jKhJyAkKj205"
   },
   "source": [
    "# Step 5:  Define model architecture."
   ]
  },
  {
   "cell_type": "code",
   "execution_count": 7,
   "metadata": {
    "colab": {
     "base_uri": "https://localhost:8080/",
     "height": 457
    },
    "colab_type": "code",
    "executionInfo": {
     "elapsed": 5393,
     "status": "ok",
     "timestamp": 1575703339561,
     "user": {
      "displayName": "Avinash Gunda",
      "photoUrl": "https://lh3.googleusercontent.com/a-/AAuE7mBY9e7hhYkqwoEpUT3AH_666l6dID-RzjZg06DtnL1il8c2-xfwZ9V9lfFZcvSI_UTSO2jJAS52s9OPdYsu9lj5d2xj06D4X6pRP2N3mNYz_0vdXS9fRw0ALG-dsheAJncXy3FbUeDy33T_12R0wefbFqVc2zrWsLKb_R7JpjnHWF8f0HaV7621UHuvIN_2ty1pdt6v-ZOmwHIG15srl0DNgs50_SKlgyDTftIeL8vhmM1HB229IurxQ3XCNbEc6BKdD-DncMEi5-j2ZpQr1zlo6zRB2Ln6c7C7zHKQLEzDbUkjv3cIRN2VRHPR6uVyW1B5V3PMX3X_iAIcppMOXFSXykhU5sXvfH48vEyXTTWdWqmUvtqDTx5Z9lHMEhynM7lfKAFY4sI18uG5YDycquqcyr3BA5VoD9TGSzbe92GKFyJBm57JmVez28x62PTd7LVwXH9hZXeXNLrbbwyevEoxNufZ27rt4wOz08XfethUIUB2gF5f8Gn6xxP-v_rIGbkerF5s8mCJQ5TPXm_Q9L23ost7Ya3O5Lw8Eao4OYD6Skqcz4qrNajhYFkXX8WRcLxwLQCb4yDEDCyz-e2iyAYgZzTRgYrfA4H7yx4jWYhlMjFMJYUsgB3AfE0NGNFmHL8FIKI1PUByghJwnWCVAUfYIQmVCi6ZBArSpIEuF8bwLdcH6hi6HFEp--qquz_RkfJpTJlpYUk8Z6d5kAM5Pkwv1FRSlEqY92wq4mGcrHHDVNcMlX9E5kg7-iW9tEM=s64",
      "userId": "07701713045507434863"
     },
     "user_tz": -330
    },
    "id": "Bz4s1q3xjdhh",
    "outputId": "a0c9874d-969c-450c-f2e2-5846d0ae84ae"
   },
   "outputs": [
    {
     "name": "stdout",
     "output_type": "stream",
     "text": [
      "WARNING:tensorflow:From /usr/local/lib/python3.6/dist-packages/keras/backend/tensorflow_backend.py:66: The name tf.get_default_graph is deprecated. Please use tf.compat.v1.get_default_graph instead.\n",
      "\n",
      "WARNING:tensorflow:From /usr/local/lib/python3.6/dist-packages/keras/backend/tensorflow_backend.py:541: The name tf.placeholder is deprecated. Please use tf.compat.v1.placeholder instead.\n",
      "\n",
      "WARNING:tensorflow:From /usr/local/lib/python3.6/dist-packages/keras/backend/tensorflow_backend.py:4432: The name tf.random_uniform is deprecated. Please use tf.random.uniform instead.\n",
      "\n",
      "WARNING:tensorflow:From /usr/local/lib/python3.6/dist-packages/keras/backend/tensorflow_backend.py:190: The name tf.get_default_session is deprecated. Please use tf.compat.v1.get_default_session instead.\n",
      "\n",
      "WARNING:tensorflow:From /usr/local/lib/python3.6/dist-packages/keras/backend/tensorflow_backend.py:197: The name tf.ConfigProto is deprecated. Please use tf.compat.v1.ConfigProto instead.\n",
      "\n",
      "WARNING:tensorflow:From /usr/local/lib/python3.6/dist-packages/keras/backend/tensorflow_backend.py:203: The name tf.Session is deprecated. Please use tf.compat.v1.Session instead.\n",
      "\n",
      "WARNING:tensorflow:From /usr/local/lib/python3.6/dist-packages/keras/backend/tensorflow_backend.py:207: The name tf.global_variables is deprecated. Please use tf.compat.v1.global_variables instead.\n",
      "\n",
      "WARNING:tensorflow:From /usr/local/lib/python3.6/dist-packages/keras/backend/tensorflow_backend.py:216: The name tf.is_variable_initialized is deprecated. Please use tf.compat.v1.is_variable_initialized instead.\n",
      "\n",
      "WARNING:tensorflow:From /usr/local/lib/python3.6/dist-packages/keras/backend/tensorflow_backend.py:223: The name tf.variables_initializer is deprecated. Please use tf.compat.v1.variables_initializer instead.\n",
      "\n",
      "WARNING:tensorflow:From /usr/local/lib/python3.6/dist-packages/keras/backend/tensorflow_backend.py:4267: The name tf.nn.max_pool is deprecated. Please use tf.nn.max_pool2d instead.\n",
      "\n",
      "WARNING:tensorflow:From /usr/local/lib/python3.6/dist-packages/keras/backend/tensorflow_backend.py:148: The name tf.placeholder_with_default is deprecated. Please use tf.compat.v1.placeholder_with_default instead.\n",
      "\n",
      "WARNING:tensorflow:From /usr/local/lib/python3.6/dist-packages/keras/backend/tensorflow_backend.py:3733: calling dropout (from tensorflow.python.ops.nn_ops) with keep_prob is deprecated and will be removed in a future version.\n",
      "Instructions for updating:\n",
      "Please use `rate` instead of `keep_prob`. Rate should be set to `rate = 1 - keep_prob`.\n"
     ]
    }
   ],
   "source": [
    "model = Sequential()\n",
    " \n",
    "###################### Convolution Neural Network ######################\n",
    "\n",
    "model.add(Convolution2D(32,(3, 3), activation='relu', \n",
    "                        input_shape=(1,28,28),\n",
    "                        data_format='channels_first')) # Convolution Layer\n",
    "\n",
    "model.add(Convolution2D(32,(3, 3), activation='relu')) # Conolution Layer\n",
    "model.add(MaxPooling2D(pool_size=(2,2))) # Pooling Layer\n",
    "model.add(Dropout(0.25)) # Drop out to handle overfitting\n",
    "\n",
    "model.add(Convolution2D(32,(3, 3), activation='relu')) # Convolution Layer\n",
    "model.add(MaxPooling2D(pool_size=(2,2))) # Pooling Layer\n",
    "model.add(Dropout(0.25)) # Drop out to handle overfitting\n",
    "\n",
    "model.add(Convolution2D(32,(3, 3), activation='relu')) # Convolution Layer\n",
    "model.add(MaxPooling2D(pool_size=(2,2))) # Pooling Layer \n",
    "model.add(Flatten()) # Image flattening to row matrix\n",
    "\n",
    "###################### Feed Forward Network ############################\n",
    "\n",
    "model.add(Dense(1024, activation='relu')) # Input neurons\n",
    "model.add(Dropout(0.5))\n",
    "\n",
    "model.add(Dense(784, activation='relu'))\n",
    "model.add(Dropout(0.5))\n",
    "\n",
    "model.add(Dense(256, activation='relu'))\n",
    "model.add(Dropout(0.5))\n",
    "\n",
    "model.add(Dense(64, activation='relu'))\n",
    "model.add(Dropout(0.5))\n",
    "\n",
    "model.add(Dense(16, activation='relu'))\n",
    "model.add(Dropout(0.5))\n",
    "\n",
    "model.add(Dense(10, activation='softmax'))"
   ]
  },
  {
   "cell_type": "markdown",
   "metadata": {
    "colab_type": "text",
    "id": "-mXu7EwOm4-J"
   },
   "source": [
    "# Step 6: Compile model."
   ]
  },
  {
   "cell_type": "code",
   "execution_count": 8,
   "metadata": {
    "colab": {
     "base_uri": "https://localhost:8080/",
     "height": 104
    },
    "colab_type": "code",
    "executionInfo": {
     "elapsed": 1199,
     "status": "ok",
     "timestamp": 1575703359876,
     "user": {
      "displayName": "Avinash Gunda",
      "photoUrl": "https://lh3.googleusercontent.com/a-/AAuE7mBY9e7hhYkqwoEpUT3AH_666l6dID-RzjZg06DtnL1il8c2-xfwZ9V9lfFZcvSI_UTSO2jJAS52s9OPdYsu9lj5d2xj06D4X6pRP2N3mNYz_0vdXS9fRw0ALG-dsheAJncXy3FbUeDy33T_12R0wefbFqVc2zrWsLKb_R7JpjnHWF8f0HaV7621UHuvIN_2ty1pdt6v-ZOmwHIG15srl0DNgs50_SKlgyDTftIeL8vhmM1HB229IurxQ3XCNbEc6BKdD-DncMEi5-j2ZpQr1zlo6zRB2Ln6c7C7zHKQLEzDbUkjv3cIRN2VRHPR6uVyW1B5V3PMX3X_iAIcppMOXFSXykhU5sXvfH48vEyXTTWdWqmUvtqDTx5Z9lHMEhynM7lfKAFY4sI18uG5YDycquqcyr3BA5VoD9TGSzbe92GKFyJBm57JmVez28x62PTd7LVwXH9hZXeXNLrbbwyevEoxNufZ27rt4wOz08XfethUIUB2gF5f8Gn6xxP-v_rIGbkerF5s8mCJQ5TPXm_Q9L23ost7Ya3O5Lw8Eao4OYD6Skqcz4qrNajhYFkXX8WRcLxwLQCb4yDEDCyz-e2iyAYgZzTRgYrfA4H7yx4jWYhlMjFMJYUsgB3AfE0NGNFmHL8FIKI1PUByghJwnWCVAUfYIQmVCi6ZBArSpIEuF8bwLdcH6hi6HFEp--qquz_RkfJpTJlpYUk8Z6d5kAM5Pkwv1FRSlEqY92wq4mGcrHHDVNcMlX9E5kg7-iW9tEM=s64",
      "userId": "07701713045507434863"
     },
     "user_tz": -330
    },
    "id": "QVYXJp6fmQUh",
    "outputId": "2373c9b8-b83f-47d7-f94f-7ee5323d4260"
   },
   "outputs": [
    {
     "name": "stdout",
     "output_type": "stream",
     "text": [
      "WARNING:tensorflow:From /usr/local/lib/python3.6/dist-packages/keras/optimizers.py:793: The name tf.train.Optimizer is deprecated. Please use tf.compat.v1.train.Optimizer instead.\n",
      "\n",
      "WARNING:tensorflow:From /usr/local/lib/python3.6/dist-packages/keras/backend/tensorflow_backend.py:3576: The name tf.log is deprecated. Please use tf.math.log instead.\n",
      "\n"
     ]
    }
   ],
   "source": [
    "model.compile(loss='categorical_crossentropy',\n",
    "              optimizer='adam',\n",
    "              metrics=['accuracy'])"
   ]
  },
  {
   "cell_type": "markdown",
   "metadata": {
    "colab_type": "text",
    "id": "YkMam6OxnUGq"
   },
   "source": [
    "# Step 7: Fit model on training data."
   ]
  },
  {
   "cell_type": "code",
   "execution_count": 0,
   "metadata": {
    "colab": {
     "base_uri": "https://localhost:8080/",
     "height": 527
    },
    "colab_type": "code",
    "executionInfo": {
     "elapsed": 287052,
     "status": "ok",
     "timestamp": 1575541585384,
     "user": {
      "displayName": "Avinash Gunda",
      "photoUrl": "https://lh3.googleusercontent.com/a-/AAuE7mA4XgiUDxhClB3kij0jpp27HMkQezAab977rZm1dY4DNHGSfpXHyiagIZiskYjeDmJL5JrKb0yXc37pq7W2-9C-CnhPr9dBRzUMbJQVdRHVxw699ojn99iWEl6A5d6TqGo7l_J1CLq-lzNDE2bESOgjk2xgwhmReDYw2i8Nq18qlDH_bDWAPZQHyuhZKIOXGRx5WqV48JaBd1bf4x60lTU-BCt0cjyCL0XE_kbJd8GMxZUl764MrJYN6iNc-o-Znr5stqFjqd9lBOYv6eo--6ZPr-gTe0VFMU5IBjLGhYrotpwfrsvsC6y3Y7IrQmHzKcvb7c24L3d5qES1Hg1myC4vEqxNWxCccHI7tXS1hJfMz94yr9sUJfDqvzYQcWkg5W_YHkLbKnZsZUtG0QOWFsh33X17Vpv74gSuepBNzCS-ygoBrniESlqj2SaCkX4mg3RnECIyYBgCpEEvxeZQIT1mGU1t_3u4XKU2r-txcGnsRJmGNKIlpTZqVZ5b0QxXhYTrEGu52x2U1HP68FHnyZUgi3jUqHTERW8b2eKQgw4XXbHNaw_2CQ6qLsaAzLgQRGyRA7E_54oz63TeAK8NN7St_oQzstdup494foze9G1kYVNZct-vkTrHsaDFWkwWjhlbrcvXeXb44IqTzeOBKxJN3ntBmqZKnfnFM1nfEKOBBnkXHdDOZP7o5BmAnI8vOCb0v4vljubFpJXVs9nJgnO6fIsYg4k05pFnVd51_V0IuVEMneoK_GcdFWSvFVc=s64",
      "userId": "07701713045507434863"
     },
     "user_tz": -330
    },
    "id": "SN7HYyI8nOtR",
    "outputId": "e48ff0f1-6ddc-4555-cc48-13f609f3f462"
   },
   "outputs": [
    {
     "name": "stdout",
     "output_type": "stream",
     "text": [
      "WARNING:tensorflow:From /usr/local/lib/python3.6/dist-packages/tensorflow_core/python/ops/math_grad.py:1424: where (from tensorflow.python.ops.array_ops) is deprecated and will be removed in a future version.\n",
      "Instructions for updating:\n",
      "Use tf.where in 2.0, which has the same broadcast rule as np.where\n"
     ]
    },
    {
     "name": "stderr",
     "output_type": "stream",
     "text": [
      "/usr/local/lib/python3.6/dist-packages/ipykernel_launcher.py:2: UserWarning: The `nb_epoch` argument in `fit` has been renamed `epochs`.\n",
      "  \n"
     ]
    },
    {
     "name": "stdout",
     "output_type": "stream",
     "text": [
      "WARNING:tensorflow:From /usr/local/lib/python3.6/dist-packages/keras/backend/tensorflow_backend.py:1033: The name tf.assign_add is deprecated. Please use tf.compat.v1.assign_add instead.\n",
      "\n",
      "WARNING:tensorflow:From /usr/local/lib/python3.6/dist-packages/keras/backend/tensorflow_backend.py:1020: The name tf.assign is deprecated. Please use tf.compat.v1.assign instead.\n",
      "\n",
      "Epoch 1/10\n",
      "60000/60000 [==============================] - 30s 500us/step - loss: 1.4799 - acc: 0.4809\n",
      "Epoch 2/10\n",
      "60000/60000 [==============================] - 25s 420us/step - loss: 0.7662 - acc: 0.7851\n",
      "Epoch 3/10\n",
      "60000/60000 [==============================] - 25s 422us/step - loss: 0.5801 - acc: 0.8523\n",
      "Epoch 4/10\n",
      "60000/60000 [==============================] - 25s 417us/step - loss: 0.5471 - acc: 0.8638\n",
      "Epoch 5/10\n",
      "60000/60000 [==============================] - 25s 417us/step - loss: 0.4969 - acc: 0.8785\n",
      "Epoch 6/10\n",
      "60000/60000 [==============================] - 25s 416us/step - loss: 0.4720 - acc: 0.8861\n",
      "Epoch 7/10\n",
      "60000/60000 [==============================] - 25s 416us/step - loss: 0.4923 - acc: 0.8859\n",
      "Epoch 8/10\n",
      "60000/60000 [==============================] - 25s 414us/step - loss: 0.4377 - acc: 0.8958\n",
      "Epoch 9/10\n",
      "60000/60000 [==============================] - 25s 413us/step - loss: 0.4257 - acc: 0.9000\n",
      "Epoch 10/10\n",
      "60000/60000 [==============================] - 25s 416us/step - loss: 0.4476 - acc: 0.8950\n"
     ]
    },
    {
     "data": {
      "text/plain": [
       "<keras.callbacks.History at 0x7fade005b048>"
      ]
     },
     "execution_count": 14,
     "metadata": {
      "tags": []
     },
     "output_type": "execute_result"
    }
   ],
   "source": [
    "model.fit(X_train, Y_train, \n",
    "          batch_size=32, nb_epoch=10, verbose=1)"
   ]
  },
  {
   "cell_type": "code",
   "execution_count": 0,
   "metadata": {
    "colab": {},
    "colab_type": "code",
    "id": "fveJPcARshXE"
   },
   "outputs": [],
   "source": [
    "import joblib"
   ]
  },
  {
   "cell_type": "code",
   "execution_count": 12,
   "metadata": {
    "colab": {
     "base_uri": "https://localhost:8080/",
     "height": 34
    },
    "colab_type": "code",
    "executionInfo": {
     "elapsed": 2497,
     "status": "ok",
     "timestamp": 1575703654486,
     "user": {
      "displayName": "Avinash Gunda",
      "photoUrl": "https://lh3.googleusercontent.com/a-/AAuE7mBY9e7hhYkqwoEpUT3AH_666l6dID-RzjZg06DtnL1il8c2-xfwZ9V9lfFZcvSI_UTSO2jJAS52s9OPdYsu9lj5d2xj06D4X6pRP2N3mNYz_0vdXS9fRw0ALG-dsheAJncXy3FbUeDy33T_12R0wefbFqVc2zrWsLKb_R7JpjnHWF8f0HaV7621UHuvIN_2ty1pdt6v-ZOmwHIG15srl0DNgs50_SKlgyDTftIeL8vhmM1HB229IurxQ3XCNbEc6BKdD-DncMEi5-j2ZpQr1zlo6zRB2Ln6c7C7zHKQLEzDbUkjv3cIRN2VRHPR6uVyW1B5V3PMX3X_iAIcppMOXFSXykhU5sXvfH48vEyXTTWdWqmUvtqDTx5Z9lHMEhynM7lfKAFY4sI18uG5YDycquqcyr3BA5VoD9TGSzbe92GKFyJBm57JmVez28x62PTd7LVwXH9hZXeXNLrbbwyevEoxNufZ27rt4wOz08XfethUIUB2gF5f8Gn6xxP-v_rIGbkerF5s8mCJQ5TPXm_Q9L23ost7Ya3O5Lw8Eao4OYD6Skqcz4qrNajhYFkXX8WRcLxwLQCb4yDEDCyz-e2iyAYgZzTRgYrfA4H7yx4jWYhlMjFMJYUsgB3AfE0NGNFmHL8FIKI1PUByghJwnWCVAUfYIQmVCi6ZBArSpIEuF8bwLdcH6hi6HFEp--qquz_RkfJpTJlpYUk8Z6d5kAM5Pkwv1FRSlEqY92wq4mGcrHHDVNcMlX9E5kg7-iW9tEM=s64",
      "userId": "07701713045507434863"
     },
     "user_tz": -330
    },
    "id": "svFLwcRhsmjT",
    "outputId": "4d049206-a165-420d-94bf-48bd783b3dfc"
   },
   "outputs": [
    {
     "data": {
      "text/plain": [
       "['cnn1.pkl']"
      ]
     },
     "execution_count": 12,
     "metadata": {
      "tags": []
     },
     "output_type": "execute_result"
    }
   ],
   "source": [
    "joblib.dump(model,'cnn1.pkl')"
   ]
  },
  {
   "cell_type": "code",
   "execution_count": 0,
   "metadata": {
    "colab": {},
    "colab_type": "code",
    "id": "8usppMW3nZtR"
   },
   "outputs": [],
   "source": [
    "score = model.evaluate(X_test, Y_test, verbose=0)"
   ]
  },
  {
   "cell_type": "code",
   "execution_count": 0,
   "metadata": {
    "colab": {
     "base_uri": "https://localhost:8080/",
     "height": 34
    },
    "colab_type": "code",
    "executionInfo": {
     "elapsed": 287956,
     "status": "ok",
     "timestamp": 1575541586301,
     "user": {
      "displayName": "Avinash Gunda",
      "photoUrl": "https://lh3.googleusercontent.com/a-/AAuE7mA4XgiUDxhClB3kij0jpp27HMkQezAab977rZm1dY4DNHGSfpXHyiagIZiskYjeDmJL5JrKb0yXc37pq7W2-9C-CnhPr9dBRzUMbJQVdRHVxw699ojn99iWEl6A5d6TqGo7l_J1CLq-lzNDE2bESOgjk2xgwhmReDYw2i8Nq18qlDH_bDWAPZQHyuhZKIOXGRx5WqV48JaBd1bf4x60lTU-BCt0cjyCL0XE_kbJd8GMxZUl764MrJYN6iNc-o-Znr5stqFjqd9lBOYv6eo--6ZPr-gTe0VFMU5IBjLGhYrotpwfrsvsC6y3Y7IrQmHzKcvb7c24L3d5qES1Hg1myC4vEqxNWxCccHI7tXS1hJfMz94yr9sUJfDqvzYQcWkg5W_YHkLbKnZsZUtG0QOWFsh33X17Vpv74gSuepBNzCS-ygoBrniESlqj2SaCkX4mg3RnECIyYBgCpEEvxeZQIT1mGU1t_3u4XKU2r-txcGnsRJmGNKIlpTZqVZ5b0QxXhYTrEGu52x2U1HP68FHnyZUgi3jUqHTERW8b2eKQgw4XXbHNaw_2CQ6qLsaAzLgQRGyRA7E_54oz63TeAK8NN7St_oQzstdup494foze9G1kYVNZct-vkTrHsaDFWkwWjhlbrcvXeXb44IqTzeOBKxJN3ntBmqZKnfnFM1nfEKOBBnkXHdDOZP7o5BmAnI8vOCb0v4vljubFpJXVs9nJgnO6fIsYg4k05pFnVd51_V0IuVEMneoK_GcdFWSvFVc=s64",
      "userId": "07701713045507434863"
     },
     "user_tz": -330
    },
    "id": "dsPZJ2nqtPUb",
    "outputId": "339c0a0a-3a1f-4650-ea21-97e2f6f0869c"
   },
   "outputs": [
    {
     "data": {
      "text/plain": [
       "[0.23170108579993248, 0.9583]"
      ]
     },
     "execution_count": 16,
     "metadata": {
      "tags": []
     },
     "output_type": "execute_result"
    }
   ],
   "source": [
    "score # Returns loss and metrics for the model"
   ]
  },
  {
   "cell_type": "code",
   "execution_count": 0,
   "metadata": {
    "colab": {},
    "colab_type": "code",
    "id": "XDgEySvNtRMi"
   },
   "outputs": [],
   "source": [
    "import cv2\n",
    "import matplotlib.pyplot as plt\n",
    "import seaborn as sns"
   ]
  },
  {
   "cell_type": "code",
   "execution_count": 0,
   "metadata": {
    "colab": {
     "base_uri": "https://localhost:8080/",
     "height": 34
    },
    "colab_type": "code",
    "executionInfo": {
     "elapsed": 288438,
     "status": "ok",
     "timestamp": 1575541586794,
     "user": {
      "displayName": "Avinash Gunda",
      "photoUrl": "https://lh3.googleusercontent.com/a-/AAuE7mA4XgiUDxhClB3kij0jpp27HMkQezAab977rZm1dY4DNHGSfpXHyiagIZiskYjeDmJL5JrKb0yXc37pq7W2-9C-CnhPr9dBRzUMbJQVdRHVxw699ojn99iWEl6A5d6TqGo7l_J1CLq-lzNDE2bESOgjk2xgwhmReDYw2i8Nq18qlDH_bDWAPZQHyuhZKIOXGRx5WqV48JaBd1bf4x60lTU-BCt0cjyCL0XE_kbJd8GMxZUl764MrJYN6iNc-o-Znr5stqFjqd9lBOYv6eo--6ZPr-gTe0VFMU5IBjLGhYrotpwfrsvsC6y3Y7IrQmHzKcvb7c24L3d5qES1Hg1myC4vEqxNWxCccHI7tXS1hJfMz94yr9sUJfDqvzYQcWkg5W_YHkLbKnZsZUtG0QOWFsh33X17Vpv74gSuepBNzCS-ygoBrniESlqj2SaCkX4mg3RnECIyYBgCpEEvxeZQIT1mGU1t_3u4XKU2r-txcGnsRJmGNKIlpTZqVZ5b0QxXhYTrEGu52x2U1HP68FHnyZUgi3jUqHTERW8b2eKQgw4XXbHNaw_2CQ6qLsaAzLgQRGyRA7E_54oz63TeAK8NN7St_oQzstdup494foze9G1kYVNZct-vkTrHsaDFWkwWjhlbrcvXeXb44IqTzeOBKxJN3ntBmqZKnfnFM1nfEKOBBnkXHdDOZP7o5BmAnI8vOCb0v4vljubFpJXVs9nJgnO6fIsYg4k05pFnVd51_V0IuVEMneoK_GcdFWSvFVc=s64",
      "userId": "07701713045507434863"
     },
     "user_tz": -330
    },
    "id": "CMu0dojUt7uC",
    "outputId": "89f3b4d4-d034-44de-c9b5-99e9c60ecfd9"
   },
   "outputs": [
    {
     "data": {
      "text/plain": [
       "(1, 28, 28)"
      ]
     },
     "execution_count": 18,
     "metadata": {
      "tags": []
     },
     "output_type": "execute_result"
    }
   ],
   "source": [
    "X_train[0].shape"
   ]
  },
  {
   "cell_type": "code",
   "execution_count": 0,
   "metadata": {
    "colab": {
     "base_uri": "https://localhost:8080/",
     "height": 442
    },
    "colab_type": "code",
    "executionInfo": {
     "elapsed": 2041,
     "status": "ok",
     "timestamp": 1575543235993,
     "user": {
      "displayName": "Avinash Gunda",
      "photoUrl": "https://lh3.googleusercontent.com/a-/AAuE7mAN-dW5XWBslFsjEexzwgBQEc7fXGHhtAQATDC9LzpzfqLGUTGaje9cBHUPOuSE6cU42xa9iz_BOQeOCAMyUwlQwldhD1fOILorXIiq6fmz-ZUgArVtf3N2RttYuD0dUK7b1aZOfMLM_XexCIq-6vj0Zrk_L2nqwsyAjzPRH93WvH6uIlkRVcp1359wEGv01IVzqYUXGm8Shb298HpPdtN8SnwHXHl81YPHEvSs48Lw02REmkaI2AvVp4VB-tmohshsKFFclw3_91itk4ZFqkLU4S3zbqmd5AqZ4fW1O693KTbkFBWy5e8L2ZzwAU51bXXtusfB5VFq-soCeQyORwqzzDVJwM5UWsY9bg4whU3bgcDm3Ibjf5ZmOY2HM07T-YBdXdlMVIDLt4kODTXpwkmZmDuz3m8svTQNewvbxDiMf6AY_8I2-59a9UZrWGplpafuWlG09tfnUMrR6LlvoHbCatgULrhvzNbCSv0srtA9lhFmJSak3orQ-WWkTM28CuJW_CxgkBZwyNZQC7Gohc1oLML450D8DMbUzfaDPj4HSHJt_oKzCoRd-7jCjAu6YcIrSP3d_MnigPK79bRl5lUtUJWtyrqfRLy7-CiA8MXvErm4_K_Q_bmccxP-ZIw-DfWS8CN2FnCPea_m0eHvE61Mv1UuCR-QHww6AYiMx7g99p4-SmwqpwdtJAjkKnmtiMketRfJUjXTuhIdDcRQWZigkpUrZx-zMNWCu183j_162McUPk7milt9q3mck0U=s64",
      "userId": "07701713045507434863"
     },
     "user_tz": -330
    },
    "id": "mdDWg5vmsCu7",
    "outputId": "e1de9942-0ff8-4a70-e3f7-f460dc1b876f"
   },
   "outputs": [
    {
     "data": {
      "text/plain": [
       "['Manual Neural Network.ipynb',\n",
       " 'BigMaxIndex.xlsx',\n",
       " '9.jpg',\n",
       " 'linearsgd',\n",
       " 'graph2',\n",
       " 'graph3',\n",
       " 'Keras.ipynb',\n",
       " 'CNN',\n",
       " 'RNN',\n",
       " 'Basics',\n",
       " 'mnist_data',\n",
       " 'neural_class',\n",
       " 'numberclass_nn',\n",
       " 'Keras Basic',\n",
       " 'How to overfit with Neural Network.ipynb',\n",
       " 'Variables AND Placeholders.ipynb',\n",
       " 'ANN.ipynb',\n",
       " 'Batch3034',\n",
       " 'Linear Regression - SGD1.ipynb',\n",
       " 'Face Recognition',\n",
       " 'NN Classification.ipynb',\n",
       " 'NN Classification-Adam.ipynb',\n",
       " 'Interview',\n",
       " 'Linear Regression using Neural Networks.ipynb',\n",
       " '4.jpg']"
      ]
     },
     "execution_count": 88,
     "metadata": {
      "tags": []
     },
     "output_type": "execute_result"
    }
   ],
   "source": [
    "os.listdir('/drive/My Drive/Deep Learning')"
   ]
  },
  {
   "cell_type": "code",
   "execution_count": 0,
   "metadata": {
    "colab": {
     "base_uri": "https://localhost:8080/",
     "height": 282
    },
    "colab_type": "code",
    "executionInfo": {
     "elapsed": 288416,
     "status": "ok",
     "timestamp": 1575541586795,
     "user": {
      "displayName": "Avinash Gunda",
      "photoUrl": "https://lh3.googleusercontent.com/a-/AAuE7mA4XgiUDxhClB3kij0jpp27HMkQezAab977rZm1dY4DNHGSfpXHyiagIZiskYjeDmJL5JrKb0yXc37pq7W2-9C-CnhPr9dBRzUMbJQVdRHVxw699ojn99iWEl6A5d6TqGo7l_J1CLq-lzNDE2bESOgjk2xgwhmReDYw2i8Nq18qlDH_bDWAPZQHyuhZKIOXGRx5WqV48JaBd1bf4x60lTU-BCt0cjyCL0XE_kbJd8GMxZUl764MrJYN6iNc-o-Znr5stqFjqd9lBOYv6eo--6ZPr-gTe0VFMU5IBjLGhYrotpwfrsvsC6y3Y7IrQmHzKcvb7c24L3d5qES1Hg1myC4vEqxNWxCccHI7tXS1hJfMz94yr9sUJfDqvzYQcWkg5W_YHkLbKnZsZUtG0QOWFsh33X17Vpv74gSuepBNzCS-ygoBrniESlqj2SaCkX4mg3RnECIyYBgCpEEvxeZQIT1mGU1t_3u4XKU2r-txcGnsRJmGNKIlpTZqVZ5b0QxXhYTrEGu52x2U1HP68FHnyZUgi3jUqHTERW8b2eKQgw4XXbHNaw_2CQ6qLsaAzLgQRGyRA7E_54oz63TeAK8NN7St_oQzstdup494foze9G1kYVNZct-vkTrHsaDFWkwWjhlbrcvXeXb44IqTzeOBKxJN3ntBmqZKnfnFM1nfEKOBBnkXHdDOZP7o5BmAnI8vOCb0v4vljubFpJXVs9nJgnO6fIsYg4k05pFnVd51_V0IuVEMneoK_GcdFWSvFVc=s64",
      "userId": "07701713045507434863"
     },
     "user_tz": -330
    },
    "id": "dEW4Pp8CuBRy",
    "outputId": "32a7b5a2-894e-48c9-ee1d-487e82fadf82"
   },
   "outputs": [
    {
     "data": {
      "text/plain": [
       "<matplotlib.image.AxesImage at 0x7fad7f2495f8>"
      ]
     },
     "execution_count": 20,
     "metadata": {
      "tags": []
     },
     "output_type": "execute_result"
    },
    {
     "data": {
      "image/png": "[encoded data removed]",
      "text/plain": [
       "<Figure size 432x288 with 1 Axes>"
      ]
     },
     "metadata": {
      "tags": []
     },
     "output_type": "display_data"
    }
   ],
   "source": [
    "plt.imshow(X_train[0].reshape(28,28))"
   ]
  },
  {
   "cell_type": "code",
   "execution_count": 0,
   "metadata": {
    "colab": {},
    "colab_type": "code",
    "id": "WWh-n-g7gkeq"
   },
   "outputs": [],
   "source": [
    "img = cv2.imread('/drive/MyDrive/Deep Learning/3.jpg',0) "
   ]
  },
  {
   "cell_type": "code",
   "execution_count": 0,
   "metadata": {
    "colab": {},
    "colab_type": "code",
    "id": "F7nXvkn3v6uT"
   },
   "outputs": [],
   "source": [
    "img"
   ]
  },
  {
   "cell_type": "code",
   "execution_count": 0,
   "metadata": {
    "colab": {},
    "colab_type": "code",
    "id": "ge_9IjbtvgWa"
   },
   "outputs": [],
   "source": [
    "from google.colab.patches import cv2_imshow"
   ]
  },
  {
   "cell_type": "code",
   "execution_count": 0,
   "metadata": {
    "colab": {
     "base_uri": "https://localhost:8080/",
     "height": 286
    },
    "colab_type": "code",
    "executionInfo": {
     "elapsed": 1779,
     "status": "ok",
     "timestamp": 1575541761303,
     "user": {
      "displayName": "Avinash Gunda",
      "photoUrl": "https://lh3.googleusercontent.com/a-/AAuE7mA4XgiUDxhClB3kij0jpp27HMkQezAab977rZm1dY4DNHGSfpXHyiagIZiskYjeDmJL5JrKb0yXc37pq7W2-9C-CnhPr9dBRzUMbJQVdRHVxw699ojn99iWEl6A5d6TqGo7l_J1CLq-lzNDE2bESOgjk2xgwhmReDYw2i8Nq18qlDH_bDWAPZQHyuhZKIOXGRx5WqV48JaBd1bf4x60lTU-BCt0cjyCL0XE_kbJd8GMxZUl764MrJYN6iNc-o-Znr5stqFjqd9lBOYv6eo--6ZPr-gTe0VFMU5IBjLGhYrotpwfrsvsC6y3Y7IrQmHzKcvb7c24L3d5qES1Hg1myC4vEqxNWxCccHI7tXS1hJfMz94yr9sUJfDqvzYQcWkg5W_YHkLbKnZsZUtG0QOWFsh33X17Vpv74gSuepBNzCS-ygoBrniESlqj2SaCkX4mg3RnECIyYBgCpEEvxeZQIT1mGU1t_3u4XKU2r-txcGnsRJmGNKIlpTZqVZ5b0QxXhYTrEGu52x2U1HP68FHnyZUgi3jUqHTERW8b2eKQgw4XXbHNaw_2CQ6qLsaAzLgQRGyRA7E_54oz63TeAK8NN7St_oQzstdup494foze9G1kYVNZct-vkTrHsaDFWkwWjhlbrcvXeXb44IqTzeOBKxJN3ntBmqZKnfnFM1nfEKOBBnkXHdDOZP7o5BmAnI8vOCb0v4vljubFpJXVs9nJgnO6fIsYg4k05pFnVd51_V0IuVEMneoK_GcdFWSvFVc=s64",
      "userId": "07701713045507434863"
     },
     "user_tz": -330
    },
    "id": "tn_ArJKcvpzz",
    "outputId": "e30d4652-9644-4dae-f6f7-fdf43b3c99d6"
   },
   "outputs": [
    {
     "data": {
      "text/plain": [
       "<matplotlib.image.AxesImage at 0x7fad77bc5128>"
      ]
     },
     "execution_count": 45,
     "metadata": {
      "tags": []
     },
     "output_type": "execute_result"
    },
    {
     "data": {
      "image/png": "[encoded data removed]",
      "text/plain": [
       "<Figure size 432x288 with 1 Axes>"
      ]
     },
     "metadata": {
      "tags": []
     },
     "output_type": "display_data"
    }
   ],
   "source": [
    "plt.imshow(img)"
   ]
  },
  {
   "cell_type": "code",
   "execution_count": 0,
   "metadata": {
    "colab": {},
    "colab_type": "code",
    "id": "jVRcFgYhv4fC"
   },
   "outputs": [],
   "source": [
    "# Converting the image 9 to above input image format"
   ]
  },
  {
   "cell_type": "code",
   "execution_count": 0,
   "metadata": {
    "colab": {},
    "colab_type": "code",
    "id": "CJ1AWl6TwozT"
   },
   "outputs": [],
   "source": [
    "img_not = cv2.bitwise_not(img)"
   ]
  },
  {
   "cell_type": "code",
   "execution_count": 0,
   "metadata": {
    "colab": {
     "base_uri": "https://localhost:8080/",
     "height": 136
    },
    "colab_type": "code",
    "executionInfo": {
     "elapsed": 997,
     "status": "ok",
     "timestamp": 1575541766839,
     "user": {
      "displayName": "Avinash Gunda",
      "photoUrl": "https://lh3.googleusercontent.com/a-/AAuE7mA4XgiUDxhClB3kij0jpp27HMkQezAab977rZm1dY4DNHGSfpXHyiagIZiskYjeDmJL5JrKb0yXc37pq7W2-9C-CnhPr9dBRzUMbJQVdRHVxw699ojn99iWEl6A5d6TqGo7l_J1CLq-lzNDE2bESOgjk2xgwhmReDYw2i8Nq18qlDH_bDWAPZQHyuhZKIOXGRx5WqV48JaBd1bf4x60lTU-BCt0cjyCL0XE_kbJd8GMxZUl764MrJYN6iNc-o-Znr5stqFjqd9lBOYv6eo--6ZPr-gTe0VFMU5IBjLGhYrotpwfrsvsC6y3Y7IrQmHzKcvb7c24L3d5qES1Hg1myC4vEqxNWxCccHI7tXS1hJfMz94yr9sUJfDqvzYQcWkg5W_YHkLbKnZsZUtG0QOWFsh33X17Vpv74gSuepBNzCS-ygoBrniESlqj2SaCkX4mg3RnECIyYBgCpEEvxeZQIT1mGU1t_3u4XKU2r-txcGnsRJmGNKIlpTZqVZ5b0QxXhYTrEGu52x2U1HP68FHnyZUgi3jUqHTERW8b2eKQgw4XXbHNaw_2CQ6qLsaAzLgQRGyRA7E_54oz63TeAK8NN7St_oQzstdup494foze9G1kYVNZct-vkTrHsaDFWkwWjhlbrcvXeXb44IqTzeOBKxJN3ntBmqZKnfnFM1nfEKOBBnkXHdDOZP7o5BmAnI8vOCb0v4vljubFpJXVs9nJgnO6fIsYg4k05pFnVd51_V0IuVEMneoK_GcdFWSvFVc=s64",
      "userId": "07701713045507434863"
     },
     "user_tz": -330
    },
    "id": "sTCCmrH6wusz",
    "outputId": "d7981406-0aba-4088-be7e-31bebeac2c6e"
   },
   "outputs": [
    {
     "data": {
      "text/plain": [
       "array([[0, 0, 0, ..., 0, 0, 0],\n",
       "       [0, 0, 0, ..., 0, 0, 0],\n",
       "       [0, 0, 0, ..., 0, 0, 0],\n",
       "       ...,\n",
       "       [0, 0, 0, ..., 0, 0, 0],\n",
       "       [0, 0, 0, ..., 0, 0, 0],\n",
       "       [0, 0, 0, ..., 0, 0, 0]], dtype=uint8)"
      ]
     },
     "execution_count": 47,
     "metadata": {
      "tags": []
     },
     "output_type": "execute_result"
    }
   ],
   "source": [
    "img_not"
   ]
  },
  {
   "cell_type": "code",
   "execution_count": 0,
   "metadata": {
    "colab": {
     "base_uri": "https://localhost:8080/",
     "height": 276
    },
    "colab_type": "code",
    "executionInfo": {
     "elapsed": 2336,
     "status": "ok",
     "timestamp": 1575541771139,
     "user": {
      "displayName": "Avinash Gunda",
      "photoUrl": "https://lh3.googleusercontent.com/a-/AAuE7mA4XgiUDxhClB3kij0jpp27HMkQezAab977rZm1dY4DNHGSfpXHyiagIZiskYjeDmJL5JrKb0yXc37pq7W2-9C-CnhPr9dBRzUMbJQVdRHVxw699ojn99iWEl6A5d6TqGo7l_J1CLq-lzNDE2bESOgjk2xgwhmReDYw2i8Nq18qlDH_bDWAPZQHyuhZKIOXGRx5WqV48JaBd1bf4x60lTU-BCt0cjyCL0XE_kbJd8GMxZUl764MrJYN6iNc-o-Znr5stqFjqd9lBOYv6eo--6ZPr-gTe0VFMU5IBjLGhYrotpwfrsvsC6y3Y7IrQmHzKcvb7c24L3d5qES1Hg1myC4vEqxNWxCccHI7tXS1hJfMz94yr9sUJfDqvzYQcWkg5W_YHkLbKnZsZUtG0QOWFsh33X17Vpv74gSuepBNzCS-ygoBrniESlqj2SaCkX4mg3RnECIyYBgCpEEvxeZQIT1mGU1t_3u4XKU2r-txcGnsRJmGNKIlpTZqVZ5b0QxXhYTrEGu52x2U1HP68FHnyZUgi3jUqHTERW8b2eKQgw4XXbHNaw_2CQ6qLsaAzLgQRGyRA7E_54oz63TeAK8NN7St_oQzstdup494foze9G1kYVNZct-vkTrHsaDFWkwWjhlbrcvXeXb44IqTzeOBKxJN3ntBmqZKnfnFM1nfEKOBBnkXHdDOZP7o5BmAnI8vOCb0v4vljubFpJXVs9nJgnO6fIsYg4k05pFnVd51_V0IuVEMneoK_GcdFWSvFVc=s64",
      "userId": "07701713045507434863"
     },
     "user_tz": -330
    },
    "id": "9zdKwhU3ww0j",
    "outputId": "4c5063bd-9b1d-4d74-de8f-b2fbd6fcd8be"
   },
   "outputs": [
    {
     "data": {
      "image/png": "[encoded data removed]",
      "text/plain": [
       "<Figure size 720x360 with 3 Axes>"
      ]
     },
     "metadata": {
      "tags": []
     },
     "output_type": "display_data"
    }
   ],
   "source": [
    "plt.figure(figsize=(10,5))\n",
    "plt.subplot(1,3,1)\n",
    "plt.imshow(X_train[0].reshape(28,28))\n",
    "plt.title(\"Input image to the model\")\n",
    "\n",
    "\n",
    "plt.subplot(1,3,2)\n",
    "plt.imshow(img)\n",
    "plt.title(\"Testing image\")\n",
    "\n",
    "\n",
    "plt.subplot(1,3,3)\n",
    "plt.imshow(img_not)\n",
    "plt.title(\"Processed Image same like input image\")\n",
    "plt.show()"
   ]
  },
  {
   "cell_type": "code",
   "execution_count": 0,
   "metadata": {
    "colab": {},
    "colab_type": "code",
    "id": "iWA6lpjCfkfR"
   },
   "outputs": [],
   "source": [
    "# Step - 3 : resize into 28 * 28\n",
    "img_resize = cv2.resize(img_not,(28,28))\n",
    "\n",
    "# Normalize\n",
    "img_norm = img_resize/255\n",
    "\n",
    "#step - 4 : reshape into 1 * 784\n",
    "test = img_norm.reshape(1,1,28,28)"
   ]
  },
  {
   "cell_type": "code",
   "execution_count": 0,
   "metadata": {
    "colab": {
     "base_uri": "https://localhost:8080/",
     "height": 34
    },
    "colab_type": "code",
    "executionInfo": {
     "elapsed": 1525,
     "status": "ok",
     "timestamp": 1575541859233,
     "user": {
      "displayName": "Avinash Gunda",
      "photoUrl": "https://lh3.googleusercontent.com/a-/AAuE7mA4XgiUDxhClB3kij0jpp27HMkQezAab977rZm1dY4DNHGSfpXHyiagIZiskYjeDmJL5JrKb0yXc37pq7W2-9C-CnhPr9dBRzUMbJQVdRHVxw699ojn99iWEl6A5d6TqGo7l_J1CLq-lzNDE2bESOgjk2xgwhmReDYw2i8Nq18qlDH_bDWAPZQHyuhZKIOXGRx5WqV48JaBd1bf4x60lTU-BCt0cjyCL0XE_kbJd8GMxZUl764MrJYN6iNc-o-Znr5stqFjqd9lBOYv6eo--6ZPr-gTe0VFMU5IBjLGhYrotpwfrsvsC6y3Y7IrQmHzKcvb7c24L3d5qES1Hg1myC4vEqxNWxCccHI7tXS1hJfMz94yr9sUJfDqvzYQcWkg5W_YHkLbKnZsZUtG0QOWFsh33X17Vpv74gSuepBNzCS-ygoBrniESlqj2SaCkX4mg3RnECIyYBgCpEEvxeZQIT1mGU1t_3u4XKU2r-txcGnsRJmGNKIlpTZqVZ5b0QxXhYTrEGu52x2U1HP68FHnyZUgi3jUqHTERW8b2eKQgw4XXbHNaw_2CQ6qLsaAzLgQRGyRA7E_54oz63TeAK8NN7St_oQzstdup494foze9G1kYVNZct-vkTrHsaDFWkwWjhlbrcvXeXb44IqTzeOBKxJN3ntBmqZKnfnFM1nfEKOBBnkXHdDOZP7o5BmAnI8vOCb0v4vljubFpJXVs9nJgnO6fIsYg4k05pFnVd51_V0IuVEMneoK_GcdFWSvFVc=s64",
      "userId": "07701713045507434863"
     },
     "user_tz": -330
    },
    "id": "UOJZXpNPyRh6",
    "outputId": "d38f29bb-0060-4818-d1ed-1af8c30e352b"
   },
   "outputs": [
    {
     "data": {
      "text/plain": [
       "(1, 1, 28, 28)"
      ]
     },
     "execution_count": 57,
     "metadata": {
      "tags": []
     },
     "output_type": "execute_result"
    }
   ],
   "source": [
    "test.shape"
   ]
  },
  {
   "cell_type": "code",
   "execution_count": 0,
   "metadata": {
    "colab": {
     "base_uri": "https://localhost:8080/",
     "height": 34
    },
    "colab_type": "code",
    "executionInfo": {
     "elapsed": 940,
     "status": "ok",
     "timestamp": 1575541860627,
     "user": {
      "displayName": "Avinash Gunda",
      "photoUrl": "https://lh3.googleusercontent.com/a-/AAuE7mA4XgiUDxhClB3kij0jpp27HMkQezAab977rZm1dY4DNHGSfpXHyiagIZiskYjeDmJL5JrKb0yXc37pq7W2-9C-CnhPr9dBRzUMbJQVdRHVxw699ojn99iWEl6A5d6TqGo7l_J1CLq-lzNDE2bESOgjk2xgwhmReDYw2i8Nq18qlDH_bDWAPZQHyuhZKIOXGRx5WqV48JaBd1bf4x60lTU-BCt0cjyCL0XE_kbJd8GMxZUl764MrJYN6iNc-o-Znr5stqFjqd9lBOYv6eo--6ZPr-gTe0VFMU5IBjLGhYrotpwfrsvsC6y3Y7IrQmHzKcvb7c24L3d5qES1Hg1myC4vEqxNWxCccHI7tXS1hJfMz94yr9sUJfDqvzYQcWkg5W_YHkLbKnZsZUtG0QOWFsh33X17Vpv74gSuepBNzCS-ygoBrniESlqj2SaCkX4mg3RnECIyYBgCpEEvxeZQIT1mGU1t_3u4XKU2r-txcGnsRJmGNKIlpTZqVZ5b0QxXhYTrEGu52x2U1HP68FHnyZUgi3jUqHTERW8b2eKQgw4XXbHNaw_2CQ6qLsaAzLgQRGyRA7E_54oz63TeAK8NN7St_oQzstdup494foze9G1kYVNZct-vkTrHsaDFWkwWjhlbrcvXeXb44IqTzeOBKxJN3ntBmqZKnfnFM1nfEKOBBnkXHdDOZP7o5BmAnI8vOCb0v4vljubFpJXVs9nJgnO6fIsYg4k05pFnVd51_V0IuVEMneoK_GcdFWSvFVc=s64",
      "userId": "07701713045507434863"
     },
     "user_tz": -330
    },
    "id": "mKprgyBryShj",
    "outputId": "8c0d4bae-5520-4e17-d938-b22a7ab0f7c7"
   },
   "outputs": [
    {
     "data": {
      "text/plain": [
       "(1, 28, 28)"
      ]
     },
     "execution_count": 58,
     "metadata": {
      "tags": []
     },
     "output_type": "execute_result"
    }
   ],
   "source": [
    "X_train[0].shape"
   ]
  },
  {
   "cell_type": "code",
   "execution_count": 0,
   "metadata": {
    "colab": {},
    "colab_type": "code",
    "id": "N4M8m9O8yWWj"
   },
   "outputs": [],
   "source": [
    "b = []\n",
    "for i in model.predict(test).tolist():\n",
    "  for en,j in enumerate(i):\n",
    "    b.append([j,en])"
   ]
  },
  {
   "cell_type": "code",
   "execution_count": 0,
   "metadata": {
    "colab": {
     "base_uri": "https://localhost:8080/",
     "height": 187
    },
    "colab_type": "code",
    "executionInfo": {
     "elapsed": 963,
     "status": "ok",
     "timestamp": 1575542280229,
     "user": {
      "displayName": "Avinash Gunda",
      "photoUrl": "https://lh3.googleusercontent.com/a-/AAuE7mA4XgiUDxhClB3kij0jpp27HMkQezAab977rZm1dY4DNHGSfpXHyiagIZiskYjeDmJL5JrKb0yXc37pq7W2-9C-CnhPr9dBRzUMbJQVdRHVxw699ojn99iWEl6A5d6TqGo7l_J1CLq-lzNDE2bESOgjk2xgwhmReDYw2i8Nq18qlDH_bDWAPZQHyuhZKIOXGRx5WqV48JaBd1bf4x60lTU-BCt0cjyCL0XE_kbJd8GMxZUl764MrJYN6iNc-o-Znr5stqFjqd9lBOYv6eo--6ZPr-gTe0VFMU5IBjLGhYrotpwfrsvsC6y3Y7IrQmHzKcvb7c24L3d5qES1Hg1myC4vEqxNWxCccHI7tXS1hJfMz94yr9sUJfDqvzYQcWkg5W_YHkLbKnZsZUtG0QOWFsh33X17Vpv74gSuepBNzCS-ygoBrniESlqj2SaCkX4mg3RnECIyYBgCpEEvxeZQIT1mGU1t_3u4XKU2r-txcGnsRJmGNKIlpTZqVZ5b0QxXhYTrEGu52x2U1HP68FHnyZUgi3jUqHTERW8b2eKQgw4XXbHNaw_2CQ6qLsaAzLgQRGyRA7E_54oz63TeAK8NN7St_oQzstdup494foze9G1kYVNZct-vkTrHsaDFWkwWjhlbrcvXeXb44IqTzeOBKxJN3ntBmqZKnfnFM1nfEKOBBnkXHdDOZP7o5BmAnI8vOCb0v4vljubFpJXVs9nJgnO6fIsYg4k05pFnVd51_V0IuVEMneoK_GcdFWSvFVc=s64",
      "userId": "07701713045507434863"
     },
     "user_tz": -330
    },
    "id": "HA77p2v6oSjD",
    "outputId": "0e4a5dc7-9332-4353-c1fe-19cbd1f2cdac"
   },
   "outputs": [
    {
     "data": {
      "text/plain": [
       "[[1.0, 4],\n",
       " [5.535747860108131e-09, 9],\n",
       " [1.334044201747715e-16, 7],\n",
       " [2.7306549656717586e-26, 5],\n",
       " [0.0, 8],\n",
       " [0.0, 6],\n",
       " [0.0, 3],\n",
       " [0.0, 2],\n",
       " [0.0, 1],\n",
       " [0.0, 0]]"
      ]
     },
     "execution_count": 76,
     "metadata": {
      "tags": []
     },
     "output_type": "execute_result"
    }
   ],
   "source": [
    "sorted(b,reverse=True)"
   ]
  },
  {
   "cell_type": "code",
   "execution_count": 0,
   "metadata": {
    "colab": {
     "base_uri": "https://localhost:8080/",
     "height": 34
    },
    "colab_type": "code",
    "executionInfo": {
     "elapsed": 1639,
     "status": "ok",
     "timestamp": 1575541867050,
     "user": {
      "displayName": "Avinash Gunda",
      "photoUrl": "https://lh3.googleusercontent.com/a-/AAuE7mA4XgiUDxhClB3kij0jpp27HMkQezAab977rZm1dY4DNHGSfpXHyiagIZiskYjeDmJL5JrKb0yXc37pq7W2-9C-CnhPr9dBRzUMbJQVdRHVxw699ojn99iWEl6A5d6TqGo7l_J1CLq-lzNDE2bESOgjk2xgwhmReDYw2i8Nq18qlDH_bDWAPZQHyuhZKIOXGRx5WqV48JaBd1bf4x60lTU-BCt0cjyCL0XE_kbJd8GMxZUl764MrJYN6iNc-o-Znr5stqFjqd9lBOYv6eo--6ZPr-gTe0VFMU5IBjLGhYrotpwfrsvsC6y3Y7IrQmHzKcvb7c24L3d5qES1Hg1myC4vEqxNWxCccHI7tXS1hJfMz94yr9sUJfDqvzYQcWkg5W_YHkLbKnZsZUtG0QOWFsh33X17Vpv74gSuepBNzCS-ygoBrniESlqj2SaCkX4mg3RnECIyYBgCpEEvxeZQIT1mGU1t_3u4XKU2r-txcGnsRJmGNKIlpTZqVZ5b0QxXhYTrEGu52x2U1HP68FHnyZUgi3jUqHTERW8b2eKQgw4XXbHNaw_2CQ6qLsaAzLgQRGyRA7E_54oz63TeAK8NN7St_oQzstdup494foze9G1kYVNZct-vkTrHsaDFWkwWjhlbrcvXeXb44IqTzeOBKxJN3ntBmqZKnfnFM1nfEKOBBnkXHdDOZP7o5BmAnI8vOCb0v4vljubFpJXVs9nJgnO6fIsYg4k05pFnVd51_V0IuVEMneoK_GcdFWSvFVc=s64",
      "userId": "07701713045507434863"
     },
     "user_tz": -330
    },
    "id": "L7oSQ1eX9daV",
    "outputId": "d369ea16-8600-4001-f5c0-90febb8b63d9"
   },
   "outputs": [
    {
     "data": {
      "text/plain": [
       "252"
      ]
     },
     "execution_count": 60,
     "metadata": {
      "tags": []
     },
     "output_type": "execute_result"
    }
   ],
   "source": [
    "img_resize.max()"
   ]
  },
  {
   "cell_type": "code",
   "execution_count": 0,
   "metadata": {
    "colab": {
     "base_uri": "https://localhost:8080/",
     "height": 68
    },
    "colab_type": "code",
    "executionInfo": {
     "elapsed": 1579,
     "status": "ok",
     "timestamp": 1575541872267,
     "user": {
      "displayName": "Avinash Gunda",
      "photoUrl": "https://lh3.googleusercontent.com/a-/AAuE7mA4XgiUDxhClB3kij0jpp27HMkQezAab977rZm1dY4DNHGSfpXHyiagIZiskYjeDmJL5JrKb0yXc37pq7W2-9C-CnhPr9dBRzUMbJQVdRHVxw699ojn99iWEl6A5d6TqGo7l_J1CLq-lzNDE2bESOgjk2xgwhmReDYw2i8Nq18qlDH_bDWAPZQHyuhZKIOXGRx5WqV48JaBd1bf4x60lTU-BCt0cjyCL0XE_kbJd8GMxZUl764MrJYN6iNc-o-Znr5stqFjqd9lBOYv6eo--6ZPr-gTe0VFMU5IBjLGhYrotpwfrsvsC6y3Y7IrQmHzKcvb7c24L3d5qES1Hg1myC4vEqxNWxCccHI7tXS1hJfMz94yr9sUJfDqvzYQcWkg5W_YHkLbKnZsZUtG0QOWFsh33X17Vpv74gSuepBNzCS-ygoBrniESlqj2SaCkX4mg3RnECIyYBgCpEEvxeZQIT1mGU1t_3u4XKU2r-txcGnsRJmGNKIlpTZqVZ5b0QxXhYTrEGu52x2U1HP68FHnyZUgi3jUqHTERW8b2eKQgw4XXbHNaw_2CQ6qLsaAzLgQRGyRA7E_54oz63TeAK8NN7St_oQzstdup494foze9G1kYVNZct-vkTrHsaDFWkwWjhlbrcvXeXb44IqTzeOBKxJN3ntBmqZKnfnFM1nfEKOBBnkXHdDOZP7o5BmAnI8vOCb0v4vljubFpJXVs9nJgnO6fIsYg4k05pFnVd51_V0IuVEMneoK_GcdFWSvFVc=s64",
      "userId": "07701713045507434863"
     },
     "user_tz": -330
    },
    "id": "FUjUEKZ4-U5z",
    "outputId": "530b0447-57fd-4706-b6d6-11d052fbada0"
   },
   "outputs": [
    {
     "data": {
      "text/plain": [
       "[array([0.0000000e+00, 0.0000000e+00, 0.0000000e+00, 0.0000000e+00,\n",
       "        1.0000000e+00, 2.7306550e-26, 0.0000000e+00, 1.3340442e-16,\n",
       "        0.0000000e+00, 5.5357479e-09], dtype=float32)]"
      ]
     },
     "execution_count": 61,
     "metadata": {
      "tags": []
     },
     "output_type": "execute_result"
    }
   ],
   "source": [
    "b"
   ]
  },
  {
   "cell_type": "code",
   "execution_count": 0,
   "metadata": {
    "colab": {
     "base_uri": "https://localhost:8080/",
     "height": 34
    },
    "colab_type": "code",
    "executionInfo": {
     "elapsed": 1652,
     "status": "ok",
     "timestamp": 1575553699645,
     "user": {
      "displayName": "Avinash Gunda",
      "photoUrl": "https://lh3.googleusercontent.com/a-/AAuE7mAN-dW5XWBslFsjEexzwgBQEc7fXGHhtAQATDC9LzpzfqLGUTGaje9cBHUPOuSE6cU42xa9iz_BOQeOCAMyUwlQwldhD1fOILorXIiq6fmz-ZUgArVtf3N2RttYuD0dUK7b1aZOfMLM_XexCIq-6vj0Zrk_L2nqwsyAjzPRH93WvH6uIlkRVcp1359wEGv01IVzqYUXGm8Shb298HpPdtN8SnwHXHl81YPHEvSs48Lw02REmkaI2AvVp4VB-tmohshsKFFclw3_91itk4ZFqkLU4S3zbqmd5AqZ4fW1O693KTbkFBWy5e8L2ZzwAU51bXXtusfB5VFq-soCeQyORwqzzDVJwM5UWsY9bg4whU3bgcDm3Ibjf5ZmOY2HM07T-YBdXdlMVIDLt4kODTXpwkmZmDuz3m8svTQNewvbxDiMf6AY_8I2-59a9UZrWGplpafuWlG09tfnUMrR6LlvoHbCatgULrhvzNbCSv0srtA9lhFmJSak3orQ-WWkTM28CuJW_CxgkBZwyNZQC7Gohc1oLML450D8DMbUzfaDPj4HSHJt_oKzCoRd-7jCjAu6YcIrSP3d_MnigPK79bRl5lUtUJWtyrqfRLy7-CiA8MXvErm4_K_Q_bmccxP-ZIw-DfWS8CN2FnCPea_m0eHvE61Mv1UuCR-QHww6AYiMx7g99p4-SmwqpwdtJAjkKnmtiMketRfJUjXTuhIdDcRQWZigkpUrZx-zMNWCu183j_162McUPk7milt9q3mck0U=s64",
      "userId": "07701713045507434863"
     },
     "user_tz": -330
    },
    "id": "F3pi3JqMnQ0s",
    "outputId": "d9c40456-eee9-420c-d5cf-31b9e7b4d10a"
   },
   "outputs": [
    {
     "data": {
      "text/plain": [
       "67847"
      ]
     },
     "execution_count": 15,
     "metadata": {
      "tags": []
     },
     "output_type": "execute_result"
    }
   ],
   "source": [
    "for i in model.predict(X_test):\n",
    "  "
   ]
  },
  {
   "cell_type": "code",
   "execution_count": 0,
   "metadata": {
    "colab": {
     "base_uri": "https://localhost:8080/",
     "height": 34
    },
    "colab_type": "code",
    "executionInfo": {
     "elapsed": 1218,
     "status": "ok",
     "timestamp": 1575553678952,
     "user": {
      "displayName": "Avinash Gunda",
      "photoUrl": "https://lh3.googleusercontent.com/a-/AAuE7mAN-dW5XWBslFsjEexzwgBQEc7fXGHhtAQATDC9LzpzfqLGUTGaje9cBHUPOuSE6cU42xa9iz_BOQeOCAMyUwlQwldhD1fOILorXIiq6fmz-ZUgArVtf3N2RttYuD0dUK7b1aZOfMLM_XexCIq-6vj0Zrk_L2nqwsyAjzPRH93WvH6uIlkRVcp1359wEGv01IVzqYUXGm8Shb298HpPdtN8SnwHXHl81YPHEvSs48Lw02REmkaI2AvVp4VB-tmohshsKFFclw3_91itk4ZFqkLU4S3zbqmd5AqZ4fW1O693KTbkFBWy5e8L2ZzwAU51bXXtusfB5VFq-soCeQyORwqzzDVJwM5UWsY9bg4whU3bgcDm3Ibjf5ZmOY2HM07T-YBdXdlMVIDLt4kODTXpwkmZmDuz3m8svTQNewvbxDiMf6AY_8I2-59a9UZrWGplpafuWlG09tfnUMrR6LlvoHbCatgULrhvzNbCSv0srtA9lhFmJSak3orQ-WWkTM28CuJW_CxgkBZwyNZQC7Gohc1oLML450D8DMbUzfaDPj4HSHJt_oKzCoRd-7jCjAu6YcIrSP3d_MnigPK79bRl5lUtUJWtyrqfRLy7-CiA8MXvErm4_K_Q_bmccxP-ZIw-DfWS8CN2FnCPea_m0eHvE61Mv1UuCR-QHww6AYiMx7g99p4-SmwqpwdtJAjkKnmtiMketRfJUjXTuhIdDcRQWZigkpUrZx-zMNWCu183j_162McUPk7milt9q3mck0U=s64",
      "userId": "07701713045507434863"
     },
     "user_tz": -330
    },
    "id": "LnD426QQUN4A",
    "outputId": "370c9314-6216-4b3c-f3a4-c1472eaec2b4"
   },
   "outputs": [
    {
     "data": {
      "text/plain": [
       "array([7, 2, 1, ..., 4, 5, 6], dtype=uint8)"
      ]
     },
     "execution_count": 14,
     "metadata": {
      "tags": []
     },
     "output_type": "execute_result"
    }
   ],
   "source": [
    "y_test"
   ]
  },
  {
   "cell_type": "code",
   "execution_count": 0,
   "metadata": {
    "colab": {},
    "colab_type": "code",
    "id": "UEm4UaEIUTlu"
   },
   "outputs": [],
   "source": []
  },
  {
   "cell_type": "code",
   "execution_count": 0,
   "metadata": {
    "colab": {},
    "colab_type": "code",
    "id": "6o-034Z8QQky"
   },
   "outputs": [],
   "source": [
    "model1 = joblib.load('cnn1.pkl')"
   ]
  },
  {
   "cell_type": "code",
   "execution_count": 0,
   "metadata": {
    "colab": {},
    "colab_type": "code",
    "id": "ZD5gYRo_QWkw"
   },
   "outputs": [],
   "source": [
    "img = cv2.imread('/drive/My Drive/Deep Learning/4.jpg',0)"
   ]
  },
  {
   "cell_type": "code",
   "execution_count": 15,
   "metadata": {
    "colab": {
     "base_uri": "https://localhost:8080/",
     "height": 134
    },
    "colab_type": "code",
    "executionInfo": {
     "elapsed": 1018,
     "status": "ok",
     "timestamp": 1575703773482,
     "user": {
      "displayName": "Avinash Gunda",
      "photoUrl": "https://lh3.googleusercontent.com/a-/AAuE7mBY9e7hhYkqwoEpUT3AH_666l6dID-RzjZg06DtnL1il8c2-xfwZ9V9lfFZcvSI_UTSO2jJAS52s9OPdYsu9lj5d2xj06D4X6pRP2N3mNYz_0vdXS9fRw0ALG-dsheAJncXy3FbUeDy33T_12R0wefbFqVc2zrWsLKb_R7JpjnHWF8f0HaV7621UHuvIN_2ty1pdt6v-ZOmwHIG15srl0DNgs50_SKlgyDTftIeL8vhmM1HB229IurxQ3XCNbEc6BKdD-DncMEi5-j2ZpQr1zlo6zRB2Ln6c7C7zHKQLEzDbUkjv3cIRN2VRHPR6uVyW1B5V3PMX3X_iAIcppMOXFSXykhU5sXvfH48vEyXTTWdWqmUvtqDTx5Z9lHMEhynM7lfKAFY4sI18uG5YDycquqcyr3BA5VoD9TGSzbe92GKFyJBm57JmVez28x62PTd7LVwXH9hZXeXNLrbbwyevEoxNufZ27rt4wOz08XfethUIUB2gF5f8Gn6xxP-v_rIGbkerF5s8mCJQ5TPXm_Q9L23ost7Ya3O5Lw8Eao4OYD6Skqcz4qrNajhYFkXX8WRcLxwLQCb4yDEDCyz-e2iyAYgZzTRgYrfA4H7yx4jWYhlMjFMJYUsgB3AfE0NGNFmHL8FIKI1PUByghJwnWCVAUfYIQmVCi6ZBArSpIEuF8bwLdcH6hi6HFEp--qquz_RkfJpTJlpYUk8Z6d5kAM5Pkwv1FRSlEqY92wq4mGcrHHDVNcMlX9E5kg7-iW9tEM=s64",
      "userId": "07701713045507434863"
     },
     "user_tz": -330
    },
    "id": "FWhUjQqBQ2lp",
    "outputId": "47c151ea-3116-409e-a7d6-0012cdad7247"
   },
   "outputs": [
    {
     "data": {
      "text/plain": [
       "array([[255, 255, 255, ..., 255, 255, 255],\n",
       "       [255, 255, 255, ..., 255, 255, 255],\n",
       "       [255, 255, 255, ..., 255, 255, 255],\n",
       "       ...,\n",
       "       [255, 255, 255, ..., 255, 255, 255],\n",
       "       [255, 255, 255, ..., 255, 255, 255],\n",
       "       [255, 255, 255, ..., 255, 255, 255]], dtype=uint8)"
      ]
     },
     "execution_count": 15,
     "metadata": {
      "tags": []
     },
     "output_type": "execute_result"
    }
   ],
   "source": [
    "img"
   ]
  },
  {
   "cell_type": "code",
   "execution_count": 0,
   "metadata": {
    "colab": {},
    "colab_type": "code",
    "id": "wGWxdlf4Q3ho"
   },
   "outputs": [],
   "source": [
    "img_not = cv2.bitwise_not(img)"
   ]
  },
  {
   "cell_type": "code",
   "execution_count": 17,
   "metadata": {
    "colab": {
     "base_uri": "https://localhost:8080/",
     "height": 134
    },
    "colab_type": "code",
    "executionInfo": {
     "elapsed": 1233,
     "status": "ok",
     "timestamp": 1575703863942,
     "user": {
      "displayName": "Avinash Gunda",
      "photoUrl": "https://lh3.googleusercontent.com/a-/AAuE7mBY9e7hhYkqwoEpUT3AH_666l6dID-RzjZg06DtnL1il8c2-xfwZ9V9lfFZcvSI_UTSO2jJAS52s9OPdYsu9lj5d2xj06D4X6pRP2N3mNYz_0vdXS9fRw0ALG-dsheAJncXy3FbUeDy33T_12R0wefbFqVc2zrWsLKb_R7JpjnHWF8f0HaV7621UHuvIN_2ty1pdt6v-ZOmwHIG15srl0DNgs50_SKlgyDTftIeL8vhmM1HB229IurxQ3XCNbEc6BKdD-DncMEi5-j2ZpQr1zlo6zRB2Ln6c7C7zHKQLEzDbUkjv3cIRN2VRHPR6uVyW1B5V3PMX3X_iAIcppMOXFSXykhU5sXvfH48vEyXTTWdWqmUvtqDTx5Z9lHMEhynM7lfKAFY4sI18uG5YDycquqcyr3BA5VoD9TGSzbe92GKFyJBm57JmVez28x62PTd7LVwXH9hZXeXNLrbbwyevEoxNufZ27rt4wOz08XfethUIUB2gF5f8Gn6xxP-v_rIGbkerF5s8mCJQ5TPXm_Q9L23ost7Ya3O5Lw8Eao4OYD6Skqcz4qrNajhYFkXX8WRcLxwLQCb4yDEDCyz-e2iyAYgZzTRgYrfA4H7yx4jWYhlMjFMJYUsgB3AfE0NGNFmHL8FIKI1PUByghJwnWCVAUfYIQmVCi6ZBArSpIEuF8bwLdcH6hi6HFEp--qquz_RkfJpTJlpYUk8Z6d5kAM5Pkwv1FRSlEqY92wq4mGcrHHDVNcMlX9E5kg7-iW9tEM=s64",
      "userId": "07701713045507434863"
     },
     "user_tz": -330
    },
    "id": "xCXpixCoRL_I",
    "outputId": "1180f8b6-584d-4a53-feb3-ed8f515f41d8"
   },
   "outputs": [
    {
     "data": {
      "text/plain": [
       "array([[0, 0, 0, ..., 0, 0, 0],\n",
       "       [0, 0, 0, ..., 0, 0, 0],\n",
       "       [0, 0, 0, ..., 0, 0, 0],\n",
       "       ...,\n",
       "       [0, 0, 0, ..., 0, 0, 0],\n",
       "       [0, 0, 0, ..., 0, 0, 0],\n",
       "       [0, 0, 0, ..., 0, 0, 0]], dtype=uint8)"
      ]
     },
     "execution_count": 17,
     "metadata": {
      "tags": []
     },
     "output_type": "execute_result"
    }
   ],
   "source": [
    "img_not"
   ]
  },
  {
   "cell_type": "code",
   "execution_count": 0,
   "metadata": {
    "colab": {},
    "colab_type": "code",
    "id": "4DSrELZ1RNtD"
   },
   "outputs": [],
   "source": [
    "# Step - 3 : resize into 28 * 28\n",
    "img_resize = cv2.resize(img_not,(28,28))\n",
    "\n",
    "# Normalize\n",
    "img_norm = img_resize/255\n",
    "\n",
    "#step - 4 : reshape into 1 * 784\n",
    "test = img_norm.reshape(1,1,28,28)"
   ]
  },
  {
   "cell_type": "code",
   "execution_count": 20,
   "metadata": {
    "colab": {
     "base_uri": "https://localhost:8080/",
     "height": 34
    },
    "colab_type": "code",
    "executionInfo": {
     "elapsed": 1631,
     "status": "ok",
     "timestamp": 1575703987098,
     "user": {
      "displayName": "Avinash Gunda",
      "photoUrl": "https://lh3.googleusercontent.com/a-/AAuE7mBY9e7hhYkqwoEpUT3AH_666l6dID-RzjZg06DtnL1il8c2-xfwZ9V9lfFZcvSI_UTSO2jJAS52s9OPdYsu9lj5d2xj06D4X6pRP2N3mNYz_0vdXS9fRw0ALG-dsheAJncXy3FbUeDy33T_12R0wefbFqVc2zrWsLKb_R7JpjnHWF8f0HaV7621UHuvIN_2ty1pdt6v-ZOmwHIG15srl0DNgs50_SKlgyDTftIeL8vhmM1HB229IurxQ3XCNbEc6BKdD-DncMEi5-j2ZpQr1zlo6zRB2Ln6c7C7zHKQLEzDbUkjv3cIRN2VRHPR6uVyW1B5V3PMX3X_iAIcppMOXFSXykhU5sXvfH48vEyXTTWdWqmUvtqDTx5Z9lHMEhynM7lfKAFY4sI18uG5YDycquqcyr3BA5VoD9TGSzbe92GKFyJBm57JmVez28x62PTd7LVwXH9hZXeXNLrbbwyevEoxNufZ27rt4wOz08XfethUIUB2gF5f8Gn6xxP-v_rIGbkerF5s8mCJQ5TPXm_Q9L23ost7Ya3O5Lw8Eao4OYD6Skqcz4qrNajhYFkXX8WRcLxwLQCb4yDEDCyz-e2iyAYgZzTRgYrfA4H7yx4jWYhlMjFMJYUsgB3AfE0NGNFmHL8FIKI1PUByghJwnWCVAUfYIQmVCi6ZBArSpIEuF8bwLdcH6hi6HFEp--qquz_RkfJpTJlpYUk8Z6d5kAM5Pkwv1FRSlEqY92wq4mGcrHHDVNcMlX9E5kg7-iW9tEM=s64",
      "userId": "07701713045507434863"
     },
     "user_tz": -330
    },
    "id": "-LpUp1r5RaqQ",
    "outputId": "8369c36d-8898-4c5e-8111-641fc24651b3"
   },
   "outputs": [
    {
     "data": {
      "text/plain": [
       "7"
      ]
     },
     "execution_count": 20,
     "metadata": {
      "tags": []
     },
     "output_type": "execute_result"
    }
   ],
   "source": [
    "model1.predict(test).argmax()"
   ]
  },
  {
   "cell_type": "code",
   "execution_count": 0,
   "metadata": {
    "colab": {},
    "colab_type": "code",
    "id": "fxcuHgwfRebp"
   },
   "outputs": [],
   "source": []
  }
 ],
 "metadata": {
  "accelerator": "GPU",
  "colab": {
   "name": "MNIST Keras.ipynb",
   "provenance": []
  },
  "kernelspec": {
   "display_name": "Python 3",
   "language": "python",
   "name": "python3"
  },
  "language_info": {
   "codemirror_mode": {
    "name": "ipython",
    "version": 3
   },
   "file_extension": ".py",
   "mimetype": "text/x-python",
   "name": "python",
   "nbconvert_exporter": "python",
   "pygments_lexer": "ipython3",
   "version": "3.7.3"
  }
 },
 "nbformat": 4,
 "nbformat_minor": 1
}
