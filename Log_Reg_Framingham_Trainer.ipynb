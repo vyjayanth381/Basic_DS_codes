{
 "cells": [
  {
   "cell_type": "code",
   "execution_count": 2,
   "metadata": {
    "collapsed": true
   },
   "outputs": [],
   "source": [
    "import pandas as pd\n",
    "import numpy as np\n",
    "import os\n",
    "\n",
    "from sklearn.preprocessing import LabelEncoder\n",
    "from sklearn.model_selection import train_test_split\n",
    "\n",
    "from sklearn.linear_model import LogisticRegression\n",
    "from sklearn.metrics import accuracy_score, auc, confusion_matrix, roc_auc_score, roc_curve, recall_score"
   ]
  },
  {
   "cell_type": "code",
   "execution_count": 3,
   "metadata": {},
   "outputs": [
    {
     "data": {
      "text/plain": [
       "male                 int64\n",
       "age                  int64\n",
       "education          float64\n",
       "currentSmoker        int64\n",
       "cigsPerDay         float64\n",
       "BPMeds             float64\n",
       "prevalentStroke      int64\n",
       "prevalentHyp         int64\n",
       "diabetes             int64\n",
       "totChol            float64\n",
       "sysBP              float64\n",
       "diaBP              float64\n",
       "BMI                float64\n",
       "heartRate          float64\n",
       "glucose            float64\n",
       "TenYearCHD           int64\n",
       "dtype: object"
      ]
     },
     "execution_count": 3,
     "metadata": {},
     "output_type": "execute_result"
    }
   ],
   "source": [
    "os.chdir(\"C:\\Python Trainer\\mlarmy\\Online Class\\Logistic Regression\")\n",
    "fram_data = pd.read_csv(\"framingham.csv\")\n",
    "fram_data.head()\n",
    "fram_data.columns\n",
    "fram_data.dtypes"
   ]
  },
  {
   "cell_type": "code",
   "execution_count": 4,
   "metadata": {},
   "outputs": [
    {
     "name": "stdout",
     "output_type": "stream",
     "text": [
      "male                 0\n",
      "age                  0\n",
      "education          105\n",
      "currentSmoker        0\n",
      "cigsPerDay          29\n",
      "BPMeds              53\n",
      "prevalentStroke      0\n",
      "prevalentHyp         0\n",
      "diabetes             0\n",
      "totChol             50\n",
      "sysBP                0\n",
      "diaBP                0\n",
      "BMI                 19\n",
      "heartRate            1\n",
      "glucose            388\n",
      "TenYearCHD           0\n",
      "dtype: int64\n",
      "male               0\n",
      "age                0\n",
      "education          0\n",
      "currentSmoker      0\n",
      "cigsPerDay         0\n",
      "BPMeds             0\n",
      "prevalentStroke    0\n",
      "prevalentHyp       0\n",
      "diabetes           0\n",
      "totChol            0\n",
      "sysBP              0\n",
      "diaBP              0\n",
      "BMI                0\n",
      "heartRate          0\n",
      "glucose            0\n",
      "TenYearCHD         0\n",
      "dtype: int64\n"
     ]
    }
   ],
   "source": [
    "#lets check null values first and use fillna function to fill the null values\n",
    "print(fram_data.isnull().sum())\n",
    "m = fram_data.education.mode()\n",
    "fram_data.education = fram_data.education.fillna(int(m))\n",
    "fram_data.cigsPerDay = fram_data.cigsPerDay.fillna(int(fram_data.cigsPerDay.mean()))\n",
    "fram_data.BPMeds = fram_data.BPMeds.fillna(int(fram_data.BPMeds.mode()))\n",
    "fram_data.totChol = fram_data.totChol.fillna(int(fram_data.totChol.mean()))\n",
    "fram_data.BMI = fram_data.BMI.fillna(int(fram_data.BMI.mean()))\n",
    "fram_data.heartRate = fram_data.heartRate.fillna(int(fram_data.heartRate.mean()))\n",
    "fram_data.glucose = fram_data.glucose.fillna(int(fram_data.glucose.mean()))\n",
    "print(fram_data.isnull().sum())"
   ]
  },
  {
   "cell_type": "markdown",
   "metadata": {},
   "source": [
    "#Perform some type conversions. The following cols should be catagorical type and so change the dtype to 'object'\n",
    "#'male', 'education', 'currentSmoker', 'BPMeds', 'prevalentStroke', 'prevalentHyp', 'diabetes'\n",
    "#The following cols should be numeric integers so convert to 'int64'\n",
    "#'age', 'cigsPerDay', 'totChol', 'heartRate', 'glucose'"
   ]
  },
  {
   "cell_type": "code",
   "execution_count": 5,
   "metadata": {},
   "outputs": [
    {
     "name": "stdout",
     "output_type": "stream",
     "text": [
      "male                object\n",
      "age                  int64\n",
      "education           object\n",
      "currentSmoker       object\n",
      "cigsPerDay         float64\n",
      "BPMeds              object\n",
      "prevalentStroke     object\n",
      "prevalentHyp        object\n",
      "diabetes            object\n",
      "totChol            float64\n",
      "sysBP              float64\n",
      "diaBP              float64\n",
      "BMI                float64\n",
      "heartRate          float64\n",
      "glucose            float64\n",
      "TenYearCHD           int64\n",
      "dtype: object\n",
      "----------------------------------------\n",
      "male                object\n",
      "age                  int64\n",
      "education           object\n",
      "currentSmoker       object\n",
      "cigsPerDay           int64\n",
      "BPMeds              object\n",
      "prevalentStroke     object\n",
      "prevalentHyp        object\n",
      "diabetes            object\n",
      "totChol              int64\n",
      "sysBP              float64\n",
      "diaBP              float64\n",
      "BMI                float64\n",
      "heartRate            int64\n",
      "glucose              int64\n",
      "TenYearCHD           int64\n",
      "dtype: object\n"
     ]
    }
   ],
   "source": [
    "cat_cols = ['male', 'education', 'currentSmoker', 'BPMeds', 'prevalentStroke', 'prevalentHyp', 'diabetes']\n",
    "for i in cat_cols:\n",
    "    fram_data[i] = fram_data[i].astype(np.object)\n",
    "print(fram_data.dtypes)\n",
    "print(\"----------------------------------------\")\n",
    "\n",
    "num_int64_cols = ['age', 'cigsPerDay', 'totChol', 'heartRate', 'glucose']\n",
    "for i in num_int64_cols:\n",
    "    fram_data[i] = fram_data[i].astype(np.int64)\n",
    "print(fram_data.dtypes)\n"
   ]
  },
  {
   "cell_type": "code",
   "execution_count": 6,
   "metadata": {},
   "outputs": [
    {
     "name": "stdout",
     "output_type": "stream",
     "text": [
      "(2968, 15) (1272, 15) (2968,) (1272,)\n"
     ]
    }
   ],
   "source": [
    "fram_data.head()\n",
    "#We are all set to split the data into train and test\n",
    "X = fram_data.drop('TenYearCHD', axis = 1)\n",
    "X.head()\n",
    "y = fram_data[\"TenYearCHD\"]\n",
    "y.head()\n",
    "\n",
    "#Lets use train_test_split to split X and y into train and test \n",
    "x_train, x_test, y_train, y_test = train_test_split(X, y, test_size = 0.3, random_state = 100)\n",
    "print(x_train.shape, x_test.shape, y_train.shape, y_test.shape)"
   ]
  },
  {
   "cell_type": "markdown",
   "metadata": {},
   "source": [
    "#Build logistic regression model "
   ]
  },
  {
   "cell_type": "code",
   "execution_count": 7,
   "metadata": {},
   "outputs": [
    {
     "name": "stdout",
     "output_type": "stream",
     "text": [
      "Model accuracy on train is:  0.850404312668\n",
      "Model accuracy on test is:  0.86320754717\n",
      "ROC score on train is:  0.531463241424\n",
      "ROC score on test is:  0.527699607666\n",
      "confusion_matrix train is:  [[2493    9]\n",
      " [ 435   31]]\n",
      "confusion_matrix test is:  [[1087    7]\n",
      " [ 167   11]]\n"
     ]
    }
   ],
   "source": [
    "#fit the model on train data \n",
    "log_reg = LogisticRegression().fit(x_train, y_train)\n",
    "\n",
    "#predict on train \n",
    "train_preds = log_reg.predict(x_train)\n",
    "#accuracy on train\n",
    "print(\"Model accuracy on train is: \", accuracy_score(y_train, train_preds))\n",
    "\n",
    "#predict on test\n",
    "test_preds = log_reg.predict(x_test)\n",
    "#accuracy on test\n",
    "print(\"Model accuracy on test is: \", accuracy_score(y_test, test_preds))\n",
    "\n",
    "#We got good accuracy which means our model is performing quite well \n",
    "#ROC \n",
    "print(\"ROC score on train is: \", roc_auc_score(y_train, train_preds))\n",
    "print(\"ROC score on test is: \", roc_auc_score(y_test, test_preds))\n",
    "\n",
    "#Confusion matrix\n",
    "print(\"confusion_matrix train is: \", confusion_matrix(y_train, train_preds))\n",
    "print(\"confusion_matrix test is: \", confusion_matrix(y_test, test_preds))\n"
   ]
  },
  {
   "cell_type": "code",
   "execution_count": 8,
   "metadata": {
    "collapsed": true
   },
   "outputs": [],
   "source": [
    "import scikitplot as skplt\n",
    "import matplotlib.pyplot as plt"
   ]
  },
  {
   "cell_type": "code",
   "execution_count": 9,
   "metadata": {},
   "outputs": [
    {
     "data": {
      "image/png": "[encoded data removed]",
      "text/plain": [
       "<matplotlib.figure.Figure at 0x2ba689f1780>"
      ]
     },
     "metadata": {},
     "output_type": "display_data"
    }
   ],
   "source": [
    "skplt.metrics.plot_roc(y_test,log_reg.predict_proba(x_test))\n",
    "plt.show()"
   ]
  },
  {
   "cell_type": "markdown",
   "metadata": {},
   "source": [
    "Conclusion: \n",
    "#The accuracy is very good (above 80%) however AUC value is on the lower side. We may have requested more data from client inorder to improve AUC score while not compromising on accuracy which is most widely used metric in classification problems. "
   ]
  }
 ],
 "metadata": {
  "kernelspec": {
   "display_name": "Python 3",
   "language": "python",
   "name": "python3"
  },
  "language_info": {
   "codemirror_mode": {
    "name": "ipython",
    "version": 3
   },
   "file_extension": ".py",
   "mimetype": "text/x-python",
   "name": "python",
   "nbconvert_exporter": "python",
   "pygments_lexer": "ipython3",
   "version": "3.7.3"
  }
 },
 "nbformat": 4,
 "nbformat_minor": 2
}
