{
 "cells": [
  {
   "cell_type": "code",
   "execution_count": 6,
   "metadata": {},
   "outputs": [],
   "source": [
    "import re"
   ]
  },
  {
   "cell_type": "code",
   "execution_count": 2,
   "metadata": {},
   "outputs": [],
   "source": [
    "text=\"\"\"A short story is a piece of prose fiction that typically can be read in one sitting and focuses on a self-contained incident or series of linked incidents, with the intent of evoking a \"single effect\" or mood, however there are many exceptions to this.\n",
    "\n",
    "A dictionary definition is \"an invented prose narrative shorter than a novel usually dealing with a few characters and aiming at unity of effect and often concentrating on the creation of mood rather than plot.\"[1]\n",
    "\n",
    "The short story is a crafted form in its own right. Short stories make use of plot, resonance, and other dynamic components as in a novel, but typically to a lesser degree. While the short story is largely distinct from the novel or novella (a shorter novel), authors generally draw from a common pool of literary techniques.\n",
    "\n",
    "Short story writers may define their works as part of the artistic and personal expression of the form. They may also attempt to resist categorization by genre and fixed formation.\"\"\""
   ]
  },
  {
   "cell_type": "code",
   "execution_count": 3,
   "metadata": {
    "scrolled": true
   },
   "outputs": [
    {
     "data": {
      "text/plain": [
       "'A short story is a piece of prose fiction that typically can be read in one sitting and focuses on a self-contained incident or series of linked incidents, with the intent of evoking a \"single effect\" or mood, however there are many exceptions to this.\\n\\nA dictionary definition is \"an invented prose narrative shorter than a novel usually dealing with a few characters and aiming at unity of effect and often concentrating on the creation of mood rather than plot.\"[1]\\n\\nThe short story is a crafted form in its own right. Short stories make use of plot, resonance, and other dynamic components as in a novel, but typically to a lesser degree. While the short story is largely distinct from the novel or novella (a shorter novel), authors generally draw from a common pool of literary techniques.\\n\\nShort story writers may define their works as part of the artistic and personal expression of the form. They may also attempt to resist categorization by genre and fixed formation.'"
      ]
     },
     "execution_count": 3,
     "metadata": {},
     "output_type": "execute_result"
    }
   ],
   "source": [
    "text"
   ]
  },
  {
   "cell_type": "code",
   "execution_count": 13,
   "metadata": {},
   "outputs": [
    {
     "data": {
      "text/plain": [
       "['a',\n",
       " 'short',\n",
       " 'story',\n",
       " 'is',\n",
       " 'a',\n",
       " 'piece',\n",
       " 'of',\n",
       " 'prose',\n",
       " 'fiction',\n",
       " 'that',\n",
       " 'typically',\n",
       " 'can',\n",
       " 'be',\n",
       " 'read',\n",
       " 'in',\n",
       " 'one',\n",
       " 'sitting',\n",
       " 'and',\n",
       " 'focuses',\n",
       " 'on',\n",
       " 'a',\n",
       " 'self-contained',\n",
       " 'incident',\n",
       " 'or',\n",
       " 'series',\n",
       " 'of',\n",
       " 'linked',\n",
       " 'incidents,',\n",
       " 'with',\n",
       " 'the',\n",
       " 'intent',\n",
       " 'of',\n",
       " 'evoking',\n",
       " 'a',\n",
       " '\"single',\n",
       " 'effect\"',\n",
       " 'or',\n",
       " 'mood,',\n",
       " 'however',\n",
       " 'there',\n",
       " 'are',\n",
       " 'many',\n",
       " 'exceptions',\n",
       " 'to',\n",
       " 'this.',\n",
       " 'a',\n",
       " 'dictionary',\n",
       " 'definition',\n",
       " 'is',\n",
       " '\"an',\n",
       " 'invented',\n",
       " 'prose',\n",
       " 'narrative',\n",
       " 'shorter',\n",
       " 'than',\n",
       " 'a',\n",
       " 'novel',\n",
       " 'usually',\n",
       " 'dealing',\n",
       " 'with',\n",
       " 'a',\n",
       " 'few',\n",
       " 'characters',\n",
       " 'and',\n",
       " 'aiming',\n",
       " 'at',\n",
       " 'unity',\n",
       " 'of',\n",
       " 'effect',\n",
       " 'and',\n",
       " 'often',\n",
       " 'concentrating',\n",
       " 'on',\n",
       " 'the',\n",
       " 'creation',\n",
       " 'of',\n",
       " 'mood',\n",
       " 'rather',\n",
       " 'than',\n",
       " 'plot.\"[1]',\n",
       " 'the',\n",
       " 'short',\n",
       " 'story',\n",
       " 'is',\n",
       " 'a',\n",
       " 'crafted',\n",
       " 'form',\n",
       " 'in',\n",
       " 'its',\n",
       " 'own',\n",
       " 'right.',\n",
       " 'short',\n",
       " 'stories',\n",
       " 'make',\n",
       " 'use',\n",
       " 'of',\n",
       " 'plot,',\n",
       " 'resonance,',\n",
       " 'and',\n",
       " 'other',\n",
       " 'dynamic',\n",
       " 'components',\n",
       " 'as',\n",
       " 'in',\n",
       " 'a',\n",
       " 'novel,',\n",
       " 'but',\n",
       " 'typically',\n",
       " 'to',\n",
       " 'a',\n",
       " 'lesser',\n",
       " 'degree.',\n",
       " 'while',\n",
       " 'the',\n",
       " 'short',\n",
       " 'story',\n",
       " 'is',\n",
       " 'largely',\n",
       " 'distinct',\n",
       " 'from',\n",
       " 'the',\n",
       " 'novel',\n",
       " 'or',\n",
       " 'novella',\n",
       " '(a',\n",
       " 'shorter',\n",
       " 'novel),',\n",
       " 'authors',\n",
       " 'generally',\n",
       " 'draw',\n",
       " 'from',\n",
       " 'a',\n",
       " 'common',\n",
       " 'pool',\n",
       " 'of',\n",
       " 'literary',\n",
       " 'techniques.',\n",
       " 'short',\n",
       " 'story',\n",
       " 'writers',\n",
       " 'may',\n",
       " 'define',\n",
       " 'their',\n",
       " 'works',\n",
       " 'as',\n",
       " 'part',\n",
       " 'of',\n",
       " 'the',\n",
       " 'artistic',\n",
       " 'and',\n",
       " 'personal',\n",
       " 'expression',\n",
       " 'of',\n",
       " 'the',\n",
       " 'form.',\n",
       " 'they',\n",
       " 'may',\n",
       " 'also',\n",
       " 'attempt',\n",
       " 'to',\n",
       " 'resist',\n",
       " 'categorization',\n",
       " 'by',\n",
       " 'genre',\n",
       " 'and',\n",
       " 'fixed',\n",
       " 'formation.']"
      ]
     },
     "execution_count": 13,
     "metadata": {},
     "output_type": "execute_result"
    }
   ],
   "source": [
    "lst= text.split()\n",
    "lst"
   ]
  },
  {
   "cell_type": "code",
   "execution_count": 5,
   "metadata": {},
   "outputs": [
    {
     "name": "stdout",
     "output_type": "stream",
     "text": [
      "['a', 'short', 'story', 'is', 'a', 'piece', 'of', 'prose', 'fiction', 'that', 'typically', 'can', 'be', 'read', 'in', 'one', 'sitting', 'and', 'focuses', 'on', 'a', 'self-contained', 'incident', 'or', 'series', 'of', 'linked', 'incidents,', 'with', 'the', 'intent', 'of', 'evoking', 'a', '\"single', 'effect\"', 'or', 'mood,', 'however', 'there', 'are', 'many', 'exceptions', 'to', 'this.', 'a', 'dictionary', 'definition', 'is', '\"an', 'invented', 'prose', 'narrative', 'shorter', 'than', 'a', 'novel', 'usually', 'dealing', 'with', 'a', 'few', 'characters', 'and', 'aiming', 'at', 'unity', 'of', 'effect', 'and', 'often', 'concentrating', 'on', 'the', 'creation', 'of', 'mood', 'rather', 'than', 'plot.\"[1]', 'the', 'short', 'story', 'is', 'a', 'crafted', 'form', 'in', 'its', 'own', 'right.', 'short', 'stories', 'make', 'use', 'of', 'plot,', 'resonance,', 'and', 'other', 'dynamic', 'components', 'as', 'in', 'a', 'novel,', 'but', 'typically', 'to', 'a', 'lesser', 'degree.', 'while', 'the', 'short', 'story', 'is', 'largely', 'distinct', 'from', 'the', 'novel', 'or', 'novella', '(a', 'shorter', 'novel),', 'authors', 'generally', 'draw', 'from', 'a', 'common', 'pool', 'of', 'literary', 'techniques.', 'short', 'story', 'writers', 'may', 'define', 'their', 'works', 'as', 'part', 'of', 'the', 'artistic', 'and', 'personal', 'expression', 'of', 'the', 'form.', 'they', 'may', 'also', 'attempt', 'to', 'resist', 'categorization', 'by', 'genre', 'and', 'fixed', 'formation.']\n"
     ]
    }
   ],
   "source": [
    "text= text.lower()\n",
    "tokens= text.split()\n",
    "print(tokens)"
   ]
  },
  {
   "cell_type": "code",
   "execution_count": 7,
   "metadata": {},
   "outputs": [
    {
     "data": {
      "text/plain": [
       "['self-contained', 'linked', 'invented', 'crafted', 'fixed']"
      ]
     },
     "execution_count": 7,
     "metadata": {},
     "output_type": "execute_result"
    }
   ],
   "source": [
    "ende=[]\n",
    "for words in tokens:\n",
    "    if words.endswith('ed'):\n",
    "        ende.append(words)\n",
    "ende\n",
    "#e=set(ende)\n",
    "#print(\"The list ends with e :\"\"\\n\" ,e)"
   ]
  },
  {
   "cell_type": "code",
   "execution_count": 11,
   "metadata": {},
   "outputs": [
    {
     "data": {
      "text/plain": [
       "'self-contained, linked, invented, crafted, fixed'"
      ]
     },
     "execution_count": 11,
     "metadata": {},
     "output_type": "execute_result"
    }
   ],
   "source": [
    "end=\", \".join(ende)\n",
    "end"
   ]
  },
  {
   "cell_type": "markdown",
   "metadata": {},
   "source": [
    "**or**"
   ]
  },
  {
   "cell_type": "code",
   "execution_count": 15,
   "metadata": {},
   "outputs": [
    {
     "data": {
      "text/plain": [
       "['self-contained', 'linked', 'invented', 'crafted', 'fixed']"
      ]
     },
     "execution_count": 15,
     "metadata": {},
     "output_type": "execute_result"
    }
   ],
   "source": [
    "[i for i in lst if i.endswith('ed')]   #----> this is only edns with ed"
   ]
  },
  {
   "cell_type": "code",
   "execution_count": 16,
   "metadata": {},
   "outputs": [
    {
     "data": {
      "text/plain": [
       "['self-contained', 'linked', 'invented', 'crafted', 'fixed']"
      ]
     },
     "execution_count": 16,
     "metadata": {},
     "output_type": "execute_result"
    }
   ],
   "source": [
    "[i for i in lst if 'ed' in i]    #------> this is letters ed in a word"
   ]
  },
  {
   "cell_type": "markdown",
   "metadata": {},
   "source": [
    "#### MATCH"
   ]
  },
  {
   "cell_type": "code",
   "execution_count": 26,
   "metadata": {},
   "outputs": [
    {
     "name": "stdout",
     "output_type": "stream",
     "text": [
      "<re.Match object; span=(0, 1), match='A'>\n",
      "A\n"
     ]
    }
   ],
   "source": [
    "result= re.match(r'A', text)\n",
    "print(result)\n",
    "print(result.group(0))"
   ]
  },
  {
   "cell_type": "code",
   "execution_count": 27,
   "metadata": {},
   "outputs": [
    {
     "name": "stdout",
     "output_type": "stream",
     "text": [
      "None\n"
     ]
    },
    {
     "ename": "AttributeError",
     "evalue": "'NoneType' object has no attribute 'group'",
     "output_type": "error",
     "traceback": [
      "\u001b[1;31m---------------------------------------------------------------------------\u001b[0m",
      "\u001b[1;31mAttributeError\u001b[0m                            Traceback (most recent call last)",
      "\u001b[1;32m<ipython-input-27-a1d3e439881c>\u001b[0m in \u001b[0;36m<module>\u001b[1;34m\u001b[0m\n\u001b[0;32m      1\u001b[0m \u001b[0mresult\u001b[0m\u001b[1;33m=\u001b[0m \u001b[0mre\u001b[0m\u001b[1;33m.\u001b[0m\u001b[0mmatch\u001b[0m\u001b[1;33m(\u001b[0m\u001b[1;34mr'ed'\u001b[0m\u001b[1;33m,\u001b[0m \u001b[0mtext\u001b[0m\u001b[1;33m)\u001b[0m\u001b[1;33m\u001b[0m\u001b[1;33m\u001b[0m\u001b[0m\n\u001b[0;32m      2\u001b[0m \u001b[0mprint\u001b[0m\u001b[1;33m(\u001b[0m\u001b[0mresult\u001b[0m\u001b[1;33m)\u001b[0m\u001b[1;33m\u001b[0m\u001b[1;33m\u001b[0m\u001b[0m\n\u001b[1;32m----> 3\u001b[1;33m \u001b[0mprint\u001b[0m\u001b[1;33m(\u001b[0m\u001b[0mresult\u001b[0m\u001b[1;33m.\u001b[0m\u001b[0mgroup\u001b[0m\u001b[1;33m(\u001b[0m\u001b[1;36m0\u001b[0m\u001b[1;33m)\u001b[0m\u001b[1;33m)\u001b[0m\u001b[1;33m\u001b[0m\u001b[1;33m\u001b[0m\u001b[0m\n\u001b[0m",
      "\u001b[1;31mAttributeError\u001b[0m: 'NoneType' object has no attribute 'group'"
     ]
    }
   ],
   "source": [
    "result= re.match(r'ed', text)\n",
    "print(result)\n",
    "print(result.group(0))    #----> there word starts with ed"
   ]
  },
  {
   "cell_type": "code",
   "execution_count": 40,
   "metadata": {},
   "outputs": [
    {
     "name": "stdout",
     "output_type": "stream",
     "text": [
      "A\n",
      "A\n"
     ]
    }
   ],
   "source": [
    "for i in text.split():\n",
    "    result= re.match(r'A',i)\n",
    "    if result:\n",
    "        print(i)"
   ]
  },
  {
   "cell_type": "markdown",
   "metadata": {},
   "source": [
    "### SEARCH:"
   ]
  },
  {
   "cell_type": "code",
   "execution_count": 32,
   "metadata": {},
   "outputs": [
    {
     "name": "stdout",
     "output_type": "stream",
     "text": [
      "<re.Match object; span=(14, 15), match='i'>\n",
      "i\n"
     ]
    }
   ],
   "source": [
    "result= re.search(r'i', text)\n",
    "print(result)\n",
    "print(result.group(0))"
   ]
  },
  {
   "cell_type": "code",
   "execution_count": 38,
   "metadata": {},
   "outputs": [
    {
     "name": "stdout",
     "output_type": "stream",
     "text": [
      "is\n",
      "piece\n",
      "fiction\n",
      "typically\n",
      "in\n",
      "sitting\n",
      "self-contained\n",
      "incident\n",
      "series\n",
      "linked\n",
      "incidents,\n",
      "with\n",
      "intent\n",
      "evoking\n",
      "\"single\n",
      "exceptions\n",
      "this.\n",
      "dictionary\n",
      "definition\n",
      "is\n",
      "invented\n",
      "narrative\n",
      "dealing\n",
      "with\n",
      "aiming\n",
      "unity\n",
      "concentrating\n",
      "creation\n",
      "is\n",
      "in\n",
      "its\n",
      "right.\n",
      "stories\n",
      "dynamic\n",
      "in\n",
      "typically\n",
      "While\n",
      "is\n",
      "distinct\n",
      "literary\n",
      "techniques.\n",
      "writers\n",
      "define\n",
      "their\n",
      "artistic\n",
      "expression\n",
      "resist\n",
      "categorization\n",
      "fixed\n",
      "formation.\n"
     ]
    }
   ],
   "source": [
    "for i in text.split():\n",
    "    result= re.search(r'i',i)\n",
    "    if result:        #---> if result bcoz if there is any reult matches then only it will print\n",
    "        print(i)"
   ]
  },
  {
   "cell_type": "code",
   "execution_count": 37,
   "metadata": {},
   "outputs": [
    {
     "name": "stdout",
     "output_type": "stream",
     "text": [
      "self-contained\n",
      "linked\n",
      "invented\n",
      "crafted\n",
      "fixed\n"
     ]
    }
   ],
   "source": [
    "for i in text.split():\n",
    "    result= re.search(r'ed', i)\n",
    "    if result:\n",
    "        print(i)\n",
    "   # print(result)\n",
    "    #print(result.group(0))"
   ]
  },
  {
   "cell_type": "markdown",
   "metadata": {},
   "source": [
    "### Findall"
   ]
  },
  {
   "cell_type": "code",
   "execution_count": 39,
   "metadata": {},
   "outputs": [
    {
     "name": "stdout",
     "output_type": "stream",
     "text": [
      "['i', 'i', 'i', 'i', 'i', 'i', 'i', 'i', 'i', 'i', 'i', 'i', 'i', 'i', 'i', 'i', 'i', 'i', 'i', 'i', 'i', 'i', 'i', 'i', 'i', 'i', 'i', 'i', 'i', 'i', 'i', 'i', 'i', 'i', 'i', 'i', 'i', 'i', 'i', 'i', 'i', 'i', 'i', 'i', 'i', 'i', 'i', 'i', 'i', 'i', 'i', 'i', 'i', 'i', 'i', 'i', 'i', 'i', 'i', 'i', 'i']\n"
     ]
    }
   ],
   "source": [
    "result= re.findall(r'i',text)\n",
    "print(result)"
   ]
  },
  {
   "cell_type": "markdown",
   "metadata": {},
   "source": [
    "### SPLIT"
   ]
  },
  {
   "cell_type": "code",
   "execution_count": 46,
   "metadata": {},
   "outputs": [
    {
     "name": "stdout",
     "output_type": "stream",
     "text": [
      "['A short story ', ' a piece of prose fiction that typically can be read in one sitting and focuses on a self-contained incident or series of linked incidents, with the intent of evoking a \"single effect\" or mood, however there are many exceptions to th', '.\\n\\nA dictionary definition ', ' \"an invented prose narrative shorter than a novel usually dealing with a few characters and aiming at unity of effect and often concentrating on the creation of mood rather than plot.\"[1]\\n\\nThe short story ', ' a crafted form in its own right. Short stories make use of plot, resonance, and other dynamic components as in a novel, but typically to a lesser degree. While the short story ', ' largely d', 'tinct from the novel or novella (a shorter novel), authors generally draw from a common pool of literary techniques.\\n\\nShort story writers may define their works as part of the art', 'tic and personal expression of the form. They may also attempt to res', 't categorization by genre and fixed formation.']\n"
     ]
    }
   ],
   "source": [
    "result= re.split(r'is',text)\n",
    "print(result)"
   ]
  },
  {
   "cell_type": "markdown",
   "metadata": {},
   "source": [
    "Max split:"
   ]
  },
  {
   "cell_type": "code",
   "execution_count": 42,
   "metadata": {},
   "outputs": [
    {
     "data": {
      "text/plain": [
       "['A short story is a piece of prose fiction that typically can be read in one sitting and focuses on a self-contained incident or series of linked incidents, with ',\n",
       " ' intent of evoking a \"single effect\" or mood, however ',\n",
       " 're are many exceptions to this.\\n\\nA dictionary definition is \"an invented prose narrative shorter than a novel usually dealing with a few characters and aiming at unity of effect and often concentrating on ',\n",
       " ' creation of mood rather than plot.\"[1]\\n\\nThe short story is a crafted form in its own right. Short stories make use of plot, resonance, and other dynamic components as in a novel, but typically to a lesser degree. While the short story is largely distinct from the novel or novella (a shorter novel), authors generally draw from a common pool of literary techniques.\\n\\nShort story writers may define their works as part of the artistic and personal expression of the form. They may also attempt to resist categorization by genre and fixed formation.']"
      ]
     },
     "execution_count": 42,
     "metadata": {},
     "output_type": "execute_result"
    }
   ],
   "source": [
    "result= re.split(r'the',text,maxsplit=3)\n",
    "result"
   ]
  },
  {
   "cell_type": "markdown",
   "metadata": {},
   "source": [
    "### Substitute:\n",
    "sub()"
   ]
  },
  {
   "cell_type": "code",
   "execution_count": 47,
   "metadata": {},
   "outputs": [
    {
     "data": {
      "text/plain": [
       "'A short story ////////////// a piece of prose fiction that typically can be read in one sitting and focuses on a self-contained incident or series of linked incidents, with the intent of evoking a \"single effect\" or mood, however there are many exceptions to th//////////////.\\n\\nA dictionary definition ////////////// \"an invented prose narrative shorter than a novel usually dealing with a few characters and aiming at unity of effect and often concentrating on the creation of mood rather than plot.\"[1]\\n\\nThe short story ////////////// a crafted form in its own right. Short stories make use of plot, resonance, and other dynamic components as in a novel, but typically to a lesser degree. While the short story ////////////// largely d//////////////tinct from the novel or novella (a shorter novel), authors generally draw from a common pool of literary techniques.\\n\\nShort story writers may define their works as part of the art//////////////tic and personal expression of the form. They may also attempt to res//////////////t categorization by genre and fixed formation.'"
      ]
     },
     "execution_count": 47,
     "metadata": {},
     "output_type": "execute_result"
    }
   ],
   "source": [
    "result= re.sub(r'is','//////////////',text)\n",
    "result"
   ]
  },
  {
   "cell_type": "markdown",
   "metadata": {},
   "source": [
    "### COMPILE:\n",
    "re use of a pattern"
   ]
  },
  {
   "cell_type": "code",
   "execution_count": 48,
   "metadata": {},
   "outputs": [],
   "source": [
    "p= re.compile(r'the')"
   ]
  },
  {
   "cell_type": "code",
   "execution_count": 49,
   "metadata": {},
   "outputs": [
    {
     "ename": "AttributeError",
     "evalue": "'NoneType' object has no attribute 'group'",
     "output_type": "error",
     "traceback": [
      "\u001b[1;31m---------------------------------------------------------------------------\u001b[0m",
      "\u001b[1;31mAttributeError\u001b[0m                            Traceback (most recent call last)",
      "\u001b[1;32m<ipython-input-49-33cfe87f9b5c>\u001b[0m in \u001b[0;36m<module>\u001b[1;34m\u001b[0m\n\u001b[0;32m      1\u001b[0m \u001b[0mres\u001b[0m\u001b[1;33m=\u001b[0m \u001b[0mp\u001b[0m\u001b[1;33m.\u001b[0m\u001b[0mmatch\u001b[0m\u001b[1;33m(\u001b[0m\u001b[0mtext\u001b[0m\u001b[1;33m)\u001b[0m\u001b[1;33m\u001b[0m\u001b[1;33m\u001b[0m\u001b[0m\n\u001b[1;32m----> 2\u001b[1;33m \u001b[0mres\u001b[0m\u001b[1;33m.\u001b[0m\u001b[0mgroup\u001b[0m\u001b[1;33m(\u001b[0m\u001b[1;36m0\u001b[0m\u001b[1;33m)\u001b[0m\u001b[1;33m\u001b[0m\u001b[1;33m\u001b[0m\u001b[0m\n\u001b[0m",
      "\u001b[1;31mAttributeError\u001b[0m: 'NoneType' object has no attribute 'group'"
     ]
    }
   ],
   "source": [
    "res= p.match(text)\n",
    "res.group(0)"
   ]
  },
  {
   "cell_type": "code",
   "execution_count": 50,
   "metadata": {},
   "outputs": [
    {
     "data": {
      "text/plain": [
       "['A short story is a piece of prose fiction that typically can be read in one sitting and focuses on a self-contained incident or series of linked incidents, with ',\n",
       " ' intent of evoking a \"single effect\" or mood, however ',\n",
       " 're are many exceptions to this.\\n\\nA dictionary definition is \"an invented prose narrative shorter than a novel usually dealing with a few characters and aiming at unity of effect and often concentrating on ',\n",
       " ' creation of mood ra',\n",
       " 'r than plot.\"[1]\\n\\nThe short story is a crafted form in its own right. Short stories make use of plot, resonance, and o',\n",
       " 'r dynamic components as in a novel, but typically to a lesser degree. While ',\n",
       " ' short story is largely distinct from ',\n",
       " ' novel or novella (a shorter novel), authors generally draw from a common pool of literary techniques.\\n\\nShort story writers may define ',\n",
       " 'ir works as part of ',\n",
       " ' artistic and personal expression of ',\n",
       " ' form. They may also attempt to resist categorization by genre and fixed formation.']"
      ]
     },
     "execution_count": 50,
     "metadata": {},
     "output_type": "execute_result"
    }
   ],
   "source": [
    "p.split(text)"
   ]
  },
  {
   "cell_type": "code",
   "execution_count": 51,
   "metadata": {},
   "outputs": [
    {
     "data": {
      "text/plain": [
       "['the', 'the', 'the', 'the', 'the', 'the', 'the', 'the', 'the', 'the']"
      ]
     },
     "execution_count": 51,
     "metadata": {},
     "output_type": "execute_result"
    }
   ],
   "source": [
    "p.findall(text)"
   ]
  },
  {
   "cell_type": "code",
   "execution_count": 54,
   "metadata": {},
   "outputs": [
    {
     "data": {
      "text/plain": [
       "'A short story is a piece of prose fiction that typically can be read in one sitting and focuses on a self-contained incident or series of linked incidents, with ||||| intent of evoking a \"single effect\" or mood, however |||||re are many exceptions to this.\\n\\nA dictionary definition is \"an invented prose narrative shorter than a novel usually dealing with a few characters and aiming at unity of effect and often concentrating on ||||| creation of mood ra|||||r than plot.\"[1]\\n\\nThe short story is a crafted form in its own right. Short stories make use of plot, resonance, and o|||||r dynamic components as in a novel, but typically to a lesser degree. While ||||| short story is largely distinct from ||||| novel or novella (a shorter novel), authors generally draw from a common pool of literary techniques.\\n\\nShort story writers may define |||||ir works as part of ||||| artistic and personal expression of ||||| form. They may also attempt to resist categorization by genre and fixed formation.'"
      ]
     },
     "execution_count": 54,
     "metadata": {},
     "output_type": "execute_result"
    }
   ],
   "source": [
    "p.sub('|||||',text)"
   ]
  },
  {
   "cell_type": "markdown",
   "metadata": {},
   "source": [
    "# META CHARACTERS:\n",
    "\n",
    "., *, +, \\w,\\W,\\s.\\d,\\b,\\S,\\D,(),[],{},^"
   ]
  },
  {
   "cell_type": "code",
   "execution_count": 5,
   "metadata": {},
   "outputs": [
    {
     "name": "stdout",
     "output_type": "stream",
     "text": [
      "['A', ' ', 's', 'h', 'o', 'r', 't', ' ', 's', 't', 'o', 'r', 'y', ' ', 'i', 's', ' ', 'a', ' ', 'p', 'i', 'e', 'c', 'e', ' ', 'o', 'f', ' ', 'p', 'r', 'o', 's', 'e', ' ', 'f', 'i', 'c', 't', 'i', 'o', 'n', ' ', 't', 'h', 'a', 't', ' ', 't', 'y', 'p', 'i', 'c', 'a', 'l', 'l', 'y', ' ', 'c', 'a', 'n', ' ', 'b', 'e', ' ', 'r', 'e', 'a', 'd', ' ', 'i', 'n', ' ', 'o', 'n', 'e', ' ', 's', 'i', 't', 't', 'i', 'n', 'g', ' ', 'a', 'n', 'd', ' ', 'f', 'o', 'c', 'u', 's', 'e', 's', ' ', 'o', 'n', ' ', 'a', ' ', 's', 'e', 'l', 'f', '-', 'c', 'o', 'n', 't', 'a', 'i', 'n', 'e', 'd', ' ', 'i', 'n', 'c', 'i', 'd', 'e', 'n', 't', ' ', 'o', 'r', ' ', 's', 'e', 'r', 'i', 'e', 's', ' ', 'o', 'f', ' ', 'l', 'i', 'n', 'k', 'e', 'd', ' ', 'i', 'n', 'c', 'i', 'd', 'e', 'n', 't', 's', ',', ' ', 'w', 'i', 't', 'h', ' ', 't', 'h', 'e', ' ', 'i', 'n', 't', 'e', 'n', 't', ' ', 'o', 'f', ' ', 'e', 'v', 'o', 'k', 'i', 'n', 'g', ' ', 'a', ' ', '\"', 's', 'i', 'n', 'g', 'l', 'e', ' ', 'e', 'f', 'f', 'e', 'c', 't', '\"', ' ', 'o', 'r', ' ', 'm', 'o', 'o', 'd', ',', ' ', 'h', 'o', 'w', 'e', 'v', 'e', 'r', ' ', 't', 'h', 'e', 'r', 'e', ' ', 'a', 'r', 'e', ' ', 'm', 'a', 'n', 'y', ' ', 'e', 'x', 'c', 'e', 'p', 't', 'i', 'o', 'n', 's', ' ', 't', 'o', ' ', 't', 'h', 'i', 's', '.', 'A', ' ', 'd', 'i', 'c', 't', 'i', 'o', 'n', 'a', 'r', 'y', ' ', 'd', 'e', 'f', 'i', 'n', 'i', 't', 'i', 'o', 'n', ' ', 'i', 's', ' ', '\"', 'a', 'n', ' ', 'i', 'n', 'v', 'e', 'n', 't', 'e', 'd', ' ', 'p', 'r', 'o', 's', 'e', ' ', 'n', 'a', 'r', 'r', 'a', 't', 'i', 'v', 'e', ' ', 's', 'h', 'o', 'r', 't', 'e', 'r', ' ', 't', 'h', 'a', 'n', ' ', 'a', ' ', 'n', 'o', 'v', 'e', 'l', ' ', 'u', 's', 'u', 'a', 'l', 'l', 'y', ' ', 'd', 'e', 'a', 'l', 'i', 'n', 'g', ' ', 'w', 'i', 't', 'h', ' ', 'a', ' ', 'f', 'e', 'w', ' ', 'c', 'h', 'a', 'r', 'a', 'c', 't', 'e', 'r', 's', ' ', 'a', 'n', 'd', ' ', 'a', 'i', 'm', 'i', 'n', 'g', ' ', 'a', 't', ' ', 'u', 'n', 'i', 't', 'y', ' ', 'o', 'f', ' ', 'e', 'f', 'f', 'e', 'c', 't', ' ', 'a', 'n', 'd', ' ', 'o', 'f', 't', 'e', 'n', ' ', 'c', 'o', 'n', 'c', 'e', 'n', 't', 'r', 'a', 't', 'i', 'n', 'g', ' ', 'o', 'n', ' ', 't', 'h', 'e', ' ', 'c', 'r', 'e', 'a', 't', 'i', 'o', 'n', ' ', 'o', 'f', ' ', 'm', 'o', 'o', 'd', ' ', 'r', 'a', 't', 'h', 'e', 'r', ' ', 't', 'h', 'a', 'n', ' ', 'p', 'l', 'o', 't', '.', '\"', '[', '1', ']', 'T', 'h', 'e', ' ', 's', 'h', 'o', 'r', 't', ' ', 's', 't', 'o', 'r', 'y', ' ', 'i', 's', ' ', 'a', ' ', 'c', 'r', 'a', 'f', 't', 'e', 'd', ' ', 'f', 'o', 'r', 'm', ' ', 'i', 'n', ' ', 'i', 't', 's', ' ', 'o', 'w', 'n', ' ', 'r', 'i', 'g', 'h', 't', '.', ' ', 'S', 'h', 'o', 'r', 't', ' ', 's', 't', 'o', 'r', 'i', 'e', 's', ' ', 'm', 'a', 'k', 'e', ' ', 'u', 's', 'e', ' ', 'o', 'f', ' ', 'p', 'l', 'o', 't', ',', ' ', 'r', 'e', 's', 'o', 'n', 'a', 'n', 'c', 'e', ',', ' ', 'a', 'n', 'd', ' ', 'o', 't', 'h', 'e', 'r', ' ', 'd', 'y', 'n', 'a', 'm', 'i', 'c', ' ', 'c', 'o', 'm', 'p', 'o', 'n', 'e', 'n', 't', 's', ' ', 'a', 's', ' ', 'i', 'n', ' ', 'a', ' ', 'n', 'o', 'v', 'e', 'l', ',', ' ', 'b', 'u', 't', ' ', 't', 'y', 'p', 'i', 'c', 'a', 'l', 'l', 'y', ' ', 't', 'o', ' ', 'a', ' ', 'l', 'e', 's', 's', 'e', 'r', ' ', 'd', 'e', 'g', 'r', 'e', 'e', '.', ' ', 'W', 'h', 'i', 'l', 'e', ' ', 't', 'h', 'e', ' ', 's', 'h', 'o', 'r', 't', ' ', 's', 't', 'o', 'r', 'y', ' ', 'i', 's', ' ', 'l', 'a', 'r', 'g', 'e', 'l', 'y', ' ', 'd', 'i', 's', 't', 'i', 'n', 'c', 't', ' ', 'f', 'r', 'o', 'm', ' ', 't', 'h', 'e', ' ', 'n', 'o', 'v', 'e', 'l', ' ', 'o', 'r', ' ', 'n', 'o', 'v', 'e', 'l', 'l', 'a', ' ', '(', 'a', ' ', 's', 'h', 'o', 'r', 't', 'e', 'r', ' ', 'n', 'o', 'v', 'e', 'l', ')', ',', ' ', 'a', 'u', 't', 'h', 'o', 'r', 's', ' ', 'g', 'e', 'n', 'e', 'r', 'a', 'l', 'l', 'y', ' ', 'd', 'r', 'a', 'w', ' ', 'f', 'r', 'o', 'm', ' ', 'a', ' ', 'c', 'o', 'm', 'm', 'o', 'n', ' ', 'p', 'o', 'o', 'l', ' ', 'o', 'f', ' ', 'l', 'i', 't', 'e', 'r', 'a', 'r', 'y', ' ', 't', 'e', 'c', 'h', 'n', 'i', 'q', 'u', 'e', 's', '.', 'S', 'h', 'o', 'r', 't', ' ', 's', 't', 'o', 'r', 'y', ' ', 'w', 'r', 'i', 't', 'e', 'r', 's', ' ', 'm', 'a', 'y', ' ', 'd', 'e', 'f', 'i', 'n', 'e', ' ', 't', 'h', 'e', 'i', 'r', ' ', 'w', 'o', 'r', 'k', 's', ' ', 'a', 's', ' ', 'p', 'a', 'r', 't', ' ', 'o', 'f', ' ', 't', 'h', 'e', ' ', 'a', 'r', 't', 'i', 's', 't', 'i', 'c', ' ', 'a', 'n', 'd', ' ', 'p', 'e', 'r', 's', 'o', 'n', 'a', 'l', ' ', 'e', 'x', 'p', 'r', 'e', 's', 's', 'i', 'o', 'n', ' ', 'o', 'f', ' ', 't', 'h', 'e', ' ', 'f', 'o', 'r', 'm', '.', ' ', 'T', 'h', 'e', 'y', ' ', 'm', 'a', 'y', ' ', 'a', 'l', 's', 'o', ' ', 'a', 't', 't', 'e', 'm', 'p', 't', ' ', 't', 'o', ' ', 'r', 'e', 's', 'i', 's', 't', ' ', 'c', 'a', 't', 'e', 'g', 'o', 'r', 'i', 'z', 'a', 't', 'i', 'o', 'n', ' ', 'b', 'y', ' ', 'g', 'e', 'n', 'r', 'e', ' ', 'a', 'n', 'd', ' ', 'f', 'i', 'x', 'e', 'd', ' ', 'f', 'o', 'r', 'm', 'a', 't', 'i', 'o', 'n', '.']\n"
     ]
    }
   ],
   "source": [
    "result= re.findall(r'.',text)\n",
    "print(result)   # sapce will be considered"
   ]
  },
  {
   "cell_type": "code",
   "execution_count": null,
   "metadata": {},
   "outputs": [],
   "source": []
  },
  {
   "cell_type": "code",
   "execution_count": 6,
   "metadata": {},
   "outputs": [
    {
     "name": "stdout",
     "output_type": "stream",
     "text": [
      "['A', 's', 'h', 'o', 'r', 't', 's', 't', 'o', 'r', 'y', 'i', 's', 'a', 'p', 'i', 'e', 'c', 'e', 'o', 'f', 'p', 'r', 'o', 's', 'e', 'f', 'i', 'c', 't', 'i', 'o', 'n', 't', 'h', 'a', 't', 't', 'y', 'p', 'i', 'c', 'a', 'l', 'l', 'y', 'c', 'a', 'n', 'b', 'e', 'r', 'e', 'a', 'd', 'i', 'n', 'o', 'n', 'e', 's', 'i', 't', 't', 'i', 'n', 'g', 'a', 'n', 'd', 'f', 'o', 'c', 'u', 's', 'e', 's', 'o', 'n', 'a', 's', 'e', 'l', 'f', 'c', 'o', 'n', 't', 'a', 'i', 'n', 'e', 'd', 'i', 'n', 'c', 'i', 'd', 'e', 'n', 't', 'o', 'r', 's', 'e', 'r', 'i', 'e', 's', 'o', 'f', 'l', 'i', 'n', 'k', 'e', 'd', 'i', 'n', 'c', 'i', 'd', 'e', 'n', 't', 's', 'w', 'i', 't', 'h', 't', 'h', 'e', 'i', 'n', 't', 'e', 'n', 't', 'o', 'f', 'e', 'v', 'o', 'k', 'i', 'n', 'g', 'a', 's', 'i', 'n', 'g', 'l', 'e', 'e', 'f', 'f', 'e', 'c', 't', 'o', 'r', 'm', 'o', 'o', 'd', 'h', 'o', 'w', 'e', 'v', 'e', 'r', 't', 'h', 'e', 'r', 'e', 'a', 'r', 'e', 'm', 'a', 'n', 'y', 'e', 'x', 'c', 'e', 'p', 't', 'i', 'o', 'n', 's', 't', 'o', 't', 'h', 'i', 's', 'A', 'd', 'i', 'c', 't', 'i', 'o', 'n', 'a', 'r', 'y', 'd', 'e', 'f', 'i', 'n', 'i', 't', 'i', 'o', 'n', 'i', 's', 'a', 'n', 'i', 'n', 'v', 'e', 'n', 't', 'e', 'd', 'p', 'r', 'o', 's', 'e', 'n', 'a', 'r', 'r', 'a', 't', 'i', 'v', 'e', 's', 'h', 'o', 'r', 't', 'e', 'r', 't', 'h', 'a', 'n', 'a', 'n', 'o', 'v', 'e', 'l', 'u', 's', 'u', 'a', 'l', 'l', 'y', 'd', 'e', 'a', 'l', 'i', 'n', 'g', 'w', 'i', 't', 'h', 'a', 'f', 'e', 'w', 'c', 'h', 'a', 'r', 'a', 'c', 't', 'e', 'r', 's', 'a', 'n', 'd', 'a', 'i', 'm', 'i', 'n', 'g', 'a', 't', 'u', 'n', 'i', 't', 'y', 'o', 'f', 'e', 'f', 'f', 'e', 'c', 't', 'a', 'n', 'd', 'o', 'f', 't', 'e', 'n', 'c', 'o', 'n', 'c', 'e', 'n', 't', 'r', 'a', 't', 'i', 'n', 'g', 'o', 'n', 't', 'h', 'e', 'c', 'r', 'e', 'a', 't', 'i', 'o', 'n', 'o', 'f', 'm', 'o', 'o', 'd', 'r', 'a', 't', 'h', 'e', 'r', 't', 'h', 'a', 'n', 'p', 'l', 'o', 't', '1', 'T', 'h', 'e', 's', 'h', 'o', 'r', 't', 's', 't', 'o', 'r', 'y', 'i', 's', 'a', 'c', 'r', 'a', 'f', 't', 'e', 'd', 'f', 'o', 'r', 'm', 'i', 'n', 'i', 't', 's', 'o', 'w', 'n', 'r', 'i', 'g', 'h', 't', 'S', 'h', 'o', 'r', 't', 's', 't', 'o', 'r', 'i', 'e', 's', 'm', 'a', 'k', 'e', 'u', 's', 'e', 'o', 'f', 'p', 'l', 'o', 't', 'r', 'e', 's', 'o', 'n', 'a', 'n', 'c', 'e', 'a', 'n', 'd', 'o', 't', 'h', 'e', 'r', 'd', 'y', 'n', 'a', 'm', 'i', 'c', 'c', 'o', 'm', 'p', 'o', 'n', 'e', 'n', 't', 's', 'a', 's', 'i', 'n', 'a', 'n', 'o', 'v', 'e', 'l', 'b', 'u', 't', 't', 'y', 'p', 'i', 'c', 'a', 'l', 'l', 'y', 't', 'o', 'a', 'l', 'e', 's', 's', 'e', 'r', 'd', 'e', 'g', 'r', 'e', 'e', 'W', 'h', 'i', 'l', 'e', 't', 'h', 'e', 's', 'h', 'o', 'r', 't', 's', 't', 'o', 'r', 'y', 'i', 's', 'l', 'a', 'r', 'g', 'e', 'l', 'y', 'd', 'i', 's', 't', 'i', 'n', 'c', 't', 'f', 'r', 'o', 'm', 't', 'h', 'e', 'n', 'o', 'v', 'e', 'l', 'o', 'r', 'n', 'o', 'v', 'e', 'l', 'l', 'a', 'a', 's', 'h', 'o', 'r', 't', 'e', 'r', 'n', 'o', 'v', 'e', 'l', 'a', 'u', 't', 'h', 'o', 'r', 's', 'g', 'e', 'n', 'e', 'r', 'a', 'l', 'l', 'y', 'd', 'r', 'a', 'w', 'f', 'r', 'o', 'm', 'a', 'c', 'o', 'm', 'm', 'o', 'n', 'p', 'o', 'o', 'l', 'o', 'f', 'l', 'i', 't', 'e', 'r', 'a', 'r', 'y', 't', 'e', 'c', 'h', 'n', 'i', 'q', 'u', 'e', 's', 'S', 'h', 'o', 'r', 't', 's', 't', 'o', 'r', 'y', 'w', 'r', 'i', 't', 'e', 'r', 's', 'm', 'a', 'y', 'd', 'e', 'f', 'i', 'n', 'e', 't', 'h', 'e', 'i', 'r', 'w', 'o', 'r', 'k', 's', 'a', 's', 'p', 'a', 'r', 't', 'o', 'f', 't', 'h', 'e', 'a', 'r', 't', 'i', 's', 't', 'i', 'c', 'a', 'n', 'd', 'p', 'e', 'r', 's', 'o', 'n', 'a', 'l', 'e', 'x', 'p', 'r', 'e', 's', 's', 'i', 'o', 'n', 'o', 'f', 't', 'h', 'e', 'f', 'o', 'r', 'm', 'T', 'h', 'e', 'y', 'm', 'a', 'y', 'a', 'l', 's', 'o', 'a', 't', 't', 'e', 'm', 'p', 't', 't', 'o', 'r', 'e', 's', 'i', 's', 't', 'c', 'a', 't', 'e', 'g', 'o', 'r', 'i', 'z', 'a', 't', 'i', 'o', 'n', 'b', 'y', 'g', 'e', 'n', 'r', 'e', 'a', 'n', 'd', 'f', 'i', 'x', 'e', 'd', 'f', 'o', 'r', 'm', 'a', 't', 'i', 'o', 'n']\n"
     ]
    }
   ],
   "source": [
    "result= re.findall(r'\\w',text)\n",
    "print(result)   # it matches all the alphanumeric characters  (space will not be considered)"
   ]
  },
  {
   "cell_type": "code",
   "execution_count": 7,
   "metadata": {},
   "outputs": [
    {
     "name": "stdout",
     "output_type": "stream",
     "text": [
      "<re.Match object; span=(0, 1), match='A'>\n"
     ]
    }
   ],
   "source": [
    "result= re.search(r'\\w',text)\n",
    "print(result)   # \n"
   ]
  },
  {
   "cell_type": "code",
   "execution_count": 8,
   "metadata": {},
   "outputs": [
    {
     "name": "stdout",
     "output_type": "stream",
     "text": [
      "['A short story is a piece of prose fiction that typically can be read in one sitting and focuses on a self-contained incident or series of linked incidents, with the intent of evoking a \"single effect\" or mood, however there are many exceptions to this.', '', '', 'A dictionary definition is \"an invented prose narrative shorter than a novel usually dealing with a few characters and aiming at unity of effect and often concentrating on the creation of mood rather than plot.\"[1]', '', '', 'The short story is a crafted form in its own right. Short stories make use of plot, resonance, and other dynamic components as in a novel, but typically to a lesser degree. While the short story is largely distinct from the novel or novella (a shorter novel), authors generally draw from a common pool of literary techniques.', '', '', 'Short story writers may define their works as part of the artistic and personal expression of the form. They may also attempt to resist categorization by genre and fixed formation.', '']\n"
     ]
    }
   ],
   "source": [
    "result= re.findall(r'.*',text)\n",
    "print(result)    # .* means combination of dot and dot again dot till the end(combines everything)\n",
    "# * means min 0 to max n no.of values(space is considered)\n",
    "# + mean 1 or more(space will not be considered)"
   ]
  },
  {
   "cell_type": "code",
   "execution_count": 9,
   "metadata": {},
   "outputs": [
    {
     "name": "stdout",
     "output_type": "stream",
     "text": [
      "['A short story is a piece of prose fiction that typically can be read in one sitting and focuses on a self-contained incident or series of linked incidents, with the intent of evoking a \"single effect\" or mood, however there are many exceptions to this.', 'A dictionary definition is \"an invented prose narrative shorter than a novel usually dealing with a few characters and aiming at unity of effect and often concentrating on the creation of mood rather than plot.\"[1]', 'The short story is a crafted form in its own right. Short stories make use of plot, resonance, and other dynamic components as in a novel, but typically to a lesser degree. While the short story is largely distinct from the novel or novella (a shorter novel), authors generally draw from a common pool of literary techniques.', 'Short story writers may define their works as part of the artistic and personal expression of the form. They may also attempt to resist categorization by genre and fixed formation.']\n"
     ]
    }
   ],
   "source": [
    "result= re.findall(r'.+',text)\n",
    "print(result)"
   ]
  },
  {
   "cell_type": "code",
   "execution_count": 10,
   "metadata": {},
   "outputs": [
    {
     "name": "stdout",
     "output_type": "stream",
     "text": [
      "['A', '', 'short', '', 'story', '', 'is', '', 'a', '', 'piece', '', 'of', '', 'prose', '', 'fiction', '', 'that', '', 'typically', '', 'can', '', 'be', '', 'read', '', 'in', '', 'one', '', 'sitting', '', 'and', '', 'focuses', '', 'on', '', 'a', '', 'self', '', 'contained', '', 'incident', '', 'or', '', 'series', '', 'of', '', 'linked', '', 'incidents', '', '', 'with', '', 'the', '', 'intent', '', 'of', '', 'evoking', '', 'a', '', '', 'single', '', 'effect', '', '', 'or', '', 'mood', '', '', 'however', '', 'there', '', 'are', '', 'many', '', 'exceptions', '', 'to', '', 'this', '', '', '', 'A', '', 'dictionary', '', 'definition', '', 'is', '', '', 'an', '', 'invented', '', 'prose', '', 'narrative', '', 'shorter', '', 'than', '', 'a', '', 'novel', '', 'usually', '', 'dealing', '', 'with', '', 'a', '', 'few', '', 'characters', '', 'and', '', 'aiming', '', 'at', '', 'unity', '', 'of', '', 'effect', '', 'and', '', 'often', '', 'concentrating', '', 'on', '', 'the', '', 'creation', '', 'of', '', 'mood', '', 'rather', '', 'than', '', 'plot', '', '', '', '1', '', '', '', 'The', '', 'short', '', 'story', '', 'is', '', 'a', '', 'crafted', '', 'form', '', 'in', '', 'its', '', 'own', '', 'right', '', '', 'Short', '', 'stories', '', 'make', '', 'use', '', 'of', '', 'plot', '', '', 'resonance', '', '', 'and', '', 'other', '', 'dynamic', '', 'components', '', 'as', '', 'in', '', 'a', '', 'novel', '', '', 'but', '', 'typically', '', 'to', '', 'a', '', 'lesser', '', 'degree', '', '', 'While', '', 'the', '', 'short', '', 'story', '', 'is', '', 'largely', '', 'distinct', '', 'from', '', 'the', '', 'novel', '', 'or', '', 'novella', '', '', 'a', '', 'shorter', '', 'novel', '', '', '', 'authors', '', 'generally', '', 'draw', '', 'from', '', 'a', '', 'common', '', 'pool', '', 'of', '', 'literary', '', 'techniques', '', '', '', 'Short', '', 'story', '', 'writers', '', 'may', '', 'define', '', 'their', '', 'works', '', 'as', '', 'part', '', 'of', '', 'the', '', 'artistic', '', 'and', '', 'personal', '', 'expression', '', 'of', '', 'the', '', 'form', '', '', 'They', '', 'may', '', 'also', '', 'attempt', '', 'to', '', 'resist', '', 'categorization', '', 'by', '', 'genre', '', 'and', '', 'fixed', '', 'formation', '', '']\n"
     ]
    }
   ],
   "source": [
    "result= re.findall(r'\\w*',text)\n",
    "print(result)"
   ]
  },
  {
   "cell_type": "code",
   "execution_count": 13,
   "metadata": {},
   "outputs": [
    {
     "name": "stdout",
     "output_type": "stream",
     "text": [
      "['A', 'short', 'story', 'is', 'a', 'piece', 'of', 'prose', 'fiction', 'that', 'typically', 'can', 'be', 'read', 'in', 'one', 'sitting', 'and', 'focuses', 'on', 'a', 'self', 'contained', 'incident', 'or', 'series', 'of', 'linked', 'incidents', 'with', 'the', 'intent', 'of', 'evoking', 'a', 'single', 'effect', 'or', 'mood', 'however', 'there', 'are', 'many', 'exceptions', 'to', 'this', 'A', 'dictionary', 'definition', 'is', 'an', 'invented', 'prose', 'narrative', 'shorter', 'than', 'a', 'novel', 'usually', 'dealing', 'with', 'a', 'few', 'characters', 'and', 'aiming', 'at', 'unity', 'of', 'effect', 'and', 'often', 'concentrating', 'on', 'the', 'creation', 'of', 'mood', 'rather', 'than', 'plot', '1', 'The', 'short', 'story', 'is', 'a', 'crafted', 'form', 'in', 'its', 'own', 'right', 'Short', 'stories', 'make', 'use', 'of', 'plot', 'resonance', 'and', 'other', 'dynamic', 'components', 'as', 'in', 'a', 'novel', 'but', 'typically', 'to', 'a', 'lesser', 'degree', 'While', 'the', 'short', 'story', 'is', 'largely', 'distinct', 'from', 'the', 'novel', 'or', 'novella', 'a', 'shorter', 'novel', 'authors', 'generally', 'draw', 'from', 'a', 'common', 'pool', 'of', 'literary', 'techniques', 'Short', 'story', 'writers', 'may', 'define', 'their', 'works', 'as', 'part', 'of', 'the', 'artistic', 'and', 'personal', 'expression', 'of', 'the', 'form', 'They', 'may', 'also', 'attempt', 'to', 'resist', 'categorization', 'by', 'genre', 'and', 'fixed', 'formation']\n"
     ]
    }
   ],
   "source": [
    "result= re.findall(r'\\w+',text)\n",
    "print(result)"
   ]
  },
  {
   "cell_type": "code",
   "execution_count": 12,
   "metadata": {},
   "outputs": [
    {
     "name": "stdout",
     "output_type": "stream",
     "text": [
      "['sh', 'or', 'st', 'or', 'is', 'pi', 'ec', 'of', 'pr', 'os', 'fi', 'ct', 'io', 'th', 'at', 'ty', 'pi', 'ca', 'll', 'ca', 'be', 're', 'ad', 'in', 'on', 'si', 'tt', 'in', 'an', 'fo', 'cu', 'se', 'on', 'se', 'lf', 'co', 'nt', 'ai', 'ne', 'in', 'ci', 'de', 'nt', 'or', 'se', 'ri', 'es', 'of', 'li', 'nk', 'ed', 'in', 'ci', 'de', 'nt', 'wi', 'th', 'th', 'in', 'te', 'nt', 'of', 'ev', 'ok', 'in', 'si', 'ng', 'le', 'ef', 'fe', 'ct', 'or', 'mo', 'od', 'ho', 'we', 've', 'th', 'er', 'ar', 'ma', 'ny', 'ex', 'ce', 'pt', 'io', 'ns', 'to', 'th', 'is', 'di', 'ct', 'io', 'na', 'ry', 'de', 'fi', 'ni', 'ti', 'on', 'is', 'an', 'in', 've', 'nt', 'ed', 'pr', 'os', 'na', 'rr', 'at', 'iv', 'sh', 'or', 'te', 'th', 'an', 'no', 've', 'us', 'ua', 'll', 'de', 'al', 'in', 'wi', 'th', 'fe', 'ch', 'ar', 'ac', 'te', 'rs', 'an', 'ai', 'mi', 'ng', 'at', 'un', 'it', 'of', 'ef', 'fe', 'ct', 'an', 'of', 'te', 'co', 'nc', 'en', 'tr', 'at', 'in', 'on', 'th', 'cr', 'ea', 'ti', 'on', 'of', 'mo', 'od', 'ra', 'th', 'er', 'th', 'an', 'pl', 'ot', 'Th', 'sh', 'or', 'st', 'or', 'is', 'cr', 'af', 'te', 'fo', 'rm', 'in', 'it', 'ow', 'ri', 'gh', 'Sh', 'or', 'st', 'or', 'ie', 'ma', 'ke', 'us', 'of', 'pl', 'ot', 're', 'so', 'na', 'nc', 'an', 'ot', 'he', 'dy', 'na', 'mi', 'co', 'mp', 'on', 'en', 'ts', 'as', 'in', 'no', 've', 'bu', 'ty', 'pi', 'ca', 'll', 'to', 'le', 'ss', 'er', 'de', 'gr', 'ee', 'Wh', 'il', 'th', 'sh', 'or', 'st', 'or', 'is', 'la', 'rg', 'el', 'di', 'st', 'in', 'ct', 'fr', 'om', 'th', 'no', 've', 'or', 'no', 've', 'll', 'sh', 'or', 'te', 'no', 've', 'au', 'th', 'or', 'ge', 'ne', 'ra', 'll', 'dr', 'aw', 'fr', 'om', 'co', 'mm', 'on', 'po', 'ol', 'of', 'li', 'te', 'ra', 'ry', 'te', 'ch', 'ni', 'qu', 'es', 'Sh', 'or', 'st', 'or', 'wr', 'it', 'er', 'ma', 'de', 'fi', 'ne', 'th', 'ei', 'wo', 'rk', 'as', 'pa', 'rt', 'of', 'th', 'ar', 'ti', 'st', 'ic', 'an', 'pe', 'rs', 'on', 'al', 'ex', 'pr', 'es', 'si', 'on', 'of', 'th', 'fo', 'rm', 'Th', 'ey', 'ma', 'al', 'so', 'at', 'te', 'mp', 'to', 're', 'si', 'st', 'ca', 'te', 'go', 'ri', 'za', 'ti', 'on', 'by', 'ge', 'nr', 'an', 'fi', 'xe', 'fo', 'rm', 'at', 'io']\n"
     ]
    }
   ],
   "source": [
    "result= re.findall(r'\\w\\w',text)\n",
    "print(result)    # in every word it takes 2 characters"
   ]
  },
  {
   "cell_type": "code",
   "execution_count": 14,
   "metadata": {},
   "outputs": [
    {
     "name": "stdout",
     "output_type": "stream",
     "text": [
      "['uses', 'usually', 'unity', 'use', 'ut', 'uthors', 'ues']\n"
     ]
    }
   ],
   "source": [
    "result= re.findall(r'u\\w+',text)\n",
    "print(result)   #"
   ]
  },
  {
   "cell_type": "code",
   "execution_count": 16,
   "metadata": {},
   "outputs": [
    {
     "name": "stdout",
     "output_type": "stream",
     "text": [
      "['usually', 'unity', 'use']\n"
     ]
    }
   ],
   "source": [
    "result= re.findall(r'\\bu\\w+',text)   #\\b--> as boundary to get meaningfull words\n",
    "print(result)"
   ]
  },
  {
   "cell_type": "code",
   "execution_count": 19,
   "metadata": {},
   "outputs": [
    {
     "name": "stdout",
     "output_type": "stream",
     "text": [
      "['contained', 'linked', 'invented', 'crafted', 'fixed']\n"
     ]
    }
   ],
   "source": [
    "result= re.findall(r'\\w+ed',text)   # ends with ed\n",
    "print(result)"
   ]
  },
  {
   "cell_type": "code",
   "execution_count": 20,
   "metadata": {},
   "outputs": [
    {
     "name": "stdout",
     "output_type": "stream",
     "text": [
      "['contained', 'linked', 'invented', 'crafted', 'fixed']\n"
     ]
    }
   ],
   "source": [
    "result= re.findall(r'\\w+ed\\b',text)\n",
    "print(result)"
   ]
  },
  {
   "cell_type": "code",
   "execution_count": 21,
   "metadata": {},
   "outputs": [
    {
     "name": "stdout",
     "output_type": "stream",
     "text": [
      "['read', 'and', 'contained', 'incid', 'linked', 'incid', 'mood', 'invented', 'and', 'and', 'mood', 'crafted', 'and', 'and', 'and', 'fixed']\n"
     ]
    }
   ],
   "source": [
    "result= re.findall(r'\\w+d',text)  # ends with d\n",
    "print(result)   #incid is not meaningful word, thats why we use \\b"
   ]
  },
  {
   "cell_type": "code",
   "execution_count": 22,
   "metadata": {},
   "outputs": [
    {
     "name": "stdout",
     "output_type": "stream",
     "text": [
      "['read', 'and', 'contained', 'linked', 'mood', 'invented', 'and', 'and', 'mood', 'crafted', 'and', 'and', 'and', 'fixed']\n"
     ]
    }
   ],
   "source": [
    "result= re.findall(r'\\w+d\\b',text)\n",
    "print(result)"
   ]
  },
  {
   "cell_type": "code",
   "execution_count": 27,
   "metadata": {},
   "outputs": [
    {
     "name": "stdout",
     "output_type": "stream",
     "text": [
      "['narrative', 'characters', 'concentrating', 'crafted', 'generally', 'draw', 'literary']\n"
     ]
    }
   ],
   "source": [
    "result= re.findall(r'\\w+ra\\w+',text)   #starting with word ending with word in middle it should be 'ra'\n",
    "print(result)"
   ]
  },
  {
   "cell_type": "code",
   "execution_count": 28,
   "metadata": {},
   "outputs": [
    {
     "name": "stdout",
     "output_type": "stream",
     "text": [
      "[' ', ' ', ' ', ' ', ' ', ' ', ' ', ' ', ' ', ' ', ' ', ' ', ' ', ' ', ' ', ' ', ' ', ' ', ' ', ' ', ' ', '-', ' ', ' ', ' ', ' ', ' ', ' ', ',', ' ', ' ', ' ', ' ', ' ', ' ', ' ', '\"', ' ', '\"', ' ', ' ', ',', ' ', ' ', ' ', ' ', ' ', ' ', ' ', '.', '\\n', '\\n', ' ', ' ', ' ', ' ', '\"', ' ', ' ', ' ', ' ', ' ', ' ', ' ', ' ', ' ', ' ', ' ', ' ', ' ', ' ', ' ', ' ', ' ', ' ', ' ', ' ', ' ', ' ', ' ', ' ', ' ', ' ', ' ', ' ', ' ', ' ', '.', '\"', '[', ']', '\\n', '\\n', ' ', ' ', ' ', ' ', ' ', ' ', ' ', ' ', ' ', ' ', '.', ' ', ' ', ' ', ' ', ' ', ' ', ',', ' ', ',', ' ', ' ', ' ', ' ', ' ', ' ', ' ', ' ', ',', ' ', ' ', ' ', ' ', ' ', ' ', '.', ' ', ' ', ' ', ' ', ' ', ' ', ' ', ' ', ' ', ' ', ' ', ' ', ' ', '(', ' ', ' ', ')', ',', ' ', ' ', ' ', ' ', ' ', ' ', ' ', ' ', ' ', ' ', '.', '\\n', '\\n', ' ', ' ', ' ', ' ', ' ', ' ', ' ', ' ', ' ', ' ', ' ', ' ', ' ', ' ', ' ', ' ', ' ', '.', ' ', ' ', ' ', ' ', ' ', ' ', ' ', ' ', ' ', ' ', ' ', ' ', '.']\n"
     ]
    }
   ],
   "source": [
    "#match spl characters:--->  \\W---> this shows how many spl characters are there in text\n",
    "result= re.findall(r'\\W',text)\n",
    "print(result)"
   ]
  },
  {
   "cell_type": "code",
   "execution_count": 29,
   "metadata": {},
   "outputs": [
    {
     "name": "stdout",
     "output_type": "stream",
     "text": [
      "['1']\n"
     ]
    }
   ],
   "source": [
    "#only digits:---> \\d----> this shows how many digits are there in text\n",
    "result= re.findall(r'\\d',text)\n",
    "print(result)"
   ]
  },
  {
   "cell_type": "code",
   "execution_count": 57,
   "metadata": {},
   "outputs": [
    {
     "data": {
      "text/plain": [
       "'ABC@gmail.com, DEF@facebook.in, GHI@yahoo.org,JKL@hotmail.biz'"
      ]
     },
     "execution_count": 57,
     "metadata": {},
     "output_type": "execute_result"
    }
   ],
   "source": [
    "string1=\"\"\"ABC@gmail.com, DEF@facebook.in, GHI@yahoo.org,JKL@hotmail.biz\"\"\"\n",
    "string1"
   ]
  },
  {
   "cell_type": "code",
   "execution_count": 58,
   "metadata": {},
   "outputs": [
    {
     "name": "stdout",
     "output_type": "stream",
     "text": [
      "['gmail', 'facebook', 'yahoo', 'hotmail']\n"
     ]
    }
   ],
   "source": [
    "# to find all domain name like gmail fb yahoo, hotmail:\n",
    "result= re.findall(r'@(\\w+)',string1)\n",
    "print(result)"
   ]
  },
  {
   "cell_type": "code",
   "execution_count": 59,
   "metadata": {},
   "outputs": [
    {
     "name": "stdout",
     "output_type": "stream",
     "text": [
      "['@gmail', '@facebook', '@yahoo', '@hotmail']\n"
     ]
    }
   ],
   "source": [
    "result= re.findall(r'@\\w+',string1)\n",
    "print(result)"
   ]
  },
  {
   "cell_type": "code",
   "execution_count": 60,
   "metadata": {},
   "outputs": [
    {
     "name": "stdout",
     "output_type": "stream",
     "text": [
      "['@gmail.com', '@facebook.in,', '@yahoo.org', '@hotmail.biz']\n"
     ]
    }
   ],
   "source": [
    "result= re.findall(r'@\\w+\\D\\D\\D\\D',string1)\n",
    "print(result)     #----> \\D--->adding letter by letter(if we want to add letters in left side put \\D in left vice-versa)"
   ]
  },
  {
   "cell_type": "code",
   "execution_count": 63,
   "metadata": {},
   "outputs": [
    {
     "name": "stdout",
     "output_type": "stream",
     "text": [
      "['gmail.com', 'facebook.in', 'yahoo.org', 'hotmail.biz']\n"
     ]
    }
   ],
   "source": [
    "result= re.findall(r'@(\\w+\\W\\w+)',string1)  #or\n",
    "print(result)"
   ]
  },
  {
   "cell_type": "code",
   "execution_count": 64,
   "metadata": {},
   "outputs": [
    {
     "name": "stdout",
     "output_type": "stream",
     "text": [
      "['@gmail.com', '@facebook.in', '@yahoo.org', '@hotmail.biz']\n"
     ]
    }
   ],
   "source": [
    "result= re.findall(r'@\\w+.\\w+',string1)\n",
    "print(result)"
   ]
  },
  {
   "cell_type": "code",
   "execution_count": 66,
   "metadata": {},
   "outputs": [
    {
     "data": {
      "text/plain": [
       "'ABC 24-2004, DEF 24-04-2004, GHI 24-03-2015, KLM 15/12/2019'"
      ]
     },
     "execution_count": 66,
     "metadata": {},
     "output_type": "execute_result"
    }
   ],
   "source": [
    "string2= \"ABC 24-2004, DEF 24-04-2004, GHI 24-03-2015, KLM 15/12/2019\"\n",
    "string2"
   ]
  },
  {
   "cell_type": "code",
   "execution_count": 92,
   "metadata": {},
   "outputs": [
    {
     "name": "stdout",
     "output_type": "stream",
     "text": [
      "['24-2004', '24-04-2004', '24-03-2015', '15/12/2019']\n"
     ]
    }
   ],
   "source": [
    "result= re.findall(r'\\d+.\\d+.\\d+\\b',string2)\n",
    "print(result)"
   ]
  },
  {
   "cell_type": "code",
   "execution_count": 93,
   "metadata": {},
   "outputs": [
    {
     "name": "stdout",
     "output_type": "stream",
     "text": [
      "['24-04-2004', '24-03-2015', '15/12/2019']\n"
     ]
    }
   ],
   "source": [
    "result= re.findall(r'\\d+\\W\\d+\\W\\d+',string2)\n",
    "print(result)                                  # or"
   ]
  },
  {
   "cell_type": "code",
   "execution_count": 94,
   "metadata": {},
   "outputs": [
    {
     "name": "stdout",
     "output_type": "stream",
     "text": [
      "['24-04-2004', '24-03-2015', '15/12/2019']\n"
     ]
    }
   ],
   "source": [
    "result= re.findall(r'\\d+[-/]\\d+[-/]\\d+',string2)\n",
    "print(result)                                  # or"
   ]
  },
  {
   "cell_type": "code",
   "execution_count": null,
   "metadata": {},
   "outputs": [],
   "source": [
    "#{}---> count\n",
    "#()----> \n",
    "#[]---->"
   ]
  },
  {
   "cell_type": "code",
   "execution_count": 96,
   "metadata": {},
   "outputs": [
    {
     "name": "stdout",
     "output_type": "stream",
     "text": [
      "['24-04-2004', '24-03-2015', '15/12/2019']\n"
     ]
    }
   ],
   "source": [
    "result= re.findall(r'\\d{2}\\W\\d{2}\\W\\d{4}',string2)   #---->2,2,4 in {} is the digits we need\n",
    "print(result)                                  # or"
   ]
  },
  {
   "cell_type": "code",
   "execution_count": 90,
   "metadata": {},
   "outputs": [
    {
     "name": "stdout",
     "output_type": "stream",
     "text": [
      "['24-04-2004', '24-03-2015', '15/12/2019']\n"
     ]
    }
   ],
   "source": [
    "result= re.findall(r'(\\d+\\b.\\d+\\b.\\d+\\b)',string2)    # this eliminates 24-2004\n",
    "print(result)"
   ]
  },
  {
   "cell_type": "code",
   "execution_count": 3,
   "metadata": {},
   "outputs": [
    {
     "name": "stdout",
     "output_type": "stream",
     "text": [
      "['9494949494', '7898234813', '8686755612', '*-/123214412', '929345617890']\n"
     ]
    }
   ],
   "source": [
    "phone=['9494949494','7898234813','8686755612','*-/123214412','929345617890']\n",
    "print(phone)"
   ]
  },
  {
   "cell_type": "markdown",
   "metadata": {},
   "source": [
    "## Write an expression to find all the valid phone numbers:\n",
    "- valid ph. numbers starts with 8 or 9\n",
    "- valid Ph. numbers has a length of 10 digits."
   ]
  },
  {
   "cell_type": "code",
   "execution_count": 30,
   "metadata": {},
   "outputs": [
    {
     "data": {
      "text/plain": [
       "'9494949494 7898234813 8686755612 *-/123214412 929345617890'"
      ]
     },
     "execution_count": 30,
     "metadata": {},
     "output_type": "execute_result"
    }
   ],
   "source": [
    "phone1=' '.join(phone)\n",
    "phone1"
   ]
  },
  {
   "cell_type": "markdown",
   "metadata": {},
   "source": [
    "regex101.com website--------------> regular expressions practice"
   ]
  },
  {
   "cell_type": "code",
   "execution_count": 31,
   "metadata": {},
   "outputs": [
    {
     "name": "stdout",
     "output_type": "stream",
     "text": [
      "['9494949494', '8686755612']\n"
     ]
    }
   ],
   "source": [
    "result= re.findall(r'\\b[98]\\d{9}\\b',phone1)  #[98]----> means 9 or 8 starting with {9}---> nxt 9 numbers,coz 9 or 8 is alrdy added\n",
    "print(result)"
   ]
  },
  {
   "cell_type": "code",
   "execution_count": 36,
   "metadata": {},
   "outputs": [
    {
     "name": "stdout",
     "output_type": "stream",
     "text": [
      "[' 7898234813', ' 8686755612', ' *-/123214412', ' 929345617890']\n"
     ]
    }
   ],
   "source": [
    "# for invalid phone numbers:\n",
    "result= re.findall(r'\\W+\\d+|\\b[^8-9]\\w+',phone1)   #---> '|' is 'or'   ^---> other than x\n",
    "print(result)      # here space is considered thats why we are coding in loops."
   ]
  },
  {
   "cell_type": "code",
   "execution_count": 49,
   "metadata": {},
   "outputs": [
    {
     "name": "stdout",
     "output_type": "stream",
     "text": [
      "7898234813 invalid number\n",
      "*-/123214412 invalid number\n",
      "929345617890 invalid number\n"
     ]
    }
   ],
   "source": [
    "for i in phone:      #for i in phone1:-----> then iteration will be occured for all numbers. \n",
    "    if len(i)!=10:\n",
    "        print(i, \"invalid number\")\n",
    "    else:\n",
    "        result= re.findall(r'\\W+\\d+|\\b[^8-9]\\d+',i)  #---> '|' is 'or'   ^---> other than or except  x\n",
    "        if result:\n",
    "            print(i,\"invalid number\")"
   ]
  },
  {
   "cell_type": "code",
   "execution_count": 51,
   "metadata": {},
   "outputs": [],
   "source": [
    "txt =\"\"\"India (official name: the Republic of India;[19] Hindi: Bhārat Gaṇarājya) is a country in South Asia. It is the seventh-largest country by area, the second-most populous country, and the most populous democracy in the world. Bounded by the Indian Ocean on the south, the Arabian Sea on the southwest, and the Bay of Bengal on the southeast, it shares land borders with Pakistan to the west;[e] China, Nepal, and Bhutan to the north; and Bangladesh and Myanmar to the east. In the Indian Ocean, India is in the vicinity of Sri Lanka and the Maldives; its Andaman and Nicobar Islands share a maritime border with Thailand and Indonesia.\n",
    "\n",
    "The Indian subcontinent was home to the Indus Valley Civilisation of the bronze age. In India's Iron Age, the oldest scriptures of Hinduism were composed, social stratification based on caste emerged, and Buddhism and Jainism arose. Political consolidations took place under the Maurya and Gupta Empires; the peninsular Middle Kingdoms influenced the cultures of Southeast Asia. In India's medieval era, Judaism, Zoroastrianism, Christianity, and Islam arrived, and Sikhism emerged, adding to a diverse culture. North India fell to the Delhi Sultanate; south India was united under the Vijayanagara Empire. In the early modern era, the expansive Mughal Empire was followed by East India Company rule. India's modern age was marked by British Crown rule and a nationalist movement which, under Mahatma Gandhi, was noted for nonviolence and led to India's independence in 1947.\n",
    "\n",
    "Economic liberalisation, begun in 1991, has caused India to become a fast growing major economy and a newly industrialised country. Its gross domestic product ranks sixth in the world in market exchange rates and third in purchasing power parity.[16] Its per capita income ranks 133rd and 116th in the two measures.[16] India faces challenges of poverty, corruption, malnutrition, and inadequate public healthcare. A nuclear weapons state and regional power, it has the second largest active military in the world and ranks high in military expenditure. India is a secular, federal republic, governed in a democratic parliamentary system, and administered in 29 states and seven union territories. A pluralistic, multilingual and multi-ethnic society, India is home to 1.3 billion people. It is also home to a high diversity of wildlife in a variety of protected habitats.\"\"\""
   ]
  },
  {
   "cell_type": "code",
   "execution_count": 52,
   "metadata": {},
   "outputs": [
    {
     "data": {
      "text/plain": [
       "\"ndia (official name: the Republic of India;[19] Hindi: Bhārat Gaṇarājya) is a country in South Asia. It is the seventh-largest country by area, the second-most populous country, and the most populous democracy in the world. Bounded by the Indian Ocean on the south, the Arabian Sea on the southwest, and the Bay of Bengal on the southeast, it shares land borders with Pakistan to the west;[e] China, Nepal, and Bhutan to the north; and Bangladesh and Myanmar to the east. In the Indian Ocean, India is in the vicinity of Sri Lanka and the Maldives; its Andaman and Nicobar Islands share a maritime border with Thailand and Indonesia.\\n\\nThe Indian subcontinent was home to the Indus Valley Civilisation of the bronze age. In India's Iron Age, the oldest scriptures of Hinduism were composed, social stratification based on caste emerged, and Buddhism and Jainism arose. Political consolidations took place under the Maurya and Gupta Empires; the peninsular Middle Kingdoms influenced the cultures of Southeast Asia. In India's medieval era, Judaism, Zoroastrianism, Christianity, and Islam arrived, and Sikhism emerged, adding to a diverse culture. North India fell to the Delhi Sultanate; south India was united under the Vijayanagara Empire. In the early modern era, the expansive Mughal Empire was followed by East India Company rule. India's modern age was marked by British Crown rule and a nationalist movement which, under Mahatma Gandhi, was noted for nonviolence and led to India's independence in 1947.\\n\\nEconomic liberalisation, begun in 1991, has caused India to become a fast growing major economy and a newly industrialised country. Its gross domestic product ranks sixth in the world in market exchange rates and third in purchasing power parity.[16] Its per capita income ranks 133rd and 116th in the two measures.[16] India faces challenges of poverty, corruption, malnutrition, and inadequate public healthcare. A nuclear weapons state and regional power, it has the second largest active military in the world and ranks high in military expenditure. India is a secular, federal republic, governed in a democratic parliamentary system, and administered in 29 states and seven union territories. A pluralistic, multilingual and multi-ethnic society, India is home to 1.3 billion people. It is also home to a high diversity of wildlife in a variety of protected habitats.\""
      ]
     },
     "execution_count": 52,
     "metadata": {},
     "output_type": "execute_result"
    }
   ],
   "source": [
    "txt"
   ]
  },
  {
   "cell_type": "markdown",
   "metadata": {},
   "source": [
    "Find CAPS and small letters:"
   ]
  },
  {
   "cell_type": "code",
   "execution_count": 61,
   "metadata": {},
   "outputs": [
    {
     "name": "stdout",
     "output_type": "stream",
     "text": [
      "['populous', 'populous', 'Pakistan', 'Political', 'place', 'peninsular', 'product', 'purchasing', 'power', 'parity', 'per', 'poverty', 'public', 'power', 'parliamentary', 'pluralistic', 'people', 'protected']\n"
     ]
    }
   ],
   "source": [
    "result= re.findall(r'\\b[Pp]\\w+\\b',txt)\n",
    "print(result)"
   ]
  },
  {
   "cell_type": "code",
   "execution_count": null,
   "metadata": {},
   "outputs": [],
   "source": []
  }
 ],
 "metadata": {
  "kernelspec": {
   "display_name": "Python 3",
   "language": "python",
   "name": "python3"
  },
  "language_info": {
   "codemirror_mode": {
    "name": "ipython",
    "version": 3
   },
   "file_extension": ".py",
   "mimetype": "text/x-python",
   "name": "python",
   "nbconvert_exporter": "python",
   "pygments_lexer": "ipython3",
   "version": "3.7.3"
  }
 },
 "nbformat": 4,
 "nbformat_minor": 2
}
