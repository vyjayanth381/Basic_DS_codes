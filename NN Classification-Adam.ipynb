{
 "cells": [
  {
   "cell_type": "code",
   "execution_count": 0,
   "metadata": {
    "colab": {},
    "colab_type": "code",
    "id": "AOAU9p86gfFH"
   },
   "outputs": [],
   "source": [
    "from google.colab import drive"
   ]
  },
  {
   "cell_type": "code",
   "execution_count": 2,
   "metadata": {
    "colab": {
     "base_uri": "https://localhost:8080/",
     "height": 121
    },
    "colab_type": "code",
    "executionInfo": {
     "elapsed": 31413,
     "status": "ok",
     "timestamp": 1575693320180,
     "user": {
      "displayName": "Avinash Gunda",
      "photoUrl": "https://lh3.googleusercontent.com/a-/AAuE7mAi-a2WeeEb68vHLNkhUL-gIe_5eNAqb3aq702s8G9yR5Z9xBTZUydcohd7NiKql9H3bkf9KgMNqTd9_dWi-7B3kq1Xh6ii3zfdofNhpTMMRme1u43i8kSAXeBLzrG_LU-1FpyxvDkynpRPvkm3J0WV82ZOGWtI3a_s2Ge8Ay_ikHMV1ACDdgYI649aDvbN2uARMeyq7-YU0Cer6nd7hCyoEQ_y4GaSHiD1MHlRwT_M1hDYHTTcOskzzXEzruiemW4rYPXr_qBom4rskZd6euJoLDEn_xQoBzjWHQqpjPgzAJnHZrV9pLipng9IRs29B1t2lhlW_NdQCBPgMnPsmLjwXmqQRKPW74NQc1LCdvAPNUjsI_h9W-htUmYV-xJFlZ8EhOXgblNFz9AVlGagWtlQBU2up66SNNXTXNOOaWktlIvR-YNjpvi55ycC0znVZ17SrrmpGn6hwFIqVg1N07yHj0CNqFNAN8hXPo2uqCtKqermjurin6mAoj1LmvSkH_rdFMVqAP4tOYWhTHLoOJytv4YPWRUbQ_XXqViU98c-HlPY8aMN6OznLJcl8gRFNHD4j4j9voTH4dXeDTE3Nv9fYOQEEMLNX4Ixg6HJ0zzGfb9HkNR9kUOrVeL3pE0e799akwO6QezkPMhR4UMZOFatogLMh580Jd3zw5t4n7ZGPN8iBZUE-Eef4J1pigJqmYUhSfcMjKjUvB_D3vBoxQV2Avv-rjF56crn8Okn5haD3ofEd-BIE64Nnl2mo4Q=s64",
      "userId": "07701713045507434863"
     },
     "user_tz": -330
    },
    "id": "erVBWXAogkm9",
    "outputId": "5b6c025a-e3fa-40e7-ed35-b5d89ea8702e"
   },
   "outputs": [
    {
     "name": "stdout",
     "output_type": "stream",
     "text": [
      "Go to this URL in a browser: https://accounts.google.com/o/oauth2/auth?client_id=947318989803-6bn6qk8qdgf4n4g3pfee6491hc0brc4i.apps.googleusercontent.com&redirect_uri=urn%3aietf%3awg%3aoauth%3a2.0%3aoob&response_type=code&scope=email%20https%3a%2f%2fwww.googleapis.com%2fauth%2fdocs.test%20https%3a%2f%2fwww.googleapis.com%2fauth%2fdrive%20https%3a%2f%2fwww.googleapis.com%2fauth%2fdrive.photos.readonly%20https%3a%2f%2fwww.googleapis.com%2fauth%2fpeopleapi.readonly\n",
      "\n",
      "Enter your authorization code:\n",
      "··········\n",
      "Mounted at /drive\n"
     ]
    }
   ],
   "source": [
    "drive.mount('/drive')"
   ]
  },
  {
   "cell_type": "code",
   "execution_count": 0,
   "metadata": {
    "colab": {},
    "colab_type": "code",
    "id": "AbS_4-6Ggkj-"
   },
   "outputs": [],
   "source": [
    "import os"
   ]
  },
  {
   "cell_type": "code",
   "execution_count": 0,
   "metadata": {
    "colab": {},
    "colab_type": "code",
    "id": "WWh-n-g7gkeq"
   },
   "outputs": [],
   "source": [
    "os.chdir('/drive/My Drive/Deep Learning')"
   ]
  },
  {
   "cell_type": "markdown",
   "metadata": {
    "colab_type": "text",
    "id": "LIVkNO6YeKwc"
   },
   "source": [
    "# Neural Network for classification\n",
    "784, 64, 16, 10"
   ]
  },
  {
   "cell_type": "code",
   "execution_count": 5,
   "metadata": {
    "colab": {
     "base_uri": "https://localhost:8080/",
     "height": 79
    },
    "colab_type": "code",
    "executionInfo": {
     "elapsed": 2260,
     "status": "ok",
     "timestamp": 1575694205179,
     "user": {
      "displayName": "Avinash Gunda",
      "photoUrl": "https://lh3.googleusercontent.com/a-/AAuE7mAi-a2WeeEb68vHLNkhUL-gIe_5eNAqb3aq702s8G9yR5Z9xBTZUydcohd7NiKql9H3bkf9KgMNqTd9_dWi-7B3kq1Xh6ii3zfdofNhpTMMRme1u43i8kSAXeBLzrG_LU-1FpyxvDkynpRPvkm3J0WV82ZOGWtI3a_s2Ge8Ay_ikHMV1ACDdgYI649aDvbN2uARMeyq7-YU0Cer6nd7hCyoEQ_y4GaSHiD1MHlRwT_M1hDYHTTcOskzzXEzruiemW4rYPXr_qBom4rskZd6euJoLDEn_xQoBzjWHQqpjPgzAJnHZrV9pLipng9IRs29B1t2lhlW_NdQCBPgMnPsmLjwXmqQRKPW74NQc1LCdvAPNUjsI_h9W-htUmYV-xJFlZ8EhOXgblNFz9AVlGagWtlQBU2up66SNNXTXNOOaWktlIvR-YNjpvi55ycC0znVZ17SrrmpGn6hwFIqVg1N07yHj0CNqFNAN8hXPo2uqCtKqermjurin6mAoj1LmvSkH_rdFMVqAP4tOYWhTHLoOJytv4YPWRUbQ_XXqViU98c-HlPY8aMN6OznLJcl8gRFNHD4j4j9voTH4dXeDTE3Nv9fYOQEEMLNX4Ixg6HJ0zzGfb9HkNR9kUOrVeL3pE0e799akwO6QezkPMhR4UMZOFatogLMh580Jd3zw5t4n7ZGPN8iBZUE-Eef4J1pigJqmYUhSfcMjKjUvB_D3vBoxQV2Avv-rjF56crn8Okn5haD3ofEd-BIE64Nnl2mo4Q=s64",
      "userId": "07701713045507434863"
     },
     "user_tz": -330
    },
    "id": "ytMfMqljeKwe",
    "outputId": "875f6837-7bec-4f24-fc22-b03cb9893257"
   },
   "outputs": [
    {
     "data": {
      "text/html": [
       "<p style=\"color: red;\">\n",
       "The default version of TensorFlow in Colab will soon switch to TensorFlow 2.x.<br>\n",
       "We recommend you <a href=\"https://www.tensorflow.org/guide/migrate\" target=\"_blank\">upgrade</a> now \n",
       "or ensure your notebook will continue to use TensorFlow 1.x via the <code>%tensorflow_version 1.x</code> magic:\n",
       "<a href=\"https://colab.research.google.com/notebooks/tensorflow_version.ipynb\" target=\"_blank\">more info</a>.</p>\n"
      ],
      "text/plain": [
       "<IPython.core.display.HTML object>"
      ]
     },
     "metadata": {
      "tags": []
     },
     "output_type": "display_data"
    }
   ],
   "source": [
    "import tensorflow as tf\n",
    "import numpy as np\n",
    "import matplotlib.pyplot as plt\n",
    "import cv2\n",
    "%matplotlib inline"
   ]
  },
  {
   "cell_type": "code",
   "execution_count": 0,
   "metadata": {
    "colab": {},
    "colab_type": "code",
    "id": "-2iXzqQueKwm"
   },
   "outputs": [],
   "source": [
    "from tensorflow.examples.tutorials.mnist import input_data"
   ]
  },
  {
   "cell_type": "markdown",
   "metadata": {
    "colab_type": "text",
    "id": "dkZcQhQGeKwp"
   },
   "source": [
    "### Modified National Institute of Science and Technology"
   ]
  },
  {
   "cell_type": "code",
   "execution_count": 0,
   "metadata": {
    "colab": {},
    "colab_type": "code",
    "id": "fXo56xIDeKwq"
   },
   "outputs": [],
   "source": [
    "mnist = input_data.read_data_sets('./mnist_data', one_hot = True)"
   ]
  },
  {
   "cell_type": "code",
   "execution_count": 0,
   "metadata": {
    "colab": {},
    "colab_type": "code",
    "id": "ykGkEwY2eKww"
   },
   "outputs": [],
   "source": [
    "# mnist\n",
    "# 65000 images\n",
    "# 55000 training dataset"
   ]
  },
  {
   "cell_type": "code",
   "execution_count": 0,
   "metadata": {
    "colab": {},
    "colab_type": "code",
    "id": "bRkDc1o5eKwu"
   },
   "outputs": [],
   "source": [
    "# Training images\n",
    "x_train = mnist.train.images\n",
    "y_train = mnist.train.labels\n",
    "# testing images\n",
    "x_test = mnist.test.images\n",
    "y_test = mnist.test.labels"
   ]
  },
  {
   "cell_type": "code",
   "execution_count": 10,
   "metadata": {
    "colab": {
     "base_uri": "https://localhost:8080/",
     "height": 34
    },
    "colab_type": "code",
    "executionInfo": {
     "elapsed": 610,
     "status": "ok",
     "timestamp": 1575694841117,
     "user": {
      "displayName": "Avinash Gunda",
      "photoUrl": "https://lh3.googleusercontent.com/a-/AAuE7mAi-a2WeeEb68vHLNkhUL-gIe_5eNAqb3aq702s8G9yR5Z9xBTZUydcohd7NiKql9H3bkf9KgMNqTd9_dWi-7B3kq1Xh6ii3zfdofNhpTMMRme1u43i8kSAXeBLzrG_LU-1FpyxvDkynpRPvkm3J0WV82ZOGWtI3a_s2Ge8Ay_ikHMV1ACDdgYI649aDvbN2uARMeyq7-YU0Cer6nd7hCyoEQ_y4GaSHiD1MHlRwT_M1hDYHTTcOskzzXEzruiemW4rYPXr_qBom4rskZd6euJoLDEn_xQoBzjWHQqpjPgzAJnHZrV9pLipng9IRs29B1t2lhlW_NdQCBPgMnPsmLjwXmqQRKPW74NQc1LCdvAPNUjsI_h9W-htUmYV-xJFlZ8EhOXgblNFz9AVlGagWtlQBU2up66SNNXTXNOOaWktlIvR-YNjpvi55ycC0znVZ17SrrmpGn6hwFIqVg1N07yHj0CNqFNAN8hXPo2uqCtKqermjurin6mAoj1LmvSkH_rdFMVqAP4tOYWhTHLoOJytv4YPWRUbQ_XXqViU98c-HlPY8aMN6OznLJcl8gRFNHD4j4j9voTH4dXeDTE3Nv9fYOQEEMLNX4Ixg6HJ0zzGfb9HkNR9kUOrVeL3pE0e799akwO6QezkPMhR4UMZOFatogLMh580Jd3zw5t4n7ZGPN8iBZUE-Eef4J1pigJqmYUhSfcMjKjUvB_D3vBoxQV2Avv-rjF56crn8Okn5haD3ofEd-BIE64Nnl2mo4Q=s64",
      "userId": "07701713045507434863"
     },
     "user_tz": -330
    },
    "id": "WdlLTNiRlI_J",
    "outputId": "9451b78a-efa6-45c5-c9ac-08f1cce266dd"
   },
   "outputs": [
    {
     "data": {
      "text/plain": [
       "((55000, 784), (10000, 784), (55000, 10), (10000, 10))"
      ]
     },
     "execution_count": 10,
     "metadata": {
      "tags": []
     },
     "output_type": "execute_result"
    }
   ],
   "source": [
    "x_train.shape,x_test.shape, y_train.shape,y_test.shape"
   ]
  },
  {
   "cell_type": "code",
   "execution_count": 0,
   "metadata": {
    "colab": {},
    "colab_type": "code",
    "id": "TlVU7GjEeKwy"
   },
   "outputs": [],
   "source": [
    "x = mnist.train.images\n",
    "y = mnist.train.labels"
   ]
  },
  {
   "cell_type": "code",
   "execution_count": 13,
   "metadata": {
    "colab": {
     "base_uri": "https://localhost:8080/",
     "height": 282
    },
    "colab_type": "code",
    "executionInfo": {
     "elapsed": 834,
     "status": "ok",
     "timestamp": 1575694996328,
     "user": {
      "displayName": "Avinash Gunda",
      "photoUrl": "https://lh3.googleusercontent.com/a-/AAuE7mAi-a2WeeEb68vHLNkhUL-gIe_5eNAqb3aq702s8G9yR5Z9xBTZUydcohd7NiKql9H3bkf9KgMNqTd9_dWi-7B3kq1Xh6ii3zfdofNhpTMMRme1u43i8kSAXeBLzrG_LU-1FpyxvDkynpRPvkm3J0WV82ZOGWtI3a_s2Ge8Ay_ikHMV1ACDdgYI649aDvbN2uARMeyq7-YU0Cer6nd7hCyoEQ_y4GaSHiD1MHlRwT_M1hDYHTTcOskzzXEzruiemW4rYPXr_qBom4rskZd6euJoLDEn_xQoBzjWHQqpjPgzAJnHZrV9pLipng9IRs29B1t2lhlW_NdQCBPgMnPsmLjwXmqQRKPW74NQc1LCdvAPNUjsI_h9W-htUmYV-xJFlZ8EhOXgblNFz9AVlGagWtlQBU2up66SNNXTXNOOaWktlIvR-YNjpvi55ycC0znVZ17SrrmpGn6hwFIqVg1N07yHj0CNqFNAN8hXPo2uqCtKqermjurin6mAoj1LmvSkH_rdFMVqAP4tOYWhTHLoOJytv4YPWRUbQ_XXqViU98c-HlPY8aMN6OznLJcl8gRFNHD4j4j9voTH4dXeDTE3Nv9fYOQEEMLNX4Ixg6HJ0zzGfb9HkNR9kUOrVeL3pE0e799akwO6QezkPMhR4UMZOFatogLMh580Jd3zw5t4n7ZGPN8iBZUE-Eef4J1pigJqmYUhSfcMjKjUvB_D3vBoxQV2Avv-rjF56crn8Okn5haD3ofEd-BIE64Nnl2mo4Q=s64",
      "userId": "07701713045507434863"
     },
     "user_tz": -330
    },
    "id": "Y3rutNdhlrvl",
    "outputId": "e15cb167-c295-450c-a16a-338a260e7db5"
   },
   "outputs": [
    {
     "data": {
      "text/plain": [
       "<matplotlib.image.AxesImage at 0x7f8cac16fa90>"
      ]
     },
     "execution_count": 13,
     "metadata": {
      "tags": []
     },
     "output_type": "execute_result"
    },
    {
     "data": {
      "image/png": "[encoded data removed]",
      "text/plain": [
       "<Figure size 432x288 with 1 Axes>"
      ]
     },
     "metadata": {
      "tags": []
     },
     "output_type": "display_data"
    }
   ],
   "source": [
    "plt.imshow(x[1].reshape(28,28))"
   ]
  },
  {
   "cell_type": "code",
   "execution_count": 15,
   "metadata": {
    "colab": {
     "base_uri": "https://localhost:8080/",
     "height": 34
    },
    "colab_type": "code",
    "executionInfo": {
     "elapsed": 867,
     "status": "ok",
     "timestamp": 1575695074124,
     "user": {
      "displayName": "Avinash Gunda",
      "photoUrl": "https://lh3.googleusercontent.com/a-/AAuE7mAi-a2WeeEb68vHLNkhUL-gIe_5eNAqb3aq702s8G9yR5Z9xBTZUydcohd7NiKql9H3bkf9KgMNqTd9_dWi-7B3kq1Xh6ii3zfdofNhpTMMRme1u43i8kSAXeBLzrG_LU-1FpyxvDkynpRPvkm3J0WV82ZOGWtI3a_s2Ge8Ay_ikHMV1ACDdgYI649aDvbN2uARMeyq7-YU0Cer6nd7hCyoEQ_y4GaSHiD1MHlRwT_M1hDYHTTcOskzzXEzruiemW4rYPXr_qBom4rskZd6euJoLDEn_xQoBzjWHQqpjPgzAJnHZrV9pLipng9IRs29B1t2lhlW_NdQCBPgMnPsmLjwXmqQRKPW74NQc1LCdvAPNUjsI_h9W-htUmYV-xJFlZ8EhOXgblNFz9AVlGagWtlQBU2up66SNNXTXNOOaWktlIvR-YNjpvi55ycC0znVZ17SrrmpGn6hwFIqVg1N07yHj0CNqFNAN8hXPo2uqCtKqermjurin6mAoj1LmvSkH_rdFMVqAP4tOYWhTHLoOJytv4YPWRUbQ_XXqViU98c-HlPY8aMN6OznLJcl8gRFNHD4j4j9voTH4dXeDTE3Nv9fYOQEEMLNX4Ixg6HJ0zzGfb9HkNR9kUOrVeL3pE0e799akwO6QezkPMhR4UMZOFatogLMh580Jd3zw5t4n7ZGPN8iBZUE-Eef4J1pigJqmYUhSfcMjKjUvB_D3vBoxQV2Avv-rjF56crn8Okn5haD3ofEd-BIE64Nnl2mo4Q=s64",
      "userId": "07701713045507434863"
     },
     "user_tz": -330
    },
    "id": "Izrem4mjH8H1",
    "outputId": "09432a99-5eff-407f-90a1-b458d0661a7f"
   },
   "outputs": [
    {
     "data": {
      "text/plain": [
       "3"
      ]
     },
     "execution_count": 15,
     "metadata": {
      "tags": []
     },
     "output_type": "execute_result"
    }
   ],
   "source": [
    "y[1].argmax()"
   ]
  },
  {
   "cell_type": "code",
   "execution_count": 16,
   "metadata": {
    "colab": {
     "base_uri": "https://localhost:8080/",
     "height": 376
    },
    "colab_type": "code",
    "executionInfo": {
     "elapsed": 3033,
     "status": "ok",
     "timestamp": 1575695515280,
     "user": {
      "displayName": "Avinash Gunda",
      "photoUrl": "https://lh3.googleusercontent.com/a-/AAuE7mAi-a2WeeEb68vHLNkhUL-gIe_5eNAqb3aq702s8G9yR5Z9xBTZUydcohd7NiKql9H3bkf9KgMNqTd9_dWi-7B3kq1Xh6ii3zfdofNhpTMMRme1u43i8kSAXeBLzrG_LU-1FpyxvDkynpRPvkm3J0WV82ZOGWtI3a_s2Ge8Ay_ikHMV1ACDdgYI649aDvbN2uARMeyq7-YU0Cer6nd7hCyoEQ_y4GaSHiD1MHlRwT_M1hDYHTTcOskzzXEzruiemW4rYPXr_qBom4rskZd6euJoLDEn_xQoBzjWHQqpjPgzAJnHZrV9pLipng9IRs29B1t2lhlW_NdQCBPgMnPsmLjwXmqQRKPW74NQc1LCdvAPNUjsI_h9W-htUmYV-xJFlZ8EhOXgblNFz9AVlGagWtlQBU2up66SNNXTXNOOaWktlIvR-YNjpvi55ycC0znVZ17SrrmpGn6hwFIqVg1N07yHj0CNqFNAN8hXPo2uqCtKqermjurin6mAoj1LmvSkH_rdFMVqAP4tOYWhTHLoOJytv4YPWRUbQ_XXqViU98c-HlPY8aMN6OznLJcl8gRFNHD4j4j9voTH4dXeDTE3Nv9fYOQEEMLNX4Ixg6HJ0zzGfb9HkNR9kUOrVeL3pE0e799akwO6QezkPMhR4UMZOFatogLMh580Jd3zw5t4n7ZGPN8iBZUE-Eef4J1pigJqmYUhSfcMjKjUvB_D3vBoxQV2Avv-rjF56crn8Okn5haD3ofEd-BIE64Nnl2mo4Q=s64",
      "userId": "07701713045507434863"
     },
     "user_tz": -330
    },
    "id": "8SBTCWvaeKw0",
    "outputId": "0a75b959-8a63-41f5-b14e-8c609083d13b"
   },
   "outputs": [
    {
     "data": {
      "image/png": "[encoded data removed]",
      "text/plain": [
       "<Figure size 648x432 with 6 Axes>"
      ]
     },
     "metadata": {
      "tags": []
     },
     "output_type": "display_data"
    }
   ],
   "source": [
    "fig = plt.figure(figsize=(9,6))\n",
    "for i in range(1,7):\n",
    "    plt.subplot(2,3,i)\n",
    "    plt.imshow(x[i:i+1].reshape((28,28)),cmap='gray')\n",
    "    plt.title(\"Label:{}\".format(y[i:i+1].argmax()))\n",
    "    plt.xticks([]),plt.yticks([])\n",
    "plt.show()"
   ]
  },
  {
   "cell_type": "markdown",
   "metadata": {
    "colab_type": "text",
    "id": "mYCMmSzpeKw3"
   },
   "source": [
    "> # Neural Network"
   ]
  },
  {
   "cell_type": "code",
   "execution_count": 0,
   "metadata": {
    "colab": {},
    "colab_type": "code",
    "id": "aW6XuT8VeKw4"
   },
   "outputs": [],
   "source": [
    "# Feed Forward Network"
   ]
  },
  {
   "cell_type": "code",
   "execution_count": 0,
   "metadata": {
    "colab": {},
    "colab_type": "code",
    "id": "8yvd3eFFeKw6"
   },
   "outputs": [],
   "source": [
    "with tf.name_scope('Input_Layer'):\n",
    "    X_inputs = tf.placeholder(dtype=tf.float32, shape=[None,784], name='Input')\n",
    "\n",
    "with tf.name_scope('Weights'):\n",
    "    wx = tf.Variable(tf.truncated_normal(shape=(784,64)))\n",
    "    wy = tf.Variable(tf.truncated_normal(shape=(64,16)))\n",
    "    wz = tf.Variable(tf.truncated_normal(shape=(16,10)))\n",
    "    #bias\n",
    "    bx = tf.Variable(tf.truncated_normal(shape=[64]))\n",
    "    by = tf.Variable(tf.truncated_normal(shape=[16]))\n",
    "    bz = tf.Variable(tf.truncated_normal(shape=[10]))\n",
    "    \n",
    "with tf.name_scope('Layer_1'):\n",
    "    L1 = tf.matmul(X_inputs,wx, name='L1')\n",
    "    L1_final = tf.nn.sigmoid(L1+bx, name='Layer1_final')\n",
    "    \n",
    "with tf.name_scope('Layer_2'):\n",
    "    L2 = tf.matmul(L1_final,wy, name='L2')\n",
    "    L2_final = tf.nn.sigmoid(L2+by, name='Layer2_final')\n",
    "\n",
    "with tf.name_scope('Layer_3'):\n",
    "    L3 = tf.matmul(L2_final,wz, name='L3')\n",
    "    y = tf.nn.sigmoid(L3+bz, name='Output')"
   ]
  },
  {
   "cell_type": "markdown",
   "metadata": {
    "colab_type": "text",
    "id": "fkmEwap0eKw8"
   },
   "source": [
    "> ### Back Propagation"
   ]
  },
  {
   "cell_type": "markdown",
   "metadata": {
    "colab_type": "text",
    "id": "IZYGuEWztLI9"
   },
   "source": [
    "***Softmax function*** takes an N-dimensional vector of real numbers and transforms it into a vector of real number in range (0,1) which add upto 1. \n",
    "\n",
    "$p_i=\\frac{e^a{i}}{∑^N_{k=1} e_k^a}$\n",
    "\n",
    "\n",
    "As the name suggests, softmax function is a “soft” version of max function. Instead of selecting one maximum value, it breaks the whole (1) with maximal element getting the largest portion of the distribution, but other smaller elements getting some of it as well.\n",
    "\n",
    "This property of softmax function that it outputs a probability distribution makes it suitable for probabilistic interpretation in classification tasks.\n",
    "\n",
    "***Cross Entropy Loss***\n",
    "Cross entropy indicates the distance between what the model believes the output distribution should be, and what the original distribution really is. It is defined as, \n",
    "\n",
    "$H(y,p)=−∑_iy_ilog(p_i)$"
   ]
  },
  {
   "cell_type": "code",
   "execution_count": 0,
   "metadata": {
    "colab": {},
    "colab_type": "code",
    "id": "S8IcRRD9eKw8"
   },
   "outputs": [],
   "source": [
    "with tf.name_scope('loss'):\n",
    "    y_actual = tf.placeholder(dtype=tf.float32, shape=[None, 10], name = 'actual')\n",
    "    cost = tf.reduce_mean(tf.nn.softmax_cross_entropy_with_logits_v2(labels=y_actual,\n",
    "                                                                     logits=y)) # Loss Function"
   ]
  },
  {
   "cell_type": "code",
   "execution_count": 0,
   "metadata": {
    "colab": {},
    "colab_type": "code",
    "id": "ZvMzQScBeKw-"
   },
   "outputs": [],
   "source": [
    "with tf.name_scope('optimizer'):\n",
    "    optimizer = tf.train.AdamOptimizer(learning_rate=0.01)\n",
    "    train = optimizer.minimize(cost)"
   ]
  },
  {
   "cell_type": "code",
   "execution_count": 0,
   "metadata": {
    "colab": {},
    "colab_type": "code",
    "id": "lbNx_dcgeKxA"
   },
   "outputs": [],
   "source": [
    "cross_prediction = tf.equal(tf.argmax(y,1), tf.argmax(y_actual,1))\n",
    "accuracy = tf.reduce_mean(tf.cast(cross_prediction,tf.float32))"
   ]
  },
  {
   "cell_type": "markdown",
   "metadata": {
    "colab_type": "text",
    "id": "3CHV0GBmeKxC"
   },
   "source": [
    "# Training Model"
   ]
  },
  {
   "cell_type": "code",
   "execution_count": 0,
   "metadata": {
    "colab": {},
    "colab_type": "code",
    "id": "QBKX5XyoeKxC"
   },
   "outputs": [],
   "source": [
    "epochs = 1001\n",
    "batch_size = 10000"
   ]
  },
  {
   "cell_type": "code",
   "execution_count": 0,
   "metadata": {
    "colab": {},
    "colab_type": "code",
    "id": "KPTqt46TeKxF"
   },
   "outputs": [],
   "source": [
    "def batching(last,batch_size):\n",
    "    return np.random.randint(low=0, high=last, size=batch_size)"
   ]
  },
  {
   "cell_type": "code",
   "execution_count": 0,
   "metadata": {
    "colab": {},
    "colab_type": "code",
    "id": "PgnJQw8ueKxH"
   },
   "outputs": [],
   "source": [
    "saver = tf.train.Saver()"
   ]
  },
  {
   "cell_type": "code",
   "execution_count": 28,
   "metadata": {
    "colab": {
     "base_uri": "https://localhost:8080/",
     "height": 202
    },
    "colab_type": "code",
    "executionInfo": {
     "elapsed": 4549,
     "status": "ok",
     "timestamp": 1575698985105,
     "user": {
      "displayName": "Avinash Gunda",
      "photoUrl": "https://lh3.googleusercontent.com/a-/AAuE7mAi-a2WeeEb68vHLNkhUL-gIe_5eNAqb3aq702s8G9yR5Z9xBTZUydcohd7NiKql9H3bkf9KgMNqTd9_dWi-7B3kq1Xh6ii3zfdofNhpTMMRme1u43i8kSAXeBLzrG_LU-1FpyxvDkynpRPvkm3J0WV82ZOGWtI3a_s2Ge8Ay_ikHMV1ACDdgYI649aDvbN2uARMeyq7-YU0Cer6nd7hCyoEQ_y4GaSHiD1MHlRwT_M1hDYHTTcOskzzXEzruiemW4rYPXr_qBom4rskZd6euJoLDEn_xQoBzjWHQqpjPgzAJnHZrV9pLipng9IRs29B1t2lhlW_NdQCBPgMnPsmLjwXmqQRKPW74NQc1LCdvAPNUjsI_h9W-htUmYV-xJFlZ8EhOXgblNFz9AVlGagWtlQBU2up66SNNXTXNOOaWktlIvR-YNjpvi55ycC0znVZ17SrrmpGn6hwFIqVg1N07yHj0CNqFNAN8hXPo2uqCtKqermjurin6mAoj1LmvSkH_rdFMVqAP4tOYWhTHLoOJytv4YPWRUbQ_XXqViU98c-HlPY8aMN6OznLJcl8gRFNHD4j4j9voTH4dXeDTE3Nv9fYOQEEMLNX4Ixg6HJ0zzGfb9HkNR9kUOrVeL3pE0e799akwO6QezkPMhR4UMZOFatogLMh580Jd3zw5t4n7ZGPN8iBZUE-Eef4J1pigJqmYUhSfcMjKjUvB_D3vBoxQV2Avv-rjF56crn8Okn5haD3ofEd-BIE64Nnl2mo4Q=s64",
      "userId": "07701713045507434863"
     },
     "user_tz": -330
    },
    "id": "9_ijreWxeKxJ",
    "outputId": "b7787c48-02c6-45b9-e1e5-fcae9a348a6a"
   },
   "outputs": [
    {
     "name": "stdout",
     "output_type": "stream",
     "text": [
      "Epoch: 0, Loss: 2.343327045440674, Accuracy: 0.15000000596046448\n",
      "Epoch: 100, Loss: 1.6461927890777588, Accuracy: 0.8899999856948853\n",
      "Epoch: 200, Loss: 1.5955647230148315, Accuracy: 0.8899999856948853\n",
      "Epoch: 300, Loss: 1.5014816522598267, Accuracy: 0.9900000095367432\n",
      "Epoch: 400, Loss: 1.5383049249649048, Accuracy: 0.9200000166893005\n",
      "Epoch: 500, Loss: 1.5036293268203735, Accuracy: 0.9599999785423279\n",
      "Epoch: 600, Loss: 1.501448154449463, Accuracy: 0.9800000190734863\n",
      "Epoch: 700, Loss: 1.4858006238937378, Accuracy: 0.9700000286102295\n",
      "Epoch: 800, Loss: 1.5407310724258423, Accuracy: 0.9200000166893005\n",
      "Epoch: 900, Loss: 1.4969701766967773, Accuracy: 0.9800000190734863\n",
      "Epoch: 1000, Loss: 1.5215134620666504, Accuracy: 0.9300000071525574\n"
     ]
    }
   ],
   "source": [
    "init = tf.global_variables_initializer()\n",
    "with tf.Session() as sess:\n",
    "    sess.run(init)\n",
    "    writer = tf.summary.FileWriter('./neural_class',graph = sess.graph)\n",
    "    \n",
    "    for i in range(epochs):\n",
    "        ind = batching(55000,1000)\n",
    "        sess.run(train,feed_dict = {X_inputs:x_train[ind],\n",
    "                                    y_actual:y_train[ind]})\n",
    "        # Check values for every 100 iterations\n",
    "        if i%100 == 0:\n",
    "            ind1 = batching(10000,100)\n",
    "            loss,acc = sess.run([cost,accuracy],feed_dict = {X_inputs:x_test[ind1],\n",
    "                                                             y_actual:y_test[ind1]})\n",
    "            print('Epoch: {}, Loss: {}, Accuracy: {}'.format(i,loss,acc))\n",
    "            \n",
    "    saver.save(sess,save_path='./numberclass_nn/nn.ckpt')\n",
    "    writer.close()"
   ]
  },
  {
   "cell_type": "markdown",
   "metadata": {
    "colab_type": "text",
    "id": "a-yxbMlweKxO"
   },
   "source": [
    "# Testing"
   ]
  },
  {
   "cell_type": "code",
   "execution_count": 0,
   "metadata": {
    "colab": {},
    "colab_type": "code",
    "id": "Gx2-wdwpeKxO"
   },
   "outputs": [],
   "source": [
    "import cv2"
   ]
  },
  {
   "cell_type": "code",
   "execution_count": 0,
   "metadata": {
    "colab": {
     "base_uri": "https://localhost:8080/",
     "height": 134
    },
    "colab_type": "code",
    "executionInfo": {
     "elapsed": 1221,
     "status": "ok",
     "timestamp": 1575353304156,
     "user": {
      "displayName": "Avinash Gunda",
      "photoUrl": "https://lh3.googleusercontent.com/a-/AAuE7mB5YGXrjBGgUVp_lq7tkNO3oU2yi0GYh8-iOYdcMINUnXgnmDsD2eJFxE-Kp-imZWEnIPM83iQhRlx2DeVPWjQ7UEsFxRxRnrXvxQscB2U_wS4U8TRIOUAf_chw9LQClgMs3Y6tISNqvrYUb0yvPE1RweXrXGKMlUVA-jNcvIFZkiQLnKopJWLJ6o6VGkP3uwsMlAGaHZlEyY2nkqlJHFrKJsMHSxCsF0crFZO3pkkWO5MOx5IiRVi-TnMTej9mPvknP3o3FqfNO34FvH1NI0LQSOMoWPqW_cwZ8rVGWy5ItMzVKchnTuHa2AEEvVrAidUbTp9XRvx_BdpedmhydKZA6AHekqUV-k-yxXSfZiv5q7cNexAKkMUYqUjho418Fa5oY23Kt08MjfZuwxAHMkjzkpcR3j0haU4ziw2gduH2-MLoGwRyfJyb5hle-slWdoy8RQYNGVhXQoHzqBPrgFLdnnbEboCrRn5lL_RGcMYRFjM0JKr-gARkZAm78Xa9HO5QLDRAZdBZpk6tlFKUnoyZ0JwFwcPr2o3CR-IghvRn3bTP_u1b4l5NdP7TTEi2dU_LvJk5EXbTvEXEiSfLOpDiJNSBeQoF3RElDpbm3PyHiBwdGJPsySYhmtyVB5TcusaKN4-tWUJj57D1frnnQN2BXpyu1oHHYpaa79Qu52nkbKxNiIqrp9_ITnKOhjTRlv2psxDsxD3ZYX31EP4TpnSsek0XSaT2ZdPS6C21-GfUTX0JqHLFgjnL0FzTYww=s64",
      "userId": "07701713045507434863"
     },
     "user_tz": -330
    },
    "id": "RMPnL-8uoOXi",
    "outputId": "59d4a44d-0f4d-473a-cf0e-0f94274478dc"
   },
   "outputs": [
    {
     "data": {
      "text/plain": [
       "array([[255, 255, 255, ..., 255, 255, 255],\n",
       "       [255, 255, 255, ..., 255, 255, 255],\n",
       "       [255, 255, 255, ..., 255, 255, 255],\n",
       "       ...,\n",
       "       [255, 255, 255, ..., 255, 255, 255],\n",
       "       [255, 255, 255, ..., 255, 255, 255],\n",
       "       [255, 255, 255, ..., 255, 255, 255]], dtype=uint8)"
      ]
     },
     "execution_count": 44,
     "metadata": {
      "tags": []
     },
     "output_type": "execute_result"
    }
   ],
   "source": [
    "img = cv2.imread('9.jpg',0)\n",
    "img"
   ]
  },
  {
   "cell_type": "code",
   "execution_count": 0,
   "metadata": {
    "colab": {
     "base_uri": "https://localhost:8080/",
     "height": 34
    },
    "colab_type": "code",
    "executionInfo": {
     "elapsed": 1303,
     "status": "ok",
     "timestamp": 1575353306021,
     "user": {
      "displayName": "Avinash Gunda",
      "photoUrl": "https://lh3.googleusercontent.com/a-/AAuE7mB5YGXrjBGgUVp_lq7tkNO3oU2yi0GYh8-iOYdcMINUnXgnmDsD2eJFxE-Kp-imZWEnIPM83iQhRlx2DeVPWjQ7UEsFxRxRnrXvxQscB2U_wS4U8TRIOUAf_chw9LQClgMs3Y6tISNqvrYUb0yvPE1RweXrXGKMlUVA-jNcvIFZkiQLnKopJWLJ6o6VGkP3uwsMlAGaHZlEyY2nkqlJHFrKJsMHSxCsF0crFZO3pkkWO5MOx5IiRVi-TnMTej9mPvknP3o3FqfNO34FvH1NI0LQSOMoWPqW_cwZ8rVGWy5ItMzVKchnTuHa2AEEvVrAidUbTp9XRvx_BdpedmhydKZA6AHekqUV-k-yxXSfZiv5q7cNexAKkMUYqUjho418Fa5oY23Kt08MjfZuwxAHMkjzkpcR3j0haU4ziw2gduH2-MLoGwRyfJyb5hle-slWdoy8RQYNGVhXQoHzqBPrgFLdnnbEboCrRn5lL_RGcMYRFjM0JKr-gARkZAm78Xa9HO5QLDRAZdBZpk6tlFKUnoyZ0JwFwcPr2o3CR-IghvRn3bTP_u1b4l5NdP7TTEi2dU_LvJk5EXbTvEXEiSfLOpDiJNSBeQoF3RElDpbm3PyHiBwdGJPsySYhmtyVB5TcusaKN4-tWUJj57D1frnnQN2BXpyu1oHHYpaa79Qu52nkbKxNiIqrp9_ITnKOhjTRlv2psxDsxD3ZYX31EP4TpnSsek0XSaT2ZdPS6C21-GfUTX0JqHLFgjnL0FzTYww=s64",
      "userId": "07701713045507434863"
     },
     "user_tz": -330
    },
    "id": "sODB6g_jXzr0",
    "outputId": "fa952f02-12f3-443f-ee99-648c713bd72c"
   },
   "outputs": [
    {
     "data": {
      "text/plain": [
       "(288, 252)"
      ]
     },
     "execution_count": 45,
     "metadata": {
      "tags": []
     },
     "output_type": "execute_result"
    }
   ],
   "source": [
    "img.shape"
   ]
  },
  {
   "cell_type": "code",
   "execution_count": 0,
   "metadata": {
    "colab": {
     "base_uri": "https://localhost:8080/",
     "height": 269
    },
    "colab_type": "code",
    "executionInfo": {
     "elapsed": 1498,
     "status": "ok",
     "timestamp": 1575353307688,
     "user": {
      "displayName": "Avinash Gunda",
      "photoUrl": "https://lh3.googleusercontent.com/a-/AAuE7mB5YGXrjBGgUVp_lq7tkNO3oU2yi0GYh8-iOYdcMINUnXgnmDsD2eJFxE-Kp-imZWEnIPM83iQhRlx2DeVPWjQ7UEsFxRxRnrXvxQscB2U_wS4U8TRIOUAf_chw9LQClgMs3Y6tISNqvrYUb0yvPE1RweXrXGKMlUVA-jNcvIFZkiQLnKopJWLJ6o6VGkP3uwsMlAGaHZlEyY2nkqlJHFrKJsMHSxCsF0crFZO3pkkWO5MOx5IiRVi-TnMTej9mPvknP3o3FqfNO34FvH1NI0LQSOMoWPqW_cwZ8rVGWy5ItMzVKchnTuHa2AEEvVrAidUbTp9XRvx_BdpedmhydKZA6AHekqUV-k-yxXSfZiv5q7cNexAKkMUYqUjho418Fa5oY23Kt08MjfZuwxAHMkjzkpcR3j0haU4ziw2gduH2-MLoGwRyfJyb5hle-slWdoy8RQYNGVhXQoHzqBPrgFLdnnbEboCrRn5lL_RGcMYRFjM0JKr-gARkZAm78Xa9HO5QLDRAZdBZpk6tlFKUnoyZ0JwFwcPr2o3CR-IghvRn3bTP_u1b4l5NdP7TTEi2dU_LvJk5EXbTvEXEiSfLOpDiJNSBeQoF3RElDpbm3PyHiBwdGJPsySYhmtyVB5TcusaKN4-tWUJj57D1frnnQN2BXpyu1oHHYpaa79Qu52nkbKxNiIqrp9_ITnKOhjTRlv2psxDsxD3ZYX31EP4TpnSsek0XSaT2ZdPS6C21-GfUTX0JqHLFgjnL0FzTYww=s64",
      "userId": "07701713045507434863"
     },
     "user_tz": -330
    },
    "id": "JLeWPrf71lSp",
    "outputId": "dc43d7dc-d0bc-4b5e-e7a0-55eefa18c47d"
   },
   "outputs": [
    {
     "data": {
      "image/png": "[encoded data removed]",
      "text/plain": [
       "<Figure size 432x288 with 1 Axes>"
      ]
     },
     "metadata": {
      "tags": []
     },
     "output_type": "display_data"
    }
   ],
   "source": [
    "plt.imshow(img)\n",
    "plt.show()"
   ]
  },
  {
   "cell_type": "code",
   "execution_count": 0,
   "metadata": {
    "colab": {},
    "colab_type": "code",
    "id": "1enMmBeBeKxS"
   },
   "outputs": [],
   "source": [
    "# Step - 1 : Convert image into gray scale\n",
    "img = cv2.imread('9.jpg',0)\n",
    "\n",
    "# Step - 2: inverse colors\n",
    "img_not = cv2.bitwise_not(img)"
   ]
  },
  {
   "cell_type": "code",
   "execution_count": 0,
   "metadata": {
    "colab": {
     "base_uri": "https://localhost:8080/",
     "height": 134
    },
    "colab_type": "code",
    "executionInfo": {
     "elapsed": 1056,
     "status": "ok",
     "timestamp": 1575353377241,
     "user": {
      "displayName": "Avinash Gunda",
      "photoUrl": "https://lh3.googleusercontent.com/a-/AAuE7mB5YGXrjBGgUVp_lq7tkNO3oU2yi0GYh8-iOYdcMINUnXgnmDsD2eJFxE-Kp-imZWEnIPM83iQhRlx2DeVPWjQ7UEsFxRxRnrXvxQscB2U_wS4U8TRIOUAf_chw9LQClgMs3Y6tISNqvrYUb0yvPE1RweXrXGKMlUVA-jNcvIFZkiQLnKopJWLJ6o6VGkP3uwsMlAGaHZlEyY2nkqlJHFrKJsMHSxCsF0crFZO3pkkWO5MOx5IiRVi-TnMTej9mPvknP3o3FqfNO34FvH1NI0LQSOMoWPqW_cwZ8rVGWy5ItMzVKchnTuHa2AEEvVrAidUbTp9XRvx_BdpedmhydKZA6AHekqUV-k-yxXSfZiv5q7cNexAKkMUYqUjho418Fa5oY23Kt08MjfZuwxAHMkjzkpcR3j0haU4ziw2gduH2-MLoGwRyfJyb5hle-slWdoy8RQYNGVhXQoHzqBPrgFLdnnbEboCrRn5lL_RGcMYRFjM0JKr-gARkZAm78Xa9HO5QLDRAZdBZpk6tlFKUnoyZ0JwFwcPr2o3CR-IghvRn3bTP_u1b4l5NdP7TTEi2dU_LvJk5EXbTvEXEiSfLOpDiJNSBeQoF3RElDpbm3PyHiBwdGJPsySYhmtyVB5TcusaKN4-tWUJj57D1frnnQN2BXpyu1oHHYpaa79Qu52nkbKxNiIqrp9_ITnKOhjTRlv2psxDsxD3ZYX31EP4TpnSsek0XSaT2ZdPS6C21-GfUTX0JqHLFgjnL0FzTYww=s64",
      "userId": "07701713045507434863"
     },
     "user_tz": -330
    },
    "id": "nzwbCbGjohvi",
    "outputId": "24293402-46cc-403e-ab14-cdc5e7e7abef"
   },
   "outputs": [
    {
     "data": {
      "text/plain": [
       "array([[0, 0, 0, ..., 0, 0, 0],\n",
       "       [0, 0, 0, ..., 0, 0, 0],\n",
       "       [0, 0, 0, ..., 0, 0, 0],\n",
       "       ...,\n",
       "       [0, 0, 0, ..., 0, 0, 0],\n",
       "       [0, 0, 0, ..., 0, 0, 0],\n",
       "       [0, 0, 0, ..., 0, 0, 0]], dtype=uint8)"
      ]
     },
     "execution_count": 48,
     "metadata": {
      "tags": []
     },
     "output_type": "execute_result"
    }
   ],
   "source": [
    "img_not"
   ]
  },
  {
   "cell_type": "code",
   "execution_count": 0,
   "metadata": {
    "colab": {
     "base_uri": "https://localhost:8080/",
     "height": 286
    },
    "colab_type": "code",
    "executionInfo": {
     "elapsed": 1751,
     "status": "ok",
     "timestamp": 1575353379606,
     "user": {
      "displayName": "Avinash Gunda",
      "photoUrl": "https://lh3.googleusercontent.com/a-/AAuE7mB5YGXrjBGgUVp_lq7tkNO3oU2yi0GYh8-iOYdcMINUnXgnmDsD2eJFxE-Kp-imZWEnIPM83iQhRlx2DeVPWjQ7UEsFxRxRnrXvxQscB2U_wS4U8TRIOUAf_chw9LQClgMs3Y6tISNqvrYUb0yvPE1RweXrXGKMlUVA-jNcvIFZkiQLnKopJWLJ6o6VGkP3uwsMlAGaHZlEyY2nkqlJHFrKJsMHSxCsF0crFZO3pkkWO5MOx5IiRVi-TnMTej9mPvknP3o3FqfNO34FvH1NI0LQSOMoWPqW_cwZ8rVGWy5ItMzVKchnTuHa2AEEvVrAidUbTp9XRvx_BdpedmhydKZA6AHekqUV-k-yxXSfZiv5q7cNexAKkMUYqUjho418Fa5oY23Kt08MjfZuwxAHMkjzkpcR3j0haU4ziw2gduH2-MLoGwRyfJyb5hle-slWdoy8RQYNGVhXQoHzqBPrgFLdnnbEboCrRn5lL_RGcMYRFjM0JKr-gARkZAm78Xa9HO5QLDRAZdBZpk6tlFKUnoyZ0JwFwcPr2o3CR-IghvRn3bTP_u1b4l5NdP7TTEi2dU_LvJk5EXbTvEXEiSfLOpDiJNSBeQoF3RElDpbm3PyHiBwdGJPsySYhmtyVB5TcusaKN4-tWUJj57D1frnnQN2BXpyu1oHHYpaa79Qu52nkbKxNiIqrp9_ITnKOhjTRlv2psxDsxD3ZYX31EP4TpnSsek0XSaT2ZdPS6C21-GfUTX0JqHLFgjnL0FzTYww=s64",
      "userId": "07701713045507434863"
     },
     "user_tz": -330
    },
    "id": "AdG5a9be3pvv",
    "outputId": "69d6ecff-8aec-4646-da8d-b02d9dac90fb"
   },
   "outputs": [
    {
     "data": {
      "text/plain": [
       "<matplotlib.image.AxesImage at 0x7ff7b9202c50>"
      ]
     },
     "execution_count": 49,
     "metadata": {
      "tags": []
     },
     "output_type": "execute_result"
    },
    {
     "data": {
      "image/png": "[encoded data removed]",
      "text/plain": [
       "<Figure size 432x288 with 1 Axes>"
      ]
     },
     "metadata": {
      "tags": []
     },
     "output_type": "display_data"
    }
   ],
   "source": [
    "plt.imshow(img_not)"
   ]
  },
  {
   "cell_type": "code",
   "execution_count": 0,
   "metadata": {
    "colab": {},
    "colab_type": "code",
    "id": "iWA6lpjCfkfR"
   },
   "outputs": [],
   "source": [
    "# Step - 3 : resize into 28 * 28\n",
    "img_resize = cv2.resize(img_not,(28,28))\n",
    "\n",
    "# Normalize\n",
    "img_norm = img_resize/img_resize.max()\n",
    "\n",
    "#step - 4 : reshape into 1 * 784\n",
    "test = img_norm.reshape((1,784))"
   ]
  },
  {
   "cell_type": "code",
   "execution_count": 0,
   "metadata": {
    "colab": {
     "base_uri": "https://localhost:8080/",
     "height": 69
    },
    "colab_type": "code",
    "executionInfo": {
     "elapsed": 1249,
     "status": "ok",
     "timestamp": 1575353449802,
     "user": {
      "displayName": "Avinash Gunda",
      "photoUrl": "https://lh3.googleusercontent.com/a-/AAuE7mB5YGXrjBGgUVp_lq7tkNO3oU2yi0GYh8-iOYdcMINUnXgnmDsD2eJFxE-Kp-imZWEnIPM83iQhRlx2DeVPWjQ7UEsFxRxRnrXvxQscB2U_wS4U8TRIOUAf_chw9LQClgMs3Y6tISNqvrYUb0yvPE1RweXrXGKMlUVA-jNcvIFZkiQLnKopJWLJ6o6VGkP3uwsMlAGaHZlEyY2nkqlJHFrKJsMHSxCsF0crFZO3pkkWO5MOx5IiRVi-TnMTej9mPvknP3o3FqfNO34FvH1NI0LQSOMoWPqW_cwZ8rVGWy5ItMzVKchnTuHa2AEEvVrAidUbTp9XRvx_BdpedmhydKZA6AHekqUV-k-yxXSfZiv5q7cNexAKkMUYqUjho418Fa5oY23Kt08MjfZuwxAHMkjzkpcR3j0haU4ziw2gduH2-MLoGwRyfJyb5hle-slWdoy8RQYNGVhXQoHzqBPrgFLdnnbEboCrRn5lL_RGcMYRFjM0JKr-gARkZAm78Xa9HO5QLDRAZdBZpk6tlFKUnoyZ0JwFwcPr2o3CR-IghvRn3bTP_u1b4l5NdP7TTEi2dU_LvJk5EXbTvEXEiSfLOpDiJNSBeQoF3RElDpbm3PyHiBwdGJPsySYhmtyVB5TcusaKN4-tWUJj57D1frnnQN2BXpyu1oHHYpaa79Qu52nkbKxNiIqrp9_ITnKOhjTRlv2psxDsxD3ZYX31EP4TpnSsek0XSaT2ZdPS6C21-GfUTX0JqHLFgjnL0FzTYww=s64",
      "userId": "07701713045507434863"
     },
     "user_tz": -330
    },
    "id": "U8WWu7d44NDT",
    "outputId": "e5f3fd65-de7f-409d-93cc-6ebcedec26c1"
   },
   "outputs": [
    {
     "data": {
      "text/plain": [
       "<matplotlib.image.AxesImage at 0x7ff7b91dfda0>"
      ]
     },
     "execution_count": 51,
     "metadata": {
      "tags": []
     },
     "output_type": "execute_result"
    },
    {
     "data": {
      "image/png": "[encoded data removed]",
      "text/plain": [
       "<Figure size 432x288 with 1 Axes>"
      ]
     },
     "metadata": {
      "tags": []
     },
     "output_type": "display_data"
    }
   ],
   "source": [
    "plt.imshow(test)"
   ]
  },
  {
   "cell_type": "code",
   "execution_count": 0,
   "metadata": {
    "colab": {
     "base_uri": "https://localhost:8080/",
     "height": 34
    },
    "colab_type": "code",
    "executionInfo": {
     "elapsed": 1251,
     "status": "ok",
     "timestamp": 1575353464143,
     "user": {
      "displayName": "Avinash Gunda",
      "photoUrl": "https://lh3.googleusercontent.com/a-/AAuE7mB5YGXrjBGgUVp_lq7tkNO3oU2yi0GYh8-iOYdcMINUnXgnmDsD2eJFxE-Kp-imZWEnIPM83iQhRlx2DeVPWjQ7UEsFxRxRnrXvxQscB2U_wS4U8TRIOUAf_chw9LQClgMs3Y6tISNqvrYUb0yvPE1RweXrXGKMlUVA-jNcvIFZkiQLnKopJWLJ6o6VGkP3uwsMlAGaHZlEyY2nkqlJHFrKJsMHSxCsF0crFZO3pkkWO5MOx5IiRVi-TnMTej9mPvknP3o3FqfNO34FvH1NI0LQSOMoWPqW_cwZ8rVGWy5ItMzVKchnTuHa2AEEvVrAidUbTp9XRvx_BdpedmhydKZA6AHekqUV-k-yxXSfZiv5q7cNexAKkMUYqUjho418Fa5oY23Kt08MjfZuwxAHMkjzkpcR3j0haU4ziw2gduH2-MLoGwRyfJyb5hle-slWdoy8RQYNGVhXQoHzqBPrgFLdnnbEboCrRn5lL_RGcMYRFjM0JKr-gARkZAm78Xa9HO5QLDRAZdBZpk6tlFKUnoyZ0JwFwcPr2o3CR-IghvRn3bTP_u1b4l5NdP7TTEi2dU_LvJk5EXbTvEXEiSfLOpDiJNSBeQoF3RElDpbm3PyHiBwdGJPsySYhmtyVB5TcusaKN4-tWUJj57D1frnnQN2BXpyu1oHHYpaa79Qu52nkbKxNiIqrp9_ITnKOhjTRlv2psxDsxD3ZYX31EP4TpnSsek0XSaT2ZdPS6C21-GfUTX0JqHLFgjnL0FzTYww=s64",
      "userId": "07701713045507434863"
     },
     "user_tz": -330
    },
    "id": "HnR4Y2K5eKxV",
    "outputId": "7d27fa64-7b11-4b05-bb79-e5e19a3531bd"
   },
   "outputs": [
    {
     "data": {
      "text/plain": [
       "(1, 784)"
      ]
     },
     "execution_count": 52,
     "metadata": {
      "tags": []
     },
     "output_type": "execute_result"
    }
   ],
   "source": [
    "test.shape"
   ]
  },
  {
   "cell_type": "markdown",
   "metadata": {
    "colab_type": "text",
    "id": "6N0L6GXGeKxY"
   },
   "source": [
    "## Restore the model and testing it"
   ]
  },
  {
   "cell_type": "code",
   "execution_count": 0,
   "metadata": {
    "colab": {
     "base_uri": "https://localhost:8080/",
     "height": 67
    },
    "colab_type": "code",
    "executionInfo": {
     "elapsed": 1152,
     "status": "ok",
     "timestamp": 1575353515414,
     "user": {
      "displayName": "Avinash Gunda",
      "photoUrl": "https://lh3.googleusercontent.com/a-/AAuE7mB5YGXrjBGgUVp_lq7tkNO3oU2yi0GYh8-iOYdcMINUnXgnmDsD2eJFxE-Kp-imZWEnIPM83iQhRlx2DeVPWjQ7UEsFxRxRnrXvxQscB2U_wS4U8TRIOUAf_chw9LQClgMs3Y6tISNqvrYUb0yvPE1RweXrXGKMlUVA-jNcvIFZkiQLnKopJWLJ6o6VGkP3uwsMlAGaHZlEyY2nkqlJHFrKJsMHSxCsF0crFZO3pkkWO5MOx5IiRVi-TnMTej9mPvknP3o3FqfNO34FvH1NI0LQSOMoWPqW_cwZ8rVGWy5ItMzVKchnTuHa2AEEvVrAidUbTp9XRvx_BdpedmhydKZA6AHekqUV-k-yxXSfZiv5q7cNexAKkMUYqUjho418Fa5oY23Kt08MjfZuwxAHMkjzkpcR3j0haU4ziw2gduH2-MLoGwRyfJyb5hle-slWdoy8RQYNGVhXQoHzqBPrgFLdnnbEboCrRn5lL_RGcMYRFjM0JKr-gARkZAm78Xa9HO5QLDRAZdBZpk6tlFKUnoyZ0JwFwcPr2o3CR-IghvRn3bTP_u1b4l5NdP7TTEi2dU_LvJk5EXbTvEXEiSfLOpDiJNSBeQoF3RElDpbm3PyHiBwdGJPsySYhmtyVB5TcusaKN4-tWUJj57D1frnnQN2BXpyu1oHHYpaa79Qu52nkbKxNiIqrp9_ITnKOhjTRlv2psxDsxD3ZYX31EP4TpnSsek0XSaT2ZdPS6C21-GfUTX0JqHLFgjnL0FzTYww=s64",
      "userId": "07701713045507434863"
     },
     "user_tz": -330
    },
    "id": "KayFFV3KeKxY",
    "outputId": "1b2b2113-15fe-43e9-a6f4-5d290f67a0b7"
   },
   "outputs": [
    {
     "name": "stdout",
     "output_type": "stream",
     "text": [
      "INFO:tensorflow:Restoring parameters from ./numberclass_nn/nn.ckpt\n",
      "[[1.7850280e-02 2.6822090e-07 2.9116869e-05 2.9910505e-02 3.1685829e-03\n",
      "  2.9206276e-05 5.6945556e-01 1.8630269e-01 4.9883933e-05 5.2128587e-05]]\n"
     ]
    }
   ],
   "source": [
    "with tf.Session() as sess:\n",
    "    saver.restore(sess,'./numberclass_nn/nn.ckpt')\n",
    "    result = sess.run(y,feed_dict={X_inputs:test})\n",
    "    print(result)"
   ]
  },
  {
   "cell_type": "code",
   "execution_count": 0,
   "metadata": {
    "colab": {
     "base_uri": "https://localhost:8080/",
     "height": 34
    },
    "colab_type": "code",
    "executionInfo": {
     "elapsed": 1322,
     "status": "ok",
     "timestamp": 1575353542440,
     "user": {
      "displayName": "Avinash Gunda",
      "photoUrl": "https://lh3.googleusercontent.com/a-/AAuE7mB5YGXrjBGgUVp_lq7tkNO3oU2yi0GYh8-iOYdcMINUnXgnmDsD2eJFxE-Kp-imZWEnIPM83iQhRlx2DeVPWjQ7UEsFxRxRnrXvxQscB2U_wS4U8TRIOUAf_chw9LQClgMs3Y6tISNqvrYUb0yvPE1RweXrXGKMlUVA-jNcvIFZkiQLnKopJWLJ6o6VGkP3uwsMlAGaHZlEyY2nkqlJHFrKJsMHSxCsF0crFZO3pkkWO5MOx5IiRVi-TnMTej9mPvknP3o3FqfNO34FvH1NI0LQSOMoWPqW_cwZ8rVGWy5ItMzVKchnTuHa2AEEvVrAidUbTp9XRvx_BdpedmhydKZA6AHekqUV-k-yxXSfZiv5q7cNexAKkMUYqUjho418Fa5oY23Kt08MjfZuwxAHMkjzkpcR3j0haU4ziw2gduH2-MLoGwRyfJyb5hle-slWdoy8RQYNGVhXQoHzqBPrgFLdnnbEboCrRn5lL_RGcMYRFjM0JKr-gARkZAm78Xa9HO5QLDRAZdBZpk6tlFKUnoyZ0JwFwcPr2o3CR-IghvRn3bTP_u1b4l5NdP7TTEi2dU_LvJk5EXbTvEXEiSfLOpDiJNSBeQoF3RElDpbm3PyHiBwdGJPsySYhmtyVB5TcusaKN4-tWUJj57D1frnnQN2BXpyu1oHHYpaa79Qu52nkbKxNiIqrp9_ITnKOhjTRlv2psxDsxD3ZYX31EP4TpnSsek0XSaT2ZdPS6C21-GfUTX0JqHLFgjnL0FzTYww=s64",
      "userId": "07701713045507434863"
     },
     "user_tz": -330
    },
    "id": "dO9QJzOfeKxa",
    "outputId": "38133cb5-50f6-43ac-83d4-4bd9aad8f9a3"
   },
   "outputs": [
    {
     "data": {
      "text/plain": [
       "6"
      ]
     },
     "execution_count": 54,
     "metadata": {
      "tags": []
     },
     "output_type": "execute_result"
    }
   ],
   "source": [
    "result.argmax()"
   ]
  },
  {
   "cell_type": "code",
   "execution_count": 0,
   "metadata": {
    "colab": {
     "base_uri": "https://localhost:8080/",
     "height": 34
    },
    "colab_type": "code",
    "executionInfo": {
     "elapsed": 1196,
     "status": "ok",
     "timestamp": 1575353551579,
     "user": {
      "displayName": "Avinash Gunda",
      "photoUrl": "https://lh3.googleusercontent.com/a-/AAuE7mB5YGXrjBGgUVp_lq7tkNO3oU2yi0GYh8-iOYdcMINUnXgnmDsD2eJFxE-Kp-imZWEnIPM83iQhRlx2DeVPWjQ7UEsFxRxRnrXvxQscB2U_wS4U8TRIOUAf_chw9LQClgMs3Y6tISNqvrYUb0yvPE1RweXrXGKMlUVA-jNcvIFZkiQLnKopJWLJ6o6VGkP3uwsMlAGaHZlEyY2nkqlJHFrKJsMHSxCsF0crFZO3pkkWO5MOx5IiRVi-TnMTej9mPvknP3o3FqfNO34FvH1NI0LQSOMoWPqW_cwZ8rVGWy5ItMzVKchnTuHa2AEEvVrAidUbTp9XRvx_BdpedmhydKZA6AHekqUV-k-yxXSfZiv5q7cNexAKkMUYqUjho418Fa5oY23Kt08MjfZuwxAHMkjzkpcR3j0haU4ziw2gduH2-MLoGwRyfJyb5hle-slWdoy8RQYNGVhXQoHzqBPrgFLdnnbEboCrRn5lL_RGcMYRFjM0JKr-gARkZAm78Xa9HO5QLDRAZdBZpk6tlFKUnoyZ0JwFwcPr2o3CR-IghvRn3bTP_u1b4l5NdP7TTEi2dU_LvJk5EXbTvEXEiSfLOpDiJNSBeQoF3RElDpbm3PyHiBwdGJPsySYhmtyVB5TcusaKN4-tWUJj57D1frnnQN2BXpyu1oHHYpaa79Qu52nkbKxNiIqrp9_ITnKOhjTRlv2psxDsxD3ZYX31EP4TpnSsek0XSaT2ZdPS6C21-GfUTX0JqHLFgjnL0FzTYww=s64",
      "userId": "07701713045507434863"
     },
     "user_tz": -330
    },
    "id": "a-F8it5teKxc",
    "outputId": "2c404cfe-cc22-4c5e-f5ed-3248eb50ec1d"
   },
   "outputs": [
    {
     "data": {
      "text/plain": [
       "0.56945556"
      ]
     },
     "execution_count": 55,
     "metadata": {
      "tags": []
     },
     "output_type": "execute_result"
    }
   ],
   "source": [
    "result[0][6]"
   ]
  },
  {
   "cell_type": "code",
   "execution_count": 0,
   "metadata": {
    "colab": {},
    "colab_type": "code",
    "id": "5WtxN6ysHxk9"
   },
   "outputs": [],
   "source": []
  }
 ],
 "metadata": {
  "accelerator": "GPU",
  "colab": {
   "name": "NN Classification-Adam.ipynb",
   "provenance": []
  },
  "kernelspec": {
   "display_name": "Python 3",
   "language": "python",
   "name": "python3"
  },
  "language_info": {
   "codemirror_mode": {
    "name": "ipython",
    "version": 3
   },
   "file_extension": ".py",
   "mimetype": "text/x-python",
   "name": "python",
   "nbconvert_exporter": "python",
   "pygments_lexer": "ipython3",
   "version": "3.7.3"
  }
 },
 "nbformat": 4,
 "nbformat_minor": 1
}
