{
 "cells": [
  {
   "cell_type": "code",
   "execution_count": 1,
   "metadata": {
    "colab": {
     "base_uri": "https://localhost:8080/",
     "height": 33
    },
    "colab_type": "code",
    "executionInfo": {
     "elapsed": 2364,
     "status": "ok",
     "timestamp": 1573499524804,
     "user": {
      "displayName": "Srikanth Dakoju",
      "photoUrl": "",
      "userId": "10335994626359534571"
     },
     "user_tz": -330
    },
    "id": "O05H6sjBzRMh",
    "outputId": "f5ad74c1-641d-4c51-875c-319afcc7bf26"
   },
   "outputs": [
    {
     "data": {
      "text/plain": [
       "'1.13.1'"
      ]
     },
     "execution_count": 1,
     "metadata": {},
     "output_type": "execute_result"
    }
   ],
   "source": [
    "import numpy as np\n",
    "import pandas as pd\n",
    "import matplotlib.pyplot as plt\n",
    "import seaborn as sns\n",
    "import warnings\n",
    "warnings.filterwarnings('ignore')\n",
    "\n",
    "# tensorflow\n",
    "#%tensorflow_version 1.x\n",
    "import tensorflow as tf\n",
    "tf.__version__"
   ]
  },
  {
   "cell_type": "code",
   "execution_count": 2,
   "metadata": {
    "colab": {
     "base_uri": "https://localhost:8080/",
     "height": 120
    },
    "colab_type": "code",
    "executionInfo": {
     "elapsed": 24308,
     "status": "ok",
     "timestamp": 1573499546985,
     "user": {
      "displayName": "Srikanth Dakoju",
      "photoUrl": "",
      "userId": "10335994626359534571"
     },
     "user_tz": -330
    },
    "id": "SfZt-6Y8zdQN",
    "outputId": "06cad327-9f8e-4b13-db31-c2bc430be1f8"
   },
   "outputs": [],
   "source": [
    "#from google.colab import drive\n",
    "#drive.mount('drive/')"
   ]
  },
  {
   "cell_type": "code",
   "execution_count": 3,
   "metadata": {
    "colab": {},
    "colab_type": "code",
    "id": "pXKqzpNH0JSZ"
   },
   "outputs": [],
   "source": [
    "#import os\n",
    "#os.chdir('drive/My Drive/Data-Science-oct-2019/Module-8-Deep Learning/')\n"
   ]
  },
  {
   "cell_type": "code",
   "execution_count": 4,
   "metadata": {
    "colab": {
     "base_uri": "https://localhost:8080/",
     "height": 251
    },
    "colab_type": "code",
    "executionInfo": {
     "elapsed": 6719,
     "status": "ok",
     "timestamp": 1573499550605,
     "user": {
      "displayName": "Srikanth Dakoju",
      "photoUrl": "",
      "userId": "10335994626359534571"
     },
     "user_tz": -330
    },
    "id": "H-1QFWms0ebm",
    "outputId": "6cdb742c-e217-40e3-9ed1-8532af8650bb"
   },
   "outputs": [],
   "source": [
    "#ls"
   ]
  },
  {
   "cell_type": "code",
   "execution_count": 5,
   "metadata": {
    "colab": {
     "base_uri": "https://localhost:8080/",
     "height": 245
    },
    "colab_type": "code",
    "executionInfo": {
     "elapsed": 9418,
     "status": "ok",
     "timestamp": 1573499553587,
     "user": {
      "displayName": "Srikanth Dakoju",
      "photoUrl": "",
      "userId": "10335994626359534571"
     },
     "user_tz": -330
    },
    "id": "4ctmRPHk0hTe",
    "outputId": "c926941b-4572-46db-c944-0e481c1b9dbb"
   },
   "outputs": [
    {
     "data": {
      "text/html": [
       "<div>\n",
       "<style scoped>\n",
       "    .dataframe tbody tr th:only-of-type {\n",
       "        vertical-align: middle;\n",
       "    }\n",
       "\n",
       "    .dataframe tbody tr th {\n",
       "        vertical-align: top;\n",
       "    }\n",
       "\n",
       "    .dataframe thead th {\n",
       "        text-align: right;\n",
       "    }\n",
       "</style>\n",
       "<table border=\"1\" class=\"dataframe\">\n",
       "  <thead>\n",
       "    <tr style=\"text-align: right;\">\n",
       "      <th></th>\n",
       "      <th>label</th>\n",
       "      <th>pixel0</th>\n",
       "      <th>pixel1</th>\n",
       "      <th>pixel2</th>\n",
       "      <th>pixel3</th>\n",
       "      <th>pixel4</th>\n",
       "      <th>pixel5</th>\n",
       "      <th>pixel6</th>\n",
       "      <th>pixel7</th>\n",
       "      <th>pixel8</th>\n",
       "      <th>...</th>\n",
       "      <th>pixel774</th>\n",
       "      <th>pixel775</th>\n",
       "      <th>pixel776</th>\n",
       "      <th>pixel777</th>\n",
       "      <th>pixel778</th>\n",
       "      <th>pixel779</th>\n",
       "      <th>pixel780</th>\n",
       "      <th>pixel781</th>\n",
       "      <th>pixel782</th>\n",
       "      <th>pixel783</th>\n",
       "    </tr>\n",
       "  </thead>\n",
       "  <tbody>\n",
       "    <tr>\n",
       "      <th>0</th>\n",
       "      <td>1</td>\n",
       "      <td>0</td>\n",
       "      <td>0</td>\n",
       "      <td>0</td>\n",
       "      <td>0</td>\n",
       "      <td>0</td>\n",
       "      <td>0</td>\n",
       "      <td>0</td>\n",
       "      <td>0</td>\n",
       "      <td>0</td>\n",
       "      <td>...</td>\n",
       "      <td>0</td>\n",
       "      <td>0</td>\n",
       "      <td>0</td>\n",
       "      <td>0</td>\n",
       "      <td>0</td>\n",
       "      <td>0</td>\n",
       "      <td>0</td>\n",
       "      <td>0</td>\n",
       "      <td>0</td>\n",
       "      <td>0</td>\n",
       "    </tr>\n",
       "    <tr>\n",
       "      <th>1</th>\n",
       "      <td>0</td>\n",
       "      <td>0</td>\n",
       "      <td>0</td>\n",
       "      <td>0</td>\n",
       "      <td>0</td>\n",
       "      <td>0</td>\n",
       "      <td>0</td>\n",
       "      <td>0</td>\n",
       "      <td>0</td>\n",
       "      <td>0</td>\n",
       "      <td>...</td>\n",
       "      <td>0</td>\n",
       "      <td>0</td>\n",
       "      <td>0</td>\n",
       "      <td>0</td>\n",
       "      <td>0</td>\n",
       "      <td>0</td>\n",
       "      <td>0</td>\n",
       "      <td>0</td>\n",
       "      <td>0</td>\n",
       "      <td>0</td>\n",
       "    </tr>\n",
       "    <tr>\n",
       "      <th>2</th>\n",
       "      <td>1</td>\n",
       "      <td>0</td>\n",
       "      <td>0</td>\n",
       "      <td>0</td>\n",
       "      <td>0</td>\n",
       "      <td>0</td>\n",
       "      <td>0</td>\n",
       "      <td>0</td>\n",
       "      <td>0</td>\n",
       "      <td>0</td>\n",
       "      <td>...</td>\n",
       "      <td>0</td>\n",
       "      <td>0</td>\n",
       "      <td>0</td>\n",
       "      <td>0</td>\n",
       "      <td>0</td>\n",
       "      <td>0</td>\n",
       "      <td>0</td>\n",
       "      <td>0</td>\n",
       "      <td>0</td>\n",
       "      <td>0</td>\n",
       "    </tr>\n",
       "    <tr>\n",
       "      <th>3</th>\n",
       "      <td>4</td>\n",
       "      <td>0</td>\n",
       "      <td>0</td>\n",
       "      <td>0</td>\n",
       "      <td>0</td>\n",
       "      <td>0</td>\n",
       "      <td>0</td>\n",
       "      <td>0</td>\n",
       "      <td>0</td>\n",
       "      <td>0</td>\n",
       "      <td>...</td>\n",
       "      <td>0</td>\n",
       "      <td>0</td>\n",
       "      <td>0</td>\n",
       "      <td>0</td>\n",
       "      <td>0</td>\n",
       "      <td>0</td>\n",
       "      <td>0</td>\n",
       "      <td>0</td>\n",
       "      <td>0</td>\n",
       "      <td>0</td>\n",
       "    </tr>\n",
       "    <tr>\n",
       "      <th>4</th>\n",
       "      <td>0</td>\n",
       "      <td>0</td>\n",
       "      <td>0</td>\n",
       "      <td>0</td>\n",
       "      <td>0</td>\n",
       "      <td>0</td>\n",
       "      <td>0</td>\n",
       "      <td>0</td>\n",
       "      <td>0</td>\n",
       "      <td>0</td>\n",
       "      <td>...</td>\n",
       "      <td>0</td>\n",
       "      <td>0</td>\n",
       "      <td>0</td>\n",
       "      <td>0</td>\n",
       "      <td>0</td>\n",
       "      <td>0</td>\n",
       "      <td>0</td>\n",
       "      <td>0</td>\n",
       "      <td>0</td>\n",
       "      <td>0</td>\n",
       "    </tr>\n",
       "  </tbody>\n",
       "</table>\n",
       "<p>5 rows × 785 columns</p>\n",
       "</div>"
      ],
      "text/plain": [
       "   label  pixel0  pixel1  pixel2  pixel3  pixel4  pixel5  pixel6  pixel7  \\\n",
       "0      1       0       0       0       0       0       0       0       0   \n",
       "1      0       0       0       0       0       0       0       0       0   \n",
       "2      1       0       0       0       0       0       0       0       0   \n",
       "3      4       0       0       0       0       0       0       0       0   \n",
       "4      0       0       0       0       0       0       0       0       0   \n",
       "\n",
       "   pixel8  ...  pixel774  pixel775  pixel776  pixel777  pixel778  pixel779  \\\n",
       "0       0  ...         0         0         0         0         0         0   \n",
       "1       0  ...         0         0         0         0         0         0   \n",
       "2       0  ...         0         0         0         0         0         0   \n",
       "3       0  ...         0         0         0         0         0         0   \n",
       "4       0  ...         0         0         0         0         0         0   \n",
       "\n",
       "   pixel780  pixel781  pixel782  pixel783  \n",
       "0         0         0         0         0  \n",
       "1         0         0         0         0  \n",
       "2         0         0         0         0  \n",
       "3         0         0         0         0  \n",
       "4         0         0         0         0  \n",
       "\n",
       "[5 rows x 785 columns]"
      ]
     },
     "execution_count": 5,
     "metadata": {},
     "output_type": "execute_result"
    }
   ],
   "source": [
    "# Loading dataset\n",
    "df = pd.read_csv('F://numbers1.csv')\n",
    "df.head()"
   ]
  },
  {
   "cell_type": "code",
   "execution_count": 6,
   "metadata": {
    "colab": {
     "base_uri": "https://localhost:8080/",
     "height": 33
    },
    "colab_type": "code",
    "executionInfo": {
     "elapsed": 8693,
     "status": "ok",
     "timestamp": 1573499553589,
     "user": {
      "displayName": "Srikanth Dakoju",
      "photoUrl": "",
      "userId": "10335994626359534571"
     },
     "user_tz": -330
    },
    "id": "QgfcUW3Q0pZn",
    "outputId": "f3034be9-bb17-4414-9b38-73c9ccf80fe5"
   },
   "outputs": [
    {
     "data": {
      "text/plain": [
       "((42000, 784), (42000, 1))"
      ]
     },
     "execution_count": 6,
     "metadata": {},
     "output_type": "execute_result"
    }
   ],
   "source": [
    "# Split the data into independent and dependent\n",
    "X = df.iloc[:,1:].values # independent\n",
    "y = df.iloc[:,0].values.reshape(-1,1) # dependent\n",
    "X.shape, y.shape"
   ]
  },
  {
   "cell_type": "code",
   "execution_count": 7,
   "metadata": {
    "colab": {
     "base_uri": "https://localhost:8080/",
     "height": 173
    },
    "colab_type": "code",
    "executionInfo": {
     "elapsed": 8290,
     "status": "ok",
     "timestamp": 1573499553591,
     "user": {
      "displayName": "Srikanth Dakoju",
      "photoUrl": "",
      "userId": "10335994626359534571"
     },
     "user_tz": -330
    },
    "id": "s7V5BOxG04nw",
    "outputId": "3a0630de-8232-4787-af7a-d4256d132e43"
   },
   "outputs": [
    {
     "data": {
      "image/png": "[encoded data removed]",
      "text/plain": [
       "<Figure size 144x144 with 1 Axes>"
      ]
     },
     "metadata": {
      "needs_background": "light"
     },
     "output_type": "display_data"
    }
   ],
   "source": [
    "# visualizing one image\n",
    "def visualize_img(i):\n",
    "    img = X[i:i+1] # flatten Image\n",
    "    img = img.reshape(28,28) # reshaped Image\n",
    "    plt.figure(figsize=(2,2))\n",
    "    plt.imshow(img,cmap='gray')\n",
    "    plt.title('Label: {}'.format(y[i][0]))\n",
    "\n",
    "visualize_img(3)"
   ]
  },
  {
   "cell_type": "code",
   "execution_count": 8,
   "metadata": {
    "colab": {
     "base_uri": "https://localhost:8080/",
     "height": 33
    },
    "colab_type": "code",
    "executionInfo": {
     "elapsed": 7579,
     "status": "ok",
     "timestamp": 1573499553593,
     "user": {
      "displayName": "Srikanth Dakoju",
      "photoUrl": "",
      "userId": "10335994626359534571"
     },
     "user_tz": -330
    },
    "id": "3ijOFZlm2kTv",
    "outputId": "2c5c7463-d693-4bd1-cd7b-622d0df15e3d"
   },
   "outputs": [
    {
     "data": {
      "text/plain": [
       "(0, 255)"
      ]
     },
     "execution_count": 8,
     "metadata": {},
     "output_type": "execute_result"
    }
   ],
   "source": [
    "X.min(),X.max()"
   ]
  },
  {
   "cell_type": "markdown",
   "metadata": {
    "colab_type": "text",
    "id": "DdoPx6yy2lSU"
   },
   "source": [
    "# Normalization\n",
    "\n",
    "> - Feature scale X\n",
    "- Apply one hot encoding to y"
   ]
  },
  {
   "cell_type": "code",
   "execution_count": 9,
   "metadata": {
    "colab": {
     "base_uri": "https://localhost:8080/",
     "height": 134
    },
    "colab_type": "code",
    "executionInfo": {
     "elapsed": 6489,
     "status": "ok",
     "timestamp": 1573499553989,
     "user": {
      "displayName": "Srikanth Dakoju",
      "photoUrl": "",
      "userId": "10335994626359534571"
     },
     "user_tz": -330
    },
    "id": "ajiZSrFL1Nhn",
    "outputId": "4c6fe935-e9c8-4ee6-e5da-d56d9418f8b6"
   },
   "outputs": [
    {
     "data": {
      "text/plain": [
       "array([[0., 1., 0., ..., 0., 0., 0.],\n",
       "       [1., 0., 0., ..., 0., 0., 0.],\n",
       "       [0., 1., 0., ..., 0., 0., 0.],\n",
       "       ...,\n",
       "       [0., 0., 0., ..., 1., 0., 0.],\n",
       "       [0., 0., 0., ..., 0., 0., 0.],\n",
       "       [0., 0., 0., ..., 0., 0., 1.]])"
      ]
     },
     "execution_count": 9,
     "metadata": {},
     "output_type": "execute_result"
    }
   ],
   "source": [
    "# normalize X\n",
    "X_norm = X/X.max() # min max scalling\n",
    "\n",
    "# onehot enconding of y\n",
    "from sklearn.preprocessing import OneHotEncoder\n",
    "ohe = OneHotEncoder()\n",
    "y_hot = ohe.fit_transform(y).toarray()\n",
    "y_hot"
   ]
  },
  {
   "cell_type": "code",
   "execution_count": 10,
   "metadata": {
    "colab": {
     "base_uri": "https://localhost:8080/",
     "height": 33
    },
    "colab_type": "code",
    "executionInfo": {
     "elapsed": 6879,
     "status": "ok",
     "timestamp": 1573499554841,
     "user": {
      "displayName": "Srikanth Dakoju",
      "photoUrl": "",
      "userId": "10335994626359534571"
     },
     "user_tz": -330
    },
    "id": "tJZygyLc2Wy1",
    "outputId": "04a937b0-dfc2-4169-8b8a-bcc9466fd380"
   },
   "outputs": [
    {
     "data": {
      "text/plain": [
       "((33600, 784), (8400, 784), (33600, 10), (8400, 10))"
      ]
     },
     "execution_count": 10,
     "metadata": {},
     "output_type": "execute_result"
    }
   ],
   "source": [
    "# split the data into traning and test\n",
    "from sklearn.model_selection import train_test_split\n",
    "x_train,x_test,y_train,y_test = train_test_split(X_norm,y_hot,test_size=0.2)\n",
    "x_train.shape, x_test.shape,y_train.shape, y_test.shape"
   ]
  },
  {
   "cell_type": "markdown",
   "metadata": {
    "colab_type": "text",
    "id": "MCgTI1YV3dWB"
   },
   "source": [
    "# Neural Network"
   ]
  },
  {
   "cell_type": "code",
   "execution_count": 11,
   "metadata": {
    "colab": {},
    "colab_type": "code",
    "id": "ZwpdMXhD3W5X"
   },
   "outputs": [],
   "source": [
    "from tensorflow.keras import Sequential\n",
    "from tensorflow.keras.layers import Dense\n",
    "from tensorflow.keras.callbacks import TensorBoard\n",
    "from tensorflow.keras import regularizers"
   ]
  },
  {
   "cell_type": "code",
   "execution_count": 12,
   "metadata": {
    "colab": {
     "base_uri": "https://localhost:8080/",
     "height": 953
    },
    "colab_type": "code",
    "executionInfo": {
     "elapsed": 70012,
     "status": "ok",
     "timestamp": 1573500093972,
     "user": {
      "displayName": "Srikanth Dakoju",
      "photoUrl": "",
      "userId": "10335994626359534571"
     },
     "user_tz": -330
    },
    "id": "xlU9rTpC3HdJ",
    "outputId": "ecd58de1-6911-443a-d5ca-5ab1299caf89"
   },
   "outputs": [
    {
     "name": "stdout",
     "output_type": "stream",
     "text": [
      "WARNING:tensorflow:From C:\\ProgramData\\Anaconda3\\lib\\site-packages\\tensorflow\\python\\ops\\resource_variable_ops.py:435: colocate_with (from tensorflow.python.framework.ops) is deprecated and will be removed in a future version.\n",
      "Instructions for updating:\n",
      "Colocations handled automatically by placer.\n",
      "_________________________________________________________________\n",
      "Layer (type)                 Output Shape              Param #   \n",
      "=================================================================\n",
      "dense (Dense)                (None, 100)               78500     \n",
      "_________________________________________________________________\n",
      "dense_1 (Dense)              (None, 100)               10100     \n",
      "_________________________________________________________________\n",
      "dense_2 (Dense)              (None, 10)                1010      \n",
      "=================================================================\n",
      "Total params: 89,610\n",
      "Trainable params: 89,610\n",
      "Non-trainable params: 0\n",
      "_________________________________________________________________\n",
      "None\n",
      "Train on 33600 samples, validate on 8400 samples\n",
      "WARNING:tensorflow:From C:\\ProgramData\\Anaconda3\\lib\\site-packages\\tensorflow\\python\\ops\\math_ops.py:3066: to_int32 (from tensorflow.python.ops.math_ops) is deprecated and will be removed in a future version.\n",
      "Instructions for updating:\n",
      "Use tf.cast instead.\n",
      "Epoch 1/20\n",
      "33600/33600 [==============================] - 8s 246us/sample - loss: 0.9649 - acc: 0.8856 - val_loss: 0.5726 - val_acc: 0.9177\n",
      "Epoch 2/20\n",
      "33600/33600 [==============================] - 8s 249us/sample - loss: 0.5350 - acc: 0.9179 - val_loss: 0.5251 - val_acc: 0.9139\n",
      "Epoch 3/20\n",
      "33600/33600 [==============================] - 8s 234us/sample - loss: 0.4756 - acc: 0.9283 - val_loss: 0.4699 - val_acc: 0.9276\n",
      "Epoch 4/20\n",
      "33600/33600 [==============================] - 8s 242us/sample - loss: 0.4390 - acc: 0.9334 - val_loss: 0.4204 - val_acc: 0.9312\n",
      "Epoch 5/20\n",
      "33600/33600 [==============================] - 8s 238us/sample - loss: 0.4049 - acc: 0.9404 - val_loss: 0.4135 - val_acc: 0.9337\n",
      "Epoch 6/20\n",
      "33600/33600 [==============================] - 8s 241us/sample - loss: 0.3854 - acc: 0.9416 - val_loss: 0.3979 - val_acc: 0.9324\n",
      "Epoch 7/20\n",
      "33600/33600 [==============================] - 8s 239us/sample - loss: 0.3696 - acc: 0.9446 - val_loss: 0.3680 - val_acc: 0.9386\n",
      "Epoch 8/20\n",
      "33600/33600 [==============================] - 8s 227us/sample - loss: 0.3599 - acc: 0.9457 - val_loss: 0.3877 - val_acc: 0.9311\n",
      "Epoch 9/20\n",
      "33600/33600 [==============================] - 8s 235us/sample - loss: 0.3462 - acc: 0.9474 - val_loss: 0.3340 - val_acc: 0.9487\n",
      "Epoch 10/20\n",
      "33600/33600 [==============================] - 8s 241us/sample - loss: 0.3374 - acc: 0.9487 - val_loss: 0.3358 - val_acc: 0.9481\n",
      "Epoch 11/20\n",
      "33600/33600 [==============================] - 8s 239us/sample - loss: 0.3274 - acc: 0.9501 - val_loss: 0.3268 - val_acc: 0.9488\n",
      "Epoch 12/20\n",
      "33600/33600 [==============================] - 8s 240us/sample - loss: 0.3237 - acc: 0.9502 - val_loss: 0.3038 - val_acc: 0.9537\n",
      "Epoch 13/20\n",
      "33600/33600 [==============================] - 8s 238us/sample - loss: 0.3124 - acc: 0.9528 - val_loss: 0.3294 - val_acc: 0.9423\n",
      "Epoch 14/20\n",
      "33600/33600 [==============================] - 8s 241us/sample - loss: 0.3155 - acc: 0.9518 - val_loss: 0.3300 - val_acc: 0.9471\n",
      "Epoch 15/20\n",
      "33600/33600 [==============================] - 8s 239us/sample - loss: 0.3030 - acc: 0.9540 - val_loss: 0.3353 - val_acc: 0.9410\n",
      "Epoch 16/20\n",
      "33600/33600 [==============================] - 8s 244us/sample - loss: 0.3010 - acc: 0.9541 - val_loss: 0.3005 - val_acc: 0.9530\n",
      "Epoch 17/20\n",
      "33600/33600 [==============================] - 8s 245us/sample - loss: 0.2968 - acc: 0.9542 - val_loss: 0.3003 - val_acc: 0.9530\n",
      "Epoch 18/20\n",
      "33600/33600 [==============================] - 8s 247us/sample - loss: 0.2965 - acc: 0.9539 - val_loss: 0.2936 - val_acc: 0.9512\n",
      "Epoch 19/20\n",
      "33600/33600 [==============================] - 8s 251us/sample - loss: 0.2920 - acc: 0.9544 - val_loss: 0.2952 - val_acc: 0.9523\n",
      "Epoch 20/20\n",
      "33600/33600 [==============================] - 8s 253us/sample - loss: 0.2929 - acc: 0.9532 - val_loss: 0.2893 - val_acc: 0.9549\n"
     ]
    }
   ],
   "source": [
    "def neural_network():\n",
    "    model=Sequential()\n",
    "    model.add(Dense(units=100,input_shape=(784,),activation='relu',kernel_regularizer=regularizers.l2(l=0.01)))# input connected to output\n",
    "    model.add(Dense(units=100,activation='relu',kernel_regularizer=regularizers.l2(l=0.01)))\n",
    "    model.add(Dense(units=10,activation='softmax'))\n",
    "    model.compile(optimizer='adam',loss='categorical_crossentropy',metrics=['acc'])\n",
    "    return model\n",
    "\n",
    "# calling baseline model\n",
    "neural_network = neural_network()\n",
    "print(neural_network.summary())\n",
    "# initializing tensorboard\n",
    "tfb = TensorBoard('neural_network_mnist')\n",
    "# Training Model \n",
    "history = neural_network.fit(x=x_train,y=y_train,batch_size=30,epochs=20,callbacks=[tfb],validation_data=[x_test,y_test])\n"
   ]
  },
  {
   "cell_type": "code",
   "execution_count": 13,
   "metadata": {
    "colab": {
     "base_uri": "https://localhost:8080/",
     "height": 137
    },
    "colab_type": "code",
    "executionInfo": {
     "elapsed": 1201,
     "status": "ok",
     "timestamp": 1573500100421,
     "user": {
      "displayName": "Srikanth Dakoju",
      "photoUrl": "",
      "userId": "10335994626359534571"
     },
     "user_tz": -330
    },
    "id": "XbK4xkGh3TSi",
    "outputId": "54191dc7-7634-4dca-bd43-280c860d7f26"
   },
   "outputs": [
    {
     "data": {
      "text/html": [
       "<div>\n",
       "<style scoped>\n",
       "    .dataframe tbody tr th:only-of-type {\n",
       "        vertical-align: middle;\n",
       "    }\n",
       "\n",
       "    .dataframe tbody tr th {\n",
       "        vertical-align: top;\n",
       "    }\n",
       "\n",
       "    .dataframe thead th {\n",
       "        text-align: right;\n",
       "    }\n",
       "</style>\n",
       "<table border=\"1\" class=\"dataframe\">\n",
       "  <thead>\n",
       "    <tr style=\"text-align: right;\">\n",
       "      <th></th>\n",
       "      <th>loss</th>\n",
       "      <th>acc</th>\n",
       "      <th>val_loss</th>\n",
       "      <th>val_acc</th>\n",
       "    </tr>\n",
       "  </thead>\n",
       "  <tbody>\n",
       "    <tr>\n",
       "      <th>0</th>\n",
       "      <td>0.964928</td>\n",
       "      <td>0.885565</td>\n",
       "      <td>0.572557</td>\n",
       "      <td>0.917738</td>\n",
       "    </tr>\n",
       "    <tr>\n",
       "      <th>1</th>\n",
       "      <td>0.534986</td>\n",
       "      <td>0.917857</td>\n",
       "      <td>0.525124</td>\n",
       "      <td>0.913929</td>\n",
       "    </tr>\n",
       "    <tr>\n",
       "      <th>2</th>\n",
       "      <td>0.475644</td>\n",
       "      <td>0.928333</td>\n",
       "      <td>0.469855</td>\n",
       "      <td>0.927619</td>\n",
       "    </tr>\n",
       "  </tbody>\n",
       "</table>\n",
       "</div>"
      ],
      "text/plain": [
       "       loss       acc  val_loss   val_acc\n",
       "0  0.964928  0.885565  0.572557  0.917738\n",
       "1  0.534986  0.917857  0.525124  0.913929\n",
       "2  0.475644  0.928333  0.469855  0.927619"
      ]
     },
     "execution_count": 13,
     "metadata": {},
     "output_type": "execute_result"
    }
   ],
   "source": [
    "# loading into data\n",
    "data_loss_nn = pd.DataFrame(history.history)\n",
    "data_loss_nn.head(3)"
   ]
  },
  {
   "cell_type": "code",
   "execution_count": 14,
   "metadata": {
    "colab": {
     "base_uri": "https://localhost:8080/",
     "height": 281
    },
    "colab_type": "code",
    "executionInfo": {
     "elapsed": 1660,
     "status": "ok",
     "timestamp": 1573500101169,
     "user": {
      "displayName": "Srikanth Dakoju",
      "photoUrl": "",
      "userId": "10335994626359534571"
     },
     "user_tz": -330
    },
    "id": "7m_GfAAI5GAO",
    "outputId": "2c0c43ad-5bbd-4feb-fae8-083455d1ca54"
   },
   "outputs": [
    {
     "data": {
      "text/plain": [
       "<matplotlib.axes._subplots.AxesSubplot at 0x3f8dfbada0>"
      ]
     },
     "execution_count": 14,
     "metadata": {},
     "output_type": "execute_result"
    },
    {
     "data": {
      "image/png": "[encoded data removed]",
      "text/plain": [
       "<Figure size 432x288 with 1 Axes>"
      ]
     },
     "metadata": {
      "needs_background": "light"
     },
     "output_type": "display_data"
    }
   ],
   "source": [
    "data_loss_nn[['loss','val_loss']].plot(kind='line')"
   ]
  },
  {
   "cell_type": "code",
   "execution_count": 15,
   "metadata": {
    "colab": {
     "base_uri": "https://localhost:8080/",
     "height": 281
    },
    "colab_type": "code",
    "executionInfo": {
     "elapsed": 1341,
     "status": "ok",
     "timestamp": 1573500106454,
     "user": {
      "displayName": "Srikanth Dakoju",
      "photoUrl": "",
      "userId": "10335994626359534571"
     },
     "user_tz": -330
    },
    "id": "jNum005z5iyB",
    "outputId": "4bf27256-b192-4efe-a742-8f7508028cad"
   },
   "outputs": [
    {
     "data": {
      "text/plain": [
       "<matplotlib.axes._subplots.AxesSubplot at 0x3f8de0e470>"
      ]
     },
     "execution_count": 15,
     "metadata": {},
     "output_type": "execute_result"
    },
    {
     "data": {
      "image/png": "[encoded data removed]",
      "text/plain": [
       "<Figure size 432x288 with 1 Axes>"
      ]
     },
     "metadata": {
      "needs_background": "light"
     },
     "output_type": "display_data"
    }
   ],
   "source": [
    "data_loss_nn[['acc','val_acc']].plot(kind='line')"
   ]
  },
  {
   "cell_type": "code",
   "execution_count": 16,
   "metadata": {
    "colab": {},
    "colab_type": "code",
    "id": "NfrzITSC5miX"
   },
   "outputs": [],
   "source": [
    "# save the model\n",
    "neural_network.save('number_minist.h5')"
   ]
  },
  {
   "cell_type": "code",
   "execution_count": 17,
   "metadata": {
    "colab": {},
    "colab_type": "code",
    "id": "fPZ0Lnn-6qxs"
   },
   "outputs": [],
   "source": [
    "# Evaluation\n",
    "import innomatics"
   ]
  },
  {
   "cell_type": "code",
   "execution_count": 18,
   "metadata": {
    "colab": {},
    "colab_type": "code",
    "id": "r2iR1DHb63s6"
   },
   "outputs": [],
   "source": [
    "y_pred = neural_network.predict_classes(x_test)\n",
    "y_prob = neural_network.predict_proba(x_test)"
   ]
  },
  {
   "cell_type": "code",
   "execution_count": 19,
   "metadata": {
    "colab": {},
    "colab_type": "code",
    "id": "q5ewXuGO7CNT"
   },
   "outputs": [],
   "source": [
    "from sklearn import metrics"
   ]
  },
  {
   "cell_type": "code",
   "execution_count": 20,
   "metadata": {
    "colab": {},
    "colab_type": "code",
    "id": "dOZ7Vsnf7fvT"
   },
   "outputs": [],
   "source": [
    "y_test_class = ohe.inverse_transform(y_test)"
   ]
  },
  {
   "cell_type": "code",
   "execution_count": 21,
   "metadata": {
    "colab": {
     "base_uri": "https://localhost:8080/",
     "height": 1000
    },
    "colab_type": "code",
    "executionInfo": {
     "elapsed": 1905,
     "status": "error",
     "timestamp": 1573500455315,
     "user": {
      "displayName": "Srikanth Dakoju",
      "photoUrl": "",
      "userId": "10335994626359534571"
     },
     "user_tz": -330
    },
    "id": "GuoQgStD7DRV",
    "outputId": "28b4900a-2e33-48b8-c703-706ab84c84d2"
   },
   "outputs": [
    {
     "data": {
      "image/png": "[encoded data removed]",
      "text/plain": [
       "<Figure size 720x432 with 1 Axes>"
      ]
     },
     "metadata": {
      "needs_background": "light"
     },
     "output_type": "display_data"
    },
    {
     "name": "stdout",
     "output_type": "stream",
     "text": [
      "******************************Classifcation Report******************************\n",
      "\n",
      "\n",
      "              precision    recall  f1-score   support\n",
      "\n",
      "         0.0       0.96      0.97      0.97       816\n",
      "         1.0       0.97      0.98      0.98       913\n",
      "         2.0       0.97      0.92      0.95       869\n",
      "         3.0       0.95      0.94      0.95       874\n",
      "         4.0       0.96      0.97      0.96       842\n",
      "         5.0       0.92      0.96      0.94       722\n",
      "         6.0       0.96      0.98      0.97       813\n",
      "         7.0       0.94      0.98      0.96       882\n",
      "         8.0       0.95      0.93      0.94       835\n",
      "         9.0       0.96      0.92      0.94       834\n",
      "\n",
      "    accuracy                           0.95      8400\n",
      "   macro avg       0.95      0.95      0.95      8400\n",
      "weighted avg       0.96      0.95      0.95      8400\n",
      "\n",
      "\n",
      "************************************Kappa Score************************************\n",
      "\n",
      "\n",
      "Kappa Score = 0.9498514848794808\n",
      "\n",
      "******************************Area Under Curve Score******************************\n",
      "\n",
      "\n"
     ]
    },
    {
     "ename": "ValueError",
     "evalue": "multiclass format is not supported",
     "output_type": "error",
     "traceback": [
      "\u001b[1;31m---------------------------------------------------------------------------\u001b[0m",
      "\u001b[1;31mValueError\u001b[0m                                Traceback (most recent call last)",
      "\u001b[1;32m<ipython-input-21-55ba472c221c>\u001b[0m in \u001b[0;36m<module>\u001b[1;34m\u001b[0m\n\u001b[1;32m----> 1\u001b[1;33m \u001b[0minnomatics\u001b[0m\u001b[1;33m.\u001b[0m\u001b[0mclassification_metric\u001b[0m\u001b[1;33m(\u001b[0m\u001b[0my_test_class\u001b[0m\u001b[1;33m,\u001b[0m\u001b[0my_pred\u001b[0m\u001b[1;33m,\u001b[0m\u001b[0my_prob\u001b[0m\u001b[1;33m,\u001b[0m\u001b[0mlabel\u001b[0m\u001b[1;33m=\u001b[0m\u001b[1;33m[\u001b[0m\u001b[1;36m0\u001b[0m\u001b[1;33m,\u001b[0m\u001b[1;36m1\u001b[0m\u001b[1;33m,\u001b[0m\u001b[1;36m2\u001b[0m\u001b[1;33m,\u001b[0m\u001b[1;36m3\u001b[0m\u001b[1;33m,\u001b[0m\u001b[1;36m4\u001b[0m\u001b[1;33m,\u001b[0m\u001b[1;36m5\u001b[0m\u001b[1;33m,\u001b[0m\u001b[1;36m6\u001b[0m\u001b[1;33m,\u001b[0m\u001b[1;36m7\u001b[0m\u001b[1;33m,\u001b[0m\u001b[1;36m8\u001b[0m\u001b[1;33m,\u001b[0m\u001b[1;36m9\u001b[0m\u001b[1;33m]\u001b[0m\u001b[1;33m)\u001b[0m\u001b[1;33m\u001b[0m\u001b[1;33m\u001b[0m\u001b[0m\n\u001b[0m",
      "\u001b[1;32m~\\Desktop\\DATA SCIENCE\\innomatics.py\u001b[0m in \u001b[0;36mclassification_metric\u001b[1;34m(y_test, y_pred, y_prob, label, n, verbose)\u001b[0m\n\u001b[0;32m     40\u001b[0m     \u001b[0mprint\u001b[0m\u001b[1;33m(\u001b[0m\u001b[1;34m'\\n'\u001b[0m\u001b[1;33m+\u001b[0m\u001b[1;34m'*'\u001b[0m\u001b[1;33m*\u001b[0m\u001b[1;36m30\u001b[0m\u001b[1;33m+\u001b[0m\u001b[1;34m'Area Under Curve Score'\u001b[0m\u001b[1;33m+\u001b[0m\u001b[1;34m'*'\u001b[0m\u001b[1;33m*\u001b[0m\u001b[1;36m30\u001b[0m\u001b[1;33m+\u001b[0m\u001b[1;34m'\\n\\n'\u001b[0m\u001b[1;33m)\u001b[0m\u001b[1;33m\u001b[0m\u001b[1;33m\u001b[0m\u001b[0m\n\u001b[0;32m     41\u001b[0m     \u001b[1;31m# Kappa score\u001b[0m\u001b[1;33m\u001b[0m\u001b[1;33m\u001b[0m\u001b[1;33m\u001b[0m\u001b[0m\n\u001b[1;32m---> 42\u001b[1;33m     \u001b[0mroc_a\u001b[0m \u001b[1;33m=\u001b[0m \u001b[0mroc_auc_score\u001b[0m\u001b[1;33m(\u001b[0m\u001b[0my_test\u001b[0m\u001b[1;33m,\u001b[0m\u001b[0my_pred\u001b[0m\u001b[1;33m)\u001b[0m \u001b[1;31m# Kappa Score\u001b[0m\u001b[1;33m\u001b[0m\u001b[1;33m\u001b[0m\u001b[0m\n\u001b[0m\u001b[0;32m     43\u001b[0m     \u001b[0mprint\u001b[0m\u001b[1;33m(\u001b[0m\u001b[1;34m'AUC Score ='\u001b[0m\u001b[1;33m,\u001b[0m\u001b[0mroc_a\u001b[0m\u001b[1;33m)\u001b[0m\u001b[1;33m\u001b[0m\u001b[1;33m\u001b[0m\u001b[0m\n\u001b[0;32m     44\u001b[0m \u001b[1;33m\u001b[0m\u001b[0m\n",
      "\u001b[1;32mC:\\ProgramData\\Anaconda3\\lib\\site-packages\\sklearn\\metrics\\ranking.py\u001b[0m in \u001b[0;36mroc_auc_score\u001b[1;34m(y_true, y_score, average, sample_weight, max_fpr)\u001b[0m\n\u001b[0;32m    353\u001b[0m     return _average_binary_score(\n\u001b[0;32m    354\u001b[0m         \u001b[0m_binary_roc_auc_score\u001b[0m\u001b[1;33m,\u001b[0m \u001b[0my_true\u001b[0m\u001b[1;33m,\u001b[0m \u001b[0my_score\u001b[0m\u001b[1;33m,\u001b[0m \u001b[0maverage\u001b[0m\u001b[1;33m,\u001b[0m\u001b[1;33m\u001b[0m\u001b[1;33m\u001b[0m\u001b[0m\n\u001b[1;32m--> 355\u001b[1;33m         sample_weight=sample_weight)\n\u001b[0m\u001b[0;32m    356\u001b[0m \u001b[1;33m\u001b[0m\u001b[0m\n\u001b[0;32m    357\u001b[0m \u001b[1;33m\u001b[0m\u001b[0m\n",
      "\u001b[1;32mC:\\ProgramData\\Anaconda3\\lib\\site-packages\\sklearn\\metrics\\base.py\u001b[0m in \u001b[0;36m_average_binary_score\u001b[1;34m(binary_metric, y_true, y_score, average, sample_weight)\u001b[0m\n\u001b[0;32m     71\u001b[0m     \u001b[0my_type\u001b[0m \u001b[1;33m=\u001b[0m \u001b[0mtype_of_target\u001b[0m\u001b[1;33m(\u001b[0m\u001b[0my_true\u001b[0m\u001b[1;33m)\u001b[0m\u001b[1;33m\u001b[0m\u001b[1;33m\u001b[0m\u001b[0m\n\u001b[0;32m     72\u001b[0m     \u001b[1;32mif\u001b[0m \u001b[0my_type\u001b[0m \u001b[1;32mnot\u001b[0m \u001b[1;32min\u001b[0m \u001b[1;33m(\u001b[0m\u001b[1;34m\"binary\"\u001b[0m\u001b[1;33m,\u001b[0m \u001b[1;34m\"multilabel-indicator\"\u001b[0m\u001b[1;33m)\u001b[0m\u001b[1;33m:\u001b[0m\u001b[1;33m\u001b[0m\u001b[1;33m\u001b[0m\u001b[0m\n\u001b[1;32m---> 73\u001b[1;33m         \u001b[1;32mraise\u001b[0m \u001b[0mValueError\u001b[0m\u001b[1;33m(\u001b[0m\u001b[1;34m\"{0} format is not supported\"\u001b[0m\u001b[1;33m.\u001b[0m\u001b[0mformat\u001b[0m\u001b[1;33m(\u001b[0m\u001b[0my_type\u001b[0m\u001b[1;33m)\u001b[0m\u001b[1;33m)\u001b[0m\u001b[1;33m\u001b[0m\u001b[1;33m\u001b[0m\u001b[0m\n\u001b[0m\u001b[0;32m     74\u001b[0m \u001b[1;33m\u001b[0m\u001b[0m\n\u001b[0;32m     75\u001b[0m     \u001b[1;32mif\u001b[0m \u001b[0my_type\u001b[0m \u001b[1;33m==\u001b[0m \u001b[1;34m\"binary\"\u001b[0m\u001b[1;33m:\u001b[0m\u001b[1;33m\u001b[0m\u001b[1;33m\u001b[0m\u001b[0m\n",
      "\u001b[1;31mValueError\u001b[0m: multiclass format is not supported"
     ]
    }
   ],
   "source": [
    "innomatics.classification_metric(y_test_class,y_pred,y_prob,label=[0,1,2,3,4,5,6,7,8,9])"
   ]
  },
  {
   "cell_type": "code",
   "execution_count": 23,
   "metadata": {
    "colab": {},
    "colab_type": "code",
    "id": "i0crmZzg7Et0"
   },
   "outputs": [],
   "source": [
    "# Preictions\n",
    "import urllib.request\n",
    "import cv2\n",
    "from PIL import Image"
   ]
  },
  {
   "cell_type": "code",
   "execution_count": null,
   "metadata": {},
   "outputs": [],
   "source": [
    "pip install PIL"
   ]
  },
  {
   "cell_type": "code",
   "execution_count": 24,
   "metadata": {
    "colab": {
     "base_uri": "https://localhost:8080/",
     "height": 33
    },
    "colab_type": "code",
    "executionInfo": {
     "elapsed": 935,
     "status": "ok",
     "timestamp": 1573501693574,
     "user": {
      "displayName": "Srikanth Dakoju",
      "photoUrl": "",
      "userId": "10335994626359534571"
     },
     "user_tz": -330
    },
    "id": "-HpZzZV29g-o",
    "outputId": "cff14e13-5aca-4f71-aa60-024e94a31790"
   },
   "outputs": [
    {
     "data": {
      "text/plain": [
       "(288, 252, 3)"
      ]
     },
     "execution_count": 24,
     "metadata": {},
     "output_type": "execute_result"
    }
   ],
   "source": [
    "# https://i.postimg.cc/vZNGp1RN/7.jpg\n",
    "# https://i.postimg.cc/FH6Q86d4/3.jpg\n",
    "# https://i.postimg.cc/hvVLWNP3/1887.jpg\n",
    "\n",
    "url_open = urllib.request.urlopen('https://i.postimg.cc/hvVLWNP3/1887.jpg')\n",
    "obj = Image.open(url_open)\n",
    "img = np.array(obj) \n",
    "img.shape "
   ]
  },
  {
   "cell_type": "code",
   "execution_count": 25,
   "metadata": {
    "colab": {},
    "colab_type": "code",
    "id": "FFOLPHRwAKdK"
   },
   "outputs": [],
   "source": [
    "# convert into gray scale\n",
    "img = cv2.cvtColor(img,cv2.COLOR_RGB2GRAY)"
   ]
  },
  {
   "cell_type": "code",
   "execution_count": 26,
   "metadata": {
    "colab": {
     "base_uri": "https://localhost:8080/",
     "height": 286
    },
    "colab_type": "code",
    "executionInfo": {
     "elapsed": 1025,
     "status": "ok",
     "timestamp": 1573501698081,
     "user": {
      "displayName": "Srikanth Dakoju",
      "photoUrl": "",
      "userId": "10335994626359534571"
     },
     "user_tz": -330
    },
    "id": "E-fRghnR9leI",
    "outputId": "01f8d5a5-721d-42a0-8831-62b833c854f2"
   },
   "outputs": [
    {
     "data": {
      "text/plain": [
       "<matplotlib.image.AxesImage at 0x3f8e92d7f0>"
      ]
     },
     "execution_count": 26,
     "metadata": {},
     "output_type": "execute_result"
    },
    {
     "data": {
      "image/png": "[encoded data removed]",
      "text/plain": [
       "<Figure size 432x288 with 1 Axes>"
      ]
     },
     "metadata": {
      "needs_background": "light"
     },
     "output_type": "display_data"
    }
   ],
   "source": [
    "plt.imshow(img,cmap='gray')"
   ]
  },
  {
   "cell_type": "code",
   "execution_count": 27,
   "metadata": {
    "colab": {},
    "colab_type": "code",
    "id": "pyGRDDiH97ne"
   },
   "outputs": [],
   "source": [
    "def img_norm(img):\n",
    "\n",
    "    # Image Normalization\n",
    "    # step-1: not operation\n",
    "    img_not = cv2.bitwise_not(img)\n",
    "    # step-2: resize image into 28x28 array\n",
    "    img_re = cv2.resize(img_not,(28,28)) # compress image\n",
    "    # step-3: Feature Scaling\n",
    "    img_norm = img_re/255.0\n",
    "    # step-3: Flaten you image\n",
    "    test  = img_norm.reshape(1,-1)\n",
    "\n",
    "    # visualize the process\n",
    "    plt.figure(figsize=(10,2))\n",
    "    plt.subplot(131)\n",
    "    plt.imshow(img,cmap='gray')\n",
    "    plt.subplot(132)\n",
    "    plt.imshow(img_not,cmap='gray')\n",
    "    plt.subplot(133)\n",
    "    plt.imshow(img_re,cmap='gray')\n",
    "    plt.show()\n",
    "    return test"
   ]
  },
  {
   "cell_type": "code",
   "execution_count": 29,
   "metadata": {},
   "outputs": [
    {
     "data": {
      "image/png": "[encoded data removed]",
      "text/plain": [
       "<Figure size 720x144 with 3 Axes>"
      ]
     },
     "metadata": {
      "needs_background": "light"
     },
     "output_type": "display_data"
    }
   ],
   "source": [
    "test= img_norm(img)"
   ]
  },
  {
   "cell_type": "code",
   "execution_count": 30,
   "metadata": {
    "colab": {
     "base_uri": "https://localhost:8080/",
     "height": 278
    },
    "colab_type": "code",
    "executionInfo": {
     "elapsed": 1243,
     "status": "ok",
     "timestamp": 1573501702975,
     "user": {
      "displayName": "Srikanth Dakoju",
      "photoUrl": "",
      "userId": "10335994626359534571"
     },
     "user_tz": -330
    },
    "id": "qMUmJ8Eh-Q14",
    "outputId": "01371978-28af-4852-8942-f1bc3fde6cd2"
   },
   "outputs": [
    {
     "name": "stdout",
     "output_type": "stream",
     "text": [
      "Neural Network Results:  [2]\n"
     ]
    },
    {
     "data": {
      "image/png": "[encoded data removed]",
      "text/plain": [
       "<Figure size 432x288 with 1 Axes>"
      ]
     },
     "metadata": {
      "needs_background": "light"
     },
     "output_type": "display_data"
    }
   ],
   "source": [
    "# predicting with model\n",
    "result = neural_network.predict_classes(test)\n",
    "print(\"Neural Network Results: \",result)\n",
    "\n",
    "# convert int series\n",
    "pd.Series(neural_network.predict_proba(test).flatten()).plot(kind='bar')\n",
    "plt.show()"
   ]
  },
  {
   "cell_type": "markdown",
   "metadata": {
    "colab_type": "text",
    "id": "7AjrSn45Au7i"
   },
   "source": [
    "# Convolutional Neural Network"
   ]
  },
  {
   "cell_type": "code",
   "execution_count": 31,
   "metadata": {
    "colab": {},
    "colab_type": "code",
    "id": "b1iXH7ei_dup"
   },
   "outputs": [],
   "source": [
    "from tensorflow.keras.layers import Conv2D, MaxPool2D, Dropout, Flatten"
   ]
  },
  {
   "cell_type": "code",
   "execution_count": 32,
   "metadata": {
    "colab": {
     "base_uri": "https://localhost:8080/",
     "height": 33
    },
    "colab_type": "code",
    "executionInfo": {
     "elapsed": 899,
     "status": "ok",
     "timestamp": 1573502308405,
     "user": {
      "displayName": "Srikanth Dakoju",
      "photoUrl": "",
      "userId": "10335994626359534571"
     },
     "user_tz": -330
    },
    "id": "Prr4ghk4C4Lq",
    "outputId": "5359f819-3b32-41de-9c1a-43f18eb11112"
   },
   "outputs": [
    {
     "data": {
      "text/plain": [
       "(33600, 784)"
      ]
     },
     "execution_count": 32,
     "metadata": {},
     "output_type": "execute_result"
    }
   ],
   "source": [
    "x_train.shape"
   ]
  },
  {
   "cell_type": "code",
   "execution_count": 33,
   "metadata": {
    "colab": {
     "base_uri": "https://localhost:8080/",
     "height": 33
    },
    "colab_type": "code",
    "executionInfo": {
     "elapsed": 927,
     "status": "ok",
     "timestamp": 1573502383439,
     "user": {
      "displayName": "Srikanth Dakoju",
      "photoUrl": "",
      "userId": "10335994626359534571"
     },
     "user_tz": -330
    },
    "id": "u2dY4VukC4JE",
    "outputId": "b2c3d17f-547b-49ec-c0ba-1cda8317e725"
   },
   "outputs": [
    {
     "data": {
      "text/plain": [
       "((33600, 28, 28, 1), (8400, 28, 28, 1))"
      ]
     },
     "execution_count": 33,
     "metadata": {},
     "output_type": "execute_result"
    }
   ],
   "source": [
    "# Rehape in Traning data (X)\n",
    "x_train_reshape = x_train.reshape(-1,28,28,1)\n",
    "x_test_reshape = x_test.reshape(-1,28,28,1)\n",
    "\n",
    "x_train_reshape.shape,x_test_reshape.shape"
   ]
  },
  {
   "cell_type": "code",
   "execution_count": null,
   "metadata": {
    "colab": {
     "base_uri": "https://localhost:8080/",
     "height": 1000
    },
    "colab_type": "code",
    "executionInfo": {
     "elapsed": 110845,
     "status": "ok",
     "timestamp": 1573502586390,
     "user": {
      "displayName": "Srikanth Dakoju",
      "photoUrl": "",
      "userId": "10335994626359534571"
     },
     "user_tz": -330
    },
    "id": "zEPPb3DdBlNU",
    "outputId": "4722bef4-cc2a-4f88-a818-0fb6555b02a1"
   },
   "outputs": [
    {
     "name": "stdout",
     "output_type": "stream",
     "text": [
      "_________________________________________________________________\n",
      "Layer (type)                 Output Shape              Param #   \n",
      "=================================================================\n",
      "conv2d (Conv2D)              (None, 26, 26, 30)        300       \n",
      "_________________________________________________________________\n",
      "conv2d_1 (Conv2D)            (None, 22, 22, 60)        45060     \n",
      "_________________________________________________________________\n",
      "max_pooling2d (MaxPooling2D) (None, 11, 11, 60)        0         \n",
      "_________________________________________________________________\n",
      "conv2d_2 (Conv2D)            (None, 9, 9, 30)          16230     \n",
      "_________________________________________________________________\n",
      "max_pooling2d_1 (MaxPooling2 (None, 4, 4, 30)          0         \n",
      "_________________________________________________________________\n",
      "flatten (Flatten)            (None, 480)               0         \n",
      "_________________________________________________________________\n",
      "dense_3 (Dense)              (None, 100)               48100     \n",
      "_________________________________________________________________\n",
      "dense_4 (Dense)              (None, 100)               10100     \n",
      "_________________________________________________________________\n",
      "dense_5 (Dense)              (None, 10)                1010      \n",
      "=================================================================\n",
      "Total params: 120,800\n",
      "Trainable params: 120,800\n",
      "Non-trainable params: 0\n",
      "_________________________________________________________________\n",
      "None\n",
      "Train on 33600 samples, validate on 8400 samples\n",
      "Epoch 1/20\n",
      "33600/33600 [==============================] - 588s 18ms/sample - loss: 0.7189 - acc: 0.9381 - val_loss: 0.2615 - val_acc: 0.9710\n",
      "Epoch 2/20\n",
      "33600/33600 [==============================] - 621s 18ms/sample - loss: 0.2048 - acc: 0.9723 - val_loss: 0.1593 - val_acc: 0.9767\n",
      "Epoch 3/20\n",
      "33600/33600 [==============================] - 588s 18ms/sample - loss: 0.1473 - acc: 0.9765 - val_loss: 0.1563 - val_acc: 0.9723\n",
      "Epoch 4/20\n",
      "13500/33600 [===========>..................] - ETA: 102:58:33 - loss: 0.1217 - acc: 0.9826"
     ]
    }
   ],
   "source": [
    "def conv_neural_network():\n",
    "    model=Sequential()\n",
    "    # Convolutional layer\n",
    "    model.add(Conv2D(input_shape=(28,28,1),filters=30,kernel_size=(3,3),strides=(1,1),activation='relu'))\n",
    "    model.add(Conv2D(filters=60,kernel_size=(5,5),strides=(1,1),activation='relu'))\n",
    "    model.add(MaxPool2D(pool_size=(2,2)))\n",
    "    model.add(Conv2D(filters=30,kernel_size=(3,3),strides=(1,1),activation='relu'))\n",
    "    model.add(MaxPool2D(pool_size=(2,2)))\n",
    "    # Flatten\n",
    "    model.add(Flatten())\n",
    "    # Neural network\n",
    "    model.add(Dense(units=100,activation='relu',kernel_regularizer=regularizers.l2(l=0.01)))# input connected to output\n",
    "    model.add(Dense(units=100,activation='relu',kernel_regularizer=regularizers.l2(l=0.01)))\n",
    "    model.add(Dense(units=10,activation='softmax'))\n",
    "    model.compile(optimizer='adam',loss='categorical_crossentropy',metrics=['acc'])\n",
    "    return model\n",
    "\n",
    "# calling baseline model\n",
    "conv_nn = conv_neural_network()\n",
    "print(conv_nn.summary())\n",
    "# initializing tensorboard\n",
    "tfb = TensorBoard('cnn_mnist')\n",
    "# Training Model \n",
    "history = conv_nn.fit(x=x_train_reshape,y=y_train,batch_size=30,epochs=20,callbacks=[tfb],validation_data=[x_test_reshape,y_test])\n"
   ]
  },
  {
   "cell_type": "code",
   "execution_count": null,
   "metadata": {
    "colab": {
     "base_uri": "https://localhost:8080/",
     "height": 137
    },
    "colab_type": "code",
    "executionInfo": {
     "elapsed": 806,
     "status": "ok",
     "timestamp": 1573502647499,
     "user": {
      "displayName": "Srikanth Dakoju",
      "photoUrl": "",
      "userId": "10335994626359534571"
     },
     "user_tz": -330
    },
    "id": "yzzDPx4DDV_g",
    "outputId": "f6b4cd5d-dcfa-48c8-e4d0-89168ac9fb1f"
   },
   "outputs": [],
   "source": [
    "# loading into data\n",
    "data_loss_nn = pd.DataFrame(history.history)\n",
    "data_loss_nn.head(3)"
   ]
  },
  {
   "cell_type": "code",
   "execution_count": null,
   "metadata": {
    "colab": {
     "base_uri": "https://localhost:8080/",
     "height": 281
    },
    "colab_type": "code",
    "executionInfo": {
     "elapsed": 1007,
     "status": "ok",
     "timestamp": 1573502648771,
     "user": {
      "displayName": "Srikanth Dakoju",
      "photoUrl": "",
      "userId": "10335994626359534571"
     },
     "user_tz": -330
    },
    "id": "1DwipaU2EPku",
    "outputId": "b41f9a38-bf94-4adf-d8b1-7c889d1a4c75"
   },
   "outputs": [],
   "source": [
    "data_loss_nn[['loss','val_loss']].plot(kind='line')"
   ]
  },
  {
   "cell_type": "code",
   "execution_count": null,
   "metadata": {
    "colab": {},
    "colab_type": "code",
    "id": "Q8SdZoaqEP2V"
   },
   "outputs": [],
   "source": [
    "y_pred = conv_nn.predict_classes(x_test_reshape)\n",
    "y_prob = conv_nn.predict_proba(x_test_reshape)"
   ]
  },
  {
   "cell_type": "code",
   "execution_count": null,
   "metadata": {
    "colab": {
     "base_uri": "https://localhost:8080/",
     "height": 1000
    },
    "colab_type": "code",
    "executionInfo": {
     "elapsed": 1394,
     "status": "error",
     "timestamp": 1573502710676,
     "user": {
      "displayName": "Srikanth Dakoju",
      "photoUrl": "",
      "userId": "10335994626359534571"
     },
     "user_tz": -330
    },
    "id": "fwNEJb-1EYSj",
    "outputId": "ff0d9689-ed38-4281-fb67-f6517ecd28a6"
   },
   "outputs": [],
   "source": [
    "innomatics.classification_metric(y_test_class,y_pred,y_prob,label=[0,1,2,3,4,5,6,7,8,9])"
   ]
  },
  {
   "cell_type": "code",
   "execution_count": null,
   "metadata": {
    "colab": {
     "base_uri": "https://localhost:8080/",
     "height": 33
    },
    "colab_type": "code",
    "executionInfo": {
     "elapsed": 855,
     "status": "ok",
     "timestamp": 1573502786406,
     "user": {
      "displayName": "Srikanth Dakoju",
      "photoUrl": "",
      "userId": "10335994626359534571"
     },
     "user_tz": -330
    },
    "id": "CIBwU6Y8Ee3S",
    "outputId": "9d314485-6364-4735-b035-6dcc2f3a560b"
   },
   "outputs": [],
   "source": [
    "# https://i.postimg.cc/vZNGp1RN/7.jpg\n",
    "# https://i.postimg.cc/FH6Q86d4/3.jpg\n",
    "# https://i.postimg.cc/hvVLWNP3/1887.jpg\n",
    "\n",
    "url_open = urllib.request.urlopen('https://i.postimg.cc/vZNGp1RN/7.jpg')\n",
    "obj = Image.open(url_open)\n",
    "img = np.array(obj) \n",
    "img.shape "
   ]
  },
  {
   "cell_type": "code",
   "execution_count": null,
   "metadata": {
    "colab": {
     "base_uri": "https://localhost:8080/",
     "height": 160
    },
    "colab_type": "code",
    "executionInfo": {
     "elapsed": 1093,
     "status": "ok",
     "timestamp": 1573502828655,
     "user": {
      "displayName": "Srikanth Dakoju",
      "photoUrl": "",
      "userId": "10335994626359534571"
     },
     "user_tz": -330
    },
    "id": "O8M_USzbE5k2",
    "outputId": "ffcca72f-3249-442e-9c6a-80d32af16951"
   },
   "outputs": [],
   "source": [
    "test= img_norm(img)"
   ]
  },
  {
   "cell_type": "code",
   "execution_count": null,
   "metadata": {
    "colab": {
     "base_uri": "https://localhost:8080/",
     "height": 278
    },
    "colab_type": "code",
    "executionInfo": {
     "elapsed": 891,
     "status": "ok",
     "timestamp": 1573502889524,
     "user": {
      "displayName": "Srikanth Dakoju",
      "photoUrl": "",
      "userId": "10335994626359534571"
     },
     "user_tz": -330
    },
    "id": "wcO9R6JOEvcn",
    "outputId": "59624aa7-a396-4725-ae38-74f8611e3026"
   },
   "outputs": [],
   "source": [
    "# predicting with model\n",
    "test_re = test.reshape(1,28,28,1)\n",
    "result = conv_nn.predict_classes(test_re)\n",
    "print(\"Neural Network Results: \",result)\n",
    "\n",
    "# convert int series\n",
    "pd.Series(conv_nn.predict_proba(test_re).flatten()).plot(kind='bar')\n",
    "plt.show()"
   ]
  },
  {
   "cell_type": "markdown",
   "metadata": {
    "colab_type": "text",
    "id": "Kwtb6p-aFPuS"
   },
   "source": [
    "# Good Job !!!"
   ]
  },
  {
   "cell_type": "markdown",
   "metadata": {
    "colab_type": "text",
    "id": "u7bEuVh6FN0m"
   },
   "source": [
    "\n",
    "\n",
    "---\n",
    "\n",
    "\n",
    "\n",
    "---\n",
    "\n"
   ]
  },
  {
   "cell_type": "code",
   "execution_count": null,
   "metadata": {},
   "outputs": [],
   "source": []
  },
  {
   "cell_type": "code",
   "execution_count": null,
   "metadata": {},
   "outputs": [],
   "source": []
  }
 ],
 "metadata": {
  "accelerator": "GPU",
  "colab": {
   "collapsed_sections": [],
   "name": "04-DL-NEURAL-NETWORK-CONVOLUTION-NEURAL-NETWORK-MNIST.ipynb",
   "provenance": []
  },
  "kernelspec": {
   "display_name": "Python 3",
   "language": "python",
   "name": "python3"
  },
  "language_info": {
   "codemirror_mode": {
    "name": "ipython",
    "version": 3
   },
   "file_extension": ".py",
   "mimetype": "text/x-python",
   "name": "python",
   "nbconvert_exporter": "python",
   "pygments_lexer": "ipython3",
   "version": "3.7.3"
  }
 },
 "nbformat": 4,
 "nbformat_minor": 1
}
